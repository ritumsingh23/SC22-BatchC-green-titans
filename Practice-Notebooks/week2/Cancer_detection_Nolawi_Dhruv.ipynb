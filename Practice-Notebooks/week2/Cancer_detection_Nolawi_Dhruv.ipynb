{
 "cells": [
  {
   "cell_type": "markdown",
   "metadata": {
    "collapsed": false,
    "id": "R9tvKItivlxp"
   },
   "source": [
    "# Who is ready to learn? (Our Machines Are!)\n",
    "\n",
    "Our task at hand -- building an AI that can save lives.\n",
    "\n",
    "Today we are going to work to create an AI that can predict whether a breast cancer tumor is benign or malignant. This diagnosis has incredibly important medical implications for those who are diagnosed with breast cancer. \n",
    "\n",
    "Before we get started, you should make sure you know what the difference between benign and malignant tumors are and discuss them with your team.\n",
    "\n",
    "**Hint:** we recommend you heavily refer to your EDA mini project from last week for this activity! "
   ]
  },
  {
   "cell_type": "markdown",
   "metadata": {
    "collapsed": false,
    "id": "m-qQYrLDw0EN"
   },
   "source": [
    "### Step 1: Imports and Preprocessing\n",
    "\n",
    "We need to `import pandas as pd` and read in our data. It is currently a .csv (comma-separated value) file, and we generally use the pd.read_csv() function from pandas to read our data into a dataframe."
   ]
  },
  {
   "cell_type": "code",
   "execution_count": 1,
   "metadata": {
    "collapsed": false,
    "id": "f0O0Zg5xvX1N"
   },
   "outputs": [
   ],
   "source": [
    "import pandas as pd\n",
    "import numpy as np"
   ]
  },
  {
   "cell_type": "code",
   "execution_count": 2,
   "metadata": {
    "collapsed": false,
    "id": "BvK5i4DcvcTg"
   },
   "outputs": [
   ],
   "source": [
    "breast_cancer = pd.read_csv(\"https://raw.githubusercontent.com/pkmklong/Breast-Cancer-Wisconsin-Diagnostic-DataSet/master/data.csv\")"
   ]
  },
  {
   "cell_type": "markdown",
   "metadata": {
    "collapsed": false,
    "id": "rdwjqFR8xdE2"
   },
   "source": [
    "**TODO:** Do you remember how to print the first five rows of a pandas dataframe? How about all of the columns? How about the number of rows? Please do that below and google anything you are unsure about. "
   ]
  },
  {
   "cell_type": "code",
   "execution_count": 3,
   "metadata": {
    "collapsed": false,
    "id": "B5QnmTysxcJT"
   },
   "outputs": [
    {
     "data": {
      "text/html": [
       "<div>\n",
       "<style scoped>\n",
       "    .dataframe tbody tr th:only-of-type {\n",
       "        vertical-align: middle;\n",
       "    }\n",
       "\n",
       "    .dataframe tbody tr th {\n",
       "        vertical-align: top;\n",
       "    }\n",
       "\n",
       "    .dataframe thead th {\n",
       "        text-align: right;\n",
       "    }\n",
       "</style>\n",
       "<table border=\"1\" class=\"dataframe\">\n",
       "  <thead>\n",
       "    <tr style=\"text-align: right;\">\n",
       "      <th></th>\n",
       "      <th>id</th>\n",
       "      <th>diagnosis</th>\n",
       "      <th>radius_mean</th>\n",
       "      <th>texture_mean</th>\n",
       "      <th>perimeter_mean</th>\n",
       "      <th>area_mean</th>\n",
       "      <th>smoothness_mean</th>\n",
       "      <th>compactness_mean</th>\n",
       "      <th>concavity_mean</th>\n",
       "      <th>concave points_mean</th>\n",
       "      <th>...</th>\n",
       "      <th>texture_worst</th>\n",
       "      <th>perimeter_worst</th>\n",
       "      <th>area_worst</th>\n",
       "      <th>smoothness_worst</th>\n",
       "      <th>compactness_worst</th>\n",
       "      <th>concavity_worst</th>\n",
       "      <th>concave points_worst</th>\n",
       "      <th>symmetry_worst</th>\n",
       "      <th>fractal_dimension_worst</th>\n",
       "      <th>Unnamed: 32</th>\n",
       "    </tr>\n",
       "  </thead>\n",
       "  <tbody>\n",
       "    <tr>\n",
       "      <th>0</th>\n",
       "      <td>842302</td>\n",
       "      <td>M</td>\n",
       "      <td>17.99</td>\n",
       "      <td>10.38</td>\n",
       "      <td>122.80</td>\n",
       "      <td>1001.0</td>\n",
       "      <td>0.11840</td>\n",
       "      <td>0.27760</td>\n",
       "      <td>0.3001</td>\n",
       "      <td>0.14710</td>\n",
       "      <td>...</td>\n",
       "      <td>17.33</td>\n",
       "      <td>184.60</td>\n",
       "      <td>2019.0</td>\n",
       "      <td>0.1622</td>\n",
       "      <td>0.6656</td>\n",
       "      <td>0.7119</td>\n",
       "      <td>0.2654</td>\n",
       "      <td>0.4601</td>\n",
       "      <td>0.11890</td>\n",
       "      <td>NaN</td>\n",
       "    </tr>\n",
       "    <tr>\n",
       "      <th>1</th>\n",
       "      <td>842517</td>\n",
       "      <td>M</td>\n",
       "      <td>20.57</td>\n",
       "      <td>17.77</td>\n",
       "      <td>132.90</td>\n",
       "      <td>1326.0</td>\n",
       "      <td>0.08474</td>\n",
       "      <td>0.07864</td>\n",
       "      <td>0.0869</td>\n",
       "      <td>0.07017</td>\n",
       "      <td>...</td>\n",
       "      <td>23.41</td>\n",
       "      <td>158.80</td>\n",
       "      <td>1956.0</td>\n",
       "      <td>0.1238</td>\n",
       "      <td>0.1866</td>\n",
       "      <td>0.2416</td>\n",
       "      <td>0.1860</td>\n",
       "      <td>0.2750</td>\n",
       "      <td>0.08902</td>\n",
       "      <td>NaN</td>\n",
       "    </tr>\n",
       "    <tr>\n",
       "      <th>2</th>\n",
       "      <td>84300903</td>\n",
       "      <td>M</td>\n",
       "      <td>19.69</td>\n",
       "      <td>21.25</td>\n",
       "      <td>130.00</td>\n",
       "      <td>1203.0</td>\n",
       "      <td>0.10960</td>\n",
       "      <td>0.15990</td>\n",
       "      <td>0.1974</td>\n",
       "      <td>0.12790</td>\n",
       "      <td>...</td>\n",
       "      <td>25.53</td>\n",
       "      <td>152.50</td>\n",
       "      <td>1709.0</td>\n",
       "      <td>0.1444</td>\n",
       "      <td>0.4245</td>\n",
       "      <td>0.4504</td>\n",
       "      <td>0.2430</td>\n",
       "      <td>0.3613</td>\n",
       "      <td>0.08758</td>\n",
       "      <td>NaN</td>\n",
       "    </tr>\n",
       "    <tr>\n",
       "      <th>3</th>\n",
       "      <td>84348301</td>\n",
       "      <td>M</td>\n",
       "      <td>11.42</td>\n",
       "      <td>20.38</td>\n",
       "      <td>77.58</td>\n",
       "      <td>386.1</td>\n",
       "      <td>0.14250</td>\n",
       "      <td>0.28390</td>\n",
       "      <td>0.2414</td>\n",
       "      <td>0.10520</td>\n",
       "      <td>...</td>\n",
       "      <td>26.50</td>\n",
       "      <td>98.87</td>\n",
       "      <td>567.7</td>\n",
       "      <td>0.2098</td>\n",
       "      <td>0.8663</td>\n",
       "      <td>0.6869</td>\n",
       "      <td>0.2575</td>\n",
       "      <td>0.6638</td>\n",
       "      <td>0.17300</td>\n",
       "      <td>NaN</td>\n",
       "    </tr>\n",
       "    <tr>\n",
       "      <th>4</th>\n",
       "      <td>84358402</td>\n",
       "      <td>M</td>\n",
       "      <td>20.29</td>\n",
       "      <td>14.34</td>\n",
       "      <td>135.10</td>\n",
       "      <td>1297.0</td>\n",
       "      <td>0.10030</td>\n",
       "      <td>0.13280</td>\n",
       "      <td>0.1980</td>\n",
       "      <td>0.10430</td>\n",
       "      <td>...</td>\n",
       "      <td>16.67</td>\n",
       "      <td>152.20</td>\n",
       "      <td>1575.0</td>\n",
       "      <td>0.1374</td>\n",
       "      <td>0.2050</td>\n",
       "      <td>0.4000</td>\n",
       "      <td>0.1625</td>\n",
       "      <td>0.2364</td>\n",
       "      <td>0.07678</td>\n",
       "      <td>NaN</td>\n",
       "    </tr>\n",
       "  </tbody>\n",
       "</table>\n",
       "<p>5 rows × 33 columns</p>\n",
       "</div>"
      ],
      "text/plain": [
       "         id diagnosis  radius_mean  texture_mean  perimeter_mean  area_mean  \\\n",
       "0    842302         M        17.99         10.38          122.80     1001.0   \n",
       "1    842517         M        20.57         17.77          132.90     1326.0   \n",
       "2  84300903         M        19.69         21.25          130.00     1203.0   \n",
       "3  84348301         M        11.42         20.38           77.58      386.1   \n",
       "4  84358402         M        20.29         14.34          135.10     1297.0   \n",
       "\n",
       "   smoothness_mean  compactness_mean  concavity_mean  concave points_mean  \\\n",
       "0          0.11840           0.27760          0.3001              0.14710   \n",
       "1          0.08474           0.07864          0.0869              0.07017   \n",
       "2          0.10960           0.15990          0.1974              0.12790   \n",
       "3          0.14250           0.28390          0.2414              0.10520   \n",
       "4          0.10030           0.13280          0.1980              0.10430   \n",
       "\n",
       "   ...  texture_worst  perimeter_worst  area_worst  smoothness_worst  \\\n",
       "0  ...          17.33           184.60      2019.0            0.1622   \n",
       "1  ...          23.41           158.80      1956.0            0.1238   \n",
       "2  ...          25.53           152.50      1709.0            0.1444   \n",
       "3  ...          26.50            98.87       567.7            0.2098   \n",
       "4  ...          16.67           152.20      1575.0            0.1374   \n",
       "\n",
       "   compactness_worst  concavity_worst  concave points_worst  symmetry_worst  \\\n",
       "0             0.6656           0.7119                0.2654          0.4601   \n",
       "1             0.1866           0.2416                0.1860          0.2750   \n",
       "2             0.4245           0.4504                0.2430          0.3613   \n",
       "3             0.8663           0.6869                0.2575          0.6638   \n",
       "4             0.2050           0.4000                0.1625          0.2364   \n",
       "\n",
       "   fractal_dimension_worst  Unnamed: 32  \n",
       "0                  0.11890          NaN  \n",
       "1                  0.08902          NaN  \n",
       "2                  0.08758          NaN  \n",
       "3                  0.17300          NaN  \n",
       "4                  0.07678          NaN  \n",
       "\n",
       "[5 rows x 33 columns]"
      ]
     },
     "execution_count": 3,
     "metadata": {
     },
     "output_type": "execute_result"
    }
   ],
   "source": [
    "# print first five rows of breast_cancer\n",
    "breast_cancer.head()"
   ]
  },
  {
   "cell_type": "code",
   "execution_count": 4,
   "metadata": {
    "collapsed": false,
    "id": "qQ5KjWIMwGaP"
   },
   "outputs": [
    {
     "name": "stdout",
     "output_type": "stream",
     "text": [
      "Index(['id', 'diagnosis', 'radius_mean', 'texture_mean', 'perimeter_mean',\n",
      "       'area_mean', 'smoothness_mean', 'compactness_mean', 'concavity_mean',\n",
      "       'concave points_mean', 'symmetry_mean', 'fractal_dimension_mean',\n",
      "       'radius_se', 'texture_se', 'perimeter_se', 'area_se', 'smoothness_se',\n",
      "       'compactness_se', 'concavity_se', 'concave points_se', 'symmetry_se',\n",
      "       'fractal_dimension_se', 'radius_worst', 'texture_worst',\n",
      "       'perimeter_worst', 'area_worst', 'smoothness_worst',\n",
      "       'compactness_worst', 'concavity_worst', 'concave points_worst',\n",
      "       'symmetry_worst', 'fractal_dimension_worst', 'Unnamed: 32'],\n",
      "      dtype='object')\n"
     ]
    }
   ],
   "source": [
    "# print columns of breast_cancer\n",
    "print(breast_cancer.columns)"
   ]
  },
  {
   "cell_type": "code",
   "execution_count": 5,
   "metadata": {
    "collapsed": false,
    "id": "LxELBWOdxsrl"
   },
   "outputs": [
    {
     "name": "stdout",
     "output_type": "stream",
     "text": [
      "569\n"
     ]
    }
   ],
   "source": [
    "# print the number of rows in breast_cancer\n",
    "print(len(breast_cancer))"
   ]
  },
  {
   "cell_type": "code",
   "execution_count": 6,
   "metadata": {
    "collapsed": false,
    "id": "lFnrZickyynD"
   },
   "outputs": [
    {
     "name": "stdout",
     "output_type": "stream",
     "text": [
      "33\n"
     ]
    }
   ],
   "source": [
    "# explore anything else you are interested in here\n",
    "print(len(breast_cancer.columns))"
   ]
  },
  {
   "cell_type": "markdown",
   "metadata": {
    "collapsed": false,
    "id": "Q8MwFiBX0Zdu"
   },
   "source": [
    "**TODO:** Can you figure out how many rows are malignant (M) and how many are benign (B)? \n",
    "\n"
   ]
  },
  {
   "cell_type": "code",
   "execution_count": 7,
   "metadata": {
    "collapsed": false,
    "id": "0tYK-EaL0g8y"
   },
   "outputs": [
    {
     "name": "stdout",
     "output_type": "stream",
     "text": [
      "id                         212\n",
      "diagnosis                  212\n",
      "radius_mean                212\n",
      "texture_mean               212\n",
      "perimeter_mean             212\n",
      "area_mean                  212\n",
      "smoothness_mean            212\n",
      "compactness_mean           212\n",
      "concavity_mean             212\n",
      "concave points_mean        212\n",
      "symmetry_mean              212\n",
      "fractal_dimension_mean     212\n",
      "radius_se                  212\n",
      "texture_se                 212\n",
      "perimeter_se               212\n",
      "area_se                    212\n",
      "smoothness_se              212\n",
      "compactness_se             212\n",
      "concavity_se               212\n",
      "concave points_se          212\n",
      "symmetry_se                212\n",
      "fractal_dimension_se       212\n",
      "radius_worst               212\n",
      "texture_worst              212\n",
      "perimeter_worst            212\n",
      "area_worst                 212\n",
      "smoothness_worst           212\n",
      "compactness_worst          212\n",
      "concavity_worst            212\n",
      "concave points_worst       212\n",
      "symmetry_worst             212\n",
      "fractal_dimension_worst    212\n",
      "Unnamed: 32                  0\n",
      "dtype: int64\n",
      "id                         357\n",
      "diagnosis                  357\n",
      "radius_mean                357\n",
      "texture_mean               357\n",
      "perimeter_mean             357\n",
      "area_mean                  357\n",
      "smoothness_mean            357\n",
      "compactness_mean           357\n",
      "concavity_mean             357\n",
      "concave points_mean        357\n",
      "symmetry_mean              357\n",
      "fractal_dimension_mean     357\n",
      "radius_se                  357\n",
      "texture_se                 357\n",
      "perimeter_se               357\n",
      "area_se                    357\n",
      "smoothness_se              357\n",
      "compactness_se             357\n",
      "concavity_se               357\n",
      "concave points_se          357\n",
      "symmetry_se                357\n",
      "fractal_dimension_se       357\n",
      "radius_worst               357\n",
      "texture_worst              357\n",
      "perimeter_worst            357\n",
      "area_worst                 357\n",
      "smoothness_worst           357\n",
      "compactness_worst          357\n",
      "concavity_worst            357\n",
      "concave points_worst       357\n",
      "symmetry_worst             357\n",
      "fractal_dimension_worst    357\n",
      "Unnamed: 32                  0\n",
      "dtype: int64\n"
     ]
    }
   ],
   "source": [
    "# Figure out how many rows are malignant and how many are benign. Hint: use the .count() function!\n",
    "print(breast_cancer[breast_cancer['diagnosis'] =='M'].count())\n",
    "print(breast_cancer[breast_cancer['diagnosis'] =='B'].count())"
   ]
  },
  {
   "cell_type": "markdown",
   "metadata": {
    "collapsed": false,
    "id": "XjS_4CFYxx52"
   },
   "source": [
    "### Step 2: Do Your Research\n",
    "That is a ton of columns. That is a ton of data! Where do we start? \n",
    "\n",
    "You should probably do some research on this dataset to find out what the columns mean. I got it on kaggle - you can read about it here: [Wisconsin Breast Cancer Dataset](https://www.kaggle.com/datasets/uciml/breast-cancer-wisconsin-data).\n"
   ]
  },
  {
   "cell_type": "markdown",
   "metadata": {
    "collapsed": false,
    "id": "ujuEOdIYyaV8"
   },
   "source": [
    "### Step 3: Cleaning our data up!\n",
    "\n",
    "Maybe there are some columns we don't need. The last column makes zero sense right? Do we need an id column for our purposes? You should drop **any** columns that you feel are not worth keeping track of. \n",
    "\n",
    "Pandas' `drop()` documentation: https://pandas.pydata.org/docs/reference/api/pandas.DataFrame.drop.html. Remember to use `inplace = True` if you are changing your dataframe and note creating a new one!\n",
    "\n",
    "**Note:** This data is pretty clean! We only need a few lines for this dataset.\n",
    "\n"
   ]
  },
  {
   "cell_type": "code",
   "execution_count": 8,
   "metadata": {
    "collapsed": false,
    "id": "GsTMmM8EzBJ9"
   },
   "outputs": [
    {
     "data": {
      "text/html": [
       "<div>\n",
       "<style scoped>\n",
       "    .dataframe tbody tr th:only-of-type {\n",
       "        vertical-align: middle;\n",
       "    }\n",
       "\n",
       "    .dataframe tbody tr th {\n",
       "        vertical-align: top;\n",
       "    }\n",
       "\n",
       "    .dataframe thead th {\n",
       "        text-align: right;\n",
       "    }\n",
       "</style>\n",
       "<table border=\"1\" class=\"dataframe\">\n",
       "  <thead>\n",
       "    <tr style=\"text-align: right;\">\n",
       "      <th></th>\n",
       "      <th>diagnosis</th>\n",
       "      <th>radius_mean</th>\n",
       "      <th>texture_mean</th>\n",
       "      <th>perimeter_mean</th>\n",
       "      <th>area_mean</th>\n",
       "      <th>smoothness_mean</th>\n",
       "      <th>compactness_mean</th>\n",
       "      <th>concavity_mean</th>\n",
       "      <th>concave points_mean</th>\n",
       "      <th>symmetry_mean</th>\n",
       "      <th>...</th>\n",
       "      <th>radius_worst</th>\n",
       "      <th>texture_worst</th>\n",
       "      <th>perimeter_worst</th>\n",
       "      <th>area_worst</th>\n",
       "      <th>smoothness_worst</th>\n",
       "      <th>compactness_worst</th>\n",
       "      <th>concavity_worst</th>\n",
       "      <th>concave points_worst</th>\n",
       "      <th>symmetry_worst</th>\n",
       "      <th>fractal_dimension_worst</th>\n",
       "    </tr>\n",
       "  </thead>\n",
       "  <tbody>\n",
       "    <tr>\n",
       "      <th>0</th>\n",
       "      <td>M</td>\n",
       "      <td>17.99</td>\n",
       "      <td>10.38</td>\n",
       "      <td>122.80</td>\n",
       "      <td>1001.0</td>\n",
       "      <td>0.11840</td>\n",
       "      <td>0.27760</td>\n",
       "      <td>0.30010</td>\n",
       "      <td>0.14710</td>\n",
       "      <td>0.2419</td>\n",
       "      <td>...</td>\n",
       "      <td>25.380</td>\n",
       "      <td>17.33</td>\n",
       "      <td>184.60</td>\n",
       "      <td>2019.0</td>\n",
       "      <td>0.16220</td>\n",
       "      <td>0.66560</td>\n",
       "      <td>0.7119</td>\n",
       "      <td>0.2654</td>\n",
       "      <td>0.4601</td>\n",
       "      <td>0.11890</td>\n",
       "    </tr>\n",
       "    <tr>\n",
       "      <th>1</th>\n",
       "      <td>M</td>\n",
       "      <td>20.57</td>\n",
       "      <td>17.77</td>\n",
       "      <td>132.90</td>\n",
       "      <td>1326.0</td>\n",
       "      <td>0.08474</td>\n",
       "      <td>0.07864</td>\n",
       "      <td>0.08690</td>\n",
       "      <td>0.07017</td>\n",
       "      <td>0.1812</td>\n",
       "      <td>...</td>\n",
       "      <td>24.990</td>\n",
       "      <td>23.41</td>\n",
       "      <td>158.80</td>\n",
       "      <td>1956.0</td>\n",
       "      <td>0.12380</td>\n",
       "      <td>0.18660</td>\n",
       "      <td>0.2416</td>\n",
       "      <td>0.1860</td>\n",
       "      <td>0.2750</td>\n",
       "      <td>0.08902</td>\n",
       "    </tr>\n",
       "    <tr>\n",
       "      <th>2</th>\n",
       "      <td>M</td>\n",
       "      <td>19.69</td>\n",
       "      <td>21.25</td>\n",
       "      <td>130.00</td>\n",
       "      <td>1203.0</td>\n",
       "      <td>0.10960</td>\n",
       "      <td>0.15990</td>\n",
       "      <td>0.19740</td>\n",
       "      <td>0.12790</td>\n",
       "      <td>0.2069</td>\n",
       "      <td>...</td>\n",
       "      <td>23.570</td>\n",
       "      <td>25.53</td>\n",
       "      <td>152.50</td>\n",
       "      <td>1709.0</td>\n",
       "      <td>0.14440</td>\n",
       "      <td>0.42450</td>\n",
       "      <td>0.4504</td>\n",
       "      <td>0.2430</td>\n",
       "      <td>0.3613</td>\n",
       "      <td>0.08758</td>\n",
       "    </tr>\n",
       "    <tr>\n",
       "      <th>3</th>\n",
       "      <td>M</td>\n",
       "      <td>11.42</td>\n",
       "      <td>20.38</td>\n",
       "      <td>77.58</td>\n",
       "      <td>386.1</td>\n",
       "      <td>0.14250</td>\n",
       "      <td>0.28390</td>\n",
       "      <td>0.24140</td>\n",
       "      <td>0.10520</td>\n",
       "      <td>0.2597</td>\n",
       "      <td>...</td>\n",
       "      <td>14.910</td>\n",
       "      <td>26.50</td>\n",
       "      <td>98.87</td>\n",
       "      <td>567.7</td>\n",
       "      <td>0.20980</td>\n",
       "      <td>0.86630</td>\n",
       "      <td>0.6869</td>\n",
       "      <td>0.2575</td>\n",
       "      <td>0.6638</td>\n",
       "      <td>0.17300</td>\n",
       "    </tr>\n",
       "    <tr>\n",
       "      <th>4</th>\n",
       "      <td>M</td>\n",
       "      <td>20.29</td>\n",
       "      <td>14.34</td>\n",
       "      <td>135.10</td>\n",
       "      <td>1297.0</td>\n",
       "      <td>0.10030</td>\n",
       "      <td>0.13280</td>\n",
       "      <td>0.19800</td>\n",
       "      <td>0.10430</td>\n",
       "      <td>0.1809</td>\n",
       "      <td>...</td>\n",
       "      <td>22.540</td>\n",
       "      <td>16.67</td>\n",
       "      <td>152.20</td>\n",
       "      <td>1575.0</td>\n",
       "      <td>0.13740</td>\n",
       "      <td>0.20500</td>\n",
       "      <td>0.4000</td>\n",
       "      <td>0.1625</td>\n",
       "      <td>0.2364</td>\n",
       "      <td>0.07678</td>\n",
       "    </tr>\n",
       "    <tr>\n",
       "      <th>...</th>\n",
       "      <td>...</td>\n",
       "      <td>...</td>\n",
       "      <td>...</td>\n",
       "      <td>...</td>\n",
       "      <td>...</td>\n",
       "      <td>...</td>\n",
       "      <td>...</td>\n",
       "      <td>...</td>\n",
       "      <td>...</td>\n",
       "      <td>...</td>\n",
       "      <td>...</td>\n",
       "      <td>...</td>\n",
       "      <td>...</td>\n",
       "      <td>...</td>\n",
       "      <td>...</td>\n",
       "      <td>...</td>\n",
       "      <td>...</td>\n",
       "      <td>...</td>\n",
       "      <td>...</td>\n",
       "      <td>...</td>\n",
       "      <td>...</td>\n",
       "    </tr>\n",
       "    <tr>\n",
       "      <th>564</th>\n",
       "      <td>M</td>\n",
       "      <td>21.56</td>\n",
       "      <td>22.39</td>\n",
       "      <td>142.00</td>\n",
       "      <td>1479.0</td>\n",
       "      <td>0.11100</td>\n",
       "      <td>0.11590</td>\n",
       "      <td>0.24390</td>\n",
       "      <td>0.13890</td>\n",
       "      <td>0.1726</td>\n",
       "      <td>...</td>\n",
       "      <td>25.450</td>\n",
       "      <td>26.40</td>\n",
       "      <td>166.10</td>\n",
       "      <td>2027.0</td>\n",
       "      <td>0.14100</td>\n",
       "      <td>0.21130</td>\n",
       "      <td>0.4107</td>\n",
       "      <td>0.2216</td>\n",
       "      <td>0.2060</td>\n",
       "      <td>0.07115</td>\n",
       "    </tr>\n",
       "    <tr>\n",
       "      <th>565</th>\n",
       "      <td>M</td>\n",
       "      <td>20.13</td>\n",
       "      <td>28.25</td>\n",
       "      <td>131.20</td>\n",
       "      <td>1261.0</td>\n",
       "      <td>0.09780</td>\n",
       "      <td>0.10340</td>\n",
       "      <td>0.14400</td>\n",
       "      <td>0.09791</td>\n",
       "      <td>0.1752</td>\n",
       "      <td>...</td>\n",
       "      <td>23.690</td>\n",
       "      <td>38.25</td>\n",
       "      <td>155.00</td>\n",
       "      <td>1731.0</td>\n",
       "      <td>0.11660</td>\n",
       "      <td>0.19220</td>\n",
       "      <td>0.3215</td>\n",
       "      <td>0.1628</td>\n",
       "      <td>0.2572</td>\n",
       "      <td>0.06637</td>\n",
       "    </tr>\n",
       "    <tr>\n",
       "      <th>566</th>\n",
       "      <td>M</td>\n",
       "      <td>16.60</td>\n",
       "      <td>28.08</td>\n",
       "      <td>108.30</td>\n",
       "      <td>858.1</td>\n",
       "      <td>0.08455</td>\n",
       "      <td>0.10230</td>\n",
       "      <td>0.09251</td>\n",
       "      <td>0.05302</td>\n",
       "      <td>0.1590</td>\n",
       "      <td>...</td>\n",
       "      <td>18.980</td>\n",
       "      <td>34.12</td>\n",
       "      <td>126.70</td>\n",
       "      <td>1124.0</td>\n",
       "      <td>0.11390</td>\n",
       "      <td>0.30940</td>\n",
       "      <td>0.3403</td>\n",
       "      <td>0.1418</td>\n",
       "      <td>0.2218</td>\n",
       "      <td>0.07820</td>\n",
       "    </tr>\n",
       "    <tr>\n",
       "      <th>567</th>\n",
       "      <td>M</td>\n",
       "      <td>20.60</td>\n",
       "      <td>29.33</td>\n",
       "      <td>140.10</td>\n",
       "      <td>1265.0</td>\n",
       "      <td>0.11780</td>\n",
       "      <td>0.27700</td>\n",
       "      <td>0.35140</td>\n",
       "      <td>0.15200</td>\n",
       "      <td>0.2397</td>\n",
       "      <td>...</td>\n",
       "      <td>25.740</td>\n",
       "      <td>39.42</td>\n",
       "      <td>184.60</td>\n",
       "      <td>1821.0</td>\n",
       "      <td>0.16500</td>\n",
       "      <td>0.86810</td>\n",
       "      <td>0.9387</td>\n",
       "      <td>0.2650</td>\n",
       "      <td>0.4087</td>\n",
       "      <td>0.12400</td>\n",
       "    </tr>\n",
       "    <tr>\n",
       "      <th>568</th>\n",
       "      <td>B</td>\n",
       "      <td>7.76</td>\n",
       "      <td>24.54</td>\n",
       "      <td>47.92</td>\n",
       "      <td>181.0</td>\n",
       "      <td>0.05263</td>\n",
       "      <td>0.04362</td>\n",
       "      <td>0.00000</td>\n",
       "      <td>0.00000</td>\n",
       "      <td>0.1587</td>\n",
       "      <td>...</td>\n",
       "      <td>9.456</td>\n",
       "      <td>30.37</td>\n",
       "      <td>59.16</td>\n",
       "      <td>268.6</td>\n",
       "      <td>0.08996</td>\n",
       "      <td>0.06444</td>\n",
       "      <td>0.0000</td>\n",
       "      <td>0.0000</td>\n",
       "      <td>0.2871</td>\n",
       "      <td>0.07039</td>\n",
       "    </tr>\n",
       "  </tbody>\n",
       "</table>\n",
       "<p>569 rows × 31 columns</p>\n",
       "</div>"
      ],
      "text/plain": [
       "    diagnosis  radius_mean  texture_mean  perimeter_mean  area_mean  \\\n",
       "0           M        17.99         10.38          122.80     1001.0   \n",
       "1           M        20.57         17.77          132.90     1326.0   \n",
       "2           M        19.69         21.25          130.00     1203.0   \n",
       "3           M        11.42         20.38           77.58      386.1   \n",
       "4           M        20.29         14.34          135.10     1297.0   \n",
       "..        ...          ...           ...             ...        ...   \n",
       "564         M        21.56         22.39          142.00     1479.0   \n",
       "565         M        20.13         28.25          131.20     1261.0   \n",
       "566         M        16.60         28.08          108.30      858.1   \n",
       "567         M        20.60         29.33          140.10     1265.0   \n",
       "568         B         7.76         24.54           47.92      181.0   \n",
       "\n",
       "     smoothness_mean  compactness_mean  concavity_mean  concave points_mean  \\\n",
       "0            0.11840           0.27760         0.30010              0.14710   \n",
       "1            0.08474           0.07864         0.08690              0.07017   \n",
       "2            0.10960           0.15990         0.19740              0.12790   \n",
       "3            0.14250           0.28390         0.24140              0.10520   \n",
       "4            0.10030           0.13280         0.19800              0.10430   \n",
       "..               ...               ...             ...                  ...   \n",
       "564          0.11100           0.11590         0.24390              0.13890   \n",
       "565          0.09780           0.10340         0.14400              0.09791   \n",
       "566          0.08455           0.10230         0.09251              0.05302   \n",
       "567          0.11780           0.27700         0.35140              0.15200   \n",
       "568          0.05263           0.04362         0.00000              0.00000   \n",
       "\n",
       "     symmetry_mean  ...  radius_worst  texture_worst  perimeter_worst  \\\n",
       "0           0.2419  ...        25.380          17.33           184.60   \n",
       "1           0.1812  ...        24.990          23.41           158.80   \n",
       "2           0.2069  ...        23.570          25.53           152.50   \n",
       "3           0.2597  ...        14.910          26.50            98.87   \n",
       "4           0.1809  ...        22.540          16.67           152.20   \n",
       "..             ...  ...           ...            ...              ...   \n",
       "564         0.1726  ...        25.450          26.40           166.10   \n",
       "565         0.1752  ...        23.690          38.25           155.00   \n",
       "566         0.1590  ...        18.980          34.12           126.70   \n",
       "567         0.2397  ...        25.740          39.42           184.60   \n",
       "568         0.1587  ...         9.456          30.37            59.16   \n",
       "\n",
       "     area_worst  smoothness_worst  compactness_worst  concavity_worst  \\\n",
       "0        2019.0           0.16220            0.66560           0.7119   \n",
       "1        1956.0           0.12380            0.18660           0.2416   \n",
       "2        1709.0           0.14440            0.42450           0.4504   \n",
       "3         567.7           0.20980            0.86630           0.6869   \n",
       "4        1575.0           0.13740            0.20500           0.4000   \n",
       "..          ...               ...                ...              ...   \n",
       "564      2027.0           0.14100            0.21130           0.4107   \n",
       "565      1731.0           0.11660            0.19220           0.3215   \n",
       "566      1124.0           0.11390            0.30940           0.3403   \n",
       "567      1821.0           0.16500            0.86810           0.9387   \n",
       "568       268.6           0.08996            0.06444           0.0000   \n",
       "\n",
       "     concave points_worst  symmetry_worst  fractal_dimension_worst  \n",
       "0                  0.2654          0.4601                  0.11890  \n",
       "1                  0.1860          0.2750                  0.08902  \n",
       "2                  0.2430          0.3613                  0.08758  \n",
       "3                  0.2575          0.6638                  0.17300  \n",
       "4                  0.1625          0.2364                  0.07678  \n",
       "..                    ...             ...                      ...  \n",
       "564                0.2216          0.2060                  0.07115  \n",
       "565                0.1628          0.2572                  0.06637  \n",
       "566                0.1418          0.2218                  0.07820  \n",
       "567                0.2650          0.4087                  0.12400  \n",
       "568                0.0000          0.2871                  0.07039  \n",
       "\n",
       "[569 rows x 31 columns]"
      ]
     },
     "execution_count": 8,
     "metadata": {
     },
     "output_type": "execute_result"
    }
   ],
   "source": [
    "# use df.drop to drop Unnamed: 32 and ID, as well as any columns you don't think we should keep track of.\n",
    "breast_cancer.drop(columns=[\"Unnamed: 32\", \"id\"])"
   ]
  },
  {
   "cell_type": "code",
   "execution_count": 9,
   "metadata": {
    "collapsed": false,
    "id": "H7H0OTAhzoKQ"
   },
   "outputs": [
    {
     "data": {
      "text/html": [
       "<div>\n",
       "<style scoped>\n",
       "    .dataframe tbody tr th:only-of-type {\n",
       "        vertical-align: middle;\n",
       "    }\n",
       "\n",
       "    .dataframe tbody tr th {\n",
       "        vertical-align: top;\n",
       "    }\n",
       "\n",
       "    .dataframe thead th {\n",
       "        text-align: right;\n",
       "    }\n",
       "</style>\n",
       "<table border=\"1\" class=\"dataframe\">\n",
       "  <thead>\n",
       "    <tr style=\"text-align: right;\">\n",
       "      <th></th>\n",
       "      <th>id</th>\n",
       "      <th>diagnosis</th>\n",
       "      <th>radius_mean</th>\n",
       "      <th>texture_mean</th>\n",
       "      <th>perimeter_mean</th>\n",
       "      <th>area_mean</th>\n",
       "      <th>smoothness_mean</th>\n",
       "      <th>compactness_mean</th>\n",
       "      <th>concavity_mean</th>\n",
       "      <th>concave points_mean</th>\n",
       "      <th>...</th>\n",
       "      <th>texture_worst</th>\n",
       "      <th>perimeter_worst</th>\n",
       "      <th>area_worst</th>\n",
       "      <th>smoothness_worst</th>\n",
       "      <th>compactness_worst</th>\n",
       "      <th>concavity_worst</th>\n",
       "      <th>concave points_worst</th>\n",
       "      <th>symmetry_worst</th>\n",
       "      <th>fractal_dimension_worst</th>\n",
       "      <th>Unnamed: 32</th>\n",
       "    </tr>\n",
       "  </thead>\n",
       "  <tbody>\n",
       "    <tr>\n",
       "      <th>0</th>\n",
       "      <td>842302</td>\n",
       "      <td>M</td>\n",
       "      <td>17.99</td>\n",
       "      <td>10.38</td>\n",
       "      <td>122.80</td>\n",
       "      <td>1001.0</td>\n",
       "      <td>0.11840</td>\n",
       "      <td>0.27760</td>\n",
       "      <td>0.30010</td>\n",
       "      <td>0.14710</td>\n",
       "      <td>...</td>\n",
       "      <td>17.33</td>\n",
       "      <td>184.60</td>\n",
       "      <td>2019.0</td>\n",
       "      <td>0.16220</td>\n",
       "      <td>0.66560</td>\n",
       "      <td>0.7119</td>\n",
       "      <td>0.2654</td>\n",
       "      <td>0.4601</td>\n",
       "      <td>0.11890</td>\n",
       "      <td>0.0</td>\n",
       "    </tr>\n",
       "    <tr>\n",
       "      <th>1</th>\n",
       "      <td>842517</td>\n",
       "      <td>M</td>\n",
       "      <td>20.57</td>\n",
       "      <td>17.77</td>\n",
       "      <td>132.90</td>\n",
       "      <td>1326.0</td>\n",
       "      <td>0.08474</td>\n",
       "      <td>0.07864</td>\n",
       "      <td>0.08690</td>\n",
       "      <td>0.07017</td>\n",
       "      <td>...</td>\n",
       "      <td>23.41</td>\n",
       "      <td>158.80</td>\n",
       "      <td>1956.0</td>\n",
       "      <td>0.12380</td>\n",
       "      <td>0.18660</td>\n",
       "      <td>0.2416</td>\n",
       "      <td>0.1860</td>\n",
       "      <td>0.2750</td>\n",
       "      <td>0.08902</td>\n",
       "      <td>0.0</td>\n",
       "    </tr>\n",
       "    <tr>\n",
       "      <th>2</th>\n",
       "      <td>84300903</td>\n",
       "      <td>M</td>\n",
       "      <td>19.69</td>\n",
       "      <td>21.25</td>\n",
       "      <td>130.00</td>\n",
       "      <td>1203.0</td>\n",
       "      <td>0.10960</td>\n",
       "      <td>0.15990</td>\n",
       "      <td>0.19740</td>\n",
       "      <td>0.12790</td>\n",
       "      <td>...</td>\n",
       "      <td>25.53</td>\n",
       "      <td>152.50</td>\n",
       "      <td>1709.0</td>\n",
       "      <td>0.14440</td>\n",
       "      <td>0.42450</td>\n",
       "      <td>0.4504</td>\n",
       "      <td>0.2430</td>\n",
       "      <td>0.3613</td>\n",
       "      <td>0.08758</td>\n",
       "      <td>0.0</td>\n",
       "    </tr>\n",
       "    <tr>\n",
       "      <th>3</th>\n",
       "      <td>84348301</td>\n",
       "      <td>M</td>\n",
       "      <td>11.42</td>\n",
       "      <td>20.38</td>\n",
       "      <td>77.58</td>\n",
       "      <td>386.1</td>\n",
       "      <td>0.14250</td>\n",
       "      <td>0.28390</td>\n",
       "      <td>0.24140</td>\n",
       "      <td>0.10520</td>\n",
       "      <td>...</td>\n",
       "      <td>26.50</td>\n",
       "      <td>98.87</td>\n",
       "      <td>567.7</td>\n",
       "      <td>0.20980</td>\n",
       "      <td>0.86630</td>\n",
       "      <td>0.6869</td>\n",
       "      <td>0.2575</td>\n",
       "      <td>0.6638</td>\n",
       "      <td>0.17300</td>\n",
       "      <td>0.0</td>\n",
       "    </tr>\n",
       "    <tr>\n",
       "      <th>4</th>\n",
       "      <td>84358402</td>\n",
       "      <td>M</td>\n",
       "      <td>20.29</td>\n",
       "      <td>14.34</td>\n",
       "      <td>135.10</td>\n",
       "      <td>1297.0</td>\n",
       "      <td>0.10030</td>\n",
       "      <td>0.13280</td>\n",
       "      <td>0.19800</td>\n",
       "      <td>0.10430</td>\n",
       "      <td>...</td>\n",
       "      <td>16.67</td>\n",
       "      <td>152.20</td>\n",
       "      <td>1575.0</td>\n",
       "      <td>0.13740</td>\n",
       "      <td>0.20500</td>\n",
       "      <td>0.4000</td>\n",
       "      <td>0.1625</td>\n",
       "      <td>0.2364</td>\n",
       "      <td>0.07678</td>\n",
       "      <td>0.0</td>\n",
       "    </tr>\n",
       "    <tr>\n",
       "      <th>...</th>\n",
       "      <td>...</td>\n",
       "      <td>...</td>\n",
       "      <td>...</td>\n",
       "      <td>...</td>\n",
       "      <td>...</td>\n",
       "      <td>...</td>\n",
       "      <td>...</td>\n",
       "      <td>...</td>\n",
       "      <td>...</td>\n",
       "      <td>...</td>\n",
       "      <td>...</td>\n",
       "      <td>...</td>\n",
       "      <td>...</td>\n",
       "      <td>...</td>\n",
       "      <td>...</td>\n",
       "      <td>...</td>\n",
       "      <td>...</td>\n",
       "      <td>...</td>\n",
       "      <td>...</td>\n",
       "      <td>...</td>\n",
       "      <td>...</td>\n",
       "    </tr>\n",
       "    <tr>\n",
       "      <th>564</th>\n",
       "      <td>926424</td>\n",
       "      <td>M</td>\n",
       "      <td>21.56</td>\n",
       "      <td>22.39</td>\n",
       "      <td>142.00</td>\n",
       "      <td>1479.0</td>\n",
       "      <td>0.11100</td>\n",
       "      <td>0.11590</td>\n",
       "      <td>0.24390</td>\n",
       "      <td>0.13890</td>\n",
       "      <td>...</td>\n",
       "      <td>26.40</td>\n",
       "      <td>166.10</td>\n",
       "      <td>2027.0</td>\n",
       "      <td>0.14100</td>\n",
       "      <td>0.21130</td>\n",
       "      <td>0.4107</td>\n",
       "      <td>0.2216</td>\n",
       "      <td>0.2060</td>\n",
       "      <td>0.07115</td>\n",
       "      <td>0.0</td>\n",
       "    </tr>\n",
       "    <tr>\n",
       "      <th>565</th>\n",
       "      <td>926682</td>\n",
       "      <td>M</td>\n",
       "      <td>20.13</td>\n",
       "      <td>28.25</td>\n",
       "      <td>131.20</td>\n",
       "      <td>1261.0</td>\n",
       "      <td>0.09780</td>\n",
       "      <td>0.10340</td>\n",
       "      <td>0.14400</td>\n",
       "      <td>0.09791</td>\n",
       "      <td>...</td>\n",
       "      <td>38.25</td>\n",
       "      <td>155.00</td>\n",
       "      <td>1731.0</td>\n",
       "      <td>0.11660</td>\n",
       "      <td>0.19220</td>\n",
       "      <td>0.3215</td>\n",
       "      <td>0.1628</td>\n",
       "      <td>0.2572</td>\n",
       "      <td>0.06637</td>\n",
       "      <td>0.0</td>\n",
       "    </tr>\n",
       "    <tr>\n",
       "      <th>566</th>\n",
       "      <td>926954</td>\n",
       "      <td>M</td>\n",
       "      <td>16.60</td>\n",
       "      <td>28.08</td>\n",
       "      <td>108.30</td>\n",
       "      <td>858.1</td>\n",
       "      <td>0.08455</td>\n",
       "      <td>0.10230</td>\n",
       "      <td>0.09251</td>\n",
       "      <td>0.05302</td>\n",
       "      <td>...</td>\n",
       "      <td>34.12</td>\n",
       "      <td>126.70</td>\n",
       "      <td>1124.0</td>\n",
       "      <td>0.11390</td>\n",
       "      <td>0.30940</td>\n",
       "      <td>0.3403</td>\n",
       "      <td>0.1418</td>\n",
       "      <td>0.2218</td>\n",
       "      <td>0.07820</td>\n",
       "      <td>0.0</td>\n",
       "    </tr>\n",
       "    <tr>\n",
       "      <th>567</th>\n",
       "      <td>927241</td>\n",
       "      <td>M</td>\n",
       "      <td>20.60</td>\n",
       "      <td>29.33</td>\n",
       "      <td>140.10</td>\n",
       "      <td>1265.0</td>\n",
       "      <td>0.11780</td>\n",
       "      <td>0.27700</td>\n",
       "      <td>0.35140</td>\n",
       "      <td>0.15200</td>\n",
       "      <td>...</td>\n",
       "      <td>39.42</td>\n",
       "      <td>184.60</td>\n",
       "      <td>1821.0</td>\n",
       "      <td>0.16500</td>\n",
       "      <td>0.86810</td>\n",
       "      <td>0.9387</td>\n",
       "      <td>0.2650</td>\n",
       "      <td>0.4087</td>\n",
       "      <td>0.12400</td>\n",
       "      <td>0.0</td>\n",
       "    </tr>\n",
       "    <tr>\n",
       "      <th>568</th>\n",
       "      <td>92751</td>\n",
       "      <td>B</td>\n",
       "      <td>7.76</td>\n",
       "      <td>24.54</td>\n",
       "      <td>47.92</td>\n",
       "      <td>181.0</td>\n",
       "      <td>0.05263</td>\n",
       "      <td>0.04362</td>\n",
       "      <td>0.00000</td>\n",
       "      <td>0.00000</td>\n",
       "      <td>...</td>\n",
       "      <td>30.37</td>\n",
       "      <td>59.16</td>\n",
       "      <td>268.6</td>\n",
       "      <td>0.08996</td>\n",
       "      <td>0.06444</td>\n",
       "      <td>0.0000</td>\n",
       "      <td>0.0000</td>\n",
       "      <td>0.2871</td>\n",
       "      <td>0.07039</td>\n",
       "      <td>0.0</td>\n",
       "    </tr>\n",
       "  </tbody>\n",
       "</table>\n",
       "<p>569 rows × 33 columns</p>\n",
       "</div>"
      ],
      "text/plain": [
       "           id diagnosis  radius_mean  texture_mean  perimeter_mean  area_mean  \\\n",
       "0      842302         M        17.99         10.38          122.80     1001.0   \n",
       "1      842517         M        20.57         17.77          132.90     1326.0   \n",
       "2    84300903         M        19.69         21.25          130.00     1203.0   \n",
       "3    84348301         M        11.42         20.38           77.58      386.1   \n",
       "4    84358402         M        20.29         14.34          135.10     1297.0   \n",
       "..        ...       ...          ...           ...             ...        ...   \n",
       "564    926424         M        21.56         22.39          142.00     1479.0   \n",
       "565    926682         M        20.13         28.25          131.20     1261.0   \n",
       "566    926954         M        16.60         28.08          108.30      858.1   \n",
       "567    927241         M        20.60         29.33          140.10     1265.0   \n",
       "568     92751         B         7.76         24.54           47.92      181.0   \n",
       "\n",
       "     smoothness_mean  compactness_mean  concavity_mean  concave points_mean  \\\n",
       "0            0.11840           0.27760         0.30010              0.14710   \n",
       "1            0.08474           0.07864         0.08690              0.07017   \n",
       "2            0.10960           0.15990         0.19740              0.12790   \n",
       "3            0.14250           0.28390         0.24140              0.10520   \n",
       "4            0.10030           0.13280         0.19800              0.10430   \n",
       "..               ...               ...             ...                  ...   \n",
       "564          0.11100           0.11590         0.24390              0.13890   \n",
       "565          0.09780           0.10340         0.14400              0.09791   \n",
       "566          0.08455           0.10230         0.09251              0.05302   \n",
       "567          0.11780           0.27700         0.35140              0.15200   \n",
       "568          0.05263           0.04362         0.00000              0.00000   \n",
       "\n",
       "     ...  texture_worst  perimeter_worst  area_worst  smoothness_worst  \\\n",
       "0    ...          17.33           184.60      2019.0           0.16220   \n",
       "1    ...          23.41           158.80      1956.0           0.12380   \n",
       "2    ...          25.53           152.50      1709.0           0.14440   \n",
       "3    ...          26.50            98.87       567.7           0.20980   \n",
       "4    ...          16.67           152.20      1575.0           0.13740   \n",
       "..   ...            ...              ...         ...               ...   \n",
       "564  ...          26.40           166.10      2027.0           0.14100   \n",
       "565  ...          38.25           155.00      1731.0           0.11660   \n",
       "566  ...          34.12           126.70      1124.0           0.11390   \n",
       "567  ...          39.42           184.60      1821.0           0.16500   \n",
       "568  ...          30.37            59.16       268.6           0.08996   \n",
       "\n",
       "     compactness_worst  concavity_worst  concave points_worst  symmetry_worst  \\\n",
       "0              0.66560           0.7119                0.2654          0.4601   \n",
       "1              0.18660           0.2416                0.1860          0.2750   \n",
       "2              0.42450           0.4504                0.2430          0.3613   \n",
       "3              0.86630           0.6869                0.2575          0.6638   \n",
       "4              0.20500           0.4000                0.1625          0.2364   \n",
       "..                 ...              ...                   ...             ...   \n",
       "564            0.21130           0.4107                0.2216          0.2060   \n",
       "565            0.19220           0.3215                0.1628          0.2572   \n",
       "566            0.30940           0.3403                0.1418          0.2218   \n",
       "567            0.86810           0.9387                0.2650          0.4087   \n",
       "568            0.06444           0.0000                0.0000          0.2871   \n",
       "\n",
       "     fractal_dimension_worst  Unnamed: 32  \n",
       "0                    0.11890          0.0  \n",
       "1                    0.08902          0.0  \n",
       "2                    0.08758          0.0  \n",
       "3                    0.17300          0.0  \n",
       "4                    0.07678          0.0  \n",
       "..                       ...          ...  \n",
       "564                  0.07115          0.0  \n",
       "565                  0.06637          0.0  \n",
       "566                  0.07820          0.0  \n",
       "567                  0.12400          0.0  \n",
       "568                  0.07039          0.0  \n",
       "\n",
       "[569 rows x 33 columns]"
      ]
     },
     "execution_count": 9,
     "metadata": {
     },
     "output_type": "execute_result"
    }
   ],
   "source": [
    "# drop any n/a values remaining! Remember inplace!\n",
    "breast_cancer.fillna(0, inplace = False)"
   ]
  },
  {
   "cell_type": "code",
   "execution_count": 10,
   "metadata": {
    "collapsed": false,
    "id": "tL-d7BNRzz_V"
   },
   "outputs": [
    {
     "data": {
      "text/html": [
       "<div>\n",
       "<style scoped>\n",
       "    .dataframe tbody tr th:only-of-type {\n",
       "        vertical-align: middle;\n",
       "    }\n",
       "\n",
       "    .dataframe tbody tr th {\n",
       "        vertical-align: top;\n",
       "    }\n",
       "\n",
       "    .dataframe thead th {\n",
       "        text-align: right;\n",
       "    }\n",
       "</style>\n",
       "<table border=\"1\" class=\"dataframe\">\n",
       "  <thead>\n",
       "    <tr style=\"text-align: right;\">\n",
       "      <th></th>\n",
       "      <th>id</th>\n",
       "      <th>diagnosis</th>\n",
       "      <th>radius_mean</th>\n",
       "      <th>texture_mean</th>\n",
       "      <th>perimeter_mean</th>\n",
       "      <th>area_mean</th>\n",
       "      <th>smoothness_mean</th>\n",
       "      <th>compactness_mean</th>\n",
       "      <th>concavity_mean</th>\n",
       "      <th>concave points_mean</th>\n",
       "      <th>...</th>\n",
       "      <th>texture_worst</th>\n",
       "      <th>perimeter_worst</th>\n",
       "      <th>area_worst</th>\n",
       "      <th>smoothness_worst</th>\n",
       "      <th>compactness_worst</th>\n",
       "      <th>concavity_worst</th>\n",
       "      <th>concave points_worst</th>\n",
       "      <th>symmetry_worst</th>\n",
       "      <th>fractal_dimension_worst</th>\n",
       "      <th>Unnamed: 32</th>\n",
       "    </tr>\n",
       "  </thead>\n",
       "  <tbody>\n",
       "    <tr>\n",
       "      <th>564</th>\n",
       "      <td>926424</td>\n",
       "      <td>M</td>\n",
       "      <td>21.56</td>\n",
       "      <td>22.39</td>\n",
       "      <td>142.00</td>\n",
       "      <td>1479.0</td>\n",
       "      <td>0.11100</td>\n",
       "      <td>0.11590</td>\n",
       "      <td>0.24390</td>\n",
       "      <td>0.13890</td>\n",
       "      <td>...</td>\n",
       "      <td>26.40</td>\n",
       "      <td>166.10</td>\n",
       "      <td>2027.0</td>\n",
       "      <td>0.14100</td>\n",
       "      <td>0.21130</td>\n",
       "      <td>0.4107</td>\n",
       "      <td>0.2216</td>\n",
       "      <td>0.2060</td>\n",
       "      <td>0.07115</td>\n",
       "      <td>NaN</td>\n",
       "    </tr>\n",
       "    <tr>\n",
       "      <th>565</th>\n",
       "      <td>926682</td>\n",
       "      <td>M</td>\n",
       "      <td>20.13</td>\n",
       "      <td>28.25</td>\n",
       "      <td>131.20</td>\n",
       "      <td>1261.0</td>\n",
       "      <td>0.09780</td>\n",
       "      <td>0.10340</td>\n",
       "      <td>0.14400</td>\n",
       "      <td>0.09791</td>\n",
       "      <td>...</td>\n",
       "      <td>38.25</td>\n",
       "      <td>155.00</td>\n",
       "      <td>1731.0</td>\n",
       "      <td>0.11660</td>\n",
       "      <td>0.19220</td>\n",
       "      <td>0.3215</td>\n",
       "      <td>0.1628</td>\n",
       "      <td>0.2572</td>\n",
       "      <td>0.06637</td>\n",
       "      <td>NaN</td>\n",
       "    </tr>\n",
       "    <tr>\n",
       "      <th>566</th>\n",
       "      <td>926954</td>\n",
       "      <td>M</td>\n",
       "      <td>16.60</td>\n",
       "      <td>28.08</td>\n",
       "      <td>108.30</td>\n",
       "      <td>858.1</td>\n",
       "      <td>0.08455</td>\n",
       "      <td>0.10230</td>\n",
       "      <td>0.09251</td>\n",
       "      <td>0.05302</td>\n",
       "      <td>...</td>\n",
       "      <td>34.12</td>\n",
       "      <td>126.70</td>\n",
       "      <td>1124.0</td>\n",
       "      <td>0.11390</td>\n",
       "      <td>0.30940</td>\n",
       "      <td>0.3403</td>\n",
       "      <td>0.1418</td>\n",
       "      <td>0.2218</td>\n",
       "      <td>0.07820</td>\n",
       "      <td>NaN</td>\n",
       "    </tr>\n",
       "    <tr>\n",
       "      <th>567</th>\n",
       "      <td>927241</td>\n",
       "      <td>M</td>\n",
       "      <td>20.60</td>\n",
       "      <td>29.33</td>\n",
       "      <td>140.10</td>\n",
       "      <td>1265.0</td>\n",
       "      <td>0.11780</td>\n",
       "      <td>0.27700</td>\n",
       "      <td>0.35140</td>\n",
       "      <td>0.15200</td>\n",
       "      <td>...</td>\n",
       "      <td>39.42</td>\n",
       "      <td>184.60</td>\n",
       "      <td>1821.0</td>\n",
       "      <td>0.16500</td>\n",
       "      <td>0.86810</td>\n",
       "      <td>0.9387</td>\n",
       "      <td>0.2650</td>\n",
       "      <td>0.4087</td>\n",
       "      <td>0.12400</td>\n",
       "      <td>NaN</td>\n",
       "    </tr>\n",
       "    <tr>\n",
       "      <th>568</th>\n",
       "      <td>92751</td>\n",
       "      <td>B</td>\n",
       "      <td>7.76</td>\n",
       "      <td>24.54</td>\n",
       "      <td>47.92</td>\n",
       "      <td>181.0</td>\n",
       "      <td>0.05263</td>\n",
       "      <td>0.04362</td>\n",
       "      <td>0.00000</td>\n",
       "      <td>0.00000</td>\n",
       "      <td>...</td>\n",
       "      <td>30.37</td>\n",
       "      <td>59.16</td>\n",
       "      <td>268.6</td>\n",
       "      <td>0.08996</td>\n",
       "      <td>0.06444</td>\n",
       "      <td>0.0000</td>\n",
       "      <td>0.0000</td>\n",
       "      <td>0.2871</td>\n",
       "      <td>0.07039</td>\n",
       "      <td>NaN</td>\n",
       "    </tr>\n",
       "  </tbody>\n",
       "</table>\n",
       "<p>5 rows × 33 columns</p>\n",
       "</div>"
      ],
      "text/plain": [
       "         id diagnosis  radius_mean  texture_mean  perimeter_mean  area_mean  \\\n",
       "564  926424         M        21.56         22.39          142.00     1479.0   \n",
       "565  926682         M        20.13         28.25          131.20     1261.0   \n",
       "566  926954         M        16.60         28.08          108.30      858.1   \n",
       "567  927241         M        20.60         29.33          140.10     1265.0   \n",
       "568   92751         B         7.76         24.54           47.92      181.0   \n",
       "\n",
       "     smoothness_mean  compactness_mean  concavity_mean  concave points_mean  \\\n",
       "564          0.11100           0.11590         0.24390              0.13890   \n",
       "565          0.09780           0.10340         0.14400              0.09791   \n",
       "566          0.08455           0.10230         0.09251              0.05302   \n",
       "567          0.11780           0.27700         0.35140              0.15200   \n",
       "568          0.05263           0.04362         0.00000              0.00000   \n",
       "\n",
       "     ...  texture_worst  perimeter_worst  area_worst  smoothness_worst  \\\n",
       "564  ...          26.40           166.10      2027.0           0.14100   \n",
       "565  ...          38.25           155.00      1731.0           0.11660   \n",
       "566  ...          34.12           126.70      1124.0           0.11390   \n",
       "567  ...          39.42           184.60      1821.0           0.16500   \n",
       "568  ...          30.37            59.16       268.6           0.08996   \n",
       "\n",
       "     compactness_worst  concavity_worst  concave points_worst  symmetry_worst  \\\n",
       "564            0.21130           0.4107                0.2216          0.2060   \n",
       "565            0.19220           0.3215                0.1628          0.2572   \n",
       "566            0.30940           0.3403                0.1418          0.2218   \n",
       "567            0.86810           0.9387                0.2650          0.4087   \n",
       "568            0.06444           0.0000                0.0000          0.2871   \n",
       "\n",
       "     fractal_dimension_worst  Unnamed: 32  \n",
       "564                  0.07115          NaN  \n",
       "565                  0.06637          NaN  \n",
       "566                  0.07820          NaN  \n",
       "567                  0.12400          NaN  \n",
       "568                  0.07039          NaN  \n",
       "\n",
       "[5 rows x 33 columns]"
      ]
     },
     "execution_count": 10,
     "metadata": {
     },
     "output_type": "execute_result"
    }
   ],
   "source": [
    "# print the last five rows of your dataframe \n",
    "\n",
    "breast_cancer.tail()"
   ]
  },
  {
   "cell_type": "markdown",
   "metadata": {
    "collapsed": false,
    "id": "X1yX_YUAz8ti"
   },
   "source": [
    "**TODO:** at this point, all of our data should be numeric except for our diagnosis column. This is because supervised machine learning models work off of numerical data. Use breast_cancer.info() below to check that all our data besides 'diagnosis' are numeric."
   ]
  },
  {
   "cell_type": "code",
   "execution_count": 11,
   "metadata": {
    "collapsed": false,
    "id": "gAPOpEtcz7U2"
   },
   "outputs": [
    {
     "name": "stdout",
     "output_type": "stream",
     "text": [
      "<class 'pandas.core.frame.DataFrame'>\n",
      "RangeIndex: 569 entries, 0 to 568\n",
      "Data columns (total 33 columns):\n",
      " #   Column                   Non-Null Count  Dtype  \n",
      "---  ------                   --------------  -----  \n",
      " 0   id                       569 non-null    int64  \n",
      " 1   diagnosis                569 non-null    object \n",
      " 2   radius_mean              569 non-null    float64\n",
      " 3   texture_mean             569 non-null    float64\n",
      " 4   perimeter_mean           569 non-null    float64\n",
      " 5   area_mean                569 non-null    float64\n",
      " 6   smoothness_mean          569 non-null    float64\n",
      " 7   compactness_mean         569 non-null    float64\n",
      " 8   concavity_mean           569 non-null    float64\n",
      " 9   concave points_mean      569 non-null    float64\n",
      " 10  symmetry_mean            569 non-null    float64\n",
      " 11  fractal_dimension_mean   569 non-null    float64\n",
      " 12  radius_se                569 non-null    float64\n",
      " 13  texture_se               569 non-null    float64\n",
      " 14  perimeter_se             569 non-null    float64\n",
      " 15  area_se                  569 non-null    float64\n",
      " 16  smoothness_se            569 non-null    float64\n",
      " 17  compactness_se           569 non-null    float64\n",
      " 18  concavity_se             569 non-null    float64\n",
      " 19  concave points_se        569 non-null    float64\n",
      " 20  symmetry_se              569 non-null    float64\n",
      " 21  fractal_dimension_se     569 non-null    float64\n",
      " 22  radius_worst             569 non-null    float64\n",
      " 23  texture_worst            569 non-null    float64\n",
      " 24  perimeter_worst          569 non-null    float64\n",
      " 25  area_worst               569 non-null    float64\n",
      " 26  smoothness_worst         569 non-null    float64\n",
      " 27  compactness_worst        569 non-null    float64\n",
      " 28  concavity_worst          569 non-null    float64\n",
      " 29  concave points_worst     569 non-null    float64\n",
      " 30  symmetry_worst           569 non-null    float64\n",
      " 31  fractal_dimension_worst  569 non-null    float64\n",
      " 32  Unnamed: 32              0 non-null      float64\n",
      "dtypes: float64(31), int64(1), object(1)\n",
      "memory usage: 146.8+ KB\n"
     ]
    }
   ],
   "source": [
    "# Run breast_cancer.info()\n",
    "\n",
    "breast_cancer.info()"
   ]
  },
  {
   "cell_type": "markdown",
   "metadata": {
    "collapsed": false,
    "id": "c4ocJucC3-p2"
   },
   "source": [
    "### Dummy Variables - Preprocessing\n",
    "Our target variable (the variable we are trying to predict) is `diagnosis`. Our only problem is that the diagnosis variable will either be an 'M' or a 'B', which is not something our model will understand. We need to change our M's to 1's and B's to 0's so that our model can think like computers do -- using numbers!  \n",
    "\n",
    "To do so, we use something called a dummy variable. I'll show you how to do so below. "
   ]
  },
  {
   "cell_type": "code",
   "execution_count": 12,
   "metadata": {
    "collapsed": false,
    "id": "k2w_QD0e3-WY"
   },
   "outputs": [
    {
     "data": {
      "text/html": [
       "<div>\n",
       "<style scoped>\n",
       "    .dataframe tbody tr th:only-of-type {\n",
       "        vertical-align: middle;\n",
       "    }\n",
       "\n",
       "    .dataframe tbody tr th {\n",
       "        vertical-align: top;\n",
       "    }\n",
       "\n",
       "    .dataframe thead th {\n",
       "        text-align: right;\n",
       "    }\n",
       "</style>\n",
       "<table border=\"1\" class=\"dataframe\">\n",
       "  <thead>\n",
       "    <tr style=\"text-align: right;\">\n",
       "      <th></th>\n",
       "      <th>B</th>\n",
       "      <th>M</th>\n",
       "    </tr>\n",
       "  </thead>\n",
       "  <tbody>\n",
       "    <tr>\n",
       "      <th>0</th>\n",
       "      <td>0</td>\n",
       "      <td>1</td>\n",
       "    </tr>\n",
       "    <tr>\n",
       "      <th>1</th>\n",
       "      <td>0</td>\n",
       "      <td>1</td>\n",
       "    </tr>\n",
       "    <tr>\n",
       "      <th>2</th>\n",
       "      <td>0</td>\n",
       "      <td>1</td>\n",
       "    </tr>\n",
       "    <tr>\n",
       "      <th>3</th>\n",
       "      <td>0</td>\n",
       "      <td>1</td>\n",
       "    </tr>\n",
       "    <tr>\n",
       "      <th>4</th>\n",
       "      <td>0</td>\n",
       "      <td>1</td>\n",
       "    </tr>\n",
       "  </tbody>\n",
       "</table>\n",
       "</div>"
      ],
      "text/plain": [
       "   B  M\n",
       "0  0  1\n",
       "1  0  1\n",
       "2  0  1\n",
       "3  0  1\n",
       "4  0  1"
      ]
     },
     "execution_count": 12,
     "metadata": {
     },
     "output_type": "execute_result"
    }
   ],
   "source": [
    "dummies = pd.get_dummies(breast_cancer[\"diagnosis\"])\n",
    "dummies.head()"
   ]
  },
  {
   "cell_type": "markdown",
   "metadata": {
    "collapsed": false,
    "id": "YXI5tmDd5CKh"
   },
   "source": [
    "**Ok, we've got our dummy variables. What now?** Now we have to pick one and add it to our dataframe -- we also have to delete the old diagnosis column!"
   ]
  },
  {
   "cell_type": "code",
   "execution_count": 13,
   "metadata": {
    "collapsed": false,
    "id": "QtT1BaBF5M3V"
   },
   "outputs": [
    {
     "data": {
      "text/html": [
       "<div>\n",
       "<style scoped>\n",
       "    .dataframe tbody tr th:only-of-type {\n",
       "        vertical-align: middle;\n",
       "    }\n",
       "\n",
       "    .dataframe tbody tr th {\n",
       "        vertical-align: top;\n",
       "    }\n",
       "\n",
       "    .dataframe thead th {\n",
       "        text-align: right;\n",
       "    }\n",
       "</style>\n",
       "<table border=\"1\" class=\"dataframe\">\n",
       "  <thead>\n",
       "    <tr style=\"text-align: right;\">\n",
       "      <th></th>\n",
       "      <th>id</th>\n",
       "      <th>diagnosis</th>\n",
       "      <th>radius_mean</th>\n",
       "      <th>texture_mean</th>\n",
       "      <th>perimeter_mean</th>\n",
       "      <th>area_mean</th>\n",
       "      <th>smoothness_mean</th>\n",
       "      <th>compactness_mean</th>\n",
       "      <th>concavity_mean</th>\n",
       "      <th>concave points_mean</th>\n",
       "      <th>...</th>\n",
       "      <th>perimeter_worst</th>\n",
       "      <th>area_worst</th>\n",
       "      <th>smoothness_worst</th>\n",
       "      <th>compactness_worst</th>\n",
       "      <th>concavity_worst</th>\n",
       "      <th>concave points_worst</th>\n",
       "      <th>symmetry_worst</th>\n",
       "      <th>fractal_dimension_worst</th>\n",
       "      <th>Unnamed: 32</th>\n",
       "      <th>outcome</th>\n",
       "    </tr>\n",
       "  </thead>\n",
       "  <tbody>\n",
       "    <tr>\n",
       "      <th>0</th>\n",
       "      <td>842302</td>\n",
       "      <td>M</td>\n",
       "      <td>17.99</td>\n",
       "      <td>10.38</td>\n",
       "      <td>122.80</td>\n",
       "      <td>1001.0</td>\n",
       "      <td>0.11840</td>\n",
       "      <td>0.27760</td>\n",
       "      <td>0.3001</td>\n",
       "      <td>0.14710</td>\n",
       "      <td>...</td>\n",
       "      <td>184.60</td>\n",
       "      <td>2019.0</td>\n",
       "      <td>0.1622</td>\n",
       "      <td>0.6656</td>\n",
       "      <td>0.7119</td>\n",
       "      <td>0.2654</td>\n",
       "      <td>0.4601</td>\n",
       "      <td>0.11890</td>\n",
       "      <td>NaN</td>\n",
       "      <td>1</td>\n",
       "    </tr>\n",
       "    <tr>\n",
       "      <th>1</th>\n",
       "      <td>842517</td>\n",
       "      <td>M</td>\n",
       "      <td>20.57</td>\n",
       "      <td>17.77</td>\n",
       "      <td>132.90</td>\n",
       "      <td>1326.0</td>\n",
       "      <td>0.08474</td>\n",
       "      <td>0.07864</td>\n",
       "      <td>0.0869</td>\n",
       "      <td>0.07017</td>\n",
       "      <td>...</td>\n",
       "      <td>158.80</td>\n",
       "      <td>1956.0</td>\n",
       "      <td>0.1238</td>\n",
       "      <td>0.1866</td>\n",
       "      <td>0.2416</td>\n",
       "      <td>0.1860</td>\n",
       "      <td>0.2750</td>\n",
       "      <td>0.08902</td>\n",
       "      <td>NaN</td>\n",
       "      <td>1</td>\n",
       "    </tr>\n",
       "    <tr>\n",
       "      <th>2</th>\n",
       "      <td>84300903</td>\n",
       "      <td>M</td>\n",
       "      <td>19.69</td>\n",
       "      <td>21.25</td>\n",
       "      <td>130.00</td>\n",
       "      <td>1203.0</td>\n",
       "      <td>0.10960</td>\n",
       "      <td>0.15990</td>\n",
       "      <td>0.1974</td>\n",
       "      <td>0.12790</td>\n",
       "      <td>...</td>\n",
       "      <td>152.50</td>\n",
       "      <td>1709.0</td>\n",
       "      <td>0.1444</td>\n",
       "      <td>0.4245</td>\n",
       "      <td>0.4504</td>\n",
       "      <td>0.2430</td>\n",
       "      <td>0.3613</td>\n",
       "      <td>0.08758</td>\n",
       "      <td>NaN</td>\n",
       "      <td>1</td>\n",
       "    </tr>\n",
       "    <tr>\n",
       "      <th>3</th>\n",
       "      <td>84348301</td>\n",
       "      <td>M</td>\n",
       "      <td>11.42</td>\n",
       "      <td>20.38</td>\n",
       "      <td>77.58</td>\n",
       "      <td>386.1</td>\n",
       "      <td>0.14250</td>\n",
       "      <td>0.28390</td>\n",
       "      <td>0.2414</td>\n",
       "      <td>0.10520</td>\n",
       "      <td>...</td>\n",
       "      <td>98.87</td>\n",
       "      <td>567.7</td>\n",
       "      <td>0.2098</td>\n",
       "      <td>0.8663</td>\n",
       "      <td>0.6869</td>\n",
       "      <td>0.2575</td>\n",
       "      <td>0.6638</td>\n",
       "      <td>0.17300</td>\n",
       "      <td>NaN</td>\n",
       "      <td>1</td>\n",
       "    </tr>\n",
       "    <tr>\n",
       "      <th>4</th>\n",
       "      <td>84358402</td>\n",
       "      <td>M</td>\n",
       "      <td>20.29</td>\n",
       "      <td>14.34</td>\n",
       "      <td>135.10</td>\n",
       "      <td>1297.0</td>\n",
       "      <td>0.10030</td>\n",
       "      <td>0.13280</td>\n",
       "      <td>0.1980</td>\n",
       "      <td>0.10430</td>\n",
       "      <td>...</td>\n",
       "      <td>152.20</td>\n",
       "      <td>1575.0</td>\n",
       "      <td>0.1374</td>\n",
       "      <td>0.2050</td>\n",
       "      <td>0.4000</td>\n",
       "      <td>0.1625</td>\n",
       "      <td>0.2364</td>\n",
       "      <td>0.07678</td>\n",
       "      <td>NaN</td>\n",
       "      <td>1</td>\n",
       "    </tr>\n",
       "  </tbody>\n",
       "</table>\n",
       "<p>5 rows × 34 columns</p>\n",
       "</div>"
      ],
      "text/plain": [
       "         id diagnosis  radius_mean  texture_mean  perimeter_mean  area_mean  \\\n",
       "0    842302         M        17.99         10.38          122.80     1001.0   \n",
       "1    842517         M        20.57         17.77          132.90     1326.0   \n",
       "2  84300903         M        19.69         21.25          130.00     1203.0   \n",
       "3  84348301         M        11.42         20.38           77.58      386.1   \n",
       "4  84358402         M        20.29         14.34          135.10     1297.0   \n",
       "\n",
       "   smoothness_mean  compactness_mean  concavity_mean  concave points_mean  \\\n",
       "0          0.11840           0.27760          0.3001              0.14710   \n",
       "1          0.08474           0.07864          0.0869              0.07017   \n",
       "2          0.10960           0.15990          0.1974              0.12790   \n",
       "3          0.14250           0.28390          0.2414              0.10520   \n",
       "4          0.10030           0.13280          0.1980              0.10430   \n",
       "\n",
       "   ...  perimeter_worst  area_worst  smoothness_worst  compactness_worst  \\\n",
       "0  ...           184.60      2019.0            0.1622             0.6656   \n",
       "1  ...           158.80      1956.0            0.1238             0.1866   \n",
       "2  ...           152.50      1709.0            0.1444             0.4245   \n",
       "3  ...            98.87       567.7            0.2098             0.8663   \n",
       "4  ...           152.20      1575.0            0.1374             0.2050   \n",
       "\n",
       "   concavity_worst  concave points_worst  symmetry_worst  \\\n",
       "0           0.7119                0.2654          0.4601   \n",
       "1           0.2416                0.1860          0.2750   \n",
       "2           0.4504                0.2430          0.3613   \n",
       "3           0.6869                0.2575          0.6638   \n",
       "4           0.4000                0.1625          0.2364   \n",
       "\n",
       "   fractal_dimension_worst  Unnamed: 32  outcome  \n",
       "0                  0.11890          NaN        1  \n",
       "1                  0.08902          NaN        1  \n",
       "2                  0.08758          NaN        1  \n",
       "3                  0.17300          NaN        1  \n",
       "4                  0.07678          NaN        1  \n",
       "\n",
       "[5 rows x 34 columns]"
      ]
     },
     "execution_count": 13,
     "metadata": {
     },
     "output_type": "execute_result"
    }
   ],
   "source": [
    "breast_cancer[\"outcome\"] = dummies[\"M\"]\n",
    "breast_cancer.head()"
   ]
  },
  {
   "cell_type": "markdown",
   "metadata": {
    "collapsed": false,
    "id": "kXUk3fFs5VxV"
   },
   "source": [
    "**TODO:** Now that our outcome column is there, we need to remove the diagnosis column that had the bad data, right? Please do so below.\n"
   ]
  },
  {
   "cell_type": "code",
   "execution_count": 14,
   "metadata": {
    "collapsed": false,
    "id": "_e-rGtPu5VIL"
   },
   "outputs": [
   ],
   "source": [
    "#Drop the 'diagnosis' column from your dataframe. Remember to use inplace if you are changing the dataframe itself!\n",
    "breast_cancer.drop(['diagnosis'], axis = 1, inplace = True)"
   ]
  },
  {
   "cell_type": "code",
   "execution_count": 15,
   "metadata": {
    "collapsed": false
   },
   "outputs": [
    {
     "data": {
      "text/html": [
       "<div>\n",
       "<style scoped>\n",
       "    .dataframe tbody tr th:only-of-type {\n",
       "        vertical-align: middle;\n",
       "    }\n",
       "\n",
       "    .dataframe tbody tr th {\n",
       "        vertical-align: top;\n",
       "    }\n",
       "\n",
       "    .dataframe thead th {\n",
       "        text-align: right;\n",
       "    }\n",
       "</style>\n",
       "<table border=\"1\" class=\"dataframe\">\n",
       "  <thead>\n",
       "    <tr style=\"text-align: right;\">\n",
       "      <th></th>\n",
       "      <th>id</th>\n",
       "      <th>radius_mean</th>\n",
       "      <th>texture_mean</th>\n",
       "      <th>perimeter_mean</th>\n",
       "      <th>area_mean</th>\n",
       "      <th>smoothness_mean</th>\n",
       "      <th>compactness_mean</th>\n",
       "      <th>concavity_mean</th>\n",
       "      <th>concave points_mean</th>\n",
       "      <th>symmetry_mean</th>\n",
       "      <th>...</th>\n",
       "      <th>perimeter_worst</th>\n",
       "      <th>area_worst</th>\n",
       "      <th>smoothness_worst</th>\n",
       "      <th>compactness_worst</th>\n",
       "      <th>concavity_worst</th>\n",
       "      <th>concave points_worst</th>\n",
       "      <th>symmetry_worst</th>\n",
       "      <th>fractal_dimension_worst</th>\n",
       "      <th>Unnamed: 32</th>\n",
       "      <th>outcome</th>\n",
       "    </tr>\n",
       "  </thead>\n",
       "  <tbody>\n",
       "    <tr>\n",
       "      <th>0</th>\n",
       "      <td>842302</td>\n",
       "      <td>17.99</td>\n",
       "      <td>10.38</td>\n",
       "      <td>122.80</td>\n",
       "      <td>1001.0</td>\n",
       "      <td>0.11840</td>\n",
       "      <td>0.27760</td>\n",
       "      <td>0.3001</td>\n",
       "      <td>0.14710</td>\n",
       "      <td>0.2419</td>\n",
       "      <td>...</td>\n",
       "      <td>184.60</td>\n",
       "      <td>2019.0</td>\n",
       "      <td>0.1622</td>\n",
       "      <td>0.6656</td>\n",
       "      <td>0.7119</td>\n",
       "      <td>0.2654</td>\n",
       "      <td>0.4601</td>\n",
       "      <td>0.11890</td>\n",
       "      <td>NaN</td>\n",
       "      <td>1</td>\n",
       "    </tr>\n",
       "    <tr>\n",
       "      <th>1</th>\n",
       "      <td>842517</td>\n",
       "      <td>20.57</td>\n",
       "      <td>17.77</td>\n",
       "      <td>132.90</td>\n",
       "      <td>1326.0</td>\n",
       "      <td>0.08474</td>\n",
       "      <td>0.07864</td>\n",
       "      <td>0.0869</td>\n",
       "      <td>0.07017</td>\n",
       "      <td>0.1812</td>\n",
       "      <td>...</td>\n",
       "      <td>158.80</td>\n",
       "      <td>1956.0</td>\n",
       "      <td>0.1238</td>\n",
       "      <td>0.1866</td>\n",
       "      <td>0.2416</td>\n",
       "      <td>0.1860</td>\n",
       "      <td>0.2750</td>\n",
       "      <td>0.08902</td>\n",
       "      <td>NaN</td>\n",
       "      <td>1</td>\n",
       "    </tr>\n",
       "    <tr>\n",
       "      <th>2</th>\n",
       "      <td>84300903</td>\n",
       "      <td>19.69</td>\n",
       "      <td>21.25</td>\n",
       "      <td>130.00</td>\n",
       "      <td>1203.0</td>\n",
       "      <td>0.10960</td>\n",
       "      <td>0.15990</td>\n",
       "      <td>0.1974</td>\n",
       "      <td>0.12790</td>\n",
       "      <td>0.2069</td>\n",
       "      <td>...</td>\n",
       "      <td>152.50</td>\n",
       "      <td>1709.0</td>\n",
       "      <td>0.1444</td>\n",
       "      <td>0.4245</td>\n",
       "      <td>0.4504</td>\n",
       "      <td>0.2430</td>\n",
       "      <td>0.3613</td>\n",
       "      <td>0.08758</td>\n",
       "      <td>NaN</td>\n",
       "      <td>1</td>\n",
       "    </tr>\n",
       "    <tr>\n",
       "      <th>3</th>\n",
       "      <td>84348301</td>\n",
       "      <td>11.42</td>\n",
       "      <td>20.38</td>\n",
       "      <td>77.58</td>\n",
       "      <td>386.1</td>\n",
       "      <td>0.14250</td>\n",
       "      <td>0.28390</td>\n",
       "      <td>0.2414</td>\n",
       "      <td>0.10520</td>\n",
       "      <td>0.2597</td>\n",
       "      <td>...</td>\n",
       "      <td>98.87</td>\n",
       "      <td>567.7</td>\n",
       "      <td>0.2098</td>\n",
       "      <td>0.8663</td>\n",
       "      <td>0.6869</td>\n",
       "      <td>0.2575</td>\n",
       "      <td>0.6638</td>\n",
       "      <td>0.17300</td>\n",
       "      <td>NaN</td>\n",
       "      <td>1</td>\n",
       "    </tr>\n",
       "    <tr>\n",
       "      <th>4</th>\n",
       "      <td>84358402</td>\n",
       "      <td>20.29</td>\n",
       "      <td>14.34</td>\n",
       "      <td>135.10</td>\n",
       "      <td>1297.0</td>\n",
       "      <td>0.10030</td>\n",
       "      <td>0.13280</td>\n",
       "      <td>0.1980</td>\n",
       "      <td>0.10430</td>\n",
       "      <td>0.1809</td>\n",
       "      <td>...</td>\n",
       "      <td>152.20</td>\n",
       "      <td>1575.0</td>\n",
       "      <td>0.1374</td>\n",
       "      <td>0.2050</td>\n",
       "      <td>0.4000</td>\n",
       "      <td>0.1625</td>\n",
       "      <td>0.2364</td>\n",
       "      <td>0.07678</td>\n",
       "      <td>NaN</td>\n",
       "      <td>1</td>\n",
       "    </tr>\n",
       "  </tbody>\n",
       "</table>\n",
       "<p>5 rows × 33 columns</p>\n",
       "</div>"
      ],
      "text/plain": [
       "         id  radius_mean  texture_mean  perimeter_mean  area_mean  \\\n",
       "0    842302        17.99         10.38          122.80     1001.0   \n",
       "1    842517        20.57         17.77          132.90     1326.0   \n",
       "2  84300903        19.69         21.25          130.00     1203.0   \n",
       "3  84348301        11.42         20.38           77.58      386.1   \n",
       "4  84358402        20.29         14.34          135.10     1297.0   \n",
       "\n",
       "   smoothness_mean  compactness_mean  concavity_mean  concave points_mean  \\\n",
       "0          0.11840           0.27760          0.3001              0.14710   \n",
       "1          0.08474           0.07864          0.0869              0.07017   \n",
       "2          0.10960           0.15990          0.1974              0.12790   \n",
       "3          0.14250           0.28390          0.2414              0.10520   \n",
       "4          0.10030           0.13280          0.1980              0.10430   \n",
       "\n",
       "   symmetry_mean  ...  perimeter_worst  area_worst  smoothness_worst  \\\n",
       "0         0.2419  ...           184.60      2019.0            0.1622   \n",
       "1         0.1812  ...           158.80      1956.0            0.1238   \n",
       "2         0.2069  ...           152.50      1709.0            0.1444   \n",
       "3         0.2597  ...            98.87       567.7            0.2098   \n",
       "4         0.1809  ...           152.20      1575.0            0.1374   \n",
       "\n",
       "   compactness_worst  concavity_worst  concave points_worst  symmetry_worst  \\\n",
       "0             0.6656           0.7119                0.2654          0.4601   \n",
       "1             0.1866           0.2416                0.1860          0.2750   \n",
       "2             0.4245           0.4504                0.2430          0.3613   \n",
       "3             0.8663           0.6869                0.2575          0.6638   \n",
       "4             0.2050           0.4000                0.1625          0.2364   \n",
       "\n",
       "   fractal_dimension_worst  Unnamed: 32  outcome  \n",
       "0                  0.11890          NaN        1  \n",
       "1                  0.08902          NaN        1  \n",
       "2                  0.08758          NaN        1  \n",
       "3                  0.17300          NaN        1  \n",
       "4                  0.07678          NaN        1  \n",
       "\n",
       "[5 rows x 33 columns]"
      ]
     },
     "execution_count": 15,
     "metadata": {
     },
     "output_type": "execute_result"
    }
   ],
   "source": [
    "breast_cancer.head()"
   ]
  },
  {
   "cell_type": "markdown",
   "metadata": {
    "collapsed": false,
    "id": "jhMq9yAj3x78"
   },
   "source": [
    "### Visualize our data\n",
    "Now that we've cleaned our data and it is all ready for our model, we should understand some of the relationships. Use your learnings from last week to create two plots -- you can always start with simple [scatter plots](https://plotly.com/python/line-and-scatter/) or maybe a [scatterplot matrix](https://plotly.com/python/splom/). Get creative!"
   ]
  },
  {
   "cell_type": "code",
   "execution_count": 16,
   "metadata": {
    "collapsed": false,
    "id": "QtEadcGS3sP3"
   },
   "outputs": [
   ],
   "source": [
    "import plotly.express as px\n",
    "import numpy\n",
    "import matplotlib.pyplot as plt\n",
    "import seaborn as sns"
   ]
  },
  {
   "cell_type": "code",
   "execution_count": 17,
   "metadata": {
    "collapsed": false
   },
   "outputs": [
    {
     "data": {
      "text/plain": [
       "<bound method DataFrame.info of            id  radius_mean  texture_mean  perimeter_mean  area_mean  \\\n",
       "0      842302        17.99         10.38          122.80     1001.0   \n",
       "1      842517        20.57         17.77          132.90     1326.0   \n",
       "2    84300903        19.69         21.25          130.00     1203.0   \n",
       "3    84348301        11.42         20.38           77.58      386.1   \n",
       "4    84358402        20.29         14.34          135.10     1297.0   \n",
       "..        ...          ...           ...             ...        ...   \n",
       "564    926424        21.56         22.39          142.00     1479.0   \n",
       "565    926682        20.13         28.25          131.20     1261.0   \n",
       "566    926954        16.60         28.08          108.30      858.1   \n",
       "567    927241        20.60         29.33          140.10     1265.0   \n",
       "568     92751         7.76         24.54           47.92      181.0   \n",
       "\n",
       "     smoothness_mean  compactness_mean  concavity_mean  concave points_mean  \\\n",
       "0            0.11840           0.27760         0.30010              0.14710   \n",
       "1            0.08474           0.07864         0.08690              0.07017   \n",
       "2            0.10960           0.15990         0.19740              0.12790   \n",
       "3            0.14250           0.28390         0.24140              0.10520   \n",
       "4            0.10030           0.13280         0.19800              0.10430   \n",
       "..               ...               ...             ...                  ...   \n",
       "564          0.11100           0.11590         0.24390              0.13890   \n",
       "565          0.09780           0.10340         0.14400              0.09791   \n",
       "566          0.08455           0.10230         0.09251              0.05302   \n",
       "567          0.11780           0.27700         0.35140              0.15200   \n",
       "568          0.05263           0.04362         0.00000              0.00000   \n",
       "\n",
       "     symmetry_mean  ...  perimeter_worst  area_worst  smoothness_worst  \\\n",
       "0           0.2419  ...           184.60      2019.0           0.16220   \n",
       "1           0.1812  ...           158.80      1956.0           0.12380   \n",
       "2           0.2069  ...           152.50      1709.0           0.14440   \n",
       "3           0.2597  ...            98.87       567.7           0.20980   \n",
       "4           0.1809  ...           152.20      1575.0           0.13740   \n",
       "..             ...  ...              ...         ...               ...   \n",
       "564         0.1726  ...           166.10      2027.0           0.14100   \n",
       "565         0.1752  ...           155.00      1731.0           0.11660   \n",
       "566         0.1590  ...           126.70      1124.0           0.11390   \n",
       "567         0.2397  ...           184.60      1821.0           0.16500   \n",
       "568         0.1587  ...            59.16       268.6           0.08996   \n",
       "\n",
       "     compactness_worst  concavity_worst  concave points_worst  symmetry_worst  \\\n",
       "0              0.66560           0.7119                0.2654          0.4601   \n",
       "1              0.18660           0.2416                0.1860          0.2750   \n",
       "2              0.42450           0.4504                0.2430          0.3613   \n",
       "3              0.86630           0.6869                0.2575          0.6638   \n",
       "4              0.20500           0.4000                0.1625          0.2364   \n",
       "..                 ...              ...                   ...             ...   \n",
       "564            0.21130           0.4107                0.2216          0.2060   \n",
       "565            0.19220           0.3215                0.1628          0.2572   \n",
       "566            0.30940           0.3403                0.1418          0.2218   \n",
       "567            0.86810           0.9387                0.2650          0.4087   \n",
       "568            0.06444           0.0000                0.0000          0.2871   \n",
       "\n",
       "     fractal_dimension_worst  Unnamed: 32  outcome  \n",
       "0                    0.11890          NaN        1  \n",
       "1                    0.08902          NaN        1  \n",
       "2                    0.08758          NaN        1  \n",
       "3                    0.17300          NaN        1  \n",
       "4                    0.07678          NaN        1  \n",
       "..                       ...          ...      ...  \n",
       "564                  0.07115          NaN        1  \n",
       "565                  0.06637          NaN        1  \n",
       "566                  0.07820          NaN        1  \n",
       "567                  0.12400          NaN        1  \n",
       "568                  0.07039          NaN        0  \n",
       "\n",
       "[569 rows x 33 columns]>"
      ]
     },
     "execution_count": 17,
     "metadata": {
     },
     "output_type": "execute_result"
    }
   ],
   "source": [
    "breast_cancer.info"
   ]
  },
  {
   "cell_type": "code",
   "execution_count": 18,
   "metadata": {
    "collapsed": false,
    "id": "oQXBTNye681E"
   },
   "outputs": [
    {
     "data": {
      "text/html": "<html>\n<head><meta charset=\"utf-8\" /></head>\n<body>\n    <div>            <script src=\"https://cdnjs.cloudflare.com/ajax/libs/mathjax/2.7.5/MathJax.js?config=TeX-AMS-MML_SVG\"></script><script type=\"text/javascript\">if (window.MathJax) {MathJax.Hub.Config({SVG: {font: \"STIX-Web\"}});}</script>                <script type=\"text/javascript\">window.PlotlyConfig = {MathJaxConfig: 'local'};</script>\n        <script src=\"https://cdn.plot.ly/plotly-2.9.0.min.js\"></script>                <div id=\"84be9071-2a0f-4115-b167-91ef7ac5a27e\" class=\"plotly-graph-div\" style=\"height:525px; width:100%;\"></div>            <script type=\"text/javascript\">                                    window.PLOTLYENV=window.PLOTLYENV || {};                                    if (document.getElementById(\"84be9071-2a0f-4115-b167-91ef7ac5a27e\")) {                    Plotly.newPlot(                        \"84be9071-2a0f-4115-b167-91ef7ac5a27e\",                        [{\"hovertemplate\":\"perimeter_mean=%{x}<br>texture_mean=%{y}<br>area_mean=%{z}<br>radius_mean=%{marker.color}<extra></extra>\",\"legendgroup\":\"122.8\",\"marker\":{\"color\":[17.99],\"coloraxis\":\"coloraxis\",\"symbol\":\"circle\"},\"mode\":\"markers\",\"name\":\"122.8\",\"scene\":\"scene\",\"showlegend\":true,\"x\":[122.8],\"y\":[10.38],\"z\":[1001.0],\"type\":\"scatter3d\"},{\"hovertemplate\":\"perimeter_mean=%{x}<br>texture_mean=%{y}<br>area_mean=%{z}<br>radius_mean=%{marker.color}<extra></extra>\",\"legendgroup\":\"132.9\",\"marker\":{\"color\":[20.57,20.31],\"coloraxis\":\"coloraxis\",\"symbol\":\"diamond\"},\"mode\":\"markers\",\"name\":\"132.9\",\"scene\":\"scene\",\"showlegend\":true,\"x\":[132.9,132.9],\"y\":[17.77,27.06],\"z\":[1326.0,1288.0],\"type\":\"scatter3d\"},{\"hovertemplate\":\"perimeter_mean=%{x}<br>texture_mean=%{y}<br>area_mean=%{z}<br>radius_mean=%{marker.color}<extra></extra>\",\"legendgroup\":\"130.0\",\"marker\":{\"color\":[19.69,19.81],\"coloraxis\":\"coloraxis\",\"symbol\":\"square\"},\"mode\":\"markers\",\"name\":\"130.0\",\"scene\":\"scene\",\"showlegend\":true,\"x\":[130.0,130.0],\"y\":[21.25,22.15],\"z\":[1203.0,1260.0],\"type\":\"scatter3d\"},{\"hovertemplate\":\"perimeter_mean=%{x}<br>texture_mean=%{y}<br>area_mean=%{z}<br>radius_mean=%{marker.color}<extra></extra>\",\"legendgroup\":\"77.58\",\"marker\":{\"color\":[11.42],\"coloraxis\":\"coloraxis\",\"symbol\":\"x\"},\"mode\":\"markers\",\"name\":\"77.58\",\"scene\":\"scene\",\"showlegend\":true,\"x\":[77.58],\"y\":[20.38],\"z\":[386.1],\"type\":\"scatter3d\"},{\"hovertemplate\":\"perimeter_mean=%{x}<br>texture_mean=%{y}<br>area_mean=%{z}<br>radius_mean=%{marker.color}<extra></extra>\",\"legendgroup\":\"135.1\",\"marker\":{\"color\":[20.29],\"coloraxis\":\"coloraxis\",\"symbol\":\"cross\"},\"mode\":\"markers\",\"name\":\"135.1\",\"scene\":\"scene\",\"showlegend\":true,\"x\":[135.1],\"y\":[14.34],\"z\":[1297.0],\"type\":\"scatter3d\"},{\"hovertemplate\":\"perimeter_mean=%{x}<br>texture_mean=%{y}<br>area_mean=%{z}<br>radius_mean=%{marker.color}<extra></extra>\",\"legendgroup\":\"82.57\",\"marker\":{\"color\":[12.45],\"coloraxis\":\"coloraxis\",\"symbol\":\"circle\"},\"mode\":\"markers\",\"name\":\"82.57\",\"scene\":\"scene\",\"showlegend\":true,\"x\":[82.57],\"y\":[15.7],\"z\":[477.1],\"type\":\"scatter3d\"},{\"hovertemplate\":\"perimeter_mean=%{x}<br>texture_mean=%{y}<br>area_mean=%{z}<br>radius_mean=%{marker.color}<extra></extra>\",\"legendgroup\":\"119.6\",\"marker\":{\"color\":[18.25],\"coloraxis\":\"coloraxis\",\"symbol\":\"diamond\"},\"mode\":\"markers\",\"name\":\"119.6\",\"scene\":\"scene\",\"showlegend\":true,\"x\":[119.6],\"y\":[19.98],\"z\":[1040.0],\"type\":\"scatter3d\"},{\"hovertemplate\":\"perimeter_mean=%{x}<br>texture_mean=%{y}<br>area_mean=%{z}<br>radius_mean=%{marker.color}<extra></extra>\",\"legendgroup\":\"90.2\",\"marker\":{\"color\":[13.71],\"coloraxis\":\"coloraxis\",\"symbol\":\"square\"},\"mode\":\"markers\",\"name\":\"90.2\",\"scene\":\"scene\",\"showlegend\":true,\"x\":[90.2],\"y\":[20.83],\"z\":[577.9],\"type\":\"scatter3d\"},{\"hovertemplate\":\"perimeter_mean=%{x}<br>texture_mean=%{y}<br>area_mean=%{z}<br>radius_mean=%{marker.color}<extra></extra>\",\"legendgroup\":\"87.5\",\"marker\":{\"color\":[13.0],\"coloraxis\":\"coloraxis\",\"symbol\":\"x\"},\"mode\":\"markers\",\"name\":\"87.5\",\"scene\":\"scene\",\"showlegend\":true,\"x\":[87.5],\"y\":[21.82],\"z\":[519.8],\"type\":\"scatter3d\"},{\"hovertemplate\":\"perimeter_mean=%{x}<br>texture_mean=%{y}<br>area_mean=%{z}<br>radius_mean=%{marker.color}<extra></extra>\",\"legendgroup\":\"83.97\",\"marker\":{\"color\":[12.46],\"coloraxis\":\"coloraxis\",\"symbol\":\"cross\"},\"mode\":\"markers\",\"name\":\"83.97\",\"scene\":\"scene\",\"showlegend\":true,\"x\":[83.97],\"y\":[24.04],\"z\":[475.9],\"type\":\"scatter3d\"},{\"hovertemplate\":\"perimeter_mean=%{x}<br>texture_mean=%{y}<br>area_mean=%{z}<br>radius_mean=%{marker.color}<extra></extra>\",\"legendgroup\":\"102.7\",\"marker\":{\"color\":[16.02],\"coloraxis\":\"coloraxis\",\"symbol\":\"circle\"},\"mode\":\"markers\",\"name\":\"102.7\",\"scene\":\"scene\",\"showlegend\":true,\"x\":[102.7],\"y\":[23.24],\"z\":[797.8],\"type\":\"scatter3d\"},{\"hovertemplate\":\"perimeter_mean=%{x}<br>texture_mean=%{y}<br>area_mean=%{z}<br>radius_mean=%{marker.color}<extra></extra>\",\"legendgroup\":\"103.6\",\"marker\":{\"color\":[15.78],\"coloraxis\":\"coloraxis\",\"symbol\":\"diamond\"},\"mode\":\"markers\",\"name\":\"103.6\",\"scene\":\"scene\",\"showlegend\":true,\"x\":[103.6],\"y\":[17.89],\"z\":[781.0],\"type\":\"scatter3d\"},{\"hovertemplate\":\"perimeter_mean=%{x}<br>texture_mean=%{y}<br>area_mean=%{z}<br>radius_mean=%{marker.color}<extra></extra>\",\"legendgroup\":\"132.4\",\"marker\":{\"color\":[19.17,20.26],\"coloraxis\":\"coloraxis\",\"symbol\":\"square\"},\"mode\":\"markers\",\"name\":\"132.4\",\"scene\":\"scene\",\"showlegend\":true,\"x\":[132.4,132.4],\"y\":[24.8,23.03],\"z\":[1123.0,1264.0],\"type\":\"scatter3d\"},{\"hovertemplate\":\"perimeter_mean=%{x}<br>texture_mean=%{y}<br>area_mean=%{z}<br>radius_mean=%{marker.color}<extra></extra>\",\"legendgroup\":\"103.7\",\"marker\":{\"color\":[15.85,15.53],\"coloraxis\":\"coloraxis\",\"symbol\":\"x\"},\"mode\":\"markers\",\"name\":\"103.7\",\"scene\":\"scene\",\"showlegend\":true,\"x\":[103.7,103.7],\"y\":[23.95,33.56],\"z\":[782.7,744.9],\"type\":\"scatter3d\"},{\"hovertemplate\":\"perimeter_mean=%{x}<br>texture_mean=%{y}<br>area_mean=%{z}<br>radius_mean=%{marker.color}<extra></extra>\",\"legendgroup\":\"93.6\",\"marker\":{\"color\":[13.73],\"coloraxis\":\"coloraxis\",\"symbol\":\"cross\"},\"mode\":\"markers\",\"name\":\"93.6\",\"scene\":\"scene\",\"showlegend\":true,\"x\":[93.6],\"y\":[22.61],\"z\":[578.3],\"type\":\"scatter3d\"},{\"hovertemplate\":\"perimeter_mean=%{x}<br>texture_mean=%{y}<br>area_mean=%{z}<br>radius_mean=%{marker.color}<extra></extra>\",\"legendgroup\":\"96.73\",\"marker\":{\"color\":[14.54],\"coloraxis\":\"coloraxis\",\"symbol\":\"circle\"},\"mode\":\"markers\",\"name\":\"96.73\",\"scene\":\"scene\",\"showlegend\":true,\"x\":[96.73],\"y\":[27.54],\"z\":[658.8],\"type\":\"scatter3d\"},{\"hovertemplate\":\"perimeter_mean=%{x}<br>texture_mean=%{y}<br>area_mean=%{z}<br>radius_mean=%{marker.color}<extra></extra>\",\"legendgroup\":\"94.74\",\"marker\":{\"color\":[14.68],\"coloraxis\":\"coloraxis\",\"symbol\":\"diamond\"},\"mode\":\"markers\",\"name\":\"94.74\",\"scene\":\"scene\",\"showlegend\":true,\"x\":[94.74],\"y\":[20.13],\"z\":[684.5],\"type\":\"scatter3d\"},{\"hovertemplate\":\"perimeter_mean=%{x}<br>texture_mean=%{y}<br>area_mean=%{z}<br>radius_mean=%{marker.color}<extra></extra>\",\"legendgroup\":\"108.1\",\"marker\":{\"color\":[16.13],\"coloraxis\":\"coloraxis\",\"symbol\":\"square\"},\"mode\":\"markers\",\"name\":\"108.1\",\"scene\":\"scene\",\"showlegend\":true,\"x\":[108.1],\"y\":[20.68],\"z\":[798.8],\"type\":\"scatter3d\"},{\"hovertemplate\":\"perimeter_mean=%{x}<br>texture_mean=%{y}<br>area_mean=%{z}<br>radius_mean=%{marker.color}<extra></extra>\",\"legendgroup\":\"87.46\",\"marker\":{\"color\":[13.54],\"coloraxis\":\"coloraxis\",\"symbol\":\"x\"},\"mode\":\"markers\",\"name\":\"87.46\",\"scene\":\"scene\",\"showlegend\":true,\"x\":[87.46],\"y\":[14.36],\"z\":[566.3],\"type\":\"scatter3d\"},{\"hovertemplate\":\"perimeter_mean=%{x}<br>texture_mean=%{y}<br>area_mean=%{z}<br>radius_mean=%{marker.color}<extra></extra>\",\"legendgroup\":\"85.63\",\"marker\":{\"color\":[13.08],\"coloraxis\":\"coloraxis\",\"symbol\":\"cross\"},\"mode\":\"markers\",\"name\":\"85.63\",\"scene\":\"scene\",\"showlegend\":true,\"x\":[85.63],\"y\":[15.71],\"z\":[520.0],\"type\":\"scatter3d\"},{\"hovertemplate\":\"perimeter_mean=%{x}<br>texture_mean=%{y}<br>area_mean=%{z}<br>radius_mean=%{marker.color}<extra></extra>\",\"legendgroup\":\"60.34\",\"marker\":{\"color\":[9.504],\"coloraxis\":\"coloraxis\",\"symbol\":\"circle\"},\"mode\":\"markers\",\"name\":\"60.34\",\"scene\":\"scene\",\"showlegend\":true,\"x\":[60.34],\"y\":[12.44],\"z\":[273.9],\"type\":\"scatter3d\"},{\"hovertemplate\":\"perimeter_mean=%{x}<br>texture_mean=%{y}<br>area_mean=%{z}<br>radius_mean=%{marker.color}<extra></extra>\",\"legendgroup\":\"102.5\",\"marker\":{\"color\":[15.34,15.46],\"coloraxis\":\"coloraxis\",\"symbol\":\"diamond\"},\"mode\":\"markers\",\"name\":\"102.5\",\"scene\":\"scene\",\"showlegend\":true,\"x\":[102.5,102.5],\"y\":[14.26,11.89],\"z\":[704.4,736.9],\"type\":\"scatter3d\"},{\"hovertemplate\":\"perimeter_mean=%{x}<br>texture_mean=%{y}<br>area_mean=%{z}<br>radius_mean=%{marker.color}<extra></extra>\",\"legendgroup\":\"137.2\",\"marker\":{\"color\":[21.16],\"coloraxis\":\"coloraxis\",\"symbol\":\"square\"},\"mode\":\"markers\",\"name\":\"137.2\",\"scene\":\"scene\",\"showlegend\":true,\"x\":[137.2],\"y\":[23.04],\"z\":[1404.0],\"type\":\"scatter3d\"},{\"hovertemplate\":\"perimeter_mean=%{x}<br>texture_mean=%{y}<br>area_mean=%{z}<br>radius_mean=%{marker.color}<extra></extra>\",\"legendgroup\":\"110.0\",\"marker\":{\"color\":[16.65],\"coloraxis\":\"coloraxis\",\"symbol\":\"x\"},\"mode\":\"markers\",\"name\":\"110.0\",\"scene\":\"scene\",\"showlegend\":true,\"x\":[110.0],\"y\":[21.38],\"z\":[904.6],\"type\":\"scatter3d\"},{\"hovertemplate\":\"perimeter_mean=%{x}<br>texture_mean=%{y}<br>area_mean=%{z}<br>radius_mean=%{marker.color}<extra></extra>\",\"legendgroup\":\"116.0\",\"marker\":{\"color\":[17.14],\"coloraxis\":\"coloraxis\",\"symbol\":\"cross\"},\"mode\":\"markers\",\"name\":\"116.0\",\"scene\":\"scene\",\"showlegend\":true,\"x\":[116.0],\"y\":[16.4],\"z\":[912.7],\"type\":\"scatter3d\"},{\"hovertemplate\":\"perimeter_mean=%{x}<br>texture_mean=%{y}<br>area_mean=%{z}<br>radius_mean=%{marker.color}<extra></extra>\",\"legendgroup\":\"97.41\",\"marker\":{\"color\":[14.58],\"coloraxis\":\"coloraxis\",\"symbol\":\"circle\"},\"mode\":\"markers\",\"name\":\"97.41\",\"scene\":\"scene\",\"showlegend\":true,\"x\":[97.41],\"y\":[21.53],\"z\":[644.8],\"type\":\"scatter3d\"},{\"hovertemplate\":\"perimeter_mean=%{x}<br>texture_mean=%{y}<br>area_mean=%{z}<br>radius_mean=%{marker.color}<extra></extra>\",\"legendgroup\":\"122.1\",\"marker\":{\"color\":[18.61],\"coloraxis\":\"coloraxis\",\"symbol\":\"diamond\"},\"mode\":\"markers\",\"name\":\"122.1\",\"scene\":\"scene\",\"showlegend\":true,\"x\":[122.1],\"y\":[20.25],\"z\":[1094.0],\"type\":\"scatter3d\"},{\"hovertemplate\":\"perimeter_mean=%{x}<br>texture_mean=%{y}<br>area_mean=%{z}<br>radius_mean=%{marker.color}<extra></extra>\",\"legendgroup\":\"102.4\",\"marker\":{\"color\":[15.3,15.49],\"coloraxis\":\"coloraxis\",\"symbol\":\"square\"},\"mode\":\"markers\",\"name\":\"102.4\",\"scene\":\"scene\",\"showlegend\":true,\"x\":[102.4,102.4],\"y\":[25.27,19.97],\"z\":[732.4,744.7],\"type\":\"scatter3d\"},{\"hovertemplate\":\"perimeter_mean=%{x}<br>texture_mean=%{y}<br>area_mean=%{z}<br>radius_mean=%{marker.color}<extra></extra>\",\"legendgroup\":\"115.0\",\"marker\":{\"color\":[17.57],\"coloraxis\":\"coloraxis\",\"symbol\":\"x\"},\"mode\":\"markers\",\"name\":\"115.0\",\"scene\":\"scene\",\"showlegend\":true,\"x\":[115.0],\"y\":[15.05],\"z\":[955.1],\"type\":\"scatter3d\"},{\"hovertemplate\":\"perimeter_mean=%{x}<br>texture_mean=%{y}<br>area_mean=%{z}<br>radius_mean=%{marker.color}<extra></extra>\",\"legendgroup\":\"124.8\",\"marker\":{\"color\":[18.63],\"coloraxis\":\"coloraxis\",\"symbol\":\"cross\"},\"mode\":\"markers\",\"name\":\"124.8\",\"scene\":\"scene\",\"showlegend\":true,\"x\":[124.8],\"y\":[25.11],\"z\":[1088.0],\"type\":\"scatter3d\"},{\"hovertemplate\":\"perimeter_mean=%{x}<br>texture_mean=%{y}<br>area_mean=%{z}<br>radius_mean=%{marker.color}<extra></extra>\",\"legendgroup\":\"77.93\",\"marker\":{\"color\":[11.84],\"coloraxis\":\"coloraxis\",\"symbol\":\"circle\"},\"mode\":\"markers\",\"name\":\"77.93\",\"scene\":\"scene\",\"showlegend\":true,\"x\":[77.93],\"y\":[18.7],\"z\":[440.6],\"type\":\"scatter3d\"},{\"hovertemplate\":\"perimeter_mean=%{x}<br>texture_mean=%{y}<br>area_mean=%{z}<br>radius_mean=%{marker.color}<extra></extra>\",\"legendgroup\":\"112.8\",\"marker\":{\"color\":[17.02],\"coloraxis\":\"coloraxis\",\"symbol\":\"diamond\"},\"mode\":\"markers\",\"name\":\"112.8\",\"scene\":\"scene\",\"showlegend\":true,\"x\":[112.8],\"y\":[23.98],\"z\":[899.3],\"type\":\"scatter3d\"},{\"hovertemplate\":\"perimeter_mean=%{x}<br>texture_mean=%{y}<br>area_mean=%{z}<br>radius_mean=%{marker.color}<extra></extra>\",\"legendgroup\":\"127.9\",\"marker\":{\"color\":[19.27],\"coloraxis\":\"coloraxis\",\"symbol\":\"square\"},\"mode\":\"markers\",\"name\":\"127.9\",\"scene\":\"scene\",\"showlegend\":true,\"x\":[127.9],\"y\":[26.47],\"z\":[1162.0],\"type\":\"scatter3d\"},{\"hovertemplate\":\"perimeter_mean=%{x}<br>texture_mean=%{y}<br>area_mean=%{z}<br>radius_mean=%{marker.color}<extra></extra>\",\"legendgroup\":\"107.0\",\"marker\":{\"color\":[16.13],\"coloraxis\":\"coloraxis\",\"symbol\":\"x\"},\"mode\":\"markers\",\"name\":\"107.0\",\"scene\":\"scene\",\"showlegend\":true,\"x\":[107.0],\"y\":[17.88],\"z\":[807.2],\"type\":\"scatter3d\"},{\"hovertemplate\":\"perimeter_mean=%{x}<br>texture_mean=%{y}<br>area_mean=%{z}<br>radius_mean=%{marker.color}<extra></extra>\",\"legendgroup\":\"110.1\",\"marker\":{\"color\":[16.74],\"coloraxis\":\"coloraxis\",\"symbol\":\"cross\"},\"mode\":\"markers\",\"name\":\"110.1\",\"scene\":\"scene\",\"showlegend\":true,\"x\":[110.1],\"y\":[21.59],\"z\":[869.5],\"type\":\"scatter3d\"},{\"hovertemplate\":\"perimeter_mean=%{x}<br>texture_mean=%{y}<br>area_mean=%{z}<br>radius_mean=%{marker.color}<extra></extra>\",\"legendgroup\":\"93.63\",\"marker\":{\"color\":[14.25],\"coloraxis\":\"coloraxis\",\"symbol\":\"circle\"},\"mode\":\"markers\",\"name\":\"93.63\",\"scene\":\"scene\",\"showlegend\":true,\"x\":[93.63],\"y\":[21.72],\"z\":[633.0],\"type\":\"scatter3d\"},{\"hovertemplate\":\"perimeter_mean=%{x}<br>texture_mean=%{y}<br>area_mean=%{z}<br>radius_mean=%{marker.color}<extra></extra>\",\"legendgroup\":\"82.61\",\"marker\":{\"color\":[13.03,13.05,13.0],\"coloraxis\":\"coloraxis\",\"symbol\":\"diamond\"},\"mode\":\"markers\",\"name\":\"82.61\",\"scene\":\"scene\",\"showlegend\":true,\"x\":[82.61,82.61,82.61],\"y\":[18.42,19.31,25.13],\"z\":[523.8,527.2,520.2],\"type\":\"scatter3d\"},{\"hovertemplate\":\"perimeter_mean=%{x}<br>texture_mean=%{y}<br>area_mean=%{z}<br>radius_mean=%{marker.color}<extra></extra>\",\"legendgroup\":\"95.54\",\"marker\":{\"color\":[14.99],\"coloraxis\":\"coloraxis\",\"symbol\":\"square\"},\"mode\":\"markers\",\"name\":\"95.54\",\"scene\":\"scene\",\"showlegend\":true,\"x\":[95.54],\"y\":[25.2],\"z\":[698.8],\"type\":\"scatter3d\"},{\"hovertemplate\":\"perimeter_mean=%{x}<br>texture_mean=%{y}<br>area_mean=%{z}<br>radius_mean=%{marker.color}<extra></extra>\",\"legendgroup\":\"88.4\",\"marker\":{\"color\":[13.48],\"coloraxis\":\"coloraxis\",\"symbol\":\"x\"},\"mode\":\"markers\",\"name\":\"88.4\",\"scene\":\"scene\",\"showlegend\":true,\"x\":[88.4],\"y\":[20.82],\"z\":[559.2],\"type\":\"scatter3d\"},{\"hovertemplate\":\"perimeter_mean=%{x}<br>texture_mean=%{y}<br>area_mean=%{z}<br>radius_mean=%{marker.color}<extra></extra>\",\"legendgroup\":\"86.18\",\"marker\":{\"color\":[13.44],\"coloraxis\":\"coloraxis\",\"symbol\":\"cross\"},\"mode\":\"markers\",\"name\":\"86.18\",\"scene\":\"scene\",\"showlegend\":true,\"x\":[86.18],\"y\":[21.58],\"z\":[563.0],\"type\":\"scatter3d\"},{\"hovertemplate\":\"perimeter_mean=%{x}<br>texture_mean=%{y}<br>area_mean=%{z}<br>radius_mean=%{marker.color}<extra></extra>\",\"legendgroup\":\"71.9\",\"marker\":{\"color\":[10.95],\"coloraxis\":\"coloraxis\",\"symbol\":\"circle\"},\"mode\":\"markers\",\"name\":\"71.9\",\"scene\":\"scene\",\"showlegend\":true,\"x\":[71.9],\"y\":[21.35],\"z\":[371.1],\"type\":\"scatter3d\"},{\"hovertemplate\":\"perimeter_mean=%{x}<br>texture_mean=%{y}<br>area_mean=%{z}<br>radius_mean=%{marker.color}<extra></extra>\",\"legendgroup\":\"128.3\",\"marker\":{\"color\":[19.07],\"coloraxis\":\"coloraxis\",\"symbol\":\"diamond\"},\"mode\":\"markers\",\"name\":\"128.3\",\"scene\":\"scene\",\"showlegend\":true,\"x\":[128.3],\"y\":[24.81],\"z\":[1104.0],\"type\":\"scatter3d\"},{\"hovertemplate\":\"perimeter_mean=%{x}<br>texture_mean=%{y}<br>area_mean=%{z}<br>radius_mean=%{marker.color}<extra></extra>\",\"legendgroup\":\"87.32\",\"marker\":{\"color\":[13.28,13.47],\"coloraxis\":\"coloraxis\",\"symbol\":\"square\"},\"mode\":\"markers\",\"name\":\"87.32\",\"scene\":\"scene\",\"showlegend\":true,\"x\":[87.32,87.32],\"y\":[20.28,14.06],\"z\":[545.2,546.3],\"type\":\"scatter3d\"},{\"hovertemplate\":\"perimeter_mean=%{x}<br>texture_mean=%{y}<br>area_mean=%{z}<br>radius_mean=%{marker.color}<extra></extra>\",\"legendgroup\":\"85.42\",\"marker\":{\"color\":[13.17],\"coloraxis\":\"coloraxis\",\"symbol\":\"x\"},\"mode\":\"markers\",\"name\":\"85.42\",\"scene\":\"scene\",\"showlegend\":true,\"x\":[85.42],\"y\":[21.81],\"z\":[531.5],\"type\":\"scatter3d\"},{\"hovertemplate\":\"perimeter_mean=%{x}<br>texture_mean=%{y}<br>area_mean=%{z}<br>radius_mean=%{marker.color}<extra></extra>\",\"legendgroup\":\"123.7\",\"marker\":{\"color\":[18.65,18.82],\"coloraxis\":\"coloraxis\",\"symbol\":\"cross\"},\"mode\":\"markers\",\"name\":\"123.7\",\"scene\":\"scene\",\"showlegend\":true,\"x\":[123.7,123.7],\"y\":[17.6,21.97],\"z\":[1076.0,1110.0],\"type\":\"scatter3d\"},{\"hovertemplate\":\"perimeter_mean=%{x}<br>texture_mean=%{y}<br>area_mean=%{z}<br>radius_mean=%{marker.color}<extra></extra>\",\"legendgroup\":\"51.71\",\"marker\":{\"color\":[8.196],\"coloraxis\":\"coloraxis\",\"symbol\":\"circle\"},\"mode\":\"markers\",\"name\":\"51.71\",\"scene\":\"scene\",\"showlegend\":true,\"x\":[51.71],\"y\":[16.84],\"z\":[201.9],\"type\":\"scatter3d\"},{\"hovertemplate\":\"perimeter_mean=%{x}<br>texture_mean=%{y}<br>area_mean=%{z}<br>radius_mean=%{marker.color}<extra></extra>\",\"legendgroup\":\"85.98\",\"marker\":{\"color\":[13.17,13.14],\"coloraxis\":\"coloraxis\",\"symbol\":\"diamond\"},\"mode\":\"markers\",\"name\":\"85.98\",\"scene\":\"scene\",\"showlegend\":true,\"x\":[85.98,85.98],\"y\":[18.66,20.74],\"z\":[534.6,536.9],\"type\":\"scatter3d\"},{\"hovertemplate\":\"perimeter_mean=%{x}<br>texture_mean=%{y}<br>area_mean=%{z}<br>radius_mean=%{marker.color}<extra></extra>\",\"legendgroup\":\"78.04\",\"marker\":{\"color\":[12.05],\"coloraxis\":\"coloraxis\",\"symbol\":\"square\"},\"mode\":\"markers\",\"name\":\"78.04\",\"scene\":\"scene\",\"showlegend\":true,\"x\":[78.04],\"y\":[14.63],\"z\":[449.3],\"type\":\"scatter3d\"},{\"hovertemplate\":\"perimeter_mean=%{x}<br>texture_mean=%{y}<br>area_mean=%{z}<br>radius_mean=%{marker.color}<extra></extra>\",\"legendgroup\":\"86.91\",\"marker\":{\"color\":[13.49],\"coloraxis\":\"coloraxis\",\"symbol\":\"x\"},\"mode\":\"markers\",\"name\":\"86.91\",\"scene\":\"scene\",\"showlegend\":true,\"x\":[86.91],\"y\":[22.3],\"z\":[561.0],\"type\":\"scatter3d\"},{\"hovertemplate\":\"perimeter_mean=%{x}<br>texture_mean=%{y}<br>area_mean=%{z}<br>radius_mean=%{marker.color}<extra></extra>\",\"legendgroup\":\"74.72\",\"marker\":{\"color\":[11.76,11.71],\"coloraxis\":\"coloraxis\",\"symbol\":\"cross\"},\"mode\":\"markers\",\"name\":\"74.72\",\"scene\":\"scene\",\"showlegend\":true,\"x\":[74.72,74.72],\"y\":[21.6,16.67],\"z\":[427.9,423.6],\"type\":\"scatter3d\"},{\"hovertemplate\":\"perimeter_mean=%{x}<br>texture_mean=%{y}<br>area_mean=%{z}<br>radius_mean=%{marker.color}<extra></extra>\",\"legendgroup\":\"87.21\",\"marker\":{\"color\":[13.64,13.11],\"coloraxis\":\"coloraxis\",\"symbol\":\"circle\"},\"mode\":\"markers\",\"name\":\"87.21\",\"scene\":\"scene\",\"showlegend\":true,\"x\":[87.21,87.21],\"y\":[16.34,15.56],\"z\":[571.8,530.2],\"type\":\"scatter3d\"},{\"hovertemplate\":\"perimeter_mean=%{x}<br>texture_mean=%{y}<br>area_mean=%{z}<br>radius_mean=%{marker.color}<extra></extra>\",\"legendgroup\":\"75.71\",\"marker\":{\"color\":[11.94],\"coloraxis\":\"coloraxis\",\"symbol\":\"diamond\"},\"mode\":\"markers\",\"name\":\"75.71\",\"scene\":\"scene\",\"showlegend\":true,\"x\":[75.71],\"y\":[18.24],\"z\":[437.6],\"type\":\"scatter3d\"},{\"hovertemplate\":\"perimeter_mean=%{x}<br>texture_mean=%{y}<br>area_mean=%{z}<br>radius_mean=%{marker.color}<extra></extra>\",\"legendgroup\":\"120.3\",\"marker\":{\"color\":[18.22],\"coloraxis\":\"coloraxis\",\"symbol\":\"square\"},\"mode\":\"markers\",\"name\":\"120.3\",\"scene\":\"scene\",\"showlegend\":true,\"x\":[120.3],\"y\":[18.7],\"z\":[1033.0],\"type\":\"scatter3d\"},{\"hovertemplate\":\"perimeter_mean=%{x}<br>texture_mean=%{y}<br>area_mean=%{z}<br>radius_mean=%{marker.color}<extra></extra>\",\"legendgroup\":\"97.26\",\"marker\":{\"color\":[15.1,15.05],\"coloraxis\":\"coloraxis\",\"symbol\":\"x\"},\"mode\":\"markers\",\"name\":\"97.26\",\"scene\":\"scene\",\"showlegend\":true,\"x\":[97.26,97.26],\"y\":[22.02,19.07],\"z\":[712.8,701.9],\"type\":\"scatter3d\"},{\"hovertemplate\":\"perimeter_mean=%{x}<br>texture_mean=%{y}<br>area_mean=%{z}<br>radius_mean=%{marker.color}<extra></extra>\",\"legendgroup\":\"73.34\",\"marker\":{\"color\":[11.52,11.41],\"coloraxis\":\"coloraxis\",\"symbol\":\"cross\"},\"mode\":\"markers\",\"name\":\"73.34\",\"scene\":\"scene\",\"showlegend\":true,\"x\":[73.34,73.34],\"y\":[18.75,10.82],\"z\":[409.0,403.3],\"type\":\"scatter3d\"},{\"hovertemplate\":\"perimeter_mean=%{x}<br>texture_mean=%{y}<br>area_mean=%{z}<br>radius_mean=%{marker.color}<extra></extra>\",\"legendgroup\":\"125.5\",\"marker\":{\"color\":[19.21],\"coloraxis\":\"coloraxis\",\"symbol\":\"circle\"},\"mode\":\"markers\",\"name\":\"125.5\",\"scene\":\"scene\",\"showlegend\":true,\"x\":[125.5],\"y\":[18.57],\"z\":[1152.0],\"type\":\"scatter3d\"},{\"hovertemplate\":\"perimeter_mean=%{x}<br>texture_mean=%{y}<br>area_mean=%{z}<br>radius_mean=%{marker.color}<extra></extra>\",\"legendgroup\":\"95.55\",\"marker\":{\"color\":[14.71],\"coloraxis\":\"coloraxis\",\"symbol\":\"diamond\"},\"mode\":\"markers\",\"name\":\"95.55\",\"scene\":\"scene\",\"showlegend\":true,\"x\":[95.55],\"y\":[21.59],\"z\":[656.9],\"type\":\"scatter3d\"},{\"hovertemplate\":\"perimeter_mean=%{x}<br>texture_mean=%{y}<br>area_mean=%{z}<br>radius_mean=%{marker.color}<extra></extra>\",\"legendgroup\":\"54.34\",\"marker\":{\"color\":[8.618],\"coloraxis\":\"coloraxis\",\"symbol\":\"square\"},\"mode\":\"markers\",\"name\":\"54.34\",\"scene\":\"scene\",\"showlegend\":true,\"x\":[54.34],\"y\":[11.79],\"z\":[224.5],\"type\":\"scatter3d\"},{\"hovertemplate\":\"perimeter_mean=%{x}<br>texture_mean=%{y}<br>area_mean=%{z}<br>radius_mean=%{marker.color}<extra></extra>\",\"legendgroup\":\"64.55\",\"marker\":{\"color\":[10.17],\"coloraxis\":\"coloraxis\",\"symbol\":\"x\"},\"mode\":\"markers\",\"name\":\"64.55\",\"scene\":\"scene\",\"showlegend\":true,\"x\":[64.55],\"y\":[14.88],\"z\":[311.9],\"type\":\"scatter3d\"},{\"hovertemplate\":\"perimeter_mean=%{x}<br>texture_mean=%{y}<br>area_mean=%{z}<br>radius_mean=%{marker.color}<extra></extra>\",\"legendgroup\":\"54.66\",\"marker\":{\"color\":[8.598],\"coloraxis\":\"coloraxis\",\"symbol\":\"cross\"},\"mode\":\"markers\",\"name\":\"54.66\",\"scene\":\"scene\",\"showlegend\":true,\"x\":[54.66],\"y\":[20.98],\"z\":[221.8],\"type\":\"scatter3d\"},{\"hovertemplate\":\"perimeter_mean=%{x}<br>texture_mean=%{y}<br>area_mean=%{z}<br>radius_mean=%{marker.color}<extra></extra>\",\"legendgroup\":\"96.42\",\"marker\":{\"color\":[14.25],\"coloraxis\":\"coloraxis\",\"symbol\":\"circle\"},\"mode\":\"markers\",\"name\":\"96.42\",\"scene\":\"scene\",\"showlegend\":true,\"x\":[96.42],\"y\":[22.15],\"z\":[645.7],\"type\":\"scatter3d\"},{\"hovertemplate\":\"perimeter_mean=%{x}<br>texture_mean=%{y}<br>area_mean=%{z}<br>radius_mean=%{marker.color}<extra></extra>\",\"legendgroup\":\"59.2\",\"marker\":{\"color\":[9.173],\"coloraxis\":\"coloraxis\",\"symbol\":\"diamond\"},\"mode\":\"markers\",\"name\":\"59.2\",\"scene\":\"scene\",\"showlegend\":true,\"x\":[59.2],\"y\":[13.86],\"z\":[260.9],\"type\":\"scatter3d\"},{\"hovertemplate\":\"perimeter_mean=%{x}<br>texture_mean=%{y}<br>area_mean=%{z}<br>radius_mean=%{marker.color}<extra></extra>\",\"legendgroup\":\"82.69\",\"marker\":{\"color\":[12.68,12.65],\"coloraxis\":\"coloraxis\",\"symbol\":\"square\"},\"mode\":\"markers\",\"name\":\"82.69\",\"scene\":\"scene\",\"showlegend\":true,\"x\":[82.69,82.69],\"y\":[23.84,18.17],\"z\":[499.0,485.6],\"type\":\"scatter3d\"},{\"hovertemplate\":\"perimeter_mean=%{x}<br>texture_mean=%{y}<br>area_mean=%{z}<br>radius_mean=%{marker.color}<extra></extra>\",\"legendgroup\":\"97.4\",\"marker\":{\"color\":[14.78],\"coloraxis\":\"coloraxis\",\"symbol\":\"x\"},\"mode\":\"markers\",\"name\":\"97.4\",\"scene\":\"scene\",\"showlegend\":true,\"x\":[97.4],\"y\":[23.94],\"z\":[668.3],\"type\":\"scatter3d\"},{\"hovertemplate\":\"perimeter_mean=%{x}<br>texture_mean=%{y}<br>area_mean=%{z}<br>radius_mean=%{marker.color}<extra></extra>\",\"legendgroup\":\"60.11\",\"marker\":{\"color\":[9.465],\"coloraxis\":\"coloraxis\",\"symbol\":\"cross\"},\"mode\":\"markers\",\"name\":\"60.11\",\"scene\":\"scene\",\"showlegend\":true,\"x\":[60.11],\"y\":[21.01],\"z\":[269.4],\"type\":\"scatter3d\"},{\"hovertemplate\":\"perimeter_mean=%{x}<br>texture_mean=%{y}<br>area_mean=%{z}<br>radius_mean=%{marker.color}<extra></extra>\",\"legendgroup\":\"71.8\",\"marker\":{\"color\":[11.31],\"coloraxis\":\"coloraxis\",\"symbol\":\"circle\"},\"mode\":\"markers\",\"name\":\"71.8\",\"scene\":\"scene\",\"showlegend\":true,\"x\":[71.8],\"y\":[19.04],\"z\":[394.1],\"type\":\"scatter3d\"},{\"hovertemplate\":\"perimeter_mean=%{x}<br>texture_mean=%{y}<br>area_mean=%{z}<br>radius_mean=%{marker.color}<extra></extra>\",\"legendgroup\":\"58.79\",\"marker\":{\"color\":[9.029,8.888],\"coloraxis\":\"coloraxis\",\"symbol\":\"diamond\"},\"mode\":\"markers\",\"name\":\"58.79\",\"scene\":\"scene\",\"showlegend\":true,\"x\":[58.79,58.79],\"y\":[17.33,14.64],\"z\":[250.5,244.0],\"type\":\"scatter3d\"},{\"hovertemplate\":\"perimeter_mean=%{x}<br>texture_mean=%{y}<br>area_mean=%{z}<br>radius_mean=%{marker.color}<extra></extra>\",\"legendgroup\":\"81.37\",\"marker\":{\"color\":[12.78],\"coloraxis\":\"coloraxis\",\"symbol\":\"square\"},\"mode\":\"markers\",\"name\":\"81.37\",\"scene\":\"scene\",\"showlegend\":true,\"x\":[81.37],\"y\":[16.49],\"z\":[502.5],\"type\":\"scatter3d\"},{\"hovertemplate\":\"perimeter_mean=%{x}<br>texture_mean=%{y}<br>area_mean=%{z}<br>radius_mean=%{marker.color}<extra></extra>\",\"legendgroup\":\"123.6\",\"marker\":{\"color\":[18.94],\"coloraxis\":\"coloraxis\",\"symbol\":\"x\"},\"mode\":\"markers\",\"name\":\"123.6\",\"scene\":\"scene\",\"showlegend\":true,\"x\":[123.6],\"y\":[21.31],\"z\":[1130.0],\"type\":\"scatter3d\"},{\"hovertemplate\":\"perimeter_mean=%{x}<br>texture_mean=%{y}<br>area_mean=%{z}<br>radius_mean=%{marker.color}<extra></extra>\",\"legendgroup\":\"114.2\",\"marker\":{\"color\":[17.2,17.95],\"coloraxis\":\"coloraxis\",\"symbol\":\"cross\"},\"mode\":\"markers\",\"name\":\"114.2\",\"scene\":\"scene\",\"showlegend\":true,\"x\":[114.2,114.2],\"y\":[24.52,20.01],\"z\":[929.4,982.0],\"type\":\"scatter3d\"},{\"hovertemplate\":\"perimeter_mean=%{x}<br>texture_mean=%{y}<br>area_mean=%{z}<br>radius_mean=%{marker.color}<extra></extra>\",\"legendgroup\":\"90.43\",\"marker\":{\"color\":[13.8],\"coloraxis\":\"coloraxis\",\"symbol\":\"circle\"},\"mode\":\"markers\",\"name\":\"90.43\",\"scene\":\"scene\",\"showlegend\":true,\"x\":[90.43],\"y\":[15.79],\"z\":[584.1],\"type\":\"scatter3d\"},{\"hovertemplate\":\"perimeter_mean=%{x}<br>texture_mean=%{y}<br>area_mean=%{z}<br>radius_mean=%{marker.color}<extra></extra>\",\"legendgroup\":\"79.19\",\"marker\":{\"color\":[12.31,12.49],\"coloraxis\":\"coloraxis\",\"symbol\":\"diamond\"},\"mode\":\"markers\",\"name\":\"79.19\",\"scene\":\"scene\",\"showlegend\":true,\"x\":[79.19,79.19],\"y\":[16.52,16.85],\"z\":[470.9,481.6],\"type\":\"scatter3d\"},{\"hovertemplate\":\"perimeter_mean=%{x}<br>texture_mean=%{y}<br>area_mean=%{z}<br>radius_mean=%{marker.color}<extra></extra>\",\"legendgroup\":\"104.1\",\"marker\":{\"color\":[16.07],\"coloraxis\":\"coloraxis\",\"symbol\":\"square\"},\"mode\":\"markers\",\"name\":\"104.1\",\"scene\":\"scene\",\"showlegend\":true,\"x\":[104.1],\"y\":[19.65],\"z\":[817.7],\"type\":\"scatter3d\"},{\"hovertemplate\":\"perimeter_mean=%{x}<br>texture_mean=%{y}<br>area_mean=%{z}<br>radius_mean=%{marker.color}<extra></extra>\",\"legendgroup\":\"87.91\",\"marker\":{\"color\":[13.53],\"coloraxis\":\"coloraxis\",\"symbol\":\"x\"},\"mode\":\"markers\",\"name\":\"87.91\",\"scene\":\"scene\",\"showlegend\":true,\"x\":[87.91],\"y\":[10.94],\"z\":[559.2],\"type\":\"scatter3d\"},{\"hovertemplate\":\"perimeter_mean=%{x}<br>texture_mean=%{y}<br>area_mean=%{z}<br>radius_mean=%{marker.color}<extra></extra>\",\"legendgroup\":\"120.2\",\"marker\":{\"color\":[18.05,18.45],\"coloraxis\":\"coloraxis\",\"symbol\":\"cross\"},\"mode\":\"markers\",\"name\":\"120.2\",\"scene\":\"scene\",\"showlegend\":true,\"x\":[120.2,120.2],\"y\":[16.15,21.91],\"z\":[1006.0,1075.0],\"type\":\"scatter3d\"},{\"hovertemplate\":\"perimeter_mean=%{x}<br>texture_mean=%{y}<br>area_mean=%{z}<br>radius_mean=%{marker.color}<extra></extra>\",\"legendgroup\":\"143.7\",\"marker\":{\"color\":[20.18],\"coloraxis\":\"coloraxis\",\"symbol\":\"circle\"},\"mode\":\"markers\",\"name\":\"143.7\",\"scene\":\"scene\",\"showlegend\":true,\"x\":[143.7],\"y\":[23.97],\"z\":[1245.0],\"type\":\"scatter3d\"},{\"hovertemplate\":\"perimeter_mean=%{x}<br>texture_mean=%{y}<br>area_mean=%{z}<br>radius_mean=%{marker.color}<extra></extra>\",\"legendgroup\":\"83.19\",\"marker\":{\"color\":[12.86],\"coloraxis\":\"coloraxis\",\"symbol\":\"diamond\"},\"mode\":\"markers\",\"name\":\"83.19\",\"scene\":\"scene\",\"showlegend\":true,\"x\":[83.19],\"y\":[18.0],\"z\":[506.3],\"type\":\"scatter3d\"},{\"hovertemplate\":\"perimeter_mean=%{x}<br>texture_mean=%{y}<br>area_mean=%{z}<br>radius_mean=%{marker.color}<extra></extra>\",\"legendgroup\":\"73.81\",\"marker\":{\"color\":[11.45],\"coloraxis\":\"coloraxis\",\"symbol\":\"square\"},\"mode\":\"markers\",\"name\":\"73.81\",\"scene\":\"scene\",\"showlegend\":true,\"x\":[73.81],\"y\":[20.97],\"z\":[401.5],\"type\":\"scatter3d\"},{\"hovertemplate\":\"perimeter_mean=%{x}<br>texture_mean=%{y}<br>area_mean=%{z}<br>radius_mean=%{marker.color}<extra></extra>\",\"legendgroup\":\"86.49\",\"marker\":{\"color\":[13.34],\"coloraxis\":\"coloraxis\",\"symbol\":\"x\"},\"mode\":\"markers\",\"name\":\"86.49\",\"scene\":\"scene\",\"showlegend\":true,\"x\":[86.49],\"y\":[15.86],\"z\":[520.0],\"type\":\"scatter3d\"},{\"hovertemplate\":\"perimeter_mean=%{x}<br>texture_mean=%{y}<br>area_mean=%{z}<br>radius_mean=%{marker.color}<extra></extra>\",\"legendgroup\":\"171.5\",\"marker\":{\"color\":[25.22],\"coloraxis\":\"coloraxis\",\"symbol\":\"cross\"},\"mode\":\"markers\",\"name\":\"171.5\",\"scene\":\"scene\",\"showlegend\":true,\"x\":[171.5],\"y\":[24.91],\"z\":[1878.0],\"type\":\"scatter3d\"},{\"hovertemplate\":\"perimeter_mean=%{x}<br>texture_mean=%{y}<br>area_mean=%{z}<br>radius_mean=%{marker.color}<extra></extra>\",\"legendgroup\":\"129.1\",\"marker\":{\"color\":[19.1,19.4],\"coloraxis\":\"coloraxis\",\"symbol\":\"circle\"},\"mode\":\"markers\",\"name\":\"129.1\",\"scene\":\"scene\",\"showlegend\":true,\"x\":[129.1,129.1],\"y\":[26.29,23.5],\"z\":[1132.0,1155.0],\"type\":\"scatter3d\"},{\"hovertemplate\":\"perimeter_mean=%{x}<br>texture_mean=%{y}<br>area_mean=%{z}<br>radius_mean=%{marker.color}<extra></extra>\",\"legendgroup\":\"76.95\",\"marker\":{\"color\":[12.0],\"coloraxis\":\"coloraxis\",\"symbol\":\"diamond\"},\"mode\":\"markers\",\"name\":\"76.95\",\"scene\":\"scene\",\"showlegend\":true,\"x\":[76.95],\"y\":[15.65],\"z\":[443.3],\"type\":\"scatter3d\"},{\"hovertemplate\":\"perimeter_mean=%{x}<br>texture_mean=%{y}<br>area_mean=%{z}<br>radius_mean=%{marker.color}<extra></extra>\",\"legendgroup\":\"121.1\",\"marker\":{\"color\":[18.46],\"coloraxis\":\"coloraxis\",\"symbol\":\"square\"},\"mode\":\"markers\",\"name\":\"121.1\",\"scene\":\"scene\",\"showlegend\":true,\"x\":[121.1],\"y\":[18.52],\"z\":[1075.0],\"type\":\"scatter3d\"},{\"hovertemplate\":\"perimeter_mean=%{x}<br>texture_mean=%{y}<br>area_mean=%{z}<br>radius_mean=%{marker.color}<extra></extra>\",\"legendgroup\":\"94.25\",\"marker\":{\"color\":[14.48,14.53],\"coloraxis\":\"coloraxis\",\"symbol\":\"x\"},\"mode\":\"markers\",\"name\":\"94.25\",\"scene\":\"scene\",\"showlegend\":true,\"x\":[94.25,94.25],\"y\":[21.46,19.34],\"z\":[648.2,659.7],\"type\":\"scatter3d\"},{\"hovertemplate\":\"perimeter_mean=%{x}<br>texture_mean=%{y}<br>area_mean=%{z}<br>radius_mean=%{marker.color}<extra></extra>\",\"legendgroup\":\"122.0\",\"marker\":{\"color\":[19.02],\"coloraxis\":\"coloraxis\",\"symbol\":\"cross\"},\"mode\":\"markers\",\"name\":\"122.0\",\"scene\":\"scene\",\"showlegend\":true,\"x\":[122.0],\"y\":[24.59],\"z\":[1076.0],\"type\":\"scatter3d\"},{\"hovertemplate\":\"perimeter_mean=%{x}<br>texture_mean=%{y}<br>area_mean=%{z}<br>radius_mean=%{marker.color}<extra></extra>\",\"legendgroup\":\"79.78\",\"marker\":{\"color\":[12.36],\"coloraxis\":\"coloraxis\",\"symbol\":\"circle\"},\"mode\":\"markers\",\"name\":\"79.78\",\"scene\":\"scene\",\"showlegend\":true,\"x\":[79.78],\"y\":[21.8],\"z\":[466.1],\"type\":\"scatter3d\"},{\"hovertemplate\":\"perimeter_mean=%{x}<br>texture_mean=%{y}<br>area_mean=%{z}<br>radius_mean=%{marker.color}<extra></extra>\",\"legendgroup\":\"95.77\",\"marker\":{\"color\":[14.64],\"coloraxis\":\"coloraxis\",\"symbol\":\"diamond\"},\"mode\":\"markers\",\"name\":\"95.77\",\"scene\":\"scene\",\"showlegend\":true,\"x\":[95.77],\"y\":[15.24],\"z\":[651.9],\"type\":\"scatter3d\"},{\"hovertemplate\":\"perimeter_mean=%{x}<br>texture_mean=%{y}<br>area_mean=%{z}<br>radius_mean=%{marker.color}<extra></extra>\",\"legendgroup\":\"94.57\",\"marker\":{\"color\":[14.62],\"coloraxis\":\"coloraxis\",\"symbol\":\"square\"},\"mode\":\"markers\",\"name\":\"94.57\",\"scene\":\"scene\",\"showlegend\":true,\"x\":[94.57],\"y\":[24.02],\"z\":[662.7],\"type\":\"scatter3d\"},{\"hovertemplate\":\"perimeter_mean=%{x}<br>texture_mean=%{y}<br>area_mean=%{z}<br>radius_mean=%{marker.color}<extra></extra>\",\"legendgroup\":\"100.2\",\"marker\":{\"color\":[15.37],\"coloraxis\":\"coloraxis\",\"symbol\":\"x\"},\"mode\":\"markers\",\"name\":\"100.2\",\"scene\":\"scene\",\"showlegend\":true,\"x\":[100.2],\"y\":[22.76],\"z\":[728.2],\"type\":\"scatter3d\"},{\"hovertemplate\":\"perimeter_mean=%{x}<br>texture_mean=%{y}<br>area_mean=%{z}<br>radius_mean=%{marker.color}<extra></extra>\",\"legendgroup\":\"84.74\",\"marker\":{\"color\":[13.27],\"coloraxis\":\"coloraxis\",\"symbol\":\"cross\"},\"mode\":\"markers\",\"name\":\"84.74\",\"scene\":\"scene\",\"showlegend\":true,\"x\":[84.74],\"y\":[14.76],\"z\":[551.7],\"type\":\"scatter3d\"},{\"hovertemplate\":\"perimeter_mean=%{x}<br>texture_mean=%{y}<br>area_mean=%{z}<br>radius_mean=%{marker.color}<extra></extra>\",\"legendgroup\":\"86.6\",\"marker\":{\"color\":[13.45],\"coloraxis\":\"coloraxis\",\"symbol\":\"circle\"},\"mode\":\"markers\",\"name\":\"86.6\",\"scene\":\"scene\",\"showlegend\":true,\"x\":[86.6],\"y\":[18.3],\"z\":[555.1],\"type\":\"scatter3d\"},{\"hovertemplate\":\"perimeter_mean=%{x}<br>texture_mean=%{y}<br>area_mean=%{z}<br>radius_mean=%{marker.color}<extra></extra>\",\"legendgroup\":\"100.3\",\"marker\":{\"color\":[15.06],\"coloraxis\":\"coloraxis\",\"symbol\":\"diamond\"},\"mode\":\"markers\",\"name\":\"100.3\",\"scene\":\"scene\",\"showlegend\":true,\"x\":[100.3],\"y\":[19.83],\"z\":[705.6],\"type\":\"scatter3d\"},{\"hovertemplate\":\"perimeter_mean=%{x}<br>texture_mean=%{y}<br>area_mean=%{z}<br>radius_mean=%{marker.color}<extra></extra>\",\"legendgroup\":\"77.79\",\"marker\":{\"color\":[12.18],\"coloraxis\":\"coloraxis\",\"symbol\":\"square\"},\"mode\":\"markers\",\"name\":\"77.79\",\"scene\":\"scene\",\"showlegend\":true,\"x\":[77.79],\"y\":[17.84],\"z\":[451.1],\"type\":\"scatter3d\"},{\"hovertemplate\":\"perimeter_mean=%{x}<br>texture_mean=%{y}<br>area_mean=%{z}<br>radius_mean=%{marker.color}<extra></extra>\",\"legendgroup\":\"62.11\",\"marker\":{\"color\":[9.787],\"coloraxis\":\"coloraxis\",\"symbol\":\"x\"},\"mode\":\"markers\",\"name\":\"62.11\",\"scene\":\"scene\",\"showlegend\":true,\"x\":[62.11],\"y\":[19.94],\"z\":[294.5],\"type\":\"scatter3d\"},{\"hovertemplate\":\"perimeter_mean=%{x}<br>texture_mean=%{y}<br>area_mean=%{z}<br>radius_mean=%{marker.color}<extra></extra>\",\"legendgroup\":\"74.34\",\"marker\":{\"color\":[11.6],\"coloraxis\":\"coloraxis\",\"symbol\":\"cross\"},\"mode\":\"markers\",\"name\":\"74.34\",\"scene\":\"scene\",\"showlegend\":true,\"x\":[74.34],\"y\":[12.84],\"z\":[412.6],\"type\":\"scatter3d\"},{\"hovertemplate\":\"perimeter_mean=%{x}<br>texture_mean=%{y}<br>area_mean=%{z}<br>radius_mean=%{marker.color}<extra></extra>\",\"legendgroup\":\"94.48\",\"marker\":{\"color\":[14.42],\"coloraxis\":\"coloraxis\",\"symbol\":\"circle\"},\"mode\":\"markers\",\"name\":\"94.48\",\"scene\":\"scene\",\"showlegend\":true,\"x\":[94.48],\"y\":[19.77],\"z\":[642.5],\"type\":\"scatter3d\"},{\"hovertemplate\":\"perimeter_mean=%{x}<br>texture_mean=%{y}<br>area_mean=%{z}<br>radius_mean=%{marker.color}<extra></extra>\",\"legendgroup\":\"88.05\",\"marker\":{\"color\":[13.61],\"coloraxis\":\"coloraxis\",\"symbol\":\"diamond\"},\"mode\":\"markers\",\"name\":\"88.05\",\"scene\":\"scene\",\"showlegend\":true,\"x\":[88.05],\"y\":[24.98],\"z\":[582.7],\"type\":\"scatter3d\"},{\"hovertemplate\":\"perimeter_mean=%{x}<br>texture_mean=%{y}<br>area_mean=%{z}<br>radius_mean=%{marker.color}<extra></extra>\",\"legendgroup\":\"43.79\",\"marker\":{\"color\":[6.981],\"coloraxis\":\"coloraxis\",\"symbol\":\"square\"},\"mode\":\"markers\",\"name\":\"43.79\",\"scene\":\"scene\",\"showlegend\":true,\"x\":[43.79],\"y\":[13.43],\"z\":[143.5],\"type\":\"scatter3d\"},{\"hovertemplate\":\"perimeter_mean=%{x}<br>texture_mean=%{y}<br>area_mean=%{z}<br>radius_mean=%{marker.color}<extra></extra>\",\"legendgroup\":\"77.22\",\"marker\":{\"color\":[12.18],\"coloraxis\":\"coloraxis\",\"symbol\":\"x\"},\"mode\":\"markers\",\"name\":\"77.22\",\"scene\":\"scene\",\"showlegend\":true,\"x\":[77.22],\"y\":[20.52],\"z\":[458.7],\"type\":\"scatter3d\"},{\"hovertemplate\":\"perimeter_mean=%{x}<br>texture_mean=%{y}<br>area_mean=%{z}<br>radius_mean=%{marker.color}<extra></extra>\",\"legendgroup\":\"63.95\",\"marker\":{\"color\":[9.876],\"coloraxis\":\"coloraxis\",\"symbol\":\"cross\"},\"mode\":\"markers\",\"name\":\"63.95\",\"scene\":\"scene\",\"showlegend\":true,\"x\":[63.95],\"y\":[19.4],\"z\":[298.3],\"type\":\"scatter3d\"},{\"hovertemplate\":\"perimeter_mean=%{x}<br>texture_mean=%{y}<br>area_mean=%{z}<br>radius_mean=%{marker.color}<extra></extra>\",\"legendgroup\":\"67.41\",\"marker\":{\"color\":[10.49],\"coloraxis\":\"coloraxis\",\"symbol\":\"circle\"},\"mode\":\"markers\",\"name\":\"67.41\",\"scene\":\"scene\",\"showlegend\":true,\"x\":[67.41],\"y\":[19.29],\"z\":[336.1],\"type\":\"scatter3d\"},{\"hovertemplate\":\"perimeter_mean=%{x}<br>texture_mean=%{y}<br>area_mean=%{z}<br>radius_mean=%{marker.color}<extra></extra>\",\"legendgroup\":\"75.17\",\"marker\":{\"color\":[11.64],\"coloraxis\":\"coloraxis\",\"symbol\":\"diamond\"},\"mode\":\"markers\",\"name\":\"75.17\",\"scene\":\"scene\",\"showlegend\":true,\"x\":[75.17],\"y\":[18.33],\"z\":[412.5],\"type\":\"scatter3d\"},{\"hovertemplate\":\"perimeter_mean=%{x}<br>texture_mean=%{y}<br>area_mean=%{z}<br>radius_mean=%{marker.color}<extra></extra>\",\"legendgroup\":\"79.01\",\"marker\":{\"color\":[12.36],\"coloraxis\":\"coloraxis\",\"symbol\":\"square\"},\"mode\":\"markers\",\"name\":\"79.01\",\"scene\":\"scene\",\"showlegend\":true,\"x\":[79.01],\"y\":[18.54],\"z\":[466.7],\"type\":\"scatter3d\"},{\"hovertemplate\":\"perimeter_mean=%{x}<br>texture_mean=%{y}<br>area_mean=%{z}<br>radius_mean=%{marker.color}<extra></extra>\",\"legendgroup\":\"152.8\",\"marker\":{\"color\":[22.27],\"coloraxis\":\"coloraxis\",\"symbol\":\"x\"},\"mode\":\"markers\",\"name\":\"152.8\",\"scene\":\"scene\",\"showlegend\":true,\"x\":[152.8],\"y\":[19.67],\"z\":[1509.0],\"type\":\"scatter3d\"},{\"hovertemplate\":\"perimeter_mean=%{x}<br>texture_mean=%{y}<br>area_mean=%{z}<br>radius_mean=%{marker.color}<extra></extra>\",\"legendgroup\":\"72.48\",\"marker\":{\"color\":[11.34],\"coloraxis\":\"coloraxis\",\"symbol\":\"cross\"},\"mode\":\"markers\",\"name\":\"72.48\",\"scene\":\"scene\",\"showlegend\":true,\"x\":[72.48],\"y\":[21.26],\"z\":[396.5],\"type\":\"scatter3d\"},{\"hovertemplate\":\"perimeter_mean=%{x}<br>texture_mean=%{y}<br>area_mean=%{z}<br>radius_mean=%{marker.color}<extra></extra>\",\"legendgroup\":\"62.5\",\"marker\":{\"color\":[9.777],\"coloraxis\":\"coloraxis\",\"symbol\":\"circle\"},\"mode\":\"markers\",\"name\":\"62.5\",\"scene\":\"scene\",\"showlegend\":true,\"x\":[62.5],\"y\":[16.99],\"z\":[290.2],\"type\":\"scatter3d\"},{\"hovertemplate\":\"perimeter_mean=%{x}<br>texture_mean=%{y}<br>area_mean=%{z}<br>radius_mean=%{marker.color}<extra></extra>\",\"legendgroup\":\"82.15\",\"marker\":{\"color\":[12.63],\"coloraxis\":\"coloraxis\",\"symbol\":\"diamond\"},\"mode\":\"markers\",\"name\":\"82.15\",\"scene\":\"scene\",\"showlegend\":true,\"x\":[82.15],\"y\":[20.76],\"z\":[480.4],\"type\":\"scatter3d\"},{\"hovertemplate\":\"perimeter_mean=%{x}<br>texture_mean=%{y}<br>area_mean=%{z}<br>radius_mean=%{marker.color}<extra></extra>\",\"legendgroup\":\"97.83\",\"marker\":{\"color\":[14.26],\"coloraxis\":\"coloraxis\",\"symbol\":\"square\"},\"mode\":\"markers\",\"name\":\"97.83\",\"scene\":\"scene\",\"showlegend\":true,\"x\":[97.83],\"y\":[19.65],\"z\":[629.9],\"type\":\"scatter3d\"},{\"hovertemplate\":\"perimeter_mean=%{x}<br>texture_mean=%{y}<br>area_mean=%{z}<br>radius_mean=%{marker.color}<extra></extra>\",\"legendgroup\":\"68.64\",\"marker\":{\"color\":[10.51],\"coloraxis\":\"coloraxis\",\"symbol\":\"x\"},\"mode\":\"markers\",\"name\":\"68.64\",\"scene\":\"scene\",\"showlegend\":true,\"x\":[68.64],\"y\":[20.19],\"z\":[334.2],\"type\":\"scatter3d\"},{\"hovertemplate\":\"perimeter_mean=%{x}<br>texture_mean=%{y}<br>area_mean=%{z}<br>radius_mean=%{marker.color}<extra></extra>\",\"legendgroup\":\"55.84\",\"marker\":{\"color\":[8.726],\"coloraxis\":\"coloraxis\",\"symbol\":\"cross\"},\"mode\":\"markers\",\"name\":\"55.84\",\"scene\":\"scene\",\"showlegend\":true,\"x\":[55.84],\"y\":[15.83],\"z\":[230.9],\"type\":\"scatter3d\"},{\"hovertemplate\":\"perimeter_mean=%{x}<br>texture_mean=%{y}<br>area_mean=%{z}<br>radius_mean=%{marker.color}<extra></extra>\",\"legendgroup\":\"76.53\",\"marker\":{\"color\":[11.93],\"coloraxis\":\"coloraxis\",\"symbol\":\"circle\"},\"mode\":\"markers\",\"name\":\"76.53\",\"scene\":\"scene\",\"showlegend\":true,\"x\":[76.53],\"y\":[21.53],\"z\":[438.6],\"type\":\"scatter3d\"},{\"hovertemplate\":\"perimeter_mean=%{x}<br>texture_mean=%{y}<br>area_mean=%{z}<br>radius_mean=%{marker.color}<extra></extra>\",\"legendgroup\":\"58.74\",\"marker\":{\"color\":[8.95],\"coloraxis\":\"coloraxis\",\"symbol\":\"diamond\"},\"mode\":\"markers\",\"name\":\"58.74\",\"scene\":\"scene\",\"showlegend\":true,\"x\":[58.74],\"y\":[15.76],\"z\":[245.2],\"type\":\"scatter3d\"},{\"hovertemplate\":\"perimeter_mean=%{x}<br>texture_mean=%{y}<br>area_mean=%{z}<br>radius_mean=%{marker.color}<extra></extra>\",\"legendgroup\":\"98.64\",\"marker\":{\"color\":[14.87],\"coloraxis\":\"coloraxis\",\"symbol\":\"square\"},\"mode\":\"markers\",\"name\":\"98.64\",\"scene\":\"scene\",\"showlegend\":true,\"x\":[98.64],\"y\":[16.67],\"z\":[682.5],\"type\":\"scatter3d\"},{\"hovertemplate\":\"perimeter_mean=%{x}<br>texture_mean=%{y}<br>area_mean=%{z}<br>radius_mean=%{marker.color}<extra></extra>\",\"legendgroup\":\"105.7\",\"marker\":{\"color\":[15.78],\"coloraxis\":\"coloraxis\",\"symbol\":\"x\"},\"mode\":\"markers\",\"name\":\"105.7\",\"scene\":\"scene\",\"showlegend\":true,\"x\":[105.7],\"y\":[22.91],\"z\":[782.6],\"type\":\"scatter3d\"},{\"hovertemplate\":\"perimeter_mean=%{x}<br>texture_mean=%{y}<br>area_mean=%{z}<br>radius_mean=%{marker.color}<extra></extra>\",\"legendgroup\":\"121.4\",\"marker\":{\"color\":[18.66],\"coloraxis\":\"coloraxis\",\"symbol\":\"cross\"},\"mode\":\"markers\",\"name\":\"121.4\",\"scene\":\"scene\",\"showlegend\":true,\"x\":[121.4],\"y\":[17.12],\"z\":[1077.0],\"type\":\"scatter3d\"},{\"hovertemplate\":\"perimeter_mean=%{x}<br>texture_mean=%{y}<br>area_mean=%{z}<br>radius_mean=%{marker.color}<extra></extra>\",\"legendgroup\":\"166.2\",\"marker\":{\"color\":[24.25],\"coloraxis\":\"coloraxis\",\"symbol\":\"circle\"},\"mode\":\"markers\",\"name\":\"166.2\",\"scene\":\"scene\",\"showlegend\":true,\"x\":[166.2],\"y\":[20.2],\"z\":[1761.0],\"type\":\"scatter3d\"},{\"hovertemplate\":\"perimeter_mean=%{x}<br>texture_mean=%{y}<br>area_mean=%{z}<br>radius_mean=%{marker.color}<extra></extra>\",\"legendgroup\":\"94.28\",\"marker\":{\"color\":[14.5],\"coloraxis\":\"coloraxis\",\"symbol\":\"diamond\"},\"mode\":\"markers\",\"name\":\"94.28\",\"scene\":\"scene\",\"showlegend\":true,\"x\":[94.28],\"y\":[10.89],\"z\":[640.7],\"type\":\"scatter3d\"},{\"hovertemplate\":\"perimeter_mean=%{x}<br>texture_mean=%{y}<br>area_mean=%{z}<br>radius_mean=%{marker.color}<extra></extra>\",\"legendgroup\":\"86.1\",\"marker\":{\"color\":[13.37],\"coloraxis\":\"coloraxis\",\"symbol\":\"square\"},\"mode\":\"markers\",\"name\":\"86.1\",\"scene\":\"scene\",\"showlegend\":true,\"x\":[86.1],\"y\":[16.39],\"z\":[553.5],\"type\":\"scatter3d\"},{\"hovertemplate\":\"perimeter_mean=%{x}<br>texture_mean=%{y}<br>area_mean=%{z}<br>radius_mean=%{marker.color}<extra></extra>\",\"legendgroup\":\"88.44\",\"marker\":{\"color\":[13.85],\"coloraxis\":\"coloraxis\",\"symbol\":\"x\"},\"mode\":\"markers\",\"name\":\"88.44\",\"scene\":\"scene\",\"showlegend\":true,\"x\":[88.44],\"y\":[17.21],\"z\":[588.7],\"type\":\"scatter3d\"},{\"hovertemplate\":\"perimeter_mean=%{x}<br>texture_mean=%{y}<br>area_mean=%{z}<br>radius_mean=%{marker.color}<extra></extra>\",\"legendgroup\":\"87.76\",\"marker\":{\"color\":[13.61,13.7,13.68],\"coloraxis\":\"coloraxis\",\"symbol\":\"cross\"},\"mode\":\"markers\",\"name\":\"87.76\",\"scene\":\"scene\",\"showlegend\":true,\"x\":[87.76,87.76,87.76],\"y\":[24.69,17.64,16.33],\"z\":[572.6,571.1,575.5],\"type\":\"scatter3d\"},{\"hovertemplate\":\"perimeter_mean=%{x}<br>texture_mean=%{y}<br>area_mean=%{z}<br>radius_mean=%{marker.color}<extra></extra>\",\"legendgroup\":\"123.4\",\"marker\":{\"color\":[19.0],\"coloraxis\":\"coloraxis\",\"symbol\":\"circle\"},\"mode\":\"markers\",\"name\":\"123.4\",\"scene\":\"scene\",\"showlegend\":true,\"x\":[123.4],\"y\":[18.91],\"z\":[1138.0],\"type\":\"scatter3d\"},{\"hovertemplate\":\"perimeter_mean=%{x}<br>texture_mean=%{y}<br>area_mean=%{z}<br>radius_mean=%{marker.color}<extra></extra>\",\"legendgroup\":\"99.58\",\"marker\":{\"color\":[15.1],\"coloraxis\":\"coloraxis\",\"symbol\":\"diamond\"},\"mode\":\"markers\",\"name\":\"99.58\",\"scene\":\"scene\",\"showlegend\":true,\"x\":[99.58],\"y\":[16.39],\"z\":[674.5],\"type\":\"scatter3d\"},{\"hovertemplate\":\"perimeter_mean=%{x}<br>texture_mean=%{y}<br>area_mean=%{z}<br>radius_mean=%{marker.color}<extra></extra>\",\"legendgroup\":\"130.4\",\"marker\":{\"color\":[19.79],\"coloraxis\":\"coloraxis\",\"symbol\":\"square\"},\"mode\":\"markers\",\"name\":\"130.4\",\"scene\":\"scene\",\"showlegend\":true,\"x\":[130.4],\"y\":[25.12],\"z\":[1192.0],\"type\":\"scatter3d\"},{\"hovertemplate\":\"perimeter_mean=%{x}<br>texture_mean=%{y}<br>area_mean=%{z}<br>radius_mean=%{marker.color}<extra></extra>\",\"legendgroup\":\"79.08\",\"marker\":{\"color\":[12.19],\"coloraxis\":\"coloraxis\",\"symbol\":\"x\"},\"mode\":\"markers\",\"name\":\"79.08\",\"scene\":\"scene\",\"showlegend\":true,\"x\":[79.08],\"y\":[13.29],\"z\":[455.8],\"type\":\"scatter3d\"},{\"hovertemplate\":\"perimeter_mean=%{x}<br>texture_mean=%{y}<br>area_mean=%{z}<br>radius_mean=%{marker.color}<extra></extra>\",\"legendgroup\":\"101.7\",\"marker\":{\"color\":[15.46],\"coloraxis\":\"coloraxis\",\"symbol\":\"cross\"},\"mode\":\"markers\",\"name\":\"101.7\",\"scene\":\"scene\",\"showlegend\":true,\"x\":[101.7],\"y\":[19.48],\"z\":[748.9],\"type\":\"scatter3d\"},{\"hovertemplate\":\"perimeter_mean=%{x}<br>texture_mean=%{y}<br>area_mean=%{z}<br>radius_mean=%{marker.color}<extra></extra>\",\"legendgroup\":\"106.2\",\"marker\":{\"color\":[16.16],\"coloraxis\":\"coloraxis\",\"symbol\":\"circle\"},\"mode\":\"markers\",\"name\":\"106.2\",\"scene\":\"scene\",\"showlegend\":true,\"x\":[106.2],\"y\":[21.54],\"z\":[809.8],\"type\":\"scatter3d\"},{\"hovertemplate\":\"perimeter_mean=%{x}<br>texture_mean=%{y}<br>area_mean=%{z}<br>radius_mean=%{marker.color}<extra></extra>\",\"legendgroup\":\"102.0\",\"marker\":{\"color\":[15.71],\"coloraxis\":\"coloraxis\",\"symbol\":\"diamond\"},\"mode\":\"markers\",\"name\":\"102.0\",\"scene\":\"scene\",\"showlegend\":true,\"x\":[102.0],\"y\":[13.93],\"z\":[761.7],\"type\":\"scatter3d\"},{\"hovertemplate\":\"perimeter_mean=%{x}<br>texture_mean=%{y}<br>area_mean=%{z}<br>radius_mean=%{marker.color}<extra></extra>\",\"legendgroup\":\"81.72\",\"marker\":{\"color\":[12.77],\"coloraxis\":\"coloraxis\",\"symbol\":\"square\"},\"mode\":\"markers\",\"name\":\"81.72\",\"scene\":\"scene\",\"showlegend\":true,\"x\":[81.72],\"y\":[22.47],\"z\":[506.3],\"type\":\"scatter3d\"},{\"hovertemplate\":\"perimeter_mean=%{x}<br>texture_mean=%{y}<br>area_mean=%{z}<br>radius_mean=%{marker.color}<extra></extra>\",\"legendgroup\":\"73.06\",\"marker\":{\"color\":[11.43],\"coloraxis\":\"coloraxis\",\"symbol\":\"x\"},\"mode\":\"markers\",\"name\":\"73.06\",\"scene\":\"scene\",\"showlegend\":true,\"x\":[73.06],\"y\":[15.39],\"z\":[399.8],\"type\":\"scatter3d\"},{\"hovertemplate\":\"perimeter_mean=%{x}<br>texture_mean=%{y}<br>area_mean=%{z}<br>radius_mean=%{marker.color}<extra></extra>\",\"legendgroup\":\"96.85\",\"marker\":{\"color\":[14.95],\"coloraxis\":\"coloraxis\",\"symbol\":\"cross\"},\"mode\":\"markers\",\"name\":\"96.85\",\"scene\":\"scene\",\"showlegend\":true,\"x\":[96.85],\"y\":[17.57],\"z\":[678.1],\"type\":\"scatter3d\"},{\"hovertemplate\":\"perimeter_mean=%{x}<br>texture_mean=%{y}<br>area_mean=%{z}<br>radius_mean=%{marker.color}<extra></extra>\",\"legendgroup\":\"73.0\",\"marker\":{\"color\":[11.28],\"coloraxis\":\"coloraxis\",\"symbol\":\"circle\"},\"mode\":\"markers\",\"name\":\"73.0\",\"scene\":\"scene\",\"showlegend\":true,\"x\":[73.0],\"y\":[13.39],\"z\":[384.8],\"type\":\"scatter3d\"},{\"hovertemplate\":\"perimeter_mean=%{x}<br>texture_mean=%{y}<br>area_mean=%{z}<br>radius_mean=%{marker.color}<extra></extra>\",\"legendgroup\":\"61.24\",\"marker\":{\"color\":[9.738],\"coloraxis\":\"coloraxis\",\"symbol\":\"diamond\"},\"mode\":\"markers\",\"name\":\"61.24\",\"scene\":\"scene\",\"showlegend\":true,\"x\":[61.24],\"y\":[11.97],\"z\":[288.5],\"type\":\"scatter3d\"},{\"hovertemplate\":\"perimeter_mean=%{x}<br>texture_mean=%{y}<br>area_mean=%{z}<br>radius_mean=%{marker.color}<extra></extra>\",\"legendgroup\":\"105.1\",\"marker\":{\"color\":[16.11],\"coloraxis\":\"coloraxis\",\"symbol\":\"square\"},\"mode\":\"markers\",\"name\":\"105.1\",\"scene\":\"scene\",\"showlegend\":true,\"x\":[105.1],\"y\":[18.05],\"z\":[813.0],\"type\":\"scatter3d\"},{\"hovertemplate\":\"perimeter_mean=%{x}<br>texture_mean=%{y}<br>area_mean=%{z}<br>radius_mean=%{marker.color}<extra></extra>\",\"legendgroup\":\"73.66\",\"marker\":{\"color\":[11.43],\"coloraxis\":\"coloraxis\",\"symbol\":\"x\"},\"mode\":\"markers\",\"name\":\"73.66\",\"scene\":\"scene\",\"showlegend\":true,\"x\":[73.66],\"y\":[17.31],\"z\":[398.0],\"type\":\"scatter3d\"},{\"hovertemplate\":\"perimeter_mean=%{x}<br>texture_mean=%{y}<br>area_mean=%{z}<br>radius_mean=%{marker.color}<extra></extra>\",\"legendgroup\":\"83.74\",\"marker\":{\"color\":[12.9],\"coloraxis\":\"coloraxis\",\"symbol\":\"cross\"},\"mode\":\"markers\",\"name\":\"83.74\",\"scene\":\"scene\",\"showlegend\":true,\"x\":[83.74],\"y\":[15.92],\"z\":[512.2],\"type\":\"scatter3d\"},{\"hovertemplate\":\"perimeter_mean=%{x}<br>texture_mean=%{y}<br>area_mean=%{z}<br>radius_mean=%{marker.color}<extra></extra>\",\"legendgroup\":\"68.26\",\"marker\":{\"color\":[10.75],\"coloraxis\":\"coloraxis\",\"symbol\":\"circle\"},\"mode\":\"markers\",\"name\":\"68.26\",\"scene\":\"scene\",\"showlegend\":true,\"x\":[68.26],\"y\":[14.97],\"z\":[355.3],\"type\":\"scatter3d\"},{\"hovertemplate\":\"perimeter_mean=%{x}<br>texture_mean=%{y}<br>area_mean=%{z}<br>radius_mean=%{marker.color}<extra></extra>\",\"legendgroup\":\"78.11\",\"marker\":{\"color\":[11.9],\"coloraxis\":\"coloraxis\",\"symbol\":\"diamond\"},\"mode\":\"markers\",\"name\":\"78.11\",\"scene\":\"scene\",\"showlegend\":true,\"x\":[78.11],\"y\":[14.65],\"z\":[432.8],\"type\":\"scatter3d\"},{\"hovertemplate\":\"perimeter_mean=%{x}<br>texture_mean=%{y}<br>area_mean=%{z}<br>radius_mean=%{marker.color}<extra></extra>\",\"legendgroup\":\"78.99\",\"marker\":{\"color\":[11.8],\"coloraxis\":\"coloraxis\",\"symbol\":\"square\"},\"mode\":\"markers\",\"name\":\"78.99\",\"scene\":\"scene\",\"showlegend\":true,\"x\":[78.99],\"y\":[16.58],\"z\":[432.0],\"type\":\"scatter3d\"},{\"hovertemplate\":\"perimeter_mean=%{x}<br>texture_mean=%{y}<br>area_mean=%{z}<br>radius_mean=%{marker.color}<extra></extra>\",\"legendgroup\":\"97.84\",\"marker\":{\"color\":[14.95],\"coloraxis\":\"coloraxis\",\"symbol\":\"x\"},\"mode\":\"markers\",\"name\":\"97.84\",\"scene\":\"scene\",\"showlegend\":true,\"x\":[97.84],\"y\":[18.77],\"z\":[689.5],\"type\":\"scatter3d\"},{\"hovertemplate\":\"perimeter_mean=%{x}<br>texture_mean=%{y}<br>area_mean=%{z}<br>radius_mean=%{marker.color}<extra></extra>\",\"legendgroup\":\"93.97\",\"marker\":{\"color\":[14.44,14.6],\"coloraxis\":\"coloraxis\",\"symbol\":\"cross\"},\"mode\":\"markers\",\"name\":\"93.97\",\"scene\":\"scene\",\"showlegend\":true,\"x\":[93.97,93.97],\"y\":[15.18,23.29],\"z\":[640.1,664.7],\"type\":\"scatter3d\"},{\"hovertemplate\":\"perimeter_mean=%{x}<br>texture_mean=%{y}<br>area_mean=%{z}<br>radius_mean=%{marker.color}<extra></extra>\",\"legendgroup\":\"88.12\",\"marker\":{\"color\":[13.74],\"coloraxis\":\"coloraxis\",\"symbol\":\"circle\"},\"mode\":\"markers\",\"name\":\"88.12\",\"scene\":\"scene\",\"showlegend\":true,\"x\":[88.12],\"y\":[17.91],\"z\":[585.0],\"type\":\"scatter3d\"},{\"hovertemplate\":\"perimeter_mean=%{x}<br>texture_mean=%{y}<br>area_mean=%{z}<br>radius_mean=%{marker.color}<extra></extra>\",\"legendgroup\":\"83.51\",\"marker\":{\"color\":[13.0],\"coloraxis\":\"coloraxis\",\"symbol\":\"diamond\"},\"mode\":\"markers\",\"name\":\"83.51\",\"scene\":\"scene\",\"showlegend\":true,\"x\":[83.51],\"y\":[20.78],\"z\":[519.4],\"type\":\"scatter3d\"},{\"hovertemplate\":\"perimeter_mean=%{x}<br>texture_mean=%{y}<br>area_mean=%{z}<br>radius_mean=%{marker.color}<extra></extra>\",\"legendgroup\":\"53.27\",\"marker\":{\"color\":[8.219],\"coloraxis\":\"coloraxis\",\"symbol\":\"square\"},\"mode\":\"markers\",\"name\":\"53.27\",\"scene\":\"scene\",\"showlegend\":true,\"x\":[53.27],\"y\":[20.7],\"z\":[203.9],\"type\":\"scatter3d\"},{\"hovertemplate\":\"perimeter_mean=%{x}<br>texture_mean=%{y}<br>area_mean=%{z}<br>radius_mean=%{marker.color}<extra></extra>\",\"legendgroup\":\"63.78\",\"marker\":{\"color\":[9.731],\"coloraxis\":\"coloraxis\",\"symbol\":\"x\"},\"mode\":\"markers\",\"name\":\"63.78\",\"scene\":\"scene\",\"showlegend\":true,\"x\":[63.78],\"y\":[15.34],\"z\":[300.2],\"type\":\"scatter3d\"},{\"hovertemplate\":\"perimeter_mean=%{x}<br>texture_mean=%{y}<br>area_mean=%{z}<br>radius_mean=%{marker.color}<extra></extra>\",\"legendgroup\":\"70.87\",\"marker\":{\"color\":[11.15],\"coloraxis\":\"coloraxis\",\"symbol\":\"cross\"},\"mode\":\"markers\",\"name\":\"70.87\",\"scene\":\"scene\",\"showlegend\":true,\"x\":[70.87],\"y\":[13.08],\"z\":[381.9],\"type\":\"scatter3d\"},{\"hovertemplate\":\"perimeter_mean=%{x}<br>texture_mean=%{y}<br>area_mean=%{z}<br>radius_mean=%{marker.color}<extra></extra>\",\"legendgroup\":\"85.31\",\"marker\":{\"color\":[13.15],\"coloraxis\":\"coloraxis\",\"symbol\":\"circle\"},\"mode\":\"markers\",\"name\":\"85.31\",\"scene\":\"scene\",\"showlegend\":true,\"x\":[85.31],\"y\":[15.34],\"z\":[538.9],\"type\":\"scatter3d\"},{\"hovertemplate\":\"perimeter_mean=%{x}<br>texture_mean=%{y}<br>area_mean=%{z}<br>radius_mean=%{marker.color}<extra></extra>\",\"legendgroup\":\"78.27\",\"marker\":{\"color\":[12.25],\"coloraxis\":\"coloraxis\",\"symbol\":\"diamond\"},\"mode\":\"markers\",\"name\":\"78.27\",\"scene\":\"scene\",\"showlegend\":true,\"x\":[78.27],\"y\":[17.94],\"z\":[460.3],\"type\":\"scatter3d\"},{\"hovertemplate\":\"perimeter_mean=%{x}<br>texture_mean=%{y}<br>area_mean=%{z}<br>radius_mean=%{marker.color}<extra></extra>\",\"legendgroup\":\"117.4\",\"marker\":{\"color\":[17.68,18.08],\"coloraxis\":\"coloraxis\",\"symbol\":\"square\"},\"mode\":\"markers\",\"name\":\"117.4\",\"scene\":\"scene\",\"showlegend\":true,\"x\":[117.4,117.4],\"y\":[20.74,21.84],\"z\":[963.7,1024.0],\"type\":\"scatter3d\"},{\"hovertemplate\":\"perimeter_mean=%{x}<br>texture_mean=%{y}<br>area_mean=%{z}<br>radius_mean=%{marker.color}<extra></extra>\",\"legendgroup\":\"108.4\",\"marker\":{\"color\":[16.84],\"coloraxis\":\"coloraxis\",\"symbol\":\"x\"},\"mode\":\"markers\",\"name\":\"108.4\",\"scene\":\"scene\",\"showlegend\":true,\"x\":[108.4],\"y\":[19.46],\"z\":[880.2],\"type\":\"scatter3d\"},{\"hovertemplate\":\"perimeter_mean=%{x}<br>texture_mean=%{y}<br>area_mean=%{z}<br>radius_mean=%{marker.color}<extra></extra>\",\"legendgroup\":\"76.84\",\"marker\":{\"color\":[12.06],\"coloraxis\":\"coloraxis\",\"symbol\":\"cross\"},\"mode\":\"markers\",\"name\":\"76.84\",\"scene\":\"scene\",\"showlegend\":true,\"x\":[76.84],\"y\":[12.74],\"z\":[448.6],\"type\":\"scatter3d\"},{\"hovertemplate\":\"perimeter_mean=%{x}<br>texture_mean=%{y}<br>area_mean=%{z}<br>radius_mean=%{marker.color}<extra></extra>\",\"legendgroup\":\"68.69\",\"marker\":{\"color\":[10.9],\"coloraxis\":\"coloraxis\",\"symbol\":\"circle\"},\"mode\":\"markers\",\"name\":\"68.69\",\"scene\":\"scene\",\"showlegend\":true,\"x\":[68.69],\"y\":[12.96],\"z\":[366.8],\"type\":\"scatter3d\"},{\"hovertemplate\":\"perimeter_mean=%{x}<br>texture_mean=%{y}<br>area_mean=%{z}<br>radius_mean=%{marker.color}<extra></extra>\",\"legendgroup\":\"76.1\",\"marker\":{\"color\":[11.75],\"coloraxis\":\"coloraxis\",\"symbol\":\"diamond\"},\"mode\":\"markers\",\"name\":\"76.1\",\"scene\":\"scene\",\"showlegend\":true,\"x\":[76.1],\"y\":[20.18],\"z\":[419.8],\"type\":\"scatter3d\"},{\"hovertemplate\":\"perimeter_mean=%{x}<br>texture_mean=%{y}<br>area_mean=%{z}<br>radius_mean=%{marker.color}<extra></extra>\",\"legendgroup\":\"126.3\",\"marker\":{\"color\":[19.19],\"coloraxis\":\"coloraxis\",\"symbol\":\"square\"},\"mode\":\"markers\",\"name\":\"126.3\",\"scene\":\"scene\",\"showlegend\":true,\"x\":[126.3],\"y\":[15.94],\"z\":[1157.0],\"type\":\"scatter3d\"},{\"hovertemplate\":\"perimeter_mean=%{x}<br>texture_mean=%{y}<br>area_mean=%{z}<br>radius_mean=%{marker.color}<extra></extra>\",\"legendgroup\":\"130.7\",\"marker\":{\"color\":[19.59,19.73],\"coloraxis\":\"coloraxis\",\"symbol\":\"x\"},\"mode\":\"markers\",\"name\":\"130.7\",\"scene\":\"scene\",\"showlegend\":true,\"x\":[130.7,130.7],\"y\":[18.15,19.82],\"z\":[1214.0,1206.0],\"type\":\"scatter3d\"},{\"hovertemplate\":\"perimeter_mean=%{x}<br>texture_mean=%{y}<br>area_mean=%{z}<br>radius_mean=%{marker.color}<extra></extra>\",\"legendgroup\":\"79.85\",\"marker\":{\"color\":[12.34],\"coloraxis\":\"coloraxis\",\"symbol\":\"cross\"},\"mode\":\"markers\",\"name\":\"79.85\",\"scene\":\"scene\",\"showlegend\":true,\"x\":[79.85],\"y\":[22.22],\"z\":[464.5],\"type\":\"scatter3d\"},{\"hovertemplate\":\"perimeter_mean=%{x}<br>texture_mean=%{y}<br>area_mean=%{z}<br>radius_mean=%{marker.color}<extra></extra>\",\"legendgroup\":\"152.1\",\"marker\":{\"color\":[23.27,23.09],\"coloraxis\":\"coloraxis\",\"symbol\":\"circle\"},\"mode\":\"markers\",\"name\":\"152.1\",\"scene\":\"scene\",\"showlegend\":true,\"x\":[152.1,152.1],\"y\":[22.04,19.83],\"z\":[1686.0,1682.0],\"type\":\"scatter3d\"},{\"hovertemplate\":\"perimeter_mean=%{x}<br>texture_mean=%{y}<br>area_mean=%{z}<br>radius_mean=%{marker.color}<extra></extra>\",\"legendgroup\":\"95.5\",\"marker\":{\"color\":[14.97],\"coloraxis\":\"coloraxis\",\"symbol\":\"diamond\"},\"mode\":\"markers\",\"name\":\"95.5\",\"scene\":\"scene\",\"showlegend\":true,\"x\":[95.5],\"y\":[19.76],\"z\":[690.2],\"type\":\"scatter3d\"},{\"hovertemplate\":\"perimeter_mean=%{x}<br>texture_mean=%{y}<br>area_mean=%{z}<br>radius_mean=%{marker.color}<extra></extra>\",\"legendgroup\":\"68.77\",\"marker\":{\"color\":[10.8],\"coloraxis\":\"coloraxis\",\"symbol\":\"square\"},\"mode\":\"markers\",\"name\":\"68.77\",\"scene\":\"scene\",\"showlegend\":true,\"x\":[68.77],\"y\":[9.71],\"z\":[357.6],\"type\":\"scatter3d\"},{\"hovertemplate\":\"perimeter_mean=%{x}<br>texture_mean=%{y}<br>area_mean=%{z}<br>radius_mean=%{marker.color}<extra></extra>\",\"legendgroup\":\"109.3\",\"marker\":{\"color\":[16.78,16.46],\"coloraxis\":\"coloraxis\",\"symbol\":\"x\"},\"mode\":\"markers\",\"name\":\"109.3\",\"scene\":\"scene\",\"showlegend\":true,\"x\":[109.3,109.3],\"y\":[18.8,20.11],\"z\":[886.3,832.9],\"type\":\"scatter3d\"},{\"hovertemplate\":\"perimeter_mean=%{x}<br>texture_mean=%{y}<br>area_mean=%{z}<br>radius_mean=%{marker.color}<extra></extra>\",\"legendgroup\":\"116.1\",\"marker\":{\"color\":[17.47],\"coloraxis\":\"coloraxis\",\"symbol\":\"cross\"},\"mode\":\"markers\",\"name\":\"116.1\",\"scene\":\"scene\",\"showlegend\":true,\"x\":[116.1],\"y\":[24.68],\"z\":[984.6],\"type\":\"scatter3d\"},{\"hovertemplate\":\"perimeter_mean=%{x}<br>texture_mean=%{y}<br>area_mean=%{z}<br>radius_mean=%{marker.color}<extra></extra>\",\"legendgroup\":\"96.22\",\"marker\":{\"color\":[14.97],\"coloraxis\":\"coloraxis\",\"symbol\":\"circle\"},\"mode\":\"markers\",\"name\":\"96.22\",\"scene\":\"scene\",\"showlegend\":true,\"x\":[96.22],\"y\":[16.95],\"z\":[685.9],\"type\":\"scatter3d\"},{\"hovertemplate\":\"perimeter_mean=%{x}<br>texture_mean=%{y}<br>area_mean=%{z}<br>radius_mean=%{marker.color}<extra></extra>\",\"legendgroup\":\"78.85\",\"marker\":{\"color\":[12.32],\"coloraxis\":\"coloraxis\",\"symbol\":\"diamond\"},\"mode\":\"markers\",\"name\":\"78.85\",\"scene\":\"scene\",\"showlegend\":true,\"x\":[78.85],\"y\":[12.39],\"z\":[464.1],\"type\":\"scatter3d\"},{\"hovertemplate\":\"perimeter_mean=%{x}<br>texture_mean=%{y}<br>area_mean=%{z}<br>radius_mean=%{marker.color}<extra></extra>\",\"legendgroup\":\"85.84\",\"marker\":{\"color\":[13.43],\"coloraxis\":\"coloraxis\",\"symbol\":\"square\"},\"mode\":\"markers\",\"name\":\"85.84\",\"scene\":\"scene\",\"showlegend\":true,\"x\":[85.84],\"y\":[19.63],\"z\":[565.4],\"type\":\"scatter3d\"},{\"hovertemplate\":\"perimeter_mean=%{x}<br>texture_mean=%{y}<br>area_mean=%{z}<br>radius_mean=%{marker.color}<extra></extra>\",\"legendgroup\":\"70.21\",\"marker\":{\"color\":[11.08],\"coloraxis\":\"coloraxis\",\"symbol\":\"x\"},\"mode\":\"markers\",\"name\":\"70.21\",\"scene\":\"scene\",\"showlegend\":true,\"x\":[70.21],\"y\":[14.71],\"z\":[372.7],\"type\":\"scatter3d\"},{\"hovertemplate\":\"perimeter_mean=%{x}<br>texture_mean=%{y}<br>area_mean=%{z}<br>radius_mean=%{marker.color}<extra></extra>\",\"legendgroup\":\"67.49\",\"marker\":{\"color\":[10.66,10.48],\"coloraxis\":\"coloraxis\",\"symbol\":\"cross\"},\"mode\":\"markers\",\"name\":\"67.49\",\"scene\":\"scene\",\"showlegend\":true,\"x\":[67.49,67.49],\"y\":[15.15,14.98],\"z\":[349.6,333.6],\"type\":\"scatter3d\"},{\"hovertemplate\":\"perimeter_mean=%{x}<br>texture_mean=%{y}<br>area_mean=%{z}<br>radius_mean=%{marker.color}<extra></extra>\",\"legendgroup\":\"54.42\",\"marker\":{\"color\":[8.671],\"coloraxis\":\"coloraxis\",\"symbol\":\"circle\"},\"mode\":\"markers\",\"name\":\"54.42\",\"scene\":\"scene\",\"showlegend\":true,\"x\":[54.42],\"y\":[14.45],\"z\":[227.2],\"type\":\"scatter3d\"},{\"hovertemplate\":\"perimeter_mean=%{x}<br>texture_mean=%{y}<br>area_mean=%{z}<br>radius_mean=%{marker.color}<extra></extra>\",\"legendgroup\":\"64.6\",\"marker\":{\"color\":[9.904],\"coloraxis\":\"coloraxis\",\"symbol\":\"diamond\"},\"mode\":\"markers\",\"name\":\"64.6\",\"scene\":\"scene\",\"showlegend\":true,\"x\":[64.6],\"y\":[18.06],\"z\":[302.4],\"type\":\"scatter3d\"},{\"hovertemplate\":\"perimeter_mean=%{x}<br>texture_mean=%{y}<br>area_mean=%{z}<br>radius_mean=%{marker.color}<extra></extra>\",\"legendgroup\":\"82.01\",\"marker\":{\"color\":[13.01],\"coloraxis\":\"coloraxis\",\"symbol\":\"square\"},\"mode\":\"markers\",\"name\":\"82.01\",\"scene\":\"scene\",\"showlegend\":true,\"x\":[82.01],\"y\":[22.22],\"z\":[526.4],\"type\":\"scatter3d\"},{\"hovertemplate\":\"perimeter_mean=%{x}<br>texture_mean=%{y}<br>area_mean=%{z}<br>radius_mean=%{marker.color}<extra></extra>\",\"legendgroup\":\"81.29\",\"marker\":{\"color\":[12.81],\"coloraxis\":\"coloraxis\",\"symbol\":\"x\"},\"mode\":\"markers\",\"name\":\"81.29\",\"scene\":\"scene\",\"showlegend\":true,\"x\":[81.29],\"y\":[13.06],\"z\":[508.8],\"type\":\"scatter3d\"},{\"hovertemplate\":\"perimeter_mean=%{x}<br>texture_mean=%{y}<br>area_mean=%{z}<br>radius_mean=%{marker.color}<extra></extra>\",\"legendgroup\":\"182.1\",\"marker\":{\"color\":[27.22],\"coloraxis\":\"coloraxis\",\"symbol\":\"cross\"},\"mode\":\"markers\",\"name\":\"182.1\",\"scene\":\"scene\",\"showlegend\":true,\"x\":[182.1],\"y\":[21.87],\"z\":[2250.0],\"type\":\"scatter3d\"},{\"hovertemplate\":\"perimeter_mean=%{x}<br>texture_mean=%{y}<br>area_mean=%{z}<br>radius_mean=%{marker.color}<extra></extra>\",\"legendgroup\":\"142.7\",\"marker\":{\"color\":[21.09],\"coloraxis\":\"coloraxis\",\"symbol\":\"circle\"},\"mode\":\"markers\",\"name\":\"142.7\",\"scene\":\"scene\",\"showlegend\":true,\"x\":[142.7],\"y\":[26.57],\"z\":[1311.0],\"type\":\"scatter3d\"},{\"hovertemplate\":\"perimeter_mean=%{x}<br>texture_mean=%{y}<br>area_mean=%{z}<br>radius_mean=%{marker.color}<extra></extra>\",\"legendgroup\":\"101.2\",\"marker\":{\"color\":[15.7],\"coloraxis\":\"coloraxis\",\"symbol\":\"diamond\"},\"mode\":\"markers\",\"name\":\"101.2\",\"scene\":\"scene\",\"showlegend\":true,\"x\":[101.2],\"y\":[20.31],\"z\":[766.6],\"type\":\"scatter3d\"},{\"hovertemplate\":\"perimeter_mean=%{x}<br>texture_mean=%{y}<br>area_mean=%{z}<br>radius_mean=%{marker.color}<extra></extra>\",\"legendgroup\":\"73.53\",\"marker\":{\"color\":[11.41],\"coloraxis\":\"coloraxis\",\"symbol\":\"square\"},\"mode\":\"markers\",\"name\":\"73.53\",\"scene\":\"scene\",\"showlegend\":true,\"x\":[73.53],\"y\":[14.92],\"z\":[402.0],\"type\":\"scatter3d\"},{\"hovertemplate\":\"perimeter_mean=%{x}<br>texture_mean=%{y}<br>area_mean=%{z}<br>radius_mean=%{marker.color}<extra></extra>\",\"legendgroup\":\"98.92\",\"marker\":{\"color\":[15.28],\"coloraxis\":\"coloraxis\",\"symbol\":\"x\"},\"mode\":\"markers\",\"name\":\"98.92\",\"scene\":\"scene\",\"showlegend\":true,\"x\":[98.92],\"y\":[22.41],\"z\":[710.6],\"type\":\"scatter3d\"},{\"hovertemplate\":\"perimeter_mean=%{x}<br>texture_mean=%{y}<br>area_mean=%{z}<br>radius_mean=%{marker.color}<extra></extra>\",\"legendgroup\":\"63.76\",\"marker\":{\"color\":[10.08],\"coloraxis\":\"coloraxis\",\"symbol\":\"cross\"},\"mode\":\"markers\",\"name\":\"63.76\",\"scene\":\"scene\",\"showlegend\":true,\"x\":[63.76],\"y\":[15.11],\"z\":[317.5],\"type\":\"scatter3d\"},{\"hovertemplate\":\"perimeter_mean=%{x}<br>texture_mean=%{y}<br>area_mean=%{z}<br>radius_mean=%{marker.color}<extra></extra>\",\"legendgroup\":\"118.6\",\"marker\":{\"color\":[18.31],\"coloraxis\":\"coloraxis\",\"symbol\":\"circle\"},\"mode\":\"markers\",\"name\":\"118.6\",\"scene\":\"scene\",\"showlegend\":true,\"x\":[118.6],\"y\":[18.58],\"z\":[1041.0],\"type\":\"scatter3d\"},{\"hovertemplate\":\"perimeter_mean=%{x}<br>texture_mean=%{y}<br>area_mean=%{z}<br>radius_mean=%{marker.color}<extra></extra>\",\"legendgroup\":\"74.68\",\"marker\":{\"color\":[11.71],\"coloraxis\":\"coloraxis\",\"symbol\":\"diamond\"},\"mode\":\"markers\",\"name\":\"74.68\",\"scene\":\"scene\",\"showlegend\":true,\"x\":[74.68],\"y\":[17.19],\"z\":[420.3],\"type\":\"scatter3d\"},{\"hovertemplate\":\"perimeter_mean=%{x}<br>texture_mean=%{y}<br>area_mean=%{z}<br>radius_mean=%{marker.color}<extra></extra>\",\"legendgroup\":\"75.27\",\"marker\":{\"color\":[11.81],\"coloraxis\":\"coloraxis\",\"symbol\":\"square\"},\"mode\":\"markers\",\"name\":\"75.27\",\"scene\":\"scene\",\"showlegend\":true,\"x\":[75.27],\"y\":[17.39],\"z\":[428.9],\"type\":\"scatter3d\"},{\"hovertemplate\":\"perimeter_mean=%{x}<br>texture_mean=%{y}<br>area_mean=%{z}<br>radius_mean=%{marker.color}<extra></extra>\",\"legendgroup\":\"78.83\",\"marker\":{\"color\":[12.3,12.46],\"coloraxis\":\"coloraxis\",\"symbol\":\"x\"},\"mode\":\"markers\",\"name\":\"78.83\",\"scene\":\"scene\",\"showlegend\":true,\"x\":[78.83,78.83],\"y\":[15.9,12.83],\"z\":[463.7,477.3],\"type\":\"scatter3d\"},{\"hovertemplate\":\"perimeter_mean=%{x}<br>texture_mean=%{y}<br>area_mean=%{z}<br>radius_mean=%{marker.color}<extra></extra>\",\"legendgroup\":\"94.37\",\"marker\":{\"color\":[14.22],\"coloraxis\":\"coloraxis\",\"symbol\":\"cross\"},\"mode\":\"markers\",\"name\":\"94.37\",\"scene\":\"scene\",\"showlegend\":true,\"x\":[94.37],\"y\":[23.12],\"z\":[609.9],\"type\":\"scatter3d\"},{\"hovertemplate\":\"perimeter_mean=%{x}<br>texture_mean=%{y}<br>area_mean=%{z}<br>radius_mean=%{marker.color}<extra></extra>\",\"legendgroup\":\"82.02\",\"marker\":{\"color\":[12.77],\"coloraxis\":\"coloraxis\",\"symbol\":\"circle\"},\"mode\":\"markers\",\"name\":\"82.02\",\"scene\":\"scene\",\"showlegend\":true,\"x\":[82.02],\"y\":[21.41],\"z\":[507.4],\"type\":\"scatter3d\"},{\"hovertemplate\":\"perimeter_mean=%{x}<br>texture_mean=%{y}<br>area_mean=%{z}<br>radius_mean=%{marker.color}<extra></extra>\",\"legendgroup\":\"60.73\",\"marker\":{\"color\":[9.72],\"coloraxis\":\"coloraxis\",\"symbol\":\"diamond\"},\"mode\":\"markers\",\"name\":\"60.73\",\"scene\":\"scene\",\"showlegend\":true,\"x\":[60.73],\"y\":[18.22],\"z\":[288.1],\"type\":\"scatter3d\"},{\"hovertemplate\":\"perimeter_mean=%{x}<br>texture_mean=%{y}<br>area_mean=%{z}<br>radius_mean=%{marker.color}<extra></extra>\",\"legendgroup\":\"81.15\",\"marker\":{\"color\":[12.34],\"coloraxis\":\"coloraxis\",\"symbol\":\"square\"},\"mode\":\"markers\",\"name\":\"81.15\",\"scene\":\"scene\",\"showlegend\":true,\"x\":[81.15],\"y\":[26.86],\"z\":[477.4],\"type\":\"scatter3d\"},{\"hovertemplate\":\"perimeter_mean=%{x}<br>texture_mean=%{y}<br>area_mean=%{z}<br>radius_mean=%{marker.color}<extra></extra>\",\"legendgroup\":\"100.4\",\"marker\":{\"color\":[14.86],\"coloraxis\":\"coloraxis\",\"symbol\":\"x\"},\"mode\":\"markers\",\"name\":\"100.4\",\"scene\":\"scene\",\"showlegend\":true,\"x\":[100.4],\"y\":[23.21],\"z\":[671.4],\"type\":\"scatter3d\"},{\"hovertemplate\":\"perimeter_mean=%{x}<br>texture_mean=%{y}<br>area_mean=%{z}<br>radius_mean=%{marker.color}<extra></extra>\",\"legendgroup\":\"82.53\",\"marker\":{\"color\":[12.91],\"coloraxis\":\"coloraxis\",\"symbol\":\"cross\"},\"mode\":\"markers\",\"name\":\"82.53\",\"scene\":\"scene\",\"showlegend\":true,\"x\":[82.53],\"y\":[16.33],\"z\":[516.4],\"type\":\"scatter3d\"},{\"hovertemplate\":\"perimeter_mean=%{x}<br>texture_mean=%{y}<br>area_mean=%{z}<br>radius_mean=%{marker.color}<extra></extra>\",\"legendgroup\":\"90.63\",\"marker\":{\"color\":[13.77],\"coloraxis\":\"coloraxis\",\"symbol\":\"circle\"},\"mode\":\"markers\",\"name\":\"90.63\",\"scene\":\"scene\",\"showlegend\":true,\"x\":[90.63],\"y\":[22.29],\"z\":[588.9],\"type\":\"scatter3d\"},{\"hovertemplate\":\"perimeter_mean=%{x}<br>texture_mean=%{y}<br>area_mean=%{z}<br>radius_mean=%{marker.color}<extra></extra>\",\"legendgroup\":\"127.5\",\"marker\":{\"color\":[19.18],\"coloraxis\":\"coloraxis\",\"symbol\":\"diamond\"},\"mode\":\"markers\",\"name\":\"127.5\",\"scene\":\"scene\",\"showlegend\":true,\"x\":[127.5],\"y\":[22.49],\"z\":[1148.0],\"type\":\"scatter3d\"},{\"hovertemplate\":\"perimeter_mean=%{x}<br>texture_mean=%{y}<br>area_mean=%{z}<br>radius_mean=%{marker.color}<extra></extra>\",\"legendgroup\":\"94.49\",\"marker\":{\"color\":[14.45],\"coloraxis\":\"coloraxis\",\"symbol\":\"square\"},\"mode\":\"markers\",\"name\":\"94.49\",\"scene\":\"scene\",\"showlegend\":true,\"x\":[94.49],\"y\":[20.22],\"z\":[642.7],\"type\":\"scatter3d\"},{\"hovertemplate\":\"perimeter_mean=%{x}<br>texture_mean=%{y}<br>area_mean=%{z}<br>radius_mean=%{marker.color}<extra></extra>\",\"legendgroup\":\"78.54\",\"marker\":{\"color\":[12.23],\"coloraxis\":\"coloraxis\",\"symbol\":\"x\"},\"mode\":\"markers\",\"name\":\"78.54\",\"scene\":\"scene\",\"showlegend\":true,\"x\":[78.54],\"y\":[19.56],\"z\":[461.0],\"type\":\"scatter3d\"},{\"hovertemplate\":\"perimeter_mean=%{x}<br>texture_mean=%{y}<br>area_mean=%{z}<br>radius_mean=%{marker.color}<extra></extra>\",\"legendgroup\":\"115.1\",\"marker\":{\"color\":[17.54],\"coloraxis\":\"coloraxis\",\"symbol\":\"cross\"},\"mode\":\"markers\",\"name\":\"115.1\",\"scene\":\"scene\",\"showlegend\":true,\"x\":[115.1],\"y\":[19.32],\"z\":[951.6],\"type\":\"scatter3d\"},{\"hovertemplate\":\"perimeter_mean=%{x}<br>texture_mean=%{y}<br>area_mean=%{z}<br>radius_mean=%{marker.color}<extra></extra>\",\"legendgroup\":\"158.9\",\"marker\":{\"color\":[23.29],\"coloraxis\":\"coloraxis\",\"symbol\":\"circle\"},\"mode\":\"markers\",\"name\":\"158.9\",\"scene\":\"scene\",\"showlegend\":true,\"x\":[158.9],\"y\":[26.67],\"z\":[1685.0],\"type\":\"scatter3d\"},{\"hovertemplate\":\"perimeter_mean=%{x}<br>texture_mean=%{y}<br>area_mean=%{z}<br>radius_mean=%{marker.color}<extra></extra>\",\"legendgroup\":\"91.56\",\"marker\":{\"color\":[13.81],\"coloraxis\":\"coloraxis\",\"symbol\":\"diamond\"},\"mode\":\"markers\",\"name\":\"91.56\",\"scene\":\"scene\",\"showlegend\":true,\"x\":[91.56],\"y\":[23.75],\"z\":[597.8],\"type\":\"scatter3d\"},{\"hovertemplate\":\"perimeter_mean=%{x}<br>texture_mean=%{y}<br>area_mean=%{z}<br>radius_mean=%{marker.color}<extra></extra>\",\"legendgroup\":\"81.09\",\"marker\":{\"color\":[12.47],\"coloraxis\":\"coloraxis\",\"symbol\":\"square\"},\"mode\":\"markers\",\"name\":\"81.09\",\"scene\":\"scene\",\"showlegend\":true,\"x\":[81.09],\"y\":[18.6],\"z\":[481.9],\"type\":\"scatter3d\"},{\"hovertemplate\":\"perimeter_mean=%{x}<br>texture_mean=%{y}<br>area_mean=%{z}<br>radius_mean=%{marker.color}<extra></extra>\",\"legendgroup\":\"98.78\",\"marker\":{\"color\":[15.12],\"coloraxis\":\"coloraxis\",\"symbol\":\"x\"},\"mode\":\"markers\",\"name\":\"98.78\",\"scene\":\"scene\",\"showlegend\":true,\"x\":[98.78],\"y\":[16.68],\"z\":[716.6],\"type\":\"scatter3d\"},{\"hovertemplate\":\"perimeter_mean=%{x}<br>texture_mean=%{y}<br>area_mean=%{z}<br>radius_mean=%{marker.color}<extra></extra>\",\"legendgroup\":\"62.92\",\"marker\":{\"color\":[9.876],\"coloraxis\":\"coloraxis\",\"symbol\":\"cross\"},\"mode\":\"markers\",\"name\":\"62.92\",\"scene\":\"scene\",\"showlegend\":true,\"x\":[62.92],\"y\":[17.27],\"z\":[295.4],\"type\":\"scatter3d\"},{\"hovertemplate\":\"perimeter_mean=%{x}<br>texture_mean=%{y}<br>area_mean=%{z}<br>radius_mean=%{marker.color}<extra></extra>\",\"legendgroup\":\"109.7\",\"marker\":{\"color\":[17.01],\"coloraxis\":\"coloraxis\",\"symbol\":\"circle\"},\"mode\":\"markers\",\"name\":\"109.7\",\"scene\":\"scene\",\"showlegend\":true,\"x\":[109.7],\"y\":[20.26],\"z\":[904.3],\"type\":\"scatter3d\"},{\"hovertemplate\":\"perimeter_mean=%{x}<br>texture_mean=%{y}<br>area_mean=%{z}<br>radius_mean=%{marker.color}<extra></extra>\",\"legendgroup\":\"87.02\",\"marker\":{\"color\":[13.11],\"coloraxis\":\"coloraxis\",\"symbol\":\"diamond\"},\"mode\":\"markers\",\"name\":\"87.02\",\"scene\":\"scene\",\"showlegend\":true,\"x\":[87.02],\"y\":[22.54],\"z\":[529.4],\"type\":\"scatter3d\"},{\"hovertemplate\":\"perimeter_mean=%{x}<br>texture_mean=%{y}<br>area_mean=%{z}<br>radius_mean=%{marker.color}<extra></extra>\",\"legendgroup\":\"98.17\",\"marker\":{\"color\":[15.27],\"coloraxis\":\"coloraxis\",\"symbol\":\"square\"},\"mode\":\"markers\",\"name\":\"98.17\",\"scene\":\"scene\",\"showlegend\":true,\"x\":[98.17],\"y\":[12.91],\"z\":[725.5],\"type\":\"scatter3d\"},{\"hovertemplate\":\"perimeter_mean=%{x}<br>texture_mean=%{y}<br>area_mean=%{z}<br>radius_mean=%{marker.color}<extra></extra>\",\"legendgroup\":\"134.7\",\"marker\":{\"color\":[20.58,20.09,20.47],\"coloraxis\":\"coloraxis\",\"symbol\":\"x\"},\"mode\":\"markers\",\"name\":\"134.7\",\"scene\":\"scene\",\"showlegend\":true,\"x\":[134.7,134.7,134.7],\"y\":[22.14,23.86,20.67],\"z\":[1290.0,1247.0,1299.0],\"type\":\"scatter3d\"},{\"hovertemplate\":\"perimeter_mean=%{x}<br>texture_mean=%{y}<br>area_mean=%{z}<br>radius_mean=%{marker.color}<extra></extra>\",\"legendgroup\":\"75.51\",\"marker\":{\"color\":[11.84],\"coloraxis\":\"coloraxis\",\"symbol\":\"cross\"},\"mode\":\"markers\",\"name\":\"75.51\",\"scene\":\"scene\",\"showlegend\":true,\"x\":[75.51],\"y\":[18.94],\"z\":[428.0],\"type\":\"scatter3d\"},{\"hovertemplate\":\"perimeter_mean=%{x}<br>texture_mean=%{y}<br>area_mean=%{z}<br>radius_mean=%{marker.color}<extra></extra>\",\"legendgroup\":\"188.5\",\"marker\":{\"color\":[28.11],\"coloraxis\":\"coloraxis\",\"symbol\":\"circle\"},\"mode\":\"markers\",\"name\":\"188.5\",\"scene\":\"scene\",\"showlegend\":true,\"x\":[188.5],\"y\":[18.47],\"z\":[2499.0],\"type\":\"scatter3d\"},{\"hovertemplate\":\"perimeter_mean=%{x}<br>texture_mean=%{y}<br>area_mean=%{z}<br>radius_mean=%{marker.color}<extra></extra>\",\"legendgroup\":\"114.5\",\"marker\":{\"color\":[17.42],\"coloraxis\":\"coloraxis\",\"symbol\":\"diamond\"},\"mode\":\"markers\",\"name\":\"114.5\",\"scene\":\"scene\",\"showlegend\":true,\"x\":[114.5],\"y\":[25.56],\"z\":[948.0],\"type\":\"scatter3d\"},{\"hovertemplate\":\"perimeter_mean=%{x}<br>texture_mean=%{y}<br>area_mean=%{z}<br>radius_mean=%{marker.color}<extra></extra>\",\"legendgroup\":\"92.87\",\"marker\":{\"color\":[14.19],\"coloraxis\":\"coloraxis\",\"symbol\":\"square\"},\"mode\":\"markers\",\"name\":\"92.87\",\"scene\":\"scene\",\"showlegend\":true,\"x\":[92.87],\"y\":[23.81],\"z\":[610.7],\"type\":\"scatter3d\"},{\"hovertemplate\":\"perimeter_mean=%{x}<br>texture_mean=%{y}<br>area_mean=%{z}<br>radius_mean=%{marker.color}<extra></extra>\",\"legendgroup\":\"90.96\",\"marker\":{\"color\":[13.86],\"coloraxis\":\"coloraxis\",\"symbol\":\"x\"},\"mode\":\"markers\",\"name\":\"90.96\",\"scene\":\"scene\",\"showlegend\":true,\"x\":[90.96],\"y\":[16.93],\"z\":[578.9],\"type\":\"scatter3d\"},{\"hovertemplate\":\"perimeter_mean=%{x}<br>texture_mean=%{y}<br>area_mean=%{z}<br>radius_mean=%{marker.color}<extra></extra>\",\"legendgroup\":\"77.32\",\"marker\":{\"color\":[11.89],\"coloraxis\":\"coloraxis\",\"symbol\":\"cross\"},\"mode\":\"markers\",\"name\":\"77.32\",\"scene\":\"scene\",\"showlegend\":true,\"x\":[77.32],\"y\":[18.35],\"z\":[432.2],\"type\":\"scatter3d\"},{\"hovertemplate\":\"perimeter_mean=%{x}<br>texture_mean=%{y}<br>area_mean=%{z}<br>radius_mean=%{marker.color}<extra></extra>\",\"legendgroup\":\"65.05\",\"marker\":{\"color\":[10.2],\"coloraxis\":\"coloraxis\",\"symbol\":\"circle\"},\"mode\":\"markers\",\"name\":\"65.05\",\"scene\":\"scene\",\"showlegend\":true,\"x\":[65.05],\"y\":[17.48],\"z\":[321.2],\"type\":\"scatter3d\"},{\"hovertemplate\":\"perimeter_mean=%{x}<br>texture_mean=%{y}<br>area_mean=%{z}<br>radius_mean=%{marker.color}<extra></extra>\",\"legendgroup\":\"129.7\",\"marker\":{\"color\":[19.8],\"coloraxis\":\"coloraxis\",\"symbol\":\"diamond\"},\"mode\":\"markers\",\"name\":\"129.7\",\"scene\":\"scene\",\"showlegend\":true,\"x\":[129.7],\"y\":[21.56],\"z\":[1230.0],\"type\":\"scatter3d\"},{\"hovertemplate\":\"perimeter_mean=%{x}<br>texture_mean=%{y}<br>area_mean=%{z}<br>radius_mean=%{marker.color}<extra></extra>\",\"legendgroup\":\"128.0\",\"marker\":{\"color\":[19.53],\"coloraxis\":\"coloraxis\",\"symbol\":\"square\"},\"mode\":\"markers\",\"name\":\"128.0\",\"scene\":\"scene\",\"showlegend\":true,\"x\":[128.0],\"y\":[32.47],\"z\":[1223.0],\"type\":\"scatter3d\"},{\"hovertemplate\":\"perimeter_mean=%{x}<br>texture_mean=%{y}<br>area_mean=%{z}<br>radius_mean=%{marker.color}<extra></extra>\",\"legendgroup\":\"87.88\",\"marker\":{\"color\":[13.65],\"coloraxis\":\"coloraxis\",\"symbol\":\"x\"},\"mode\":\"markers\",\"name\":\"87.88\",\"scene\":\"scene\",\"showlegend\":true,\"x\":[87.88],\"y\":[13.16],\"z\":[568.9],\"type\":\"scatter3d\"},{\"hovertemplate\":\"perimeter_mean=%{x}<br>texture_mean=%{y}<br>area_mean=%{z}<br>radius_mean=%{marker.color}<extra></extra>\",\"legendgroup\":\"88.59\",\"marker\":{\"color\":[13.56],\"coloraxis\":\"coloraxis\",\"symbol\":\"cross\"},\"mode\":\"markers\",\"name\":\"88.59\",\"scene\":\"scene\",\"showlegend\":true,\"x\":[88.59],\"y\":[13.9],\"z\":[561.3],\"type\":\"scatter3d\"},{\"hovertemplate\":\"perimeter_mean=%{x}<br>texture_mean=%{y}<br>area_mean=%{z}<br>radius_mean=%{marker.color}<extra></extra>\",\"legendgroup\":\"65.12\",\"marker\":{\"color\":[10.18],\"coloraxis\":\"coloraxis\",\"symbol\":\"circle\"},\"mode\":\"markers\",\"name\":\"65.12\",\"scene\":\"scene\",\"showlegend\":true,\"x\":[65.12],\"y\":[17.53],\"z\":[313.1],\"type\":\"scatter3d\"},{\"hovertemplate\":\"perimeter_mean=%{x}<br>texture_mean=%{y}<br>area_mean=%{z}<br>radius_mean=%{marker.color}<extra></extra>\",\"legendgroup\":\"102.6\",\"marker\":{\"color\":[15.75],\"coloraxis\":\"coloraxis\",\"symbol\":\"diamond\"},\"mode\":\"markers\",\"name\":\"102.6\",\"scene\":\"scene\",\"showlegend\":true,\"x\":[102.6],\"y\":[20.25],\"z\":[761.3],\"type\":\"scatter3d\"},{\"hovertemplate\":\"perimeter_mean=%{x}<br>texture_mean=%{y}<br>area_mean=%{z}<br>radius_mean=%{marker.color}<extra></extra>\",\"legendgroup\":\"84.55\",\"marker\":{\"color\":[13.27],\"coloraxis\":\"coloraxis\",\"symbol\":\"square\"},\"mode\":\"markers\",\"name\":\"84.55\",\"scene\":\"scene\",\"showlegend\":true,\"x\":[84.55],\"y\":[17.02],\"z\":[546.4],\"type\":\"scatter3d\"},{\"hovertemplate\":\"perimeter_mean=%{x}<br>texture_mean=%{y}<br>area_mean=%{z}<br>radius_mean=%{marker.color}<extra></extra>\",\"legendgroup\":\"92.51\",\"marker\":{\"color\":[14.34],\"coloraxis\":\"coloraxis\",\"symbol\":\"x\"},\"mode\":\"markers\",\"name\":\"92.51\",\"scene\":\"scene\",\"showlegend\":true,\"x\":[92.51],\"y\":[13.47],\"z\":[641.2],\"type\":\"scatter3d\"},{\"hovertemplate\":\"perimeter_mean=%{x}<br>texture_mean=%{y}<br>area_mean=%{z}<br>radius_mean=%{marker.color}<extra></extra>\",\"legendgroup\":\"66.62\",\"marker\":{\"color\":[10.44],\"coloraxis\":\"coloraxis\",\"symbol\":\"cross\"},\"mode\":\"markers\",\"name\":\"66.62\",\"scene\":\"scene\",\"showlegend\":true,\"x\":[66.62],\"y\":[15.46],\"z\":[329.6],\"type\":\"scatter3d\"},{\"hovertemplate\":\"perimeter_mean=%{x}<br>texture_mean=%{y}<br>area_mean=%{z}<br>radius_mean=%{marker.color}<extra></extra>\",\"legendgroup\":\"97.45\",\"marker\":{\"color\":[15.0],\"coloraxis\":\"coloraxis\",\"symbol\":\"circle\"},\"mode\":\"markers\",\"name\":\"97.45\",\"scene\":\"scene\",\"showlegend\":true,\"x\":[97.45],\"y\":[15.51],\"z\":[684.5],\"type\":\"scatter3d\"},{\"hovertemplate\":\"perimeter_mean=%{x}<br>texture_mean=%{y}<br>area_mean=%{z}<br>radius_mean=%{marker.color}<extra></extra>\",\"legendgroup\":\"81.35\",\"marker\":{\"color\":[12.62,12.77],\"coloraxis\":\"coloraxis\",\"symbol\":\"diamond\"},\"mode\":\"markers\",\"name\":\"81.35\",\"scene\":\"scene\",\"showlegend\":true,\"x\":[81.35,81.35],\"y\":[23.97,29.43],\"z\":[496.4,507.9],\"type\":\"scatter3d\"},{\"hovertemplate\":\"perimeter_mean=%{x}<br>texture_mean=%{y}<br>area_mean=%{z}<br>radius_mean=%{marker.color}<extra></extra>\",\"legendgroup\":\"85.26\",\"marker\":{\"color\":[12.83],\"coloraxis\":\"coloraxis\",\"symbol\":\"square\"},\"mode\":\"markers\",\"name\":\"85.26\",\"scene\":\"scene\",\"showlegend\":true,\"x\":[85.26],\"y\":[22.33],\"z\":[503.2],\"type\":\"scatter3d\"},{\"hovertemplate\":\"perimeter_mean=%{x}<br>texture_mean=%{y}<br>area_mean=%{z}<br>radius_mean=%{marker.color}<extra></extra>\",\"legendgroup\":\"113.4\",\"marker\":{\"color\":[17.05,17.46],\"coloraxis\":\"coloraxis\",\"symbol\":\"x\"},\"mode\":\"markers\",\"name\":\"113.4\",\"scene\":\"scene\",\"showlegend\":true,\"x\":[113.4,113.4],\"y\":[19.08,39.28],\"z\":[895.0,920.6],\"type\":\"scatter3d\"},{\"hovertemplate\":\"perimeter_mean=%{x}<br>texture_mean=%{y}<br>area_mean=%{z}<br>radius_mean=%{marker.color}<extra></extra>\",\"legendgroup\":\"71.76\",\"marker\":{\"color\":[11.32],\"coloraxis\":\"coloraxis\",\"symbol\":\"cross\"},\"mode\":\"markers\",\"name\":\"71.76\",\"scene\":\"scene\",\"showlegend\":true,\"x\":[71.76],\"y\":[27.08],\"z\":[395.7],\"type\":\"scatter3d\"},{\"hovertemplate\":\"perimeter_mean=%{x}<br>texture_mean=%{y}<br>area_mean=%{z}<br>radius_mean=%{marker.color}<extra></extra>\",\"legendgroup\":\"70.79\",\"marker\":{\"color\":[11.22,10.96],\"coloraxis\":\"coloraxis\",\"symbol\":\"circle\"},\"mode\":\"markers\",\"name\":\"70.79\",\"scene\":\"scene\",\"showlegend\":true,\"x\":[70.79,70.79],\"y\":[33.81,17.62],\"z\":[386.8,365.6],\"type\":\"scatter3d\"},{\"hovertemplate\":\"perimeter_mean=%{x}<br>texture_mean=%{y}<br>area_mean=%{z}<br>radius_mean=%{marker.color}<extra></extra>\",\"legendgroup\":\"134.4\",\"marker\":{\"color\":[20.51],\"coloraxis\":\"coloraxis\",\"symbol\":\"diamond\"},\"mode\":\"markers\",\"name\":\"134.4\",\"scene\":\"scene\",\"showlegend\":true,\"x\":[134.4],\"y\":[27.81],\"z\":[1319.0],\"type\":\"scatter3d\"},{\"hovertemplate\":\"perimeter_mean=%{x}<br>texture_mean=%{y}<br>area_mean=%{z}<br>radius_mean=%{marker.color}<extra></extra>\",\"legendgroup\":\"60.21\",\"marker\":{\"color\":[9.567],\"coloraxis\":\"coloraxis\",\"symbol\":\"square\"},\"mode\":\"markers\",\"name\":\"60.21\",\"scene\":\"scene\",\"showlegend\":true,\"x\":[60.21],\"y\":[15.91],\"z\":[279.6],\"type\":\"scatter3d\"},{\"hovertemplate\":\"perimeter_mean=%{x}<br>texture_mean=%{y}<br>area_mean=%{z}<br>radius_mean=%{marker.color}<extra></extra>\",\"legendgroup\":\"89.79\",\"marker\":{\"color\":[14.03],\"coloraxis\":\"coloraxis\",\"symbol\":\"x\"},\"mode\":\"markers\",\"name\":\"89.79\",\"scene\":\"scene\",\"showlegend\":true,\"x\":[89.79],\"y\":[21.25],\"z\":[603.4],\"type\":\"scatter3d\"},{\"hovertemplate\":\"perimeter_mean=%{x}<br>texture_mean=%{y}<br>area_mean=%{z}<br>radius_mean=%{marker.color}<extra></extra>\",\"legendgroup\":\"153.5\",\"marker\":{\"color\":[23.21],\"coloraxis\":\"coloraxis\",\"symbol\":\"cross\"},\"mode\":\"markers\",\"name\":\"153.5\",\"scene\":\"scene\",\"showlegend\":true,\"x\":[153.5],\"y\":[26.97],\"z\":[1670.0],\"type\":\"scatter3d\"},{\"hovertemplate\":\"perimeter_mean=%{x}<br>texture_mean=%{y}<br>area_mean=%{z}<br>radius_mean=%{marker.color}<extra></extra>\",\"legendgroup\":\"132.5\",\"marker\":{\"color\":[20.48],\"coloraxis\":\"coloraxis\",\"symbol\":\"circle\"},\"mode\":\"markers\",\"name\":\"132.5\",\"scene\":\"scene\",\"showlegend\":true,\"x\":[132.5],\"y\":[21.46],\"z\":[1306.0],\"type\":\"scatter3d\"},{\"hovertemplate\":\"perimeter_mean=%{x}<br>texture_mean=%{y}<br>area_mean=%{z}<br>radius_mean=%{marker.color}<extra></extra>\",\"legendgroup\":\"92.55\",\"marker\":{\"color\":[14.22],\"coloraxis\":\"coloraxis\",\"symbol\":\"diamond\"},\"mode\":\"markers\",\"name\":\"92.55\",\"scene\":\"scene\",\"showlegend\":true,\"x\":[92.55],\"y\":[27.85],\"z\":[623.9],\"type\":\"scatter3d\"},{\"hovertemplate\":\"perimeter_mean=%{x}<br>texture_mean=%{y}<br>area_mean=%{z}<br>radius_mean=%{marker.color}<extra></extra>\",\"legendgroup\":\"87.38\",\"marker\":{\"color\":[13.64],\"coloraxis\":\"coloraxis\",\"symbol\":\"square\"},\"mode\":\"markers\",\"name\":\"87.38\",\"scene\":\"scene\",\"showlegend\":true,\"x\":[87.38],\"y\":[15.6],\"z\":[575.3],\"type\":\"scatter3d\"},{\"hovertemplate\":\"perimeter_mean=%{x}<br>texture_mean=%{y}<br>area_mean=%{z}<br>radius_mean=%{marker.color}<extra></extra>\",\"legendgroup\":\"78.61\",\"marker\":{\"color\":[12.42],\"coloraxis\":\"coloraxis\",\"symbol\":\"x\"},\"mode\":\"markers\",\"name\":\"78.61\",\"scene\":\"scene\",\"showlegend\":true,\"x\":[78.61],\"y\":[15.04],\"z\":[476.5],\"type\":\"scatter3d\"},{\"hovertemplate\":\"perimeter_mean=%{x}<br>texture_mean=%{y}<br>area_mean=%{z}<br>radius_mean=%{marker.color}<extra></extra>\",\"legendgroup\":\"73.93\",\"marker\":{\"color\":[11.3],\"coloraxis\":\"coloraxis\",\"symbol\":\"cross\"},\"mode\":\"markers\",\"name\":\"73.93\",\"scene\":\"scene\",\"showlegend\":true,\"x\":[73.93],\"y\":[18.19],\"z\":[389.4],\"type\":\"scatter3d\"},{\"hovertemplate\":\"perimeter_mean=%{x}<br>texture_mean=%{y}<br>area_mean=%{z}<br>radius_mean=%{marker.color}<extra></extra>\",\"legendgroup\":\"88.54\",\"marker\":{\"color\":[13.75],\"coloraxis\":\"coloraxis\",\"symbol\":\"circle\"},\"mode\":\"markers\",\"name\":\"88.54\",\"scene\":\"scene\",\"showlegend\":true,\"x\":[88.54],\"y\":[23.77],\"z\":[590.0],\"type\":\"scatter3d\"},{\"hovertemplate\":\"perimeter_mean=%{x}<br>texture_mean=%{y}<br>area_mean=%{z}<br>radius_mean=%{marker.color}<extra></extra>\",\"legendgroup\":\"66.72\",\"marker\":{\"color\":[10.48],\"coloraxis\":\"coloraxis\",\"symbol\":\"diamond\"},\"mode\":\"markers\",\"name\":\"66.72\",\"scene\":\"scene\",\"showlegend\":true,\"x\":[66.72],\"y\":[19.86],\"z\":[337.7],\"type\":\"scatter3d\"},{\"hovertemplate\":\"perimeter_mean=%{x}<br>texture_mean=%{y}<br>area_mean=%{z}<br>radius_mean=%{marker.color}<extra></extra>\",\"legendgroup\":\"84.13\",\"marker\":{\"color\":[13.2],\"coloraxis\":\"coloraxis\",\"symbol\":\"square\"},\"mode\":\"markers\",\"name\":\"84.13\",\"scene\":\"scene\",\"showlegend\":true,\"x\":[84.13],\"y\":[17.43],\"z\":[541.6],\"type\":\"scatter3d\"},{\"hovertemplate\":\"perimeter_mean=%{x}<br>texture_mean=%{y}<br>area_mean=%{z}<br>radius_mean=%{marker.color}<extra></extra>\",\"legendgroup\":\"84.95\",\"marker\":{\"color\":[12.89],\"coloraxis\":\"coloraxis\",\"symbol\":\"x\"},\"mode\":\"markers\",\"name\":\"84.95\",\"scene\":\"scene\",\"showlegend\":true,\"x\":[84.95],\"y\":[14.11],\"z\":[512.2],\"type\":\"scatter3d\"},{\"hovertemplate\":\"perimeter_mean=%{x}<br>texture_mean=%{y}<br>area_mean=%{z}<br>radius_mean=%{marker.color}<extra></extra>\",\"legendgroup\":\"68.01\",\"marker\":{\"color\":[10.65],\"coloraxis\":\"coloraxis\",\"symbol\":\"cross\"},\"mode\":\"markers\",\"name\":\"68.01\",\"scene\":\"scene\",\"showlegend\":true,\"x\":[68.01],\"y\":[25.22],\"z\":[347.0],\"type\":\"scatter3d\"},{\"hovertemplate\":\"perimeter_mean=%{x}<br>texture_mean=%{y}<br>area_mean=%{z}<br>radius_mean=%{marker.color}<extra></extra>\",\"legendgroup\":\"73.87\",\"marker\":{\"color\":[11.52],\"coloraxis\":\"coloraxis\",\"symbol\":\"circle\"},\"mode\":\"markers\",\"name\":\"73.87\",\"scene\":\"scene\",\"showlegend\":true,\"x\":[73.87],\"y\":[14.93],\"z\":[406.3],\"type\":\"scatter3d\"},{\"hovertemplate\":\"perimeter_mean=%{x}<br>texture_mean=%{y}<br>area_mean=%{z}<br>radius_mean=%{marker.color}<extra></extra>\",\"legendgroup\":\"138.9\",\"marker\":{\"color\":[20.94],\"coloraxis\":\"coloraxis\",\"symbol\":\"diamond\"},\"mode\":\"markers\",\"name\":\"138.9\",\"scene\":\"scene\",\"showlegend\":true,\"x\":[138.9],\"y\":[23.56],\"z\":[1364.0],\"type\":\"scatter3d\"},{\"hovertemplate\":\"perimeter_mean=%{x}<br>texture_mean=%{y}<br>area_mean=%{z}<br>radius_mean=%{marker.color}<extra></extra>\",\"legendgroup\":\"73.28\",\"marker\":{\"color\":[11.5],\"coloraxis\":\"coloraxis\",\"symbol\":\"square\"},\"mode\":\"markers\",\"name\":\"73.28\",\"scene\":\"scene\",\"showlegend\":true,\"x\":[73.28],\"y\":[18.45],\"z\":[407.4],\"type\":\"scatter3d\"},{\"hovertemplate\":\"perimeter_mean=%{x}<br>texture_mean=%{y}<br>area_mean=%{z}<br>radius_mean=%{marker.color}<extra></extra>\",\"legendgroup\":\"113.0\",\"marker\":{\"color\":[17.3],\"coloraxis\":\"coloraxis\",\"symbol\":\"x\"},\"mode\":\"markers\",\"name\":\"113.0\",\"scene\":\"scene\",\"showlegend\":true,\"x\":[113.0],\"y\":[17.08],\"z\":[928.2],\"type\":\"scatter3d\"},{\"hovertemplate\":\"perimeter_mean=%{x}<br>texture_mean=%{y}<br>area_mean=%{z}<br>radius_mean=%{marker.color}<extra></extra>\",\"legendgroup\":\"126.5\",\"marker\":{\"color\":[19.45],\"coloraxis\":\"coloraxis\",\"symbol\":\"cross\"},\"mode\":\"markers\",\"name\":\"126.5\",\"scene\":\"scene\",\"showlegend\":true,\"x\":[126.5],\"y\":[19.33],\"z\":[1169.0],\"type\":\"scatter3d\"},{\"hovertemplate\":\"perimeter_mean=%{x}<br>texture_mean=%{y}<br>area_mean=%{z}<br>radius_mean=%{marker.color}<extra></extra>\",\"legendgroup\":\"91.43\",\"marker\":{\"color\":[13.96],\"coloraxis\":\"coloraxis\",\"symbol\":\"circle\"},\"mode\":\"markers\",\"name\":\"91.43\",\"scene\":\"scene\",\"showlegend\":true,\"x\":[91.43],\"y\":[17.05],\"z\":[602.4],\"type\":\"scatter3d\"},{\"hovertemplate\":\"perimeter_mean=%{x}<br>texture_mean=%{y}<br>area_mean=%{z}<br>radius_mean=%{marker.color}<extra></extra>\",\"legendgroup\":\"133.6\",\"marker\":{\"color\":[19.55],\"coloraxis\":\"coloraxis\",\"symbol\":\"diamond\"},\"mode\":\"markers\",\"name\":\"133.6\",\"scene\":\"scene\",\"showlegend\":true,\"x\":[133.6],\"y\":[28.77],\"z\":[1207.0],\"type\":\"scatter3d\"},{\"hovertemplate\":\"perimeter_mean=%{x}<br>texture_mean=%{y}<br>area_mean=%{z}<br>radius_mean=%{marker.color}<extra></extra>\",\"legendgroup\":\"103.2\",\"marker\":{\"color\":[15.32],\"coloraxis\":\"coloraxis\",\"symbol\":\"square\"},\"mode\":\"markers\",\"name\":\"103.2\",\"scene\":\"scene\",\"showlegend\":true,\"x\":[103.2],\"y\":[17.27],\"z\":[713.3],\"type\":\"scatter3d\"},{\"hovertemplate\":\"perimeter_mean=%{x}<br>texture_mean=%{y}<br>area_mean=%{z}<br>radius_mean=%{marker.color}<extra></extra>\",\"legendgroup\":\"110.2\",\"marker\":{\"color\":[15.66],\"coloraxis\":\"coloraxis\",\"symbol\":\"x\"},\"mode\":\"markers\",\"name\":\"110.2\",\"scene\":\"scene\",\"showlegend\":true,\"x\":[110.2],\"y\":[23.2],\"z\":[773.5],\"type\":\"scatter3d\"},{\"hovertemplate\":\"perimeter_mean=%{x}<br>texture_mean=%{y}<br>area_mean=%{z}<br>radius_mean=%{marker.color}<extra></extra>\",\"legendgroup\":\"111.0\",\"marker\":{\"color\":[17.35],\"coloraxis\":\"coloraxis\",\"symbol\":\"cross\"},\"mode\":\"markers\",\"name\":\"111.0\",\"scene\":\"scene\",\"showlegend\":true,\"x\":[111.0],\"y\":[23.06],\"z\":[933.1],\"type\":\"scatter3d\"},{\"hovertemplate\":\"perimeter_mean=%{x}<br>texture_mean=%{y}<br>area_mean=%{z}<br>radius_mean=%{marker.color}<extra></extra>\",\"legendgroup\":\"114.4\",\"marker\":{\"color\":[17.29],\"coloraxis\":\"coloraxis\",\"symbol\":\"circle\"},\"mode\":\"markers\",\"name\":\"114.4\",\"scene\":\"scene\",\"showlegend\":true,\"x\":[114.4],\"y\":[22.13],\"z\":[947.8],\"type\":\"scatter3d\"},{\"hovertemplate\":\"perimeter_mean=%{x}<br>texture_mean=%{y}<br>area_mean=%{z}<br>radius_mean=%{marker.color}<extra></extra>\",\"legendgroup\":\"100.0\",\"marker\":{\"color\":[15.61],\"coloraxis\":\"coloraxis\",\"symbol\":\"diamond\"},\"mode\":\"markers\",\"name\":\"100.0\",\"scene\":\"scene\",\"showlegend\":true,\"x\":[100.0],\"y\":[19.38],\"z\":[758.6],\"type\":\"scatter3d\"},{\"hovertemplate\":\"perimeter_mean=%{x}<br>texture_mean=%{y}<br>area_mean=%{z}<br>radius_mean=%{marker.color}<extra></extra>\",\"legendgroup\":\"111.6\",\"marker\":{\"color\":[17.19],\"coloraxis\":\"coloraxis\",\"symbol\":\"square\"},\"mode\":\"markers\",\"name\":\"111.6\",\"scene\":\"scene\",\"showlegend\":true,\"x\":[111.6],\"y\":[22.07],\"z\":[928.3],\"type\":\"scatter3d\"},{\"hovertemplate\":\"perimeter_mean=%{x}<br>texture_mean=%{y}<br>area_mean=%{z}<br>radius_mean=%{marker.color}<extra></extra>\",\"legendgroup\":\"135.7\",\"marker\":{\"color\":[20.73],\"coloraxis\":\"coloraxis\",\"symbol\":\"x\"},\"mode\":\"markers\",\"name\":\"135.7\",\"scene\":\"scene\",\"showlegend\":true,\"x\":[135.7],\"y\":[31.12],\"z\":[1419.0],\"type\":\"scatter3d\"},{\"hovertemplate\":\"perimeter_mean=%{x}<br>texture_mean=%{y}<br>area_mean=%{z}<br>radius_mean=%{marker.color}<extra></extra>\",\"legendgroup\":\"69.28\",\"marker\":{\"color\":[10.6],\"coloraxis\":\"coloraxis\",\"symbol\":\"cross\"},\"mode\":\"markers\",\"name\":\"69.28\",\"scene\":\"scene\",\"showlegend\":true,\"x\":[69.28],\"y\":[18.95],\"z\":[346.4],\"type\":\"scatter3d\"},{\"hovertemplate\":\"perimeter_mean=%{x}<br>texture_mean=%{y}<br>area_mean=%{z}<br>radius_mean=%{marker.color}<extra></extra>\",\"legendgroup\":\"87.16\",\"marker\":{\"color\":[13.59],\"coloraxis\":\"coloraxis\",\"symbol\":\"circle\"},\"mode\":\"markers\",\"name\":\"87.16\",\"scene\":\"scene\",\"showlegend\":true,\"x\":[87.16],\"y\":[21.84],\"z\":[561.0],\"type\":\"scatter3d\"},{\"hovertemplate\":\"perimeter_mean=%{x}<br>texture_mean=%{y}<br>area_mean=%{z}<br>radius_mean=%{marker.color}<extra></extra>\",\"legendgroup\":\"82.38\",\"marker\":{\"color\":[12.87],\"coloraxis\":\"coloraxis\",\"symbol\":\"diamond\"},\"mode\":\"markers\",\"name\":\"82.38\",\"scene\":\"scene\",\"showlegend\":true,\"x\":[82.38],\"y\":[16.21],\"z\":[512.2],\"type\":\"scatter3d\"},{\"hovertemplate\":\"perimeter_mean=%{x}<br>texture_mean=%{y}<br>area_mean=%{z}<br>radius_mean=%{marker.color}<extra></extra>\",\"legendgroup\":\"69.5\",\"marker\":{\"color\":[10.71],\"coloraxis\":\"coloraxis\",\"symbol\":\"square\"},\"mode\":\"markers\",\"name\":\"69.5\",\"scene\":\"scene\",\"showlegend\":true,\"x\":[69.5],\"y\":[20.39],\"z\":[344.9],\"type\":\"scatter3d\"},{\"hovertemplate\":\"perimeter_mean=%{x}<br>texture_mean=%{y}<br>area_mean=%{z}<br>radius_mean=%{marker.color}<extra></extra>\",\"legendgroup\":\"90.3\",\"marker\":{\"color\":[14.29],\"coloraxis\":\"coloraxis\",\"symbol\":\"x\"},\"mode\":\"markers\",\"name\":\"90.3\",\"scene\":\"scene\",\"showlegend\":true,\"x\":[90.3],\"y\":[16.82],\"z\":[632.6],\"type\":\"scatter3d\"},{\"hovertemplate\":\"perimeter_mean=%{x}<br>texture_mean=%{y}<br>area_mean=%{z}<br>radius_mean=%{marker.color}<extra></extra>\",\"legendgroup\":\"72.23\",\"marker\":{\"color\":[11.29],\"coloraxis\":\"coloraxis\",\"symbol\":\"cross\"},\"mode\":\"markers\",\"name\":\"72.23\",\"scene\":\"scene\",\"showlegend\":true,\"x\":[72.23],\"y\":[13.04],\"z\":[388.0],\"type\":\"scatter3d\"},{\"hovertemplate\":\"perimeter_mean=%{x}<br>texture_mean=%{y}<br>area_mean=%{z}<br>radius_mean=%{marker.color}<extra></extra>\",\"legendgroup\":\"147.3\",\"marker\":{\"color\":[21.75],\"coloraxis\":\"coloraxis\",\"symbol\":\"circle\"},\"mode\":\"markers\",\"name\":\"147.3\",\"scene\":\"scene\",\"showlegend\":true,\"x\":[147.3],\"y\":[20.99],\"z\":[1491.0],\"type\":\"scatter3d\"},{\"hovertemplate\":\"perimeter_mean=%{x}<br>texture_mean=%{y}<br>area_mean=%{z}<br>radius_mean=%{marker.color}<extra></extra>\",\"legendgroup\":\"61.5\",\"marker\":{\"color\":[9.742],\"coloraxis\":\"coloraxis\",\"symbol\":\"diamond\"},\"mode\":\"markers\",\"name\":\"61.5\",\"scene\":\"scene\",\"showlegend\":true,\"x\":[61.5],\"y\":[15.67],\"z\":[289.9],\"type\":\"scatter3d\"},{\"hovertemplate\":\"perimeter_mean=%{x}<br>texture_mean=%{y}<br>area_mean=%{z}<br>radius_mean=%{marker.color}<extra></extra>\",\"legendgroup\":\"115.2\",\"marker\":{\"color\":[17.93],\"coloraxis\":\"coloraxis\",\"symbol\":\"square\"},\"mode\":\"markers\",\"name\":\"115.2\",\"scene\":\"scene\",\"showlegend\":true,\"x\":[115.2],\"y\":[24.48],\"z\":[998.9],\"type\":\"scatter3d\"},{\"hovertemplate\":\"perimeter_mean=%{x}<br>texture_mean=%{y}<br>area_mean=%{z}<br>radius_mean=%{marker.color}<extra></extra>\",\"legendgroup\":\"76.2\",\"marker\":{\"color\":[11.89],\"coloraxis\":\"coloraxis\",\"symbol\":\"x\"},\"mode\":\"markers\",\"name\":\"76.2\",\"scene\":\"scene\",\"showlegend\":true,\"x\":[76.2],\"y\":[17.36],\"z\":[435.6],\"type\":\"scatter3d\"},{\"hovertemplate\":\"perimeter_mean=%{x}<br>texture_mean=%{y}<br>area_mean=%{z}<br>radius_mean=%{marker.color}<extra></extra>\",\"legendgroup\":\"71.79\",\"marker\":{\"color\":[11.33],\"coloraxis\":\"coloraxis\",\"symbol\":\"cross\"},\"mode\":\"markers\",\"name\":\"71.79\",\"scene\":\"scene\",\"showlegend\":true,\"x\":[71.79],\"y\":[14.16],\"z\":[396.6],\"type\":\"scatter3d\"},{\"hovertemplate\":\"perimeter_mean=%{x}<br>texture_mean=%{y}<br>area_mean=%{z}<br>radius_mean=%{marker.color}<extra></extra>\",\"legendgroup\":\"120.9\",\"marker\":{\"color\":[18.81],\"coloraxis\":\"coloraxis\",\"symbol\":\"circle\"},\"mode\":\"markers\",\"name\":\"120.9\",\"scene\":\"scene\",\"showlegend\":true,\"x\":[120.9],\"y\":[19.98],\"z\":[1102.0],\"type\":\"scatter3d\"},{\"hovertemplate\":\"perimeter_mean=%{x}<br>texture_mean=%{y}<br>area_mean=%{z}<br>radius_mean=%{marker.color}<extra></extra>\",\"legendgroup\":\"86.24\",\"marker\":{\"color\":[13.59],\"coloraxis\":\"coloraxis\",\"symbol\":\"diamond\"},\"mode\":\"markers\",\"name\":\"86.24\",\"scene\":\"scene\",\"showlegend\":true,\"x\":[86.24],\"y\":[17.84],\"z\":[572.3],\"type\":\"scatter3d\"},{\"hovertemplate\":\"perimeter_mean=%{x}<br>texture_mean=%{y}<br>area_mean=%{z}<br>radius_mean=%{marker.color}<extra></extra>\",\"legendgroup\":\"88.99\",\"marker\":{\"color\":[13.85],\"coloraxis\":\"coloraxis\",\"symbol\":\"square\"},\"mode\":\"markers\",\"name\":\"88.99\",\"scene\":\"scene\",\"showlegend\":true,\"x\":[88.99],\"y\":[15.18],\"z\":[587.4],\"type\":\"scatter3d\"},{\"hovertemplate\":\"perimeter_mean=%{x}<br>texture_mean=%{y}<br>area_mean=%{z}<br>radius_mean=%{marker.color}<extra></extra>\",\"legendgroup\":\"126.2\",\"marker\":{\"color\":[19.16],\"coloraxis\":\"coloraxis\",\"symbol\":\"x\"},\"mode\":\"markers\",\"name\":\"126.2\",\"scene\":\"scene\",\"showlegend\":true,\"x\":[126.2],\"y\":[26.6],\"z\":[1138.0],\"type\":\"scatter3d\"},{\"hovertemplate\":\"perimeter_mean=%{x}<br>texture_mean=%{y}<br>area_mean=%{z}<br>radius_mean=%{marker.color}<extra></extra>\",\"legendgroup\":\"74.24\",\"marker\":{\"color\":[11.74],\"coloraxis\":\"coloraxis\",\"symbol\":\"cross\"},\"mode\":\"markers\",\"name\":\"74.24\",\"scene\":\"scene\",\"showlegend\":true,\"x\":[74.24],\"y\":[14.02],\"z\":[427.3],\"type\":\"scatter3d\"},{\"hovertemplate\":\"perimeter_mean=%{x}<br>texture_mean=%{y}<br>area_mean=%{z}<br>radius_mean=%{marker.color}<extra></extra>\",\"legendgroup\":\"127.2\",\"marker\":{\"color\":[19.4],\"coloraxis\":\"coloraxis\",\"symbol\":\"circle\"},\"mode\":\"markers\",\"name\":\"127.2\",\"scene\":\"scene\",\"showlegend\":true,\"x\":[127.2],\"y\":[18.18],\"z\":[1145.0],\"type\":\"scatter3d\"},{\"hovertemplate\":\"perimeter_mean=%{x}<br>texture_mean=%{y}<br>area_mean=%{z}<br>radius_mean=%{marker.color}<extra></extra>\",\"legendgroup\":\"108.8\",\"marker\":{\"color\":[16.24],\"coloraxis\":\"coloraxis\",\"symbol\":\"diamond\"},\"mode\":\"markers\",\"name\":\"108.8\",\"scene\":\"scene\",\"showlegend\":true,\"x\":[108.8],\"y\":[18.77],\"z\":[805.1],\"type\":\"scatter3d\"},{\"hovertemplate\":\"perimeter_mean=%{x}<br>texture_mean=%{y}<br>area_mean=%{z}<br>radius_mean=%{marker.color}<extra></extra>\",\"legendgroup\":\"84.08\",\"marker\":{\"color\":[12.89,12.99],\"coloraxis\":\"coloraxis\",\"symbol\":\"square\"},\"mode\":\"markers\",\"name\":\"84.08\",\"scene\":\"scene\",\"showlegend\":true,\"x\":[84.08,84.08],\"y\":[15.7,14.23],\"z\":[516.6,514.3],\"type\":\"scatter3d\"},{\"hovertemplate\":\"perimeter_mean=%{x}<br>texture_mean=%{y}<br>area_mean=%{z}<br>radius_mean=%{marker.color}<extra></extra>\",\"legendgroup\":\"79.83\",\"marker\":{\"color\":[12.58],\"coloraxis\":\"coloraxis\",\"symbol\":\"x\"},\"mode\":\"markers\",\"name\":\"79.83\",\"scene\":\"scene\",\"showlegend\":true,\"x\":[79.83],\"y\":[18.4],\"z\":[489.0],\"type\":\"scatter3d\"},{\"hovertemplate\":\"perimeter_mean=%{x}<br>texture_mean=%{y}<br>area_mean=%{z}<br>radius_mean=%{marker.color}<extra></extra>\",\"legendgroup\":\"77.87\",\"marker\":{\"color\":[11.94],\"coloraxis\":\"coloraxis\",\"symbol\":\"cross\"},\"mode\":\"markers\",\"name\":\"77.87\",\"scene\":\"scene\",\"showlegend\":true,\"x\":[77.87],\"y\":[20.76],\"z\":[441.0],\"type\":\"scatter3d\"},{\"hovertemplate\":\"perimeter_mean=%{x}<br>texture_mean=%{y}<br>area_mean=%{z}<br>radius_mean=%{marker.color}<extra></extra>\",\"legendgroup\":\"81.89\",\"marker\":{\"color\":[12.89],\"coloraxis\":\"coloraxis\",\"symbol\":\"circle\"},\"mode\":\"markers\",\"name\":\"81.89\",\"scene\":\"scene\",\"showlegend\":true,\"x\":[81.89],\"y\":[13.12],\"z\":[515.9],\"type\":\"scatter3d\"},{\"hovertemplate\":\"perimeter_mean=%{x}<br>texture_mean=%{y}<br>area_mean=%{z}<br>radius_mean=%{marker.color}<extra></extra>\",\"legendgroup\":\"73.72\",\"marker\":{\"color\":[11.26],\"coloraxis\":\"coloraxis\",\"symbol\":\"diamond\"},\"mode\":\"markers\",\"name\":\"73.72\",\"scene\":\"scene\",\"showlegend\":true,\"x\":[73.72],\"y\":[19.96],\"z\":[394.1],\"type\":\"scatter3d\"},{\"hovertemplate\":\"perimeter_mean=%{x}<br>texture_mean=%{y}<br>area_mean=%{z}<br>radius_mean=%{marker.color}<extra></extra>\",\"legendgroup\":\"72.17\",\"marker\":{\"color\":[11.37],\"coloraxis\":\"coloraxis\",\"symbol\":\"square\"},\"mode\":\"markers\",\"name\":\"72.17\",\"scene\":\"scene\",\"showlegend\":true,\"x\":[72.17],\"y\":[18.89],\"z\":[396.0],\"type\":\"scatter3d\"},{\"hovertemplate\":\"perimeter_mean=%{x}<br>texture_mean=%{y}<br>area_mean=%{z}<br>radius_mean=%{marker.color}<extra></extra>\",\"legendgroup\":\"96.03\",\"marker\":{\"color\":[14.41],\"coloraxis\":\"coloraxis\",\"symbol\":\"x\"},\"mode\":\"markers\",\"name\":\"96.03\",\"scene\":\"scene\",\"showlegend\":true,\"x\":[96.03],\"y\":[19.73],\"z\":[651.0],\"type\":\"scatter3d\"},{\"hovertemplate\":\"perimeter_mean=%{x}<br>texture_mean=%{y}<br>area_mean=%{z}<br>radius_mean=%{marker.color}<extra></extra>\",\"legendgroup\":\"97.03\",\"marker\":{\"color\":[14.96],\"coloraxis\":\"coloraxis\",\"symbol\":\"cross\"},\"mode\":\"markers\",\"name\":\"97.03\",\"scene\":\"scene\",\"showlegend\":true,\"x\":[97.03],\"y\":[19.1],\"z\":[687.3],\"type\":\"scatter3d\"},{\"hovertemplate\":\"perimeter_mean=%{x}<br>texture_mean=%{y}<br>area_mean=%{z}<br>radius_mean=%{marker.color}<extra></extra>\",\"legendgroup\":\"83.14\",\"marker\":{\"color\":[12.95],\"coloraxis\":\"coloraxis\",\"symbol\":\"circle\"},\"mode\":\"markers\",\"name\":\"83.14\",\"scene\":\"scene\",\"showlegend\":true,\"x\":[83.14],\"y\":[16.02],\"z\":[513.7],\"type\":\"scatter3d\"},{\"hovertemplate\":\"perimeter_mean=%{x}<br>texture_mean=%{y}<br>area_mean=%{z}<br>radius_mean=%{marker.color}<extra></extra>\",\"legendgroup\":\"75.54\",\"marker\":{\"color\":[11.85],\"coloraxis\":\"coloraxis\",\"symbol\":\"diamond\"},\"mode\":\"markers\",\"name\":\"75.54\",\"scene\":\"scene\",\"showlegend\":true,\"x\":[75.54],\"y\":[17.46],\"z\":[432.7],\"type\":\"scatter3d\"},{\"hovertemplate\":\"perimeter_mean=%{x}<br>texture_mean=%{y}<br>area_mean=%{z}<br>radius_mean=%{marker.color}<extra></extra>\",\"legendgroup\":\"81.78\",\"marker\":{\"color\":[12.72],\"coloraxis\":\"coloraxis\",\"symbol\":\"square\"},\"mode\":\"markers\",\"name\":\"81.78\",\"scene\":\"scene\",\"showlegend\":true,\"x\":[81.78],\"y\":[13.78],\"z\":[492.1],\"type\":\"scatter3d\"},{\"hovertemplate\":\"perimeter_mean=%{x}<br>texture_mean=%{y}<br>area_mean=%{z}<br>radius_mean=%{marker.color}<extra></extra>\",\"legendgroup\":\"88.06\",\"marker\":{\"color\":[13.77],\"coloraxis\":\"coloraxis\",\"symbol\":\"x\"},\"mode\":\"markers\",\"name\":\"88.06\",\"scene\":\"scene\",\"showlegend\":true,\"x\":[88.06],\"y\":[13.27],\"z\":[582.7],\"type\":\"scatter3d\"},{\"hovertemplate\":\"perimeter_mean=%{x}<br>texture_mean=%{y}<br>area_mean=%{z}<br>radius_mean=%{marker.color}<extra></extra>\",\"legendgroup\":\"69.14\",\"marker\":{\"color\":[10.91],\"coloraxis\":\"coloraxis\",\"symbol\":\"cross\"},\"mode\":\"markers\",\"name\":\"69.14\",\"scene\":\"scene\",\"showlegend\":true,\"x\":[69.14],\"y\":[12.35],\"z\":[363.7],\"type\":\"scatter3d\"},{\"hovertemplate\":\"perimeter_mean=%{x}<br>texture_mean=%{y}<br>area_mean=%{z}<br>radius_mean=%{marker.color}<extra></extra>\",\"legendgroup\":\"75.0\",\"marker\":{\"color\":[11.76],\"coloraxis\":\"coloraxis\",\"symbol\":\"circle\"},\"mode\":\"markers\",\"name\":\"75.0\",\"scene\":\"scene\",\"showlegend\":true,\"x\":[75.0],\"y\":[18.14],\"z\":[431.1],\"type\":\"scatter3d\"},{\"hovertemplate\":\"perimeter_mean=%{x}<br>texture_mean=%{y}<br>area_mean=%{z}<br>radius_mean=%{marker.color}<extra></extra>\",\"legendgroup\":\"91.22\",\"marker\":{\"color\":[14.26],\"coloraxis\":\"coloraxis\",\"symbol\":\"diamond\"},\"mode\":\"markers\",\"name\":\"91.22\",\"scene\":\"scene\",\"showlegend\":true,\"x\":[91.22],\"y\":[18.17],\"z\":[633.1],\"type\":\"scatter3d\"},{\"hovertemplate\":\"perimeter_mean=%{x}<br>texture_mean=%{y}<br>area_mean=%{z}<br>radius_mean=%{marker.color}<extra></extra>\",\"legendgroup\":\"66.85\",\"marker\":{\"color\":[10.51],\"coloraxis\":\"coloraxis\",\"symbol\":\"square\"},\"mode\":\"markers\",\"name\":\"66.85\",\"scene\":\"scene\",\"showlegend\":true,\"x\":[66.85],\"y\":[23.09],\"z\":[334.2],\"type\":\"scatter3d\"},{\"hovertemplate\":\"perimeter_mean=%{x}<br>texture_mean=%{y}<br>area_mean=%{z}<br>radius_mean=%{marker.color}<extra></extra>\",\"legendgroup\":\"129.5\",\"marker\":{\"color\":[19.53],\"coloraxis\":\"coloraxis\",\"symbol\":\"x\"},\"mode\":\"markers\",\"name\":\"129.5\",\"scene\":\"scene\",\"showlegend\":true,\"x\":[129.5],\"y\":[18.9],\"z\":[1217.0],\"type\":\"scatter3d\"},{\"hovertemplate\":\"perimeter_mean=%{x}<br>texture_mean=%{y}<br>area_mean=%{z}<br>radius_mean=%{marker.color}<extra></extra>\",\"legendgroup\":\"80.43\",\"marker\":{\"color\":[12.46],\"coloraxis\":\"coloraxis\",\"symbol\":\"cross\"},\"mode\":\"markers\",\"name\":\"80.43\",\"scene\":\"scene\",\"showlegend\":true,\"x\":[80.43],\"y\":[19.89],\"z\":[471.3],\"type\":\"scatter3d\"},{\"hovertemplate\":\"perimeter_mean=%{x}<br>texture_mean=%{y}<br>area_mean=%{z}<br>radius_mean=%{marker.color}<extra></extra>\",\"legendgroup\":\"66.86\",\"marker\":{\"color\":[10.49],\"coloraxis\":\"coloraxis\",\"symbol\":\"circle\"},\"mode\":\"markers\",\"name\":\"66.86\",\"scene\":\"scene\",\"showlegend\":true,\"x\":[66.86],\"y\":[18.61],\"z\":[334.3],\"type\":\"scatter3d\"},{\"hovertemplate\":\"perimeter_mean=%{x}<br>texture_mean=%{y}<br>area_mean=%{z}<br>radius_mean=%{marker.color}<extra></extra>\",\"legendgroup\":\"73.59\",\"marker\":{\"color\":[11.46],\"coloraxis\":\"coloraxis\",\"symbol\":\"diamond\"},\"mode\":\"markers\",\"name\":\"73.59\",\"scene\":\"scene\",\"showlegend\":true,\"x\":[73.59],\"y\":[18.16],\"z\":[403.1],\"type\":\"scatter3d\"},{\"hovertemplate\":\"perimeter_mean=%{x}<br>texture_mean=%{y}<br>area_mean=%{z}<br>radius_mean=%{marker.color}<extra></extra>\",\"legendgroup\":\"74.23\",\"marker\":{\"color\":[11.6],\"coloraxis\":\"coloraxis\",\"symbol\":\"square\"},\"mode\":\"markers\",\"name\":\"74.23\",\"scene\":\"scene\",\"showlegend\":true,\"x\":[74.23],\"y\":[24.49],\"z\":[417.2],\"type\":\"scatter3d\"},{\"hovertemplate\":\"perimeter_mean=%{x}<br>texture_mean=%{y}<br>area_mean=%{z}<br>radius_mean=%{marker.color}<extra></extra>\",\"legendgroup\":\"84.07\",\"marker\":{\"color\":[13.2],\"coloraxis\":\"coloraxis\",\"symbol\":\"x\"},\"mode\":\"markers\",\"name\":\"84.07\",\"scene\":\"scene\",\"showlegend\":true,\"x\":[84.07],\"y\":[15.82],\"z\":[537.3],\"type\":\"scatter3d\"},{\"hovertemplate\":\"perimeter_mean=%{x}<br>texture_mean=%{y}<br>area_mean=%{z}<br>radius_mean=%{marker.color}<extra></extra>\",\"legendgroup\":\"56.36\",\"marker\":{\"color\":[9.0],\"coloraxis\":\"coloraxis\",\"symbol\":\"cross\"},\"mode\":\"markers\",\"name\":\"56.36\",\"scene\":\"scene\",\"showlegend\":true,\"x\":[56.36],\"y\":[14.4],\"z\":[246.3],\"type\":\"scatter3d\"},{\"hovertemplate\":\"perimeter_mean=%{x}<br>texture_mean=%{y}<br>area_mean=%{z}<br>radius_mean=%{marker.color}<extra></extra>\",\"legendgroup\":\"85.69\",\"marker\":{\"color\":[13.5],\"coloraxis\":\"coloraxis\",\"symbol\":\"circle\"},\"mode\":\"markers\",\"name\":\"85.69\",\"scene\":\"scene\",\"showlegend\":true,\"x\":[85.69],\"y\":[12.71],\"z\":[566.2],\"type\":\"scatter3d\"},{\"hovertemplate\":\"perimeter_mean=%{x}<br>texture_mean=%{y}<br>area_mean=%{z}<br>radius_mean=%{marker.color}<extra></extra>\",\"legendgroup\":\"82.71\",\"marker\":{\"color\":[13.05],\"coloraxis\":\"coloraxis\",\"symbol\":\"diamond\"},\"mode\":\"markers\",\"name\":\"82.71\",\"scene\":\"scene\",\"showlegend\":true,\"x\":[82.71],\"y\":[13.84],\"z\":[530.6],\"type\":\"scatter3d\"},{\"hovertemplate\":\"perimeter_mean=%{x}<br>texture_mean=%{y}<br>area_mean=%{z}<br>radius_mean=%{marker.color}<extra></extra>\",\"legendgroup\":\"74.33\",\"marker\":{\"color\":[11.7],\"coloraxis\":\"coloraxis\",\"symbol\":\"square\"},\"mode\":\"markers\",\"name\":\"74.33\",\"scene\":\"scene\",\"showlegend\":true,\"x\":[74.33],\"y\":[19.11],\"z\":[418.7],\"type\":\"scatter3d\"},{\"hovertemplate\":\"perimeter_mean=%{x}<br>texture_mean=%{y}<br>area_mean=%{z}<br>radius_mean=%{marker.color}<extra></extra>\",\"legendgroup\":\"92.68\",\"marker\":{\"color\":[14.61],\"coloraxis\":\"coloraxis\",\"symbol\":\"x\"},\"mode\":\"markers\",\"name\":\"92.68\",\"scene\":\"scene\",\"showlegend\":true,\"x\":[92.68],\"y\":[15.69],\"z\":[664.9],\"type\":\"scatter3d\"},{\"hovertemplate\":\"perimeter_mean=%{x}<br>texture_mean=%{y}<br>area_mean=%{z}<br>radius_mean=%{marker.color}<extra></extra>\",\"legendgroup\":\"82.29\",\"marker\":{\"color\":[12.76],\"coloraxis\":\"coloraxis\",\"symbol\":\"cross\"},\"mode\":\"markers\",\"name\":\"82.29\",\"scene\":\"scene\",\"showlegend\":true,\"x\":[82.29],\"y\":[13.37],\"z\":[504.1],\"type\":\"scatter3d\"},{\"hovertemplate\":\"perimeter_mean=%{x}<br>texture_mean=%{y}<br>area_mean=%{z}<br>radius_mean=%{marker.color}<extra></extra>\",\"legendgroup\":\"73.73\",\"marker\":{\"color\":[11.54],\"coloraxis\":\"coloraxis\",\"symbol\":\"circle\"},\"mode\":\"markers\",\"name\":\"73.73\",\"scene\":\"scene\",\"showlegend\":true,\"x\":[73.73],\"y\":[10.72],\"z\":[409.1],\"type\":\"scatter3d\"},{\"hovertemplate\":\"perimeter_mean=%{x}<br>texture_mean=%{y}<br>area_mean=%{z}<br>radius_mean=%{marker.color}<extra></extra>\",\"legendgroup\":\"54.09\",\"marker\":{\"color\":[8.597],\"coloraxis\":\"coloraxis\",\"symbol\":\"diamond\"},\"mode\":\"markers\",\"name\":\"54.09\",\"scene\":\"scene\",\"showlegend\":true,\"x\":[54.09],\"y\":[18.6],\"z\":[221.2],\"type\":\"scatter3d\"},{\"hovertemplate\":\"perimeter_mean=%{x}<br>texture_mean=%{y}<br>area_mean=%{z}<br>radius_mean=%{marker.color}<extra></extra>\",\"legendgroup\":\"77.25\",\"marker\":{\"color\":[12.18],\"coloraxis\":\"coloraxis\",\"symbol\":\"square\"},\"mode\":\"markers\",\"name\":\"77.25\",\"scene\":\"scene\",\"showlegend\":true,\"x\":[77.25],\"y\":[14.08],\"z\":[461.4],\"type\":\"scatter3d\"},{\"hovertemplate\":\"perimeter_mean=%{x}<br>texture_mean=%{y}<br>area_mean=%{z}<br>radius_mean=%{marker.color}<extra></extra>\",\"legendgroup\":\"118.7\",\"marker\":{\"color\":[18.22],\"coloraxis\":\"coloraxis\",\"symbol\":\"x\"},\"mode\":\"markers\",\"name\":\"118.7\",\"scene\":\"scene\",\"showlegend\":true,\"x\":[118.7],\"y\":[18.87],\"z\":[1027.0],\"type\":\"scatter3d\"},{\"hovertemplate\":\"perimeter_mean=%{x}<br>texture_mean=%{y}<br>area_mean=%{z}<br>radius_mean=%{marker.color}<extra></extra>\",\"legendgroup\":\"60.07\",\"marker\":{\"color\":[9.042],\"coloraxis\":\"coloraxis\",\"symbol\":\"cross\"},\"mode\":\"markers\",\"name\":\"60.07\",\"scene\":\"scene\",\"showlegend\":true,\"x\":[60.07],\"y\":[18.9],\"z\":[244.5],\"type\":\"scatter3d\"},{\"hovertemplate\":\"perimeter_mean=%{x}<br>texture_mean=%{y}<br>area_mean=%{z}<br>radius_mean=%{marker.color}<extra></extra>\",\"legendgroup\":\"78.6\",\"marker\":{\"color\":[12.43],\"coloraxis\":\"coloraxis\",\"symbol\":\"circle\"},\"mode\":\"markers\",\"name\":\"78.6\",\"scene\":\"scene\",\"showlegend\":true,\"x\":[78.6],\"y\":[17.0],\"z\":[477.3],\"type\":\"scatter3d\"},{\"hovertemplate\":\"perimeter_mean=%{x}<br>texture_mean=%{y}<br>area_mean=%{z}<br>radius_mean=%{marker.color}<extra></extra>\",\"legendgroup\":\"66.52\",\"marker\":{\"color\":[10.25],\"coloraxis\":\"coloraxis\",\"symbol\":\"diamond\"},\"mode\":\"markers\",\"name\":\"66.52\",\"scene\":\"scene\",\"showlegend\":true,\"x\":[66.52],\"y\":[16.18],\"z\":[324.2],\"type\":\"scatter3d\"},{\"hovertemplate\":\"perimeter_mean=%{x}<br>texture_mean=%{y}<br>area_mean=%{z}<br>radius_mean=%{marker.color}<extra></extra>\",\"legendgroup\":\"131.1\",\"marker\":{\"color\":[20.16],\"coloraxis\":\"coloraxis\",\"symbol\":\"square\"},\"mode\":\"markers\",\"name\":\"131.1\",\"scene\":\"scene\",\"showlegend\":true,\"x\":[131.1],\"y\":[19.66],\"z\":[1274.0],\"type\":\"scatter3d\"},{\"hovertemplate\":\"perimeter_mean=%{x}<br>texture_mean=%{y}<br>area_mean=%{z}<br>radius_mean=%{marker.color}<extra></extra>\",\"legendgroup\":\"82.82\",\"marker\":{\"color\":[12.86],\"coloraxis\":\"coloraxis\",\"symbol\":\"x\"},\"mode\":\"markers\",\"name\":\"82.82\",\"scene\":\"scene\",\"showlegend\":true,\"x\":[82.82],\"y\":[13.32],\"z\":[504.8],\"type\":\"scatter3d\"},{\"hovertemplate\":\"perimeter_mean=%{x}<br>texture_mean=%{y}<br>area_mean=%{z}<br>radius_mean=%{marker.color}<extra></extra>\",\"legendgroup\":\"135.9\",\"marker\":{\"color\":[20.34],\"coloraxis\":\"coloraxis\",\"symbol\":\"cross\"},\"mode\":\"markers\",\"name\":\"135.9\",\"scene\":\"scene\",\"showlegend\":true,\"x\":[135.9],\"y\":[21.51],\"z\":[1264.0],\"type\":\"scatter3d\"},{\"hovertemplate\":\"perimeter_mean=%{x}<br>texture_mean=%{y}<br>area_mean=%{z}<br>radius_mean=%{marker.color}<extra></extra>\",\"legendgroup\":\"78.01\",\"marker\":{\"color\":[12.2],\"coloraxis\":\"coloraxis\",\"symbol\":\"circle\"},\"mode\":\"markers\",\"name\":\"78.01\",\"scene\":\"scene\",\"showlegend\":true,\"x\":[78.01],\"y\":[15.21],\"z\":[457.9],\"type\":\"scatter3d\"},{\"hovertemplate\":\"perimeter_mean=%{x}<br>texture_mean=%{y}<br>area_mean=%{z}<br>radius_mean=%{marker.color}<extra></extra>\",\"legendgroup\":\"81.25\",\"marker\":{\"color\":[12.67,12.54],\"coloraxis\":\"coloraxis\",\"symbol\":\"diamond\"},\"mode\":\"markers\",\"name\":\"81.25\",\"scene\":\"scene\",\"showlegend\":true,\"x\":[81.25,81.25],\"y\":[17.3,16.32],\"z\":[489.9,476.3],\"type\":\"scatter3d\"},{\"hovertemplate\":\"perimeter_mean=%{x}<br>texture_mean=%{y}<br>area_mean=%{z}<br>radius_mean=%{marker.color}<extra></extra>\",\"legendgroup\":\"90.03\",\"marker\":{\"color\":[14.11],\"coloraxis\":\"coloraxis\",\"symbol\":\"square\"},\"mode\":\"markers\",\"name\":\"90.03\",\"scene\":\"scene\",\"showlegend\":true,\"x\":[90.03],\"y\":[12.88],\"z\":[616.5],\"type\":\"scatter3d\"},{\"hovertemplate\":\"perimeter_mean=%{x}<br>texture_mean=%{y}<br>area_mean=%{z}<br>radius_mean=%{marker.color}<extra></extra>\",\"legendgroup\":\"76.09\",\"marker\":{\"color\":[12.03],\"coloraxis\":\"coloraxis\",\"symbol\":\"x\"},\"mode\":\"markers\",\"name\":\"76.09\",\"scene\":\"scene\",\"showlegend\":true,\"x\":[76.09],\"y\":[17.93],\"z\":[446.0],\"type\":\"scatter3d\"},{\"hovertemplate\":\"perimeter_mean=%{x}<br>texture_mean=%{y}<br>area_mean=%{z}<br>radius_mean=%{marker.color}<extra></extra>\",\"legendgroup\":\"106.9\",\"marker\":{\"color\":[16.27],\"coloraxis\":\"coloraxis\",\"symbol\":\"cross\"},\"mode\":\"markers\",\"name\":\"106.9\",\"scene\":\"scene\",\"showlegend\":true,\"x\":[106.9],\"y\":[20.71],\"z\":[813.7],\"type\":\"scatter3d\"},{\"hovertemplate\":\"perimeter_mean=%{x}<br>texture_mean=%{y}<br>area_mean=%{z}<br>radius_mean=%{marker.color}<extra></extra>\",\"legendgroup\":\"107.5\",\"marker\":{\"color\":[16.26],\"coloraxis\":\"coloraxis\",\"symbol\":\"circle\"},\"mode\":\"markers\",\"name\":\"107.5\",\"scene\":\"scene\",\"showlegend\":true,\"x\":[107.5],\"y\":[21.88],\"z\":[826.8],\"type\":\"scatter3d\"},{\"hovertemplate\":\"perimeter_mean=%{x}<br>texture_mean=%{y}<br>area_mean=%{z}<br>radius_mean=%{marker.color}<extra></extra>\",\"legendgroup\":\"105.8\",\"marker\":{\"color\":[16.03],\"coloraxis\":\"coloraxis\",\"symbol\":\"diamond\"},\"mode\":\"markers\",\"name\":\"105.8\",\"scene\":\"scene\",\"showlegend\":true,\"x\":[105.8],\"y\":[15.51],\"z\":[793.2],\"type\":\"scatter3d\"},{\"hovertemplate\":\"perimeter_mean=%{x}<br>texture_mean=%{y}<br>area_mean=%{z}<br>radius_mean=%{marker.color}<extra></extra>\",\"legendgroup\":\"84.52\",\"marker\":{\"color\":[12.98],\"coloraxis\":\"coloraxis\",\"symbol\":\"square\"},\"mode\":\"markers\",\"name\":\"84.52\",\"scene\":\"scene\",\"showlegend\":true,\"x\":[84.52],\"y\":[19.35],\"z\":[514.0],\"type\":\"scatter3d\"},{\"hovertemplate\":\"perimeter_mean=%{x}<br>texture_mean=%{y}<br>area_mean=%{z}<br>radius_mean=%{marker.color}<extra></extra>\",\"legendgroup\":\"71.94\",\"marker\":{\"color\":[11.22],\"coloraxis\":\"coloraxis\",\"symbol\":\"x\"},\"mode\":\"markers\",\"name\":\"71.94\",\"scene\":\"scene\",\"showlegend\":true,\"x\":[71.94],\"y\":[19.86],\"z\":[387.3],\"type\":\"scatter3d\"},{\"hovertemplate\":\"perimeter_mean=%{x}<br>texture_mean=%{y}<br>area_mean=%{z}<br>radius_mean=%{marker.color}<extra></extra>\",\"legendgroup\":\"71.38\",\"marker\":{\"color\":[11.25],\"coloraxis\":\"coloraxis\",\"symbol\":\"cross\"},\"mode\":\"markers\",\"name\":\"71.38\",\"scene\":\"scene\",\"showlegend\":true,\"x\":[71.38],\"y\":[14.78],\"z\":[390.0],\"type\":\"scatter3d\"},{\"hovertemplate\":\"perimeter_mean=%{x}<br>texture_mean=%{y}<br>area_mean=%{z}<br>radius_mean=%{marker.color}<extra></extra>\",\"legendgroup\":\"77.88\",\"marker\":{\"color\":[12.3],\"coloraxis\":\"coloraxis\",\"symbol\":\"circle\"},\"mode\":\"markers\",\"name\":\"77.88\",\"scene\":\"scene\",\"showlegend\":true,\"x\":[77.88],\"y\":[19.02],\"z\":[464.4],\"type\":\"scatter3d\"},{\"hovertemplate\":\"perimeter_mean=%{x}<br>texture_mean=%{y}<br>area_mean=%{z}<br>radius_mean=%{marker.color}<extra></extra>\",\"legendgroup\":\"111.8\",\"marker\":{\"color\":[17.06],\"coloraxis\":\"coloraxis\",\"symbol\":\"diamond\"},\"mode\":\"markers\",\"name\":\"111.8\",\"scene\":\"scene\",\"showlegend\":true,\"x\":[111.8],\"y\":[21.0],\"z\":[918.6],\"type\":\"scatter3d\"},{\"hovertemplate\":\"perimeter_mean=%{x}<br>texture_mean=%{y}<br>area_mean=%{z}<br>radius_mean=%{marker.color}<extra></extra>\",\"legendgroup\":\"122.9\",\"marker\":{\"color\":[18.77],\"coloraxis\":\"coloraxis\",\"symbol\":\"square\"},\"mode\":\"markers\",\"name\":\"122.9\",\"scene\":\"scene\",\"showlegend\":true,\"x\":[122.9],\"y\":[21.43],\"z\":[1092.0],\"type\":\"scatter3d\"},{\"hovertemplate\":\"perimeter_mean=%{x}<br>texture_mean=%{y}<br>area_mean=%{z}<br>radius_mean=%{marker.color}<extra></extra>\",\"legendgroup\":\"64.41\",\"marker\":{\"color\":[10.05],\"coloraxis\":\"coloraxis\",\"symbol\":\"x\"},\"mode\":\"markers\",\"name\":\"64.41\",\"scene\":\"scene\",\"showlegend\":true,\"x\":[64.41],\"y\":[17.53],\"z\":[310.8],\"type\":\"scatter3d\"},{\"hovertemplate\":\"perimeter_mean=%{x}<br>texture_mean=%{y}<br>area_mean=%{z}<br>radius_mean=%{marker.color}<extra></extra>\",\"legendgroup\":\"155.1\",\"marker\":{\"color\":[23.51],\"coloraxis\":\"coloraxis\",\"symbol\":\"cross\"},\"mode\":\"markers\",\"name\":\"155.1\",\"scene\":\"scene\",\"showlegend\":true,\"x\":[155.1],\"y\":[24.27],\"z\":[1747.0],\"type\":\"scatter3d\"},{\"hovertemplate\":\"perimeter_mean=%{x}<br>texture_mean=%{y}<br>area_mean=%{z}<br>radius_mean=%{marker.color}<extra></extra>\",\"legendgroup\":\"94.15\",\"marker\":{\"color\":[14.42],\"coloraxis\":\"coloraxis\",\"symbol\":\"circle\"},\"mode\":\"markers\",\"name\":\"94.15\",\"scene\":\"scene\",\"showlegend\":true,\"x\":[94.15],\"y\":[16.54],\"z\":[641.2],\"type\":\"scatter3d\"},{\"hovertemplate\":\"perimeter_mean=%{x}<br>texture_mean=%{y}<br>area_mean=%{z}<br>radius_mean=%{marker.color}<extra></extra>\",\"legendgroup\":\"61.64\",\"marker\":{\"color\":[9.606],\"coloraxis\":\"coloraxis\",\"symbol\":\"diamond\"},\"mode\":\"markers\",\"name\":\"61.64\",\"scene\":\"scene\",\"showlegend\":true,\"x\":[61.64],\"y\":[16.84],\"z\":[280.5],\"type\":\"scatter3d\"},{\"hovertemplate\":\"perimeter_mean=%{x}<br>texture_mean=%{y}<br>area_mean=%{z}<br>radius_mean=%{marker.color}<extra></extra>\",\"legendgroup\":\"71.49\",\"marker\":{\"color\":[11.06,11.13],\"coloraxis\":\"coloraxis\",\"symbol\":\"square\"},\"mode\":\"markers\",\"name\":\"71.49\",\"scene\":\"scene\",\"showlegend\":true,\"x\":[71.49,71.49],\"y\":[14.96,22.44],\"z\":[373.9,378.4],\"type\":\"scatter3d\"},{\"hovertemplate\":\"perimeter_mean=%{x}<br>texture_mean=%{y}<br>area_mean=%{z}<br>radius_mean=%{marker.color}<extra></extra>\",\"legendgroup\":\"129.9\",\"marker\":{\"color\":[19.68],\"coloraxis\":\"coloraxis\",\"symbol\":\"x\"},\"mode\":\"markers\",\"name\":\"129.9\",\"scene\":\"scene\",\"showlegend\":true,\"x\":[129.9],\"y\":[21.68],\"z\":[1194.0],\"type\":\"scatter3d\"},{\"hovertemplate\":\"perimeter_mean=%{x}<br>texture_mean=%{y}<br>area_mean=%{z}<br>radius_mean=%{marker.color}<extra></extra>\",\"legendgroup\":\"75.03\",\"marker\":{\"color\":[11.71],\"coloraxis\":\"coloraxis\",\"symbol\":\"cross\"},\"mode\":\"markers\",\"name\":\"75.03\",\"scene\":\"scene\",\"showlegend\":true,\"x\":[75.03],\"y\":[15.45],\"z\":[420.3],\"type\":\"scatter3d\"},{\"hovertemplate\":\"perimeter_mean=%{x}<br>texture_mean=%{y}<br>area_mean=%{z}<br>radius_mean=%{marker.color}<extra></extra>\",\"legendgroup\":\"66.2\",\"marker\":{\"color\":[10.26],\"coloraxis\":\"coloraxis\",\"symbol\":\"circle\"},\"mode\":\"markers\",\"name\":\"66.2\",\"scene\":\"scene\",\"showlegend\":true,\"x\":[66.2],\"y\":[14.71],\"z\":[321.6],\"type\":\"scatter3d\"},{\"hovertemplate\":\"perimeter_mean=%{x}<br>texture_mean=%{y}<br>area_mean=%{z}<br>radius_mean=%{marker.color}<extra></extra>\",\"legendgroup\":\"76.66\",\"marker\":{\"color\":[12.06],\"coloraxis\":\"coloraxis\",\"symbol\":\"diamond\"},\"mode\":\"markers\",\"name\":\"76.66\",\"scene\":\"scene\",\"showlegend\":true,\"x\":[76.66],\"y\":[18.9],\"z\":[445.3],\"type\":\"scatter3d\"},{\"hovertemplate\":\"perimeter_mean=%{x}<br>texture_mean=%{y}<br>area_mean=%{z}<br>radius_mean=%{marker.color}<extra></extra>\",\"legendgroup\":\"94.87\",\"marker\":{\"color\":[14.76],\"coloraxis\":\"coloraxis\",\"symbol\":\"square\"},\"mode\":\"markers\",\"name\":\"94.87\",\"scene\":\"scene\",\"showlegend\":true,\"x\":[94.87],\"y\":[14.74],\"z\":[668.7],\"type\":\"scatter3d\"},{\"hovertemplate\":\"perimeter_mean=%{x}<br>texture_mean=%{y}<br>area_mean=%{z}<br>radius_mean=%{marker.color}<extra></extra>\",\"legendgroup\":\"73.02\",\"marker\":{\"color\":[11.47],\"coloraxis\":\"coloraxis\",\"symbol\":\"x\"},\"mode\":\"markers\",\"name\":\"73.02\",\"scene\":\"scene\",\"showlegend\":true,\"x\":[73.02],\"y\":[16.03],\"z\":[402.7],\"type\":\"scatter3d\"},{\"hovertemplate\":\"perimeter_mean=%{x}<br>texture_mean=%{y}<br>area_mean=%{z}<br>radius_mean=%{marker.color}<extra></extra>\",\"legendgroup\":\"77.23\",\"marker\":{\"color\":[11.95],\"coloraxis\":\"coloraxis\",\"symbol\":\"cross\"},\"mode\":\"markers\",\"name\":\"77.23\",\"scene\":\"scene\",\"showlegend\":true,\"x\":[77.23],\"y\":[14.96],\"z\":[426.7],\"type\":\"scatter3d\"},{\"hovertemplate\":\"perimeter_mean=%{x}<br>texture_mean=%{y}<br>area_mean=%{z}<br>radius_mean=%{marker.color}<extra></extra>\",\"legendgroup\":\"73.7\",\"marker\":{\"color\":[11.66],\"coloraxis\":\"coloraxis\",\"symbol\":\"circle\"},\"mode\":\"markers\",\"name\":\"73.7\",\"scene\":\"scene\",\"showlegend\":true,\"x\":[73.7],\"y\":[17.07],\"z\":[421.0],\"type\":\"scatter3d\"},{\"hovertemplate\":\"perimeter_mean=%{x}<br>texture_mean=%{y}<br>area_mean=%{z}<br>radius_mean=%{marker.color}<extra></extra>\",\"legendgroup\":\"107.1\",\"marker\":{\"color\":[15.75,16.69],\"coloraxis\":\"coloraxis\",\"symbol\":\"diamond\"},\"mode\":\"markers\",\"name\":\"107.1\",\"scene\":\"scene\",\"showlegend\":true,\"x\":[107.1,107.1],\"y\":[19.22,20.2],\"z\":[758.6,857.6],\"type\":\"scatter3d\"},{\"hovertemplate\":\"perimeter_mean=%{x}<br>texture_mean=%{y}<br>area_mean=%{z}<br>radius_mean=%{marker.color}<extra></extra>\",\"legendgroup\":\"174.2\",\"marker\":{\"color\":[25.73],\"coloraxis\":\"coloraxis\",\"symbol\":\"square\"},\"mode\":\"markers\",\"name\":\"174.2\",\"scene\":\"scene\",\"showlegend\":true,\"x\":[174.2],\"y\":[17.46],\"z\":[2010.0],\"type\":\"scatter3d\"},{\"hovertemplate\":\"perimeter_mean=%{x}<br>texture_mean=%{y}<br>area_mean=%{z}<br>radius_mean=%{marker.color}<extra></extra>\",\"legendgroup\":\"98.0\",\"marker\":{\"color\":[15.08],\"coloraxis\":\"coloraxis\",\"symbol\":\"x\"},\"mode\":\"markers\",\"name\":\"98.0\",\"scene\":\"scene\",\"showlegend\":true,\"x\":[98.0],\"y\":[25.74],\"z\":[716.6],\"type\":\"scatter3d\"},{\"hovertemplate\":\"perimeter_mean=%{x}<br>texture_mean=%{y}<br>area_mean=%{z}<br>radius_mean=%{marker.color}<extra></extra>\",\"legendgroup\":\"71.24\",\"marker\":{\"color\":[11.14],\"coloraxis\":\"coloraxis\",\"symbol\":\"cross\"},\"mode\":\"markers\",\"name\":\"71.24\",\"scene\":\"scene\",\"showlegend\":true,\"x\":[71.24],\"y\":[14.07],\"z\":[384.6],\"type\":\"scatter3d\"},{\"hovertemplate\":\"perimeter_mean=%{x}<br>texture_mean=%{y}<br>area_mean=%{z}<br>radius_mean=%{marker.color}<extra></extra>\",\"legendgroup\":\"81.92\",\"marker\":{\"color\":[12.56],\"coloraxis\":\"coloraxis\",\"symbol\":\"circle\"},\"mode\":\"markers\",\"name\":\"81.92\",\"scene\":\"scene\",\"showlegend\":true,\"x\":[81.92],\"y\":[19.07],\"z\":[485.8],\"type\":\"scatter3d\"},{\"hovertemplate\":\"perimeter_mean=%{x}<br>texture_mean=%{y}<br>area_mean=%{z}<br>radius_mean=%{marker.color}<extra></extra>\",\"legendgroup\":\"85.09\",\"marker\":{\"color\":[13.05],\"coloraxis\":\"coloraxis\",\"symbol\":\"diamond\"},\"mode\":\"markers\",\"name\":\"85.09\",\"scene\":\"scene\",\"showlegend\":true,\"x\":[85.09],\"y\":[18.59],\"z\":[512.0],\"type\":\"scatter3d\"},{\"hovertemplate\":\"perimeter_mean=%{x}<br>texture_mean=%{y}<br>area_mean=%{z}<br>radius_mean=%{marker.color}<extra></extra>\",\"legendgroup\":\"88.52\",\"marker\":{\"color\":[13.87],\"coloraxis\":\"coloraxis\",\"symbol\":\"square\"},\"mode\":\"markers\",\"name\":\"88.52\",\"scene\":\"scene\",\"showlegend\":true,\"x\":[88.52],\"y\":[16.21],\"z\":[593.7],\"type\":\"scatter3d\"},{\"hovertemplate\":\"perimeter_mean=%{x}<br>texture_mean=%{y}<br>area_mean=%{z}<br>radius_mean=%{marker.color}<extra></extra>\",\"legendgroup\":\"56.74\",\"marker\":{\"color\":[8.878],\"coloraxis\":\"coloraxis\",\"symbol\":\"x\"},\"mode\":\"markers\",\"name\":\"56.74\",\"scene\":\"scene\",\"showlegend\":true,\"x\":[56.74],\"y\":[15.49],\"z\":[241.0],\"type\":\"scatter3d\"},{\"hovertemplate\":\"perimeter_mean=%{x}<br>texture_mean=%{y}<br>area_mean=%{z}<br>radius_mean=%{marker.color}<extra></extra>\",\"legendgroup\":\"59.82\",\"marker\":{\"color\":[9.436],\"coloraxis\":\"coloraxis\",\"symbol\":\"cross\"},\"mode\":\"markers\",\"name\":\"59.82\",\"scene\":\"scene\",\"showlegend\":true,\"x\":[59.82],\"y\":[18.32],\"z\":[278.6],\"type\":\"scatter3d\"},{\"hovertemplate\":\"perimeter_mean=%{x}<br>texture_mean=%{y}<br>area_mean=%{z}<br>radius_mean=%{marker.color}<extra></extra>\",\"legendgroup\":\"79.42\",\"marker\":{\"color\":[12.54],\"coloraxis\":\"coloraxis\",\"symbol\":\"circle\"},\"mode\":\"markers\",\"name\":\"79.42\",\"scene\":\"scene\",\"showlegend\":true,\"x\":[79.42],\"y\":[18.07],\"z\":[491.9],\"type\":\"scatter3d\"},{\"hovertemplate\":\"perimeter_mean=%{x}<br>texture_mean=%{y}<br>area_mean=%{z}<br>radius_mean=%{marker.color}<extra></extra>\",\"legendgroup\":\"85.24\",\"marker\":{\"color\":[13.3],\"coloraxis\":\"coloraxis\",\"symbol\":\"diamond\"},\"mode\":\"markers\",\"name\":\"85.24\",\"scene\":\"scene\",\"showlegend\":true,\"x\":[85.24],\"y\":[21.57],\"z\":[546.1],\"type\":\"scatter3d\"},{\"hovertemplate\":\"perimeter_mean=%{x}<br>texture_mean=%{y}<br>area_mean=%{z}<br>radius_mean=%{marker.color}<extra></extra>\",\"legendgroup\":\"81.87\",\"marker\":{\"color\":[12.76],\"coloraxis\":\"coloraxis\",\"symbol\":\"square\"},\"mode\":\"markers\",\"name\":\"81.87\",\"scene\":\"scene\",\"showlegend\":true,\"x\":[81.87],\"y\":[18.84],\"z\":[496.6],\"type\":\"scatter3d\"},{\"hovertemplate\":\"perimeter_mean=%{x}<br>texture_mean=%{y}<br>area_mean=%{z}<br>radius_mean=%{marker.color}<extra></extra>\",\"legendgroup\":\"106.6\",\"marker\":{\"color\":[16.5],\"coloraxis\":\"coloraxis\",\"symbol\":\"x\"},\"mode\":\"markers\",\"name\":\"106.6\",\"scene\":\"scene\",\"showlegend\":true,\"x\":[106.6],\"y\":[18.29],\"z\":[838.1],\"type\":\"scatter3d\"},{\"hovertemplate\":\"perimeter_mean=%{x}<br>texture_mean=%{y}<br>area_mean=%{z}<br>radius_mean=%{marker.color}<extra></extra>\",\"legendgroup\":\"85.48\",\"marker\":{\"color\":[13.4],\"coloraxis\":\"coloraxis\",\"symbol\":\"cross\"},\"mode\":\"markers\",\"name\":\"85.48\",\"scene\":\"scene\",\"showlegend\":true,\"x\":[85.48],\"y\":[16.95],\"z\":[552.4],\"type\":\"scatter3d\"},{\"hovertemplate\":\"perimeter_mean=%{x}<br>texture_mean=%{y}<br>area_mean=%{z}<br>radius_mean=%{marker.color}<extra></extra>\",\"legendgroup\":\"133.8\",\"marker\":{\"color\":[20.44,20.18],\"coloraxis\":\"coloraxis\",\"symbol\":\"circle\"},\"mode\":\"markers\",\"name\":\"133.8\",\"scene\":\"scene\",\"showlegend\":true,\"x\":[133.8,133.8],\"y\":[21.78,19.54],\"z\":[1293.0,1250.0],\"type\":\"scatter3d\"},{\"hovertemplate\":\"perimeter_mean=%{x}<br>texture_mean=%{y}<br>area_mean=%{z}<br>radius_mean=%{marker.color}<extra></extra>\",\"legendgroup\":\"133.7\",\"marker\":{\"color\":[20.2],\"coloraxis\":\"coloraxis\",\"symbol\":\"diamond\"},\"mode\":\"markers\",\"name\":\"133.7\",\"scene\":\"scene\",\"showlegend\":true,\"x\":[133.7],\"y\":[26.83],\"z\":[1234.0],\"type\":\"scatter3d\"},{\"hovertemplate\":\"perimeter_mean=%{x}<br>texture_mean=%{y}<br>area_mean=%{z}<br>radius_mean=%{marker.color}<extra></extra>\",\"legendgroup\":\"78.31\",\"marker\":{\"color\":[12.21],\"coloraxis\":\"coloraxis\",\"symbol\":\"square\"},\"mode\":\"markers\",\"name\":\"78.31\",\"scene\":\"scene\",\"showlegend\":true,\"x\":[78.31],\"y\":[18.02],\"z\":[458.4],\"type\":\"scatter3d\"},{\"hovertemplate\":\"perimeter_mean=%{x}<br>texture_mean=%{y}<br>area_mean=%{z}<br>radius_mean=%{marker.color}<extra></extra>\",\"legendgroup\":\"140.9\",\"marker\":{\"color\":[21.71],\"coloraxis\":\"coloraxis\",\"symbol\":\"x\"},\"mode\":\"markers\",\"name\":\"140.9\",\"scene\":\"scene\",\"showlegend\":true,\"x\":[140.9],\"y\":[17.25],\"z\":[1546.0],\"type\":\"scatter3d\"},{\"hovertemplate\":\"perimeter_mean=%{x}<br>texture_mean=%{y}<br>area_mean=%{z}<br>radius_mean=%{marker.color}<extra></extra>\",\"legendgroup\":\"147.2\",\"marker\":{\"color\":[22.01],\"coloraxis\":\"coloraxis\",\"symbol\":\"cross\"},\"mode\":\"markers\",\"name\":\"147.2\",\"scene\":\"scene\",\"showlegend\":true,\"x\":[147.2],\"y\":[21.9],\"z\":[1482.0],\"type\":\"scatter3d\"},{\"hovertemplate\":\"perimeter_mean=%{x}<br>texture_mean=%{y}<br>area_mean=%{z}<br>radius_mean=%{marker.color}<extra></extra>\",\"legendgroup\":\"109.0\",\"marker\":{\"color\":[16.35],\"coloraxis\":\"coloraxis\",\"symbol\":\"circle\"},\"mode\":\"markers\",\"name\":\"109.0\",\"scene\":\"scene\",\"showlegend\":true,\"x\":[109.0],\"y\":[23.29],\"z\":[840.4],\"type\":\"scatter3d\"},{\"hovertemplate\":\"perimeter_mean=%{x}<br>texture_mean=%{y}<br>area_mean=%{z}<br>radius_mean=%{marker.color}<extra></extra>\",\"legendgroup\":\"97.65\",\"marker\":{\"color\":[15.19],\"coloraxis\":\"coloraxis\",\"symbol\":\"diamond\"},\"mode\":\"markers\",\"name\":\"97.65\",\"scene\":\"scene\",\"showlegend\":true,\"x\":[97.65],\"y\":[13.21],\"z\":[711.8],\"type\":\"scatter3d\"},{\"hovertemplate\":\"perimeter_mean=%{x}<br>texture_mean=%{y}<br>area_mean=%{z}<br>radius_mean=%{marker.color}<extra></extra>\",\"legendgroup\":\"141.3\",\"marker\":{\"color\":[21.37],\"coloraxis\":\"coloraxis\",\"symbol\":\"square\"},\"mode\":\"markers\",\"name\":\"141.3\",\"scene\":\"scene\",\"showlegend\":true,\"x\":[141.3],\"y\":[15.1],\"z\":[1386.0],\"type\":\"scatter3d\"},{\"hovertemplate\":\"perimeter_mean=%{x}<br>texture_mean=%{y}<br>area_mean=%{z}<br>radius_mean=%{marker.color}<extra></extra>\",\"legendgroup\":\"134.8\",\"marker\":{\"color\":[20.64],\"coloraxis\":\"coloraxis\",\"symbol\":\"x\"},\"mode\":\"markers\",\"name\":\"134.8\",\"scene\":\"scene\",\"showlegend\":true,\"x\":[134.8],\"y\":[17.35],\"z\":[1335.0],\"type\":\"scatter3d\"},{\"hovertemplate\":\"perimeter_mean=%{x}<br>texture_mean=%{y}<br>area_mean=%{z}<br>radius_mean=%{marker.color}<extra></extra>\",\"legendgroup\":\"87.84\",\"marker\":{\"color\":[13.69],\"coloraxis\":\"coloraxis\",\"symbol\":\"cross\"},\"mode\":\"markers\",\"name\":\"87.84\",\"scene\":\"scene\",\"showlegend\":true,\"x\":[87.84],\"y\":[16.07],\"z\":[579.1],\"type\":\"scatter3d\"},{\"hovertemplate\":\"perimeter_mean=%{x}<br>texture_mean=%{y}<br>area_mean=%{z}<br>radius_mean=%{marker.color}<extra></extra>\",\"legendgroup\":\"106.3\",\"marker\":{\"color\":[16.17],\"coloraxis\":\"coloraxis\",\"symbol\":\"circle\"},\"mode\":\"markers\",\"name\":\"106.3\",\"scene\":\"scene\",\"showlegend\":true,\"x\":[106.3],\"y\":[16.07],\"z\":[788.5],\"type\":\"scatter3d\"},{\"hovertemplate\":\"perimeter_mean=%{x}<br>texture_mean=%{y}<br>area_mean=%{z}<br>radius_mean=%{marker.color}<extra></extra>\",\"legendgroup\":\"70.15\",\"marker\":{\"color\":[10.57],\"coloraxis\":\"coloraxis\",\"symbol\":\"diamond\"},\"mode\":\"markers\",\"name\":\"70.15\",\"scene\":\"scene\",\"showlegend\":true,\"x\":[70.15],\"y\":[20.22],\"z\":[338.3],\"type\":\"scatter3d\"},{\"hovertemplate\":\"perimeter_mean=%{x}<br>texture_mean=%{y}<br>area_mean=%{z}<br>radius_mean=%{marker.color}<extra></extra>\",\"legendgroup\":\"85.89\",\"marker\":{\"color\":[13.46],\"coloraxis\":\"coloraxis\",\"symbol\":\"square\"},\"mode\":\"markers\",\"name\":\"85.89\",\"scene\":\"scene\",\"showlegend\":true,\"x\":[85.89],\"y\":[28.21],\"z\":[562.1],\"type\":\"scatter3d\"},{\"hovertemplate\":\"perimeter_mean=%{x}<br>texture_mean=%{y}<br>area_mean=%{z}<br>radius_mean=%{marker.color}<extra></extra>\",\"legendgroup\":\"88.27\",\"marker\":{\"color\":[13.66],\"coloraxis\":\"coloraxis\",\"symbol\":\"x\"},\"mode\":\"markers\",\"name\":\"88.27\",\"scene\":\"scene\",\"showlegend\":true,\"x\":[88.27],\"y\":[15.15],\"z\":[580.6],\"type\":\"scatter3d\"},{\"hovertemplate\":\"perimeter_mean=%{x}<br>texture_mean=%{y}<br>area_mean=%{z}<br>radius_mean=%{marker.color}<extra></extra>\",\"legendgroup\":\"73.3\",\"marker\":{\"color\":[11.08],\"coloraxis\":\"coloraxis\",\"symbol\":\"cross\"},\"mode\":\"markers\",\"name\":\"73.3\",\"scene\":\"scene\",\"showlegend\":true,\"x\":[73.3],\"y\":[18.83],\"z\":[361.6],\"type\":\"scatter3d\"},{\"hovertemplate\":\"perimeter_mean=%{x}<br>texture_mean=%{y}<br>area_mean=%{z}<br>radius_mean=%{marker.color}<extra></extra>\",\"legendgroup\":\"73.16\",\"marker\":{\"color\":[11.27],\"coloraxis\":\"coloraxis\",\"symbol\":\"circle\"},\"mode\":\"markers\",\"name\":\"73.16\",\"scene\":\"scene\",\"showlegend\":true,\"x\":[73.16],\"y\":[12.96],\"z\":[386.3],\"type\":\"scatter3d\"},{\"hovertemplate\":\"perimeter_mean=%{x}<br>texture_mean=%{y}<br>area_mean=%{z}<br>radius_mean=%{marker.color}<extra></extra>\",\"legendgroup\":\"70.67\",\"marker\":{\"color\":[11.04,11.2],\"coloraxis\":\"coloraxis\",\"symbol\":\"diamond\"},\"mode\":\"markers\",\"name\":\"70.67\",\"scene\":\"scene\",\"showlegend\":true,\"x\":[70.67,70.67],\"y\":[14.93,29.37],\"z\":[372.7,386.0],\"type\":\"scatter3d\"},{\"hovertemplate\":\"perimeter_mean=%{x}<br>texture_mean=%{y}<br>area_mean=%{z}<br>radius_mean=%{marker.color}<extra></extra>\",\"legendgroup\":\"78.75\",\"marker\":{\"color\":[12.05],\"coloraxis\":\"coloraxis\",\"symbol\":\"square\"},\"mode\":\"markers\",\"name\":\"78.75\",\"scene\":\"scene\",\"showlegend\":true,\"x\":[78.75],\"y\":[22.72],\"z\":[447.8],\"type\":\"scatter3d\"},{\"hovertemplate\":\"perimeter_mean=%{x}<br>texture_mean=%{y}<br>area_mean=%{z}<br>radius_mean=%{marker.color}<extra></extra>\",\"legendgroup\":\"80.64\",\"marker\":{\"color\":[12.39],\"coloraxis\":\"coloraxis\",\"symbol\":\"x\"},\"mode\":\"markers\",\"name\":\"80.64\",\"scene\":\"scene\",\"showlegend\":true,\"x\":[80.64],\"y\":[17.48],\"z\":[462.9],\"type\":\"scatter3d\"},{\"hovertemplate\":\"perimeter_mean=%{x}<br>texture_mean=%{y}<br>area_mean=%{z}<br>radius_mean=%{marker.color}<extra></extra>\",\"legendgroup\":\"85.79\",\"marker\":{\"color\":[13.28],\"coloraxis\":\"coloraxis\",\"symbol\":\"cross\"},\"mode\":\"markers\",\"name\":\"85.79\",\"scene\":\"scene\",\"showlegend\":true,\"x\":[85.79],\"y\":[13.72],\"z\":[541.8],\"type\":\"scatter3d\"},{\"hovertemplate\":\"perimeter_mean=%{x}<br>texture_mean=%{y}<br>area_mean=%{z}<br>radius_mean=%{marker.color}<extra></extra>\",\"legendgroup\":\"78.78\",\"marker\":{\"color\":[12.21],\"coloraxis\":\"coloraxis\",\"symbol\":\"circle\"},\"mode\":\"markers\",\"name\":\"78.78\",\"scene\":\"scene\",\"showlegend\":true,\"x\":[78.78],\"y\":[14.09],\"z\":[462.0],\"type\":\"scatter3d\"},{\"hovertemplate\":\"perimeter_mean=%{x}<br>texture_mean=%{y}<br>area_mean=%{z}<br>radius_mean=%{marker.color}<extra></extra>\",\"legendgroup\":\"88.37\",\"marker\":{\"color\":[13.88,13.78],\"coloraxis\":\"coloraxis\",\"symbol\":\"diamond\"},\"mode\":\"markers\",\"name\":\"88.37\",\"scene\":\"scene\",\"showlegend\":true,\"x\":[88.37,88.37],\"y\":[16.16,15.79],\"z\":[596.6,585.9],\"type\":\"scatter3d\"},{\"hovertemplate\":\"perimeter_mean=%{x}<br>texture_mean=%{y}<br>area_mean=%{z}<br>radius_mean=%{marker.color}<extra></extra>\",\"legendgroup\":\"73.38\",\"marker\":{\"color\":[11.27],\"coloraxis\":\"coloraxis\",\"symbol\":\"square\"},\"mode\":\"markers\",\"name\":\"73.38\",\"scene\":\"scene\",\"showlegend\":true,\"x\":[73.38],\"y\":[15.5],\"z\":[392.0],\"type\":\"scatter3d\"},{\"hovertemplate\":\"perimeter_mean=%{x}<br>texture_mean=%{y}<br>area_mean=%{z}<br>radius_mean=%{marker.color}<extra></extra>\",\"legendgroup\":\"128.9\",\"marker\":{\"color\":[19.55],\"coloraxis\":\"coloraxis\",\"symbol\":\"x\"},\"mode\":\"markers\",\"name\":\"128.9\",\"scene\":\"scene\",\"showlegend\":true,\"x\":[128.9],\"y\":[23.21],\"z\":[1174.0],\"type\":\"scatter3d\"},{\"hovertemplate\":\"perimeter_mean=%{x}<br>texture_mean=%{y}<br>area_mean=%{z}<br>radius_mean=%{marker.color}<extra></extra>\",\"legendgroup\":\"65.75\",\"marker\":{\"color\":[10.26],\"coloraxis\":\"coloraxis\",\"symbol\":\"cross\"},\"mode\":\"markers\",\"name\":\"65.75\",\"scene\":\"scene\",\"showlegend\":true,\"x\":[65.75],\"y\":[12.22],\"z\":[321.6],\"type\":\"scatter3d\"},{\"hovertemplate\":\"perimeter_mean=%{x}<br>texture_mean=%{y}<br>area_mean=%{z}<br>radius_mean=%{marker.color}<extra></extra>\",\"legendgroup\":\"55.27\",\"marker\":{\"color\":[8.734],\"coloraxis\":\"coloraxis\",\"symbol\":\"circle\"},\"mode\":\"markers\",\"name\":\"55.27\",\"scene\":\"scene\",\"showlegend\":true,\"x\":[55.27],\"y\":[16.84],\"z\":[234.3],\"type\":\"scatter3d\"},{\"hovertemplate\":\"perimeter_mean=%{x}<br>texture_mean=%{y}<br>area_mean=%{z}<br>radius_mean=%{marker.color}<extra></extra>\",\"legendgroup\":\"144.4\",\"marker\":{\"color\":[21.61],\"coloraxis\":\"coloraxis\",\"symbol\":\"diamond\"},\"mode\":\"markers\",\"name\":\"144.4\",\"scene\":\"scene\",\"showlegend\":true,\"x\":[144.4],\"y\":[22.28],\"z\":[1407.0],\"type\":\"scatter3d\"},{\"hovertemplate\":\"perimeter_mean=%{x}<br>texture_mean=%{y}<br>area_mean=%{z}<br>radius_mean=%{marker.color}<extra></extra>\",\"legendgroup\":\"78.07\",\"marker\":{\"color\":[12.1],\"coloraxis\":\"coloraxis\",\"symbol\":\"square\"},\"mode\":\"markers\",\"name\":\"78.07\",\"scene\":\"scene\",\"showlegend\":true,\"x\":[78.07],\"y\":[17.72],\"z\":[446.2],\"type\":\"scatter3d\"},{\"hovertemplate\":\"perimeter_mean=%{x}<br>texture_mean=%{y}<br>area_mean=%{z}<br>radius_mean=%{marker.color}<extra></extra>\",\"legendgroup\":\"89.75\",\"marker\":{\"color\":[14.06],\"coloraxis\":\"coloraxis\",\"symbol\":\"x\"},\"mode\":\"markers\",\"name\":\"89.75\",\"scene\":\"scene\",\"showlegend\":true,\"x\":[89.75],\"y\":[17.18],\"z\":[609.1],\"type\":\"scatter3d\"},{\"hovertemplate\":\"perimeter_mean=%{x}<br>texture_mean=%{y}<br>area_mean=%{z}<br>radius_mean=%{marker.color}<extra></extra>\",\"legendgroup\":\"88.1\",\"marker\":{\"color\":[13.51],\"coloraxis\":\"coloraxis\",\"symbol\":\"cross\"},\"mode\":\"markers\",\"name\":\"88.1\",\"scene\":\"scene\",\"showlegend\":true,\"x\":[88.1],\"y\":[18.89],\"z\":[558.1],\"type\":\"scatter3d\"},{\"hovertemplate\":\"perimeter_mean=%{x}<br>texture_mean=%{y}<br>area_mean=%{z}<br>radius_mean=%{marker.color}<extra></extra>\",\"legendgroup\":\"83.05\",\"marker\":{\"color\":[12.8],\"coloraxis\":\"coloraxis\",\"symbol\":\"circle\"},\"mode\":\"markers\",\"name\":\"83.05\",\"scene\":\"scene\",\"showlegend\":true,\"x\":[83.05],\"y\":[17.46],\"z\":[508.3],\"type\":\"scatter3d\"},{\"hovertemplate\":\"perimeter_mean=%{x}<br>texture_mean=%{y}<br>area_mean=%{z}<br>radius_mean=%{marker.color}<extra></extra>\",\"legendgroup\":\"70.31\",\"marker\":{\"color\":[11.06],\"coloraxis\":\"coloraxis\",\"symbol\":\"diamond\"},\"mode\":\"markers\",\"name\":\"70.31\",\"scene\":\"scene\",\"showlegend\":true,\"x\":[70.31],\"y\":[14.83],\"z\":[378.2],\"type\":\"scatter3d\"},{\"hovertemplate\":\"perimeter_mean=%{x}<br>texture_mean=%{y}<br>area_mean=%{z}<br>radius_mean=%{marker.color}<extra></extra>\",\"legendgroup\":\"75.26\",\"marker\":{\"color\":[11.8],\"coloraxis\":\"coloraxis\",\"symbol\":\"square\"},\"mode\":\"markers\",\"name\":\"75.26\",\"scene\":\"scene\",\"showlegend\":true,\"x\":[75.26],\"y\":[17.26],\"z\":[431.9],\"type\":\"scatter3d\"},{\"hovertemplate\":\"perimeter_mean=%{x}<br>texture_mean=%{y}<br>area_mean=%{z}<br>radius_mean=%{marker.color}<extra></extra>\",\"legendgroup\":\"124.4\",\"marker\":{\"color\":[17.91],\"coloraxis\":\"coloraxis\",\"symbol\":\"x\"},\"mode\":\"markers\",\"name\":\"124.4\",\"scene\":\"scene\",\"showlegend\":true,\"x\":[124.4],\"y\":[21.02],\"z\":[994.0],\"type\":\"scatter3d\"},{\"hovertemplate\":\"perimeter_mean=%{x}<br>texture_mean=%{y}<br>area_mean=%{z}<br>radius_mean=%{marker.color}<extra></extra>\",\"legendgroup\":\"76.14\",\"marker\":{\"color\":[11.93],\"coloraxis\":\"coloraxis\",\"symbol\":\"cross\"},\"mode\":\"markers\",\"name\":\"76.14\",\"scene\":\"scene\",\"showlegend\":true,\"x\":[76.14],\"y\":[10.91],\"z\":[442.7],\"type\":\"scatter3d\"},{\"hovertemplate\":\"perimeter_mean=%{x}<br>texture_mean=%{y}<br>area_mean=%{z}<br>radius_mean=%{marker.color}<extra></extra>\",\"legendgroup\":\"84.18\",\"marker\":{\"color\":[12.96],\"coloraxis\":\"coloraxis\",\"symbol\":\"circle\"},\"mode\":\"markers\",\"name\":\"84.18\",\"scene\":\"scene\",\"showlegend\":true,\"x\":[84.18],\"y\":[18.29],\"z\":[525.2],\"type\":\"scatter3d\"},{\"hovertemplate\":\"perimeter_mean=%{x}<br>texture_mean=%{y}<br>area_mean=%{z}<br>radius_mean=%{marker.color}<extra></extra>\",\"legendgroup\":\"83.18\",\"marker\":{\"color\":[12.94],\"coloraxis\":\"coloraxis\",\"symbol\":\"diamond\"},\"mode\":\"markers\",\"name\":\"83.18\",\"scene\":\"scene\",\"showlegend\":true,\"x\":[83.18],\"y\":[16.17],\"z\":[507.6],\"type\":\"scatter3d\"},{\"hovertemplate\":\"perimeter_mean=%{x}<br>texture_mean=%{y}<br>area_mean=%{z}<br>radius_mean=%{marker.color}<extra></extra>\",\"legendgroup\":\"78.29\",\"marker\":{\"color\":[12.34,12.16],\"coloraxis\":\"coloraxis\",\"symbol\":\"square\"},\"mode\":\"markers\",\"name\":\"78.29\",\"scene\":\"scene\",\"showlegend\":true,\"x\":[78.29,78.29],\"y\":[14.95,18.03],\"z\":[469.1,455.3],\"type\":\"scatter3d\"},{\"hovertemplate\":\"perimeter_mean=%{x}<br>texture_mean=%{y}<br>area_mean=%{z}<br>radius_mean=%{marker.color}<extra></extra>\",\"legendgroup\":\"70.39\",\"marker\":{\"color\":[10.94],\"coloraxis\":\"coloraxis\",\"symbol\":\"x\"},\"mode\":\"markers\",\"name\":\"70.39\",\"scene\":\"scene\",\"showlegend\":true,\"x\":[70.39],\"y\":[18.59],\"z\":[370.0],\"type\":\"scatter3d\"},{\"hovertemplate\":\"perimeter_mean=%{x}<br>texture_mean=%{y}<br>area_mean=%{z}<br>radius_mean=%{marker.color}<extra></extra>\",\"legendgroup\":\"104.3\",\"marker\":{\"color\":[16.14],\"coloraxis\":\"coloraxis\",\"symbol\":\"cross\"},\"mode\":\"markers\",\"name\":\"104.3\",\"scene\":\"scene\",\"showlegend\":true,\"x\":[104.3],\"y\":[14.86],\"z\":[800.0],\"type\":\"scatter3d\"},{\"hovertemplate\":\"perimeter_mean=%{x}<br>texture_mean=%{y}<br>area_mean=%{z}<br>radius_mean=%{marker.color}<extra></extra>\",\"legendgroup\":\"82.63\",\"marker\":{\"color\":[12.85],\"coloraxis\":\"coloraxis\",\"symbol\":\"circle\"},\"mode\":\"markers\",\"name\":\"82.63\",\"scene\":\"scene\",\"showlegend\":true,\"x\":[82.63],\"y\":[21.37],\"z\":[514.5],\"type\":\"scatter3d\"},{\"hovertemplate\":\"perimeter_mean=%{x}<br>texture_mean=%{y}<br>area_mean=%{z}<br>radius_mean=%{marker.color}<extra></extra>\",\"legendgroup\":\"117.8\",\"marker\":{\"color\":[17.99],\"coloraxis\":\"coloraxis\",\"symbol\":\"diamond\"},\"mode\":\"markers\",\"name\":\"117.8\",\"scene\":\"scene\",\"showlegend\":true,\"x\":[117.8],\"y\":[20.66],\"z\":[991.7],\"type\":\"scatter3d\"},{\"hovertemplate\":\"perimeter_mean=%{x}<br>texture_mean=%{y}<br>area_mean=%{z}<br>radius_mean=%{marker.color}<extra></extra>\",\"legendgroup\":\"78.41\",\"marker\":{\"color\":[12.27],\"coloraxis\":\"coloraxis\",\"symbol\":\"square\"},\"mode\":\"markers\",\"name\":\"78.41\",\"scene\":\"scene\",\"showlegend\":true,\"x\":[78.41],\"y\":[17.92],\"z\":[466.1],\"type\":\"scatter3d\"},{\"hovertemplate\":\"perimeter_mean=%{x}<br>texture_mean=%{y}<br>area_mean=%{z}<br>radius_mean=%{marker.color}<extra></extra>\",\"legendgroup\":\"72.49\",\"marker\":{\"color\":[11.36],\"coloraxis\":\"coloraxis\",\"symbol\":\"x\"},\"mode\":\"markers\",\"name\":\"72.49\",\"scene\":\"scene\",\"showlegend\":true,\"x\":[72.49],\"y\":[17.57],\"z\":[399.8],\"type\":\"scatter3d\"},{\"hovertemplate\":\"perimeter_mean=%{x}<br>texture_mean=%{y}<br>area_mean=%{z}<br>radius_mean=%{marker.color}<extra></extra>\",\"legendgroup\":\"70.92\",\"marker\":{\"color\":[11.04],\"coloraxis\":\"coloraxis\",\"symbol\":\"cross\"},\"mode\":\"markers\",\"name\":\"70.92\",\"scene\":\"scene\",\"showlegend\":true,\"x\":[70.92],\"y\":[16.83],\"z\":[373.2],\"type\":\"scatter3d\"},{\"hovertemplate\":\"perimeter_mean=%{x}<br>texture_mean=%{y}<br>area_mean=%{z}<br>radius_mean=%{marker.color}<extra></extra>\",\"legendgroup\":\"59.75\",\"marker\":{\"color\":[9.397],\"coloraxis\":\"coloraxis\",\"symbol\":\"circle\"},\"mode\":\"markers\",\"name\":\"59.75\",\"scene\":\"scene\",\"showlegend\":true,\"x\":[59.75],\"y\":[21.68],\"z\":[268.8],\"type\":\"scatter3d\"},{\"hovertemplate\":\"perimeter_mean=%{x}<br>texture_mean=%{y}<br>area_mean=%{z}<br>radius_mean=%{marker.color}<extra></extra>\",\"legendgroup\":\"97.53\",\"marker\":{\"color\":[14.99],\"coloraxis\":\"coloraxis\",\"symbol\":\"diamond\"},\"mode\":\"markers\",\"name\":\"97.53\",\"scene\":\"scene\",\"showlegend\":true,\"x\":[97.53],\"y\":[22.11],\"z\":[693.7],\"type\":\"scatter3d\"},{\"hovertemplate\":\"perimeter_mean=%{x}<br>texture_mean=%{y}<br>area_mean=%{z}<br>radius_mean=%{marker.color}<extra></extra>\",\"legendgroup\":\"96.71\",\"marker\":{\"color\":[15.13],\"coloraxis\":\"coloraxis\",\"symbol\":\"square\"},\"mode\":\"markers\",\"name\":\"96.71\",\"scene\":\"scene\",\"showlegend\":true,\"x\":[96.71],\"y\":[29.81],\"z\":[719.5],\"type\":\"scatter3d\"},{\"hovertemplate\":\"perimeter_mean=%{x}<br>texture_mean=%{y}<br>area_mean=%{z}<br>radius_mean=%{marker.color}<extra></extra>\",\"legendgroup\":\"76.39\",\"marker\":{\"color\":[11.89],\"coloraxis\":\"coloraxis\",\"symbol\":\"x\"},\"mode\":\"markers\",\"name\":\"76.39\",\"scene\":\"scene\",\"showlegend\":true,\"x\":[76.39],\"y\":[21.17],\"z\":[433.8],\"type\":\"scatter3d\"},{\"hovertemplate\":\"perimeter_mean=%{x}<br>texture_mean=%{y}<br>area_mean=%{z}<br>radius_mean=%{marker.color}<extra></extra>\",\"legendgroup\":\"59.6\",\"marker\":{\"color\":[9.405],\"coloraxis\":\"coloraxis\",\"symbol\":\"cross\"},\"mode\":\"markers\",\"name\":\"59.6\",\"scene\":\"scene\",\"showlegend\":true,\"x\":[59.6],\"y\":[21.7],\"z\":[271.2],\"type\":\"scatter3d\"},{\"hovertemplate\":\"perimeter_mean=%{x}<br>texture_mean=%{y}<br>area_mean=%{z}<br>radius_mean=%{marker.color}<extra></extra>\",\"legendgroup\":\"102.9\",\"marker\":{\"color\":[15.5],\"coloraxis\":\"coloraxis\",\"symbol\":\"circle\"},\"mode\":\"markers\",\"name\":\"102.9\",\"scene\":\"scene\",\"showlegend\":true,\"x\":[102.9],\"y\":[21.08],\"z\":[803.1],\"type\":\"scatter3d\"},{\"hovertemplate\":\"perimeter_mean=%{x}<br>texture_mean=%{y}<br>area_mean=%{z}<br>radius_mean=%{marker.color}<extra></extra>\",\"legendgroup\":\"80.88\",\"marker\":{\"color\":[12.7],\"coloraxis\":\"coloraxis\",\"symbol\":\"diamond\"},\"mode\":\"markers\",\"name\":\"80.88\",\"scene\":\"scene\",\"showlegend\":true,\"x\":[80.88],\"y\":[12.17],\"z\":[495.0],\"type\":\"scatter3d\"},{\"hovertemplate\":\"perimeter_mean=%{x}<br>texture_mean=%{y}<br>area_mean=%{z}<br>radius_mean=%{marker.color}<extra></extra>\",\"legendgroup\":\"70.95\",\"marker\":{\"color\":[11.16],\"coloraxis\":\"coloraxis\",\"symbol\":\"square\"},\"mode\":\"markers\",\"name\":\"70.95\",\"scene\":\"scene\",\"showlegend\":true,\"x\":[70.95],\"y\":[21.41],\"z\":[380.3],\"type\":\"scatter3d\"},{\"hovertemplate\":\"perimeter_mean=%{x}<br>texture_mean=%{y}<br>area_mean=%{z}<br>radius_mean=%{marker.color}<extra></extra>\",\"legendgroup\":\"74.2\",\"marker\":{\"color\":[11.57],\"coloraxis\":\"coloraxis\",\"symbol\":\"x\"},\"mode\":\"markers\",\"name\":\"74.2\",\"scene\":\"scene\",\"showlegend\":true,\"x\":[74.2],\"y\":[19.04],\"z\":[409.7],\"type\":\"scatter3d\"},{\"hovertemplate\":\"perimeter_mean=%{x}<br>texture_mean=%{y}<br>area_mean=%{z}<br>radius_mean=%{marker.color}<extra></extra>\",\"legendgroup\":\"98.22\",\"marker\":{\"color\":[14.69],\"coloraxis\":\"coloraxis\",\"symbol\":\"cross\"},\"mode\":\"markers\",\"name\":\"98.22\",\"scene\":\"scene\",\"showlegend\":true,\"x\":[98.22],\"y\":[13.98],\"z\":[656.1],\"type\":\"scatter3d\"},{\"hovertemplate\":\"perimeter_mean=%{x}<br>texture_mean=%{y}<br>area_mean=%{z}<br>radius_mean=%{marker.color}<extra></extra>\",\"legendgroup\":\"75.46\",\"marker\":{\"color\":[11.61],\"coloraxis\":\"coloraxis\",\"symbol\":\"circle\"},\"mode\":\"markers\",\"name\":\"75.46\",\"scene\":\"scene\",\"showlegend\":true,\"x\":[75.46],\"y\":[16.02],\"z\":[408.2],\"type\":\"scatter3d\"},{\"hovertemplate\":\"perimeter_mean=%{x}<br>texture_mean=%{y}<br>area_mean=%{z}<br>radius_mean=%{marker.color}<extra></extra>\",\"legendgroup\":\"89.46\",\"marker\":{\"color\":[13.66],\"coloraxis\":\"coloraxis\",\"symbol\":\"diamond\"},\"mode\":\"markers\",\"name\":\"89.46\",\"scene\":\"scene\",\"showlegend\":true,\"x\":[89.46],\"y\":[19.13],\"z\":[575.3],\"type\":\"scatter3d\"},{\"hovertemplate\":\"perimeter_mean=%{x}<br>texture_mean=%{y}<br>area_mean=%{z}<br>radius_mean=%{marker.color}<extra></extra>\",\"legendgroup\":\"61.93\",\"marker\":{\"color\":[9.742],\"coloraxis\":\"coloraxis\",\"symbol\":\"square\"},\"mode\":\"markers\",\"name\":\"61.93\",\"scene\":\"scene\",\"showlegend\":true,\"x\":[61.93],\"y\":[19.12],\"z\":[289.7],\"type\":\"scatter3d\"},{\"hovertemplate\":\"perimeter_mean=%{x}<br>texture_mean=%{y}<br>area_mean=%{z}<br>radius_mean=%{marker.color}<extra></extra>\",\"legendgroup\":\"63.19\",\"marker\":{\"color\":[10.03],\"coloraxis\":\"coloraxis\",\"symbol\":\"x\"},\"mode\":\"markers\",\"name\":\"63.19\",\"scene\":\"scene\",\"showlegend\":true,\"x\":[63.19],\"y\":[21.28],\"z\":[307.3],\"type\":\"scatter3d\"},{\"hovertemplate\":\"perimeter_mean=%{x}<br>texture_mean=%{y}<br>area_mean=%{z}<br>radius_mean=%{marker.color}<extra></extra>\",\"legendgroup\":\"68.79\",\"marker\":{\"color\":[10.8],\"coloraxis\":\"coloraxis\",\"symbol\":\"cross\"},\"mode\":\"markers\",\"name\":\"68.79\",\"scene\":\"scene\",\"showlegend\":true,\"x\":[68.79],\"y\":[21.98],\"z\":[359.9],\"type\":\"scatter3d\"},{\"hovertemplate\":\"perimeter_mean=%{x}<br>texture_mean=%{y}<br>area_mean=%{z}<br>radius_mean=%{marker.color}<extra></extra>\",\"legendgroup\":\"70.47\",\"marker\":{\"color\":[11.13],\"coloraxis\":\"coloraxis\",\"symbol\":\"circle\"},\"mode\":\"markers\",\"name\":\"70.47\",\"scene\":\"scene\",\"showlegend\":true,\"x\":[70.47],\"y\":[16.62],\"z\":[381.1],\"type\":\"scatter3d\"},{\"hovertemplate\":\"perimeter_mean=%{x}<br>texture_mean=%{y}<br>area_mean=%{z}<br>radius_mean=%{marker.color}<extra></extra>\",\"legendgroup\":\"80.98\",\"marker\":{\"color\":[12.72],\"coloraxis\":\"coloraxis\",\"symbol\":\"diamond\"},\"mode\":\"markers\",\"name\":\"80.98\",\"scene\":\"scene\",\"showlegend\":true,\"x\":[80.98],\"y\":[17.67],\"z\":[501.3],\"type\":\"scatter3d\"},{\"hovertemplate\":\"perimeter_mean=%{x}<br>texture_mean=%{y}<br>area_mean=%{z}<br>radius_mean=%{marker.color}<extra></extra>\",\"legendgroup\":\"102.1\",\"marker\":{\"color\":[14.9],\"coloraxis\":\"coloraxis\",\"symbol\":\"square\"},\"mode\":\"markers\",\"name\":\"102.1\",\"scene\":\"scene\",\"showlegend\":true,\"x\":[102.1],\"y\":[22.53],\"z\":[685.0],\"type\":\"scatter3d\"},{\"hovertemplate\":\"perimeter_mean=%{x}<br>texture_mean=%{y}<br>area_mean=%{z}<br>radius_mean=%{marker.color}<extra></extra>\",\"legendgroup\":\"81.47\",\"marker\":{\"color\":[12.4],\"coloraxis\":\"coloraxis\",\"symbol\":\"x\"},\"mode\":\"markers\",\"name\":\"81.47\",\"scene\":\"scene\",\"showlegend\":true,\"x\":[81.47],\"y\":[17.68],\"z\":[467.8],\"type\":\"scatter3d\"},{\"hovertemplate\":\"perimeter_mean=%{x}<br>texture_mean=%{y}<br>area_mean=%{z}<br>radius_mean=%{marker.color}<extra></extra>\",\"legendgroup\":\"94.89\",\"marker\":{\"color\":[14.86],\"coloraxis\":\"coloraxis\",\"symbol\":\"cross\"},\"mode\":\"markers\",\"name\":\"94.89\",\"scene\":\"scene\",\"showlegend\":true,\"x\":[94.89],\"y\":[16.94],\"z\":[673.7],\"type\":\"scatter3d\"},{\"hovertemplate\":\"perimeter_mean=%{x}<br>texture_mean=%{y}<br>area_mean=%{z}<br>radius_mean=%{marker.color}<extra></extra>\",\"legendgroup\":\"91.12\",\"marker\":{\"color\":[13.98],\"coloraxis\":\"coloraxis\",\"symbol\":\"circle\"},\"mode\":\"markers\",\"name\":\"91.12\",\"scene\":\"scene\",\"showlegend\":true,\"x\":[91.12],\"y\":[19.62],\"z\":[599.5],\"type\":\"scatter3d\"},{\"hovertemplate\":\"perimeter_mean=%{x}<br>texture_mean=%{y}<br>area_mean=%{z}<br>radius_mean=%{marker.color}<extra></extra>\",\"legendgroup\":\"82.67\",\"marker\":{\"color\":[12.87],\"coloraxis\":\"coloraxis\",\"symbol\":\"diamond\"},\"mode\":\"markers\",\"name\":\"82.67\",\"scene\":\"scene\",\"showlegend\":true,\"x\":[82.67],\"y\":[19.54],\"z\":[509.2],\"type\":\"scatter3d\"},{\"hovertemplate\":\"perimeter_mean=%{x}<br>texture_mean=%{y}<br>area_mean=%{z}<br>radius_mean=%{marker.color}<extra></extra>\",\"legendgroup\":\"89.78\",\"marker\":{\"color\":[14.04],\"coloraxis\":\"coloraxis\",\"symbol\":\"square\"},\"mode\":\"markers\",\"name\":\"89.78\",\"scene\":\"scene\",\"showlegend\":true,\"x\":[89.78],\"y\":[15.98],\"z\":[611.2],\"type\":\"scatter3d\"},{\"hovertemplate\":\"perimeter_mean=%{x}<br>texture_mean=%{y}<br>area_mean=%{z}<br>radius_mean=%{marker.color}<extra></extra>\",\"legendgroup\":\"88.68\",\"marker\":{\"color\":[13.85],\"coloraxis\":\"coloraxis\",\"symbol\":\"x\"},\"mode\":\"markers\",\"name\":\"88.68\",\"scene\":\"scene\",\"showlegend\":true,\"x\":[88.68],\"y\":[19.6],\"z\":[592.6],\"type\":\"scatter3d\"},{\"hovertemplate\":\"perimeter_mean=%{x}<br>texture_mean=%{y}<br>area_mean=%{z}<br>radius_mean=%{marker.color}<extra></extra>\",\"legendgroup\":\"89.59\",\"marker\":{\"color\":[14.02],\"coloraxis\":\"coloraxis\",\"symbol\":\"cross\"},\"mode\":\"markers\",\"name\":\"89.59\",\"scene\":\"scene\",\"showlegend\":true,\"x\":[89.59],\"y\":[15.66],\"z\":[606.5],\"type\":\"scatter3d\"},{\"hovertemplate\":\"perimeter_mean=%{x}<br>texture_mean=%{y}<br>area_mean=%{z}<br>radius_mean=%{marker.color}<extra></extra>\",\"legendgroup\":\"71.73\",\"marker\":{\"color\":[10.97],\"coloraxis\":\"coloraxis\",\"symbol\":\"circle\"},\"mode\":\"markers\",\"name\":\"71.73\",\"scene\":\"scene\",\"showlegend\":true,\"x\":[71.73],\"y\":[17.2],\"z\":[371.5],\"type\":\"scatter3d\"},{\"hovertemplate\":\"perimeter_mean=%{x}<br>texture_mean=%{y}<br>area_mean=%{z}<br>radius_mean=%{marker.color}<extra></extra>\",\"legendgroup\":\"112.4\",\"marker\":{\"color\":[17.27],\"coloraxis\":\"coloraxis\",\"symbol\":\"diamond\"},\"mode\":\"markers\",\"name\":\"112.4\",\"scene\":\"scene\",\"showlegend\":true,\"x\":[112.4],\"y\":[25.42],\"z\":[928.8],\"type\":\"scatter3d\"},{\"hovertemplate\":\"perimeter_mean=%{x}<br>texture_mean=%{y}<br>area_mean=%{z}<br>radius_mean=%{marker.color}<extra></extra>\",\"legendgroup\":\"66.82\",\"marker\":{\"color\":[10.57],\"coloraxis\":\"coloraxis\",\"symbol\":\"square\"},\"mode\":\"markers\",\"name\":\"66.82\",\"scene\":\"scene\",\"showlegend\":true,\"x\":[66.82],\"y\":[18.32],\"z\":[340.9],\"type\":\"scatter3d\"},{\"hovertemplate\":\"perimeter_mean=%{x}<br>texture_mean=%{y}<br>area_mean=%{z}<br>radius_mean=%{marker.color}<extra></extra>\",\"legendgroup\":\"117.5\",\"marker\":{\"color\":[18.03],\"coloraxis\":\"coloraxis\",\"symbol\":\"x\"},\"mode\":\"markers\",\"name\":\"117.5\",\"scene\":\"scene\",\"showlegend\":true,\"x\":[117.5],\"y\":[16.85],\"z\":[990.0],\"type\":\"scatter3d\"},{\"hovertemplate\":\"perimeter_mean=%{x}<br>texture_mean=%{y}<br>area_mean=%{z}<br>radius_mean=%{marker.color}<extra></extra>\",\"legendgroup\":\"77.61\",\"marker\":{\"color\":[11.99],\"coloraxis\":\"coloraxis\",\"symbol\":\"cross\"},\"mode\":\"markers\",\"name\":\"77.61\",\"scene\":\"scene\",\"showlegend\":true,\"x\":[77.61],\"y\":[24.89],\"z\":[441.3],\"type\":\"scatter3d\"},{\"hovertemplate\":\"perimeter_mean=%{x}<br>texture_mean=%{y}<br>area_mean=%{z}<br>radius_mean=%{marker.color}<extra></extra>\",\"legendgroup\":\"117.3\",\"marker\":{\"color\":[17.75],\"coloraxis\":\"coloraxis\",\"symbol\":\"circle\"},\"mode\":\"markers\",\"name\":\"117.3\",\"scene\":\"scene\",\"showlegend\":true,\"x\":[117.3],\"y\":[28.03],\"z\":[981.6],\"type\":\"scatter3d\"},{\"hovertemplate\":\"perimeter_mean=%{x}<br>texture_mean=%{y}<br>area_mean=%{z}<br>radius_mean=%{marker.color}<extra></extra>\",\"legendgroup\":\"95.88\",\"marker\":{\"color\":[14.8],\"coloraxis\":\"coloraxis\",\"symbol\":\"diamond\"},\"mode\":\"markers\",\"name\":\"95.88\",\"scene\":\"scene\",\"showlegend\":true,\"x\":[95.88],\"y\":[17.66],\"z\":[674.8],\"type\":\"scatter3d\"},{\"hovertemplate\":\"perimeter_mean=%{x}<br>texture_mean=%{y}<br>area_mean=%{z}<br>radius_mean=%{marker.color}<extra></extra>\",\"legendgroup\":\"138.1\",\"marker\":{\"color\":[21.1],\"coloraxis\":\"coloraxis\",\"symbol\":\"square\"},\"mode\":\"markers\",\"name\":\"138.1\",\"scene\":\"scene\",\"showlegend\":true,\"x\":[138.1],\"y\":[20.52],\"z\":[1384.0],\"type\":\"scatter3d\"},{\"hovertemplate\":\"perimeter_mean=%{x}<br>texture_mean=%{y}<br>area_mean=%{z}<br>radius_mean=%{marker.color}<extra></extra>\",\"legendgroup\":\"76.83\",\"marker\":{\"color\":[11.87],\"coloraxis\":\"coloraxis\",\"symbol\":\"x\"},\"mode\":\"markers\",\"name\":\"76.83\",\"scene\":\"scene\",\"showlegend\":true,\"x\":[76.83],\"y\":[21.54],\"z\":[432.0],\"type\":\"scatter3d\"},{\"hovertemplate\":\"perimeter_mean=%{x}<br>texture_mean=%{y}<br>area_mean=%{z}<br>radius_mean=%{marker.color}<extra></extra>\",\"legendgroup\":\"127.7\",\"marker\":{\"color\":[19.59],\"coloraxis\":\"coloraxis\",\"symbol\":\"cross\"},\"mode\":\"markers\",\"name\":\"127.7\",\"scene\":\"scene\",\"showlegend\":true,\"x\":[127.7],\"y\":[25.0],\"z\":[1191.0],\"type\":\"scatter3d\"},{\"hovertemplate\":\"perimeter_mean=%{x}<br>texture_mean=%{y}<br>area_mean=%{z}<br>radius_mean=%{marker.color}<extra></extra>\",\"legendgroup\":\"76.77\",\"marker\":{\"color\":[12.0],\"coloraxis\":\"coloraxis\",\"symbol\":\"circle\"},\"mode\":\"markers\",\"name\":\"76.77\",\"scene\":\"scene\",\"showlegend\":true,\"x\":[76.77],\"y\":[28.23],\"z\":[442.5],\"type\":\"scatter3d\"},{\"hovertemplate\":\"perimeter_mean=%{x}<br>texture_mean=%{y}<br>area_mean=%{z}<br>radius_mean=%{marker.color}<extra></extra>\",\"legendgroup\":\"93.86\",\"marker\":{\"color\":[14.53],\"coloraxis\":\"coloraxis\",\"symbol\":\"diamond\"},\"mode\":\"markers\",\"name\":\"93.86\",\"scene\":\"scene\",\"showlegend\":true,\"x\":[93.86],\"y\":[13.98],\"z\":[644.2],\"type\":\"scatter3d\"},{\"hovertemplate\":\"perimeter_mean=%{x}<br>texture_mean=%{y}<br>area_mean=%{z}<br>radius_mean=%{marker.color}<extra></extra>\",\"legendgroup\":\"80.62\",\"marker\":{\"color\":[12.62],\"coloraxis\":\"coloraxis\",\"symbol\":\"square\"},\"mode\":\"markers\",\"name\":\"80.62\",\"scene\":\"scene\",\"showlegend\":true,\"x\":[80.62],\"y\":[17.15],\"z\":[492.9],\"type\":\"scatter3d\"},{\"hovertemplate\":\"perimeter_mean=%{x}<br>texture_mean=%{y}<br>area_mean=%{z}<br>radius_mean=%{marker.color}<extra></extra>\",\"legendgroup\":\"86.34\",\"marker\":{\"color\":[13.38],\"coloraxis\":\"coloraxis\",\"symbol\":\"x\"},\"mode\":\"markers\",\"name\":\"86.34\",\"scene\":\"scene\",\"showlegend\":true,\"x\":[86.34],\"y\":[30.72],\"z\":[557.2],\"type\":\"scatter3d\"},{\"hovertemplate\":\"perimeter_mean=%{x}<br>texture_mean=%{y}<br>area_mean=%{z}<br>radius_mean=%{marker.color}<extra></extra>\",\"legendgroup\":\"74.87\",\"marker\":{\"color\":[11.63],\"coloraxis\":\"coloraxis\",\"symbol\":\"cross\"},\"mode\":\"markers\",\"name\":\"74.87\",\"scene\":\"scene\",\"showlegend\":true,\"x\":[74.87],\"y\":[29.29],\"z\":[415.1],\"type\":\"scatter3d\"},{\"hovertemplate\":\"perimeter_mean=%{x}<br>texture_mean=%{y}<br>area_mean=%{z}<br>radius_mean=%{marker.color}<extra></extra>\",\"legendgroup\":\"84.1\",\"marker\":{\"color\":[13.21],\"coloraxis\":\"coloraxis\",\"symbol\":\"circle\"},\"mode\":\"markers\",\"name\":\"84.1\",\"scene\":\"scene\",\"showlegend\":true,\"x\":[84.1],\"y\":[25.25],\"z\":[537.9],\"type\":\"scatter3d\"},{\"hovertemplate\":\"perimeter_mean=%{x}<br>texture_mean=%{y}<br>area_mean=%{z}<br>radius_mean=%{marker.color}<extra></extra>\",\"legendgroup\":\"61.68\",\"marker\":{\"color\":[9.755],\"coloraxis\":\"coloraxis\",\"symbol\":\"diamond\"},\"mode\":\"markers\",\"name\":\"61.68\",\"scene\":\"scene\",\"showlegend\":true,\"x\":[61.68],\"y\":[28.2],\"z\":[290.9],\"type\":\"scatter3d\"},{\"hovertemplate\":\"perimeter_mean=%{x}<br>texture_mean=%{y}<br>area_mean=%{z}<br>radius_mean=%{marker.color}<extra></extra>\",\"legendgroup\":\"111.2\",\"marker\":{\"color\":[17.08],\"coloraxis\":\"coloraxis\",\"symbol\":\"square\"},\"mode\":\"markers\",\"name\":\"111.2\",\"scene\":\"scene\",\"showlegend\":true,\"x\":[111.2],\"y\":[27.15],\"z\":[930.9],\"type\":\"scatter3d\"},{\"hovertemplate\":\"perimeter_mean=%{x}<br>texture_mean=%{y}<br>area_mean=%{z}<br>radius_mean=%{marker.color}<extra></extra>\",\"legendgroup\":\"186.9\",\"marker\":{\"color\":[27.42],\"coloraxis\":\"coloraxis\",\"symbol\":\"x\"},\"mode\":\"markers\",\"name\":\"186.9\",\"scene\":\"scene\",\"showlegend\":true,\"x\":[186.9],\"y\":[26.27],\"z\":[2501.0],\"type\":\"scatter3d\"},{\"hovertemplate\":\"perimeter_mean=%{x}<br>texture_mean=%{y}<br>area_mean=%{z}<br>radius_mean=%{marker.color}<extra></extra>\",\"legendgroup\":\"92.25\",\"marker\":{\"color\":[14.4],\"coloraxis\":\"coloraxis\",\"symbol\":\"cross\"},\"mode\":\"markers\",\"name\":\"92.25\",\"scene\":\"scene\",\"showlegend\":true,\"x\":[92.25],\"y\":[26.99],\"z\":[646.1],\"type\":\"scatter3d\"},{\"hovertemplate\":\"perimeter_mean=%{x}<br>texture_mean=%{y}<br>area_mean=%{z}<br>radius_mean=%{marker.color}<extra></extra>\",\"legendgroup\":\"73.88\",\"marker\":{\"color\":[11.6],\"coloraxis\":\"coloraxis\",\"symbol\":\"circle\"},\"mode\":\"markers\",\"name\":\"73.88\",\"scene\":\"scene\",\"showlegend\":true,\"x\":[73.88],\"y\":[18.36],\"z\":[412.7],\"type\":\"scatter3d\"},{\"hovertemplate\":\"perimeter_mean=%{x}<br>texture_mean=%{y}<br>area_mean=%{z}<br>radius_mean=%{marker.color}<extra></extra>\",\"legendgroup\":\"84.28\",\"marker\":{\"color\":[13.17],\"coloraxis\":\"coloraxis\",\"symbol\":\"diamond\"},\"mode\":\"markers\",\"name\":\"84.28\",\"scene\":\"scene\",\"showlegend\":true,\"x\":[84.28],\"y\":[18.22],\"z\":[537.3],\"type\":\"scatter3d\"},{\"hovertemplate\":\"perimeter_mean=%{x}<br>texture_mean=%{y}<br>area_mean=%{z}<br>radius_mean=%{marker.color}<extra></extra>\",\"legendgroup\":\"86.87\",\"marker\":{\"color\":[13.24],\"coloraxis\":\"coloraxis\",\"symbol\":\"square\"},\"mode\":\"markers\",\"name\":\"86.87\",\"scene\":\"scene\",\"showlegend\":true,\"x\":[86.87],\"y\":[20.13],\"z\":[542.9],\"type\":\"scatter3d\"},{\"hovertemplate\":\"perimeter_mean=%{x}<br>texture_mean=%{y}<br>area_mean=%{z}<br>radius_mean=%{marker.color}<extra></extra>\",\"legendgroup\":\"61.06\",\"marker\":{\"color\":[9.668],\"coloraxis\":\"coloraxis\",\"symbol\":\"x\"},\"mode\":\"markers\",\"name\":\"61.06\",\"scene\":\"scene\",\"showlegend\":true,\"x\":[61.06],\"y\":[18.1],\"z\":[286.3],\"type\":\"scatter3d\"},{\"hovertemplate\":\"perimeter_mean=%{x}<br>texture_mean=%{y}<br>area_mean=%{z}<br>radius_mean=%{marker.color}<extra></extra>\",\"legendgroup\":\"119.0\",\"marker\":{\"color\":[17.6],\"coloraxis\":\"coloraxis\",\"symbol\":\"cross\"},\"mode\":\"markers\",\"name\":\"119.0\",\"scene\":\"scene\",\"showlegend\":true,\"x\":[119.0],\"y\":[23.33],\"z\":[980.5],\"type\":\"scatter3d\"},{\"hovertemplate\":\"perimeter_mean=%{x}<br>texture_mean=%{y}<br>area_mean=%{z}<br>radius_mean=%{marker.color}<extra></extra>\",\"legendgroup\":\"76.38\",\"marker\":{\"color\":[11.62],\"coloraxis\":\"coloraxis\",\"symbol\":\"circle\"},\"mode\":\"markers\",\"name\":\"76.38\",\"scene\":\"scene\",\"showlegend\":true,\"x\":[76.38],\"y\":[18.18],\"z\":[408.8],\"type\":\"scatter3d\"},{\"hovertemplate\":\"perimeter_mean=%{x}<br>texture_mean=%{y}<br>area_mean=%{z}<br>radius_mean=%{marker.color}<extra></extra>\",\"legendgroup\":\"61.49\",\"marker\":{\"color\":[9.667,9.268],\"coloraxis\":\"coloraxis\",\"symbol\":\"diamond\"},\"mode\":\"markers\",\"name\":\"61.49\",\"scene\":\"scene\",\"showlegend\":true,\"x\":[61.49,61.49],\"y\":[18.49,12.87],\"z\":[289.1,248.7],\"type\":\"scatter3d\"},{\"hovertemplate\":\"perimeter_mean=%{x}<br>texture_mean=%{y}<br>area_mean=%{z}<br>radius_mean=%{marker.color}<extra></extra>\",\"legendgroup\":\"76.85\",\"marker\":{\"color\":[12.04],\"coloraxis\":\"coloraxis\",\"symbol\":\"square\"},\"mode\":\"markers\",\"name\":\"76.85\",\"scene\":\"scene\",\"showlegend\":true,\"x\":[76.85],\"y\":[28.14],\"z\":[449.9],\"type\":\"scatter3d\"},{\"hovertemplate\":\"perimeter_mean=%{x}<br>texture_mean=%{y}<br>area_mean=%{z}<br>radius_mean=%{marker.color}<extra></extra>\",\"legendgroup\":\"96.45\",\"marker\":{\"color\":[14.92],\"coloraxis\":\"coloraxis\",\"symbol\":\"x\"},\"mode\":\"markers\",\"name\":\"96.45\",\"scene\":\"scene\",\"showlegend\":true,\"x\":[96.45],\"y\":[14.93],\"z\":[686.9],\"type\":\"scatter3d\"},{\"hovertemplate\":\"perimeter_mean=%{x}<br>texture_mean=%{y}<br>area_mean=%{z}<br>radius_mean=%{marker.color}<extra></extra>\",\"legendgroup\":\"77.42\",\"marker\":{\"color\":[12.27],\"coloraxis\":\"coloraxis\",\"symbol\":\"cross\"},\"mode\":\"markers\",\"name\":\"77.42\",\"scene\":\"scene\",\"showlegend\":true,\"x\":[77.42],\"y\":[29.97],\"z\":[465.4],\"type\":\"scatter3d\"},{\"hovertemplate\":\"perimeter_mean=%{x}<br>texture_mean=%{y}<br>area_mean=%{z}<br>radius_mean=%{marker.color}<extra></extra>\",\"legendgroup\":\"70.41\",\"marker\":{\"color\":[10.88],\"coloraxis\":\"coloraxis\",\"symbol\":\"circle\"},\"mode\":\"markers\",\"name\":\"70.41\",\"scene\":\"scene\",\"showlegend\":true,\"x\":[70.41],\"y\":[15.62],\"z\":[358.9],\"type\":\"scatter3d\"},{\"hovertemplate\":\"perimeter_mean=%{x}<br>texture_mean=%{y}<br>area_mean=%{z}<br>radius_mean=%{marker.color}<extra></extra>\",\"legendgroup\":\"82.89\",\"marker\":{\"color\":[12.83],\"coloraxis\":\"coloraxis\",\"symbol\":\"diamond\"},\"mode\":\"markers\",\"name\":\"82.89\",\"scene\":\"scene\",\"showlegend\":true,\"x\":[82.89],\"y\":[15.73],\"z\":[506.9],\"type\":\"scatter3d\"},{\"hovertemplate\":\"perimeter_mean=%{x}<br>texture_mean=%{y}<br>area_mean=%{z}<br>radius_mean=%{marker.color}<extra></extra>\",\"legendgroup\":\"92.41\",\"marker\":{\"color\":[14.2],\"coloraxis\":\"coloraxis\",\"symbol\":\"square\"},\"mode\":\"markers\",\"name\":\"92.41\",\"scene\":\"scene\",\"showlegend\":true,\"x\":[92.41],\"y\":[20.53],\"z\":[618.4],\"type\":\"scatter3d\"},{\"hovertemplate\":\"perimeter_mean=%{x}<br>texture_mean=%{y}<br>area_mean=%{z}<br>radius_mean=%{marker.color}<extra></extra>\",\"legendgroup\":\"88.97\",\"marker\":{\"color\":[13.9],\"coloraxis\":\"coloraxis\",\"symbol\":\"x\"},\"mode\":\"markers\",\"name\":\"88.97\",\"scene\":\"scene\",\"showlegend\":true,\"x\":[88.97],\"y\":[16.62],\"z\":[599.4],\"type\":\"scatter3d\"},{\"hovertemplate\":\"perimeter_mean=%{x}<br>texture_mean=%{y}<br>area_mean=%{z}<br>radius_mean=%{marker.color}<extra></extra>\",\"legendgroup\":\"73.99\",\"marker\":{\"color\":[11.49],\"coloraxis\":\"coloraxis\",\"symbol\":\"cross\"},\"mode\":\"markers\",\"name\":\"73.99\",\"scene\":\"scene\",\"showlegend\":true,\"x\":[73.99],\"y\":[14.59],\"z\":[404.9],\"type\":\"scatter3d\"},{\"hovertemplate\":\"perimeter_mean=%{x}<br>texture_mean=%{y}<br>area_mean=%{z}<br>radius_mean=%{marker.color}<extra></extra>\",\"legendgroup\":\"109.8\",\"marker\":{\"color\":[16.25],\"coloraxis\":\"coloraxis\",\"symbol\":\"circle\"},\"mode\":\"markers\",\"name\":\"109.8\",\"scene\":\"scene\",\"showlegend\":true,\"x\":[109.8],\"y\":[19.51],\"z\":[815.8],\"type\":\"scatter3d\"},{\"hovertemplate\":\"perimeter_mean=%{x}<br>texture_mean=%{y}<br>area_mean=%{z}<br>radius_mean=%{marker.color}<extra></extra>\",\"legendgroup\":\"88.73\",\"marker\":{\"color\":[13.9,13.71],\"coloraxis\":\"coloraxis\",\"symbol\":\"diamond\"},\"mode\":\"markers\",\"name\":\"88.73\",\"scene\":\"scene\",\"showlegend\":true,\"x\":[88.73,88.73],\"y\":[19.24,18.68],\"z\":[602.9,571.0],\"type\":\"scatter3d\"},{\"hovertemplate\":\"perimeter_mean=%{x}<br>texture_mean=%{y}<br>area_mean=%{z}<br>radius_mean=%{marker.color}<extra></extra>\",\"legendgroup\":\"102.8\",\"marker\":{\"color\":[15.73],\"coloraxis\":\"coloraxis\",\"symbol\":\"square\"},\"mode\":\"markers\",\"name\":\"102.8\",\"scene\":\"scene\",\"showlegend\":true,\"x\":[102.8],\"y\":[11.28],\"z\":[747.2],\"type\":\"scatter3d\"},{\"hovertemplate\":\"perimeter_mean=%{x}<br>texture_mean=%{y}<br>area_mean=%{z}<br>radius_mean=%{marker.color}<extra></extra>\",\"legendgroup\":\"82.85\",\"marker\":{\"color\":[12.45],\"coloraxis\":\"coloraxis\",\"symbol\":\"x\"},\"mode\":\"markers\",\"name\":\"82.85\",\"scene\":\"scene\",\"showlegend\":true,\"x\":[82.85],\"y\":[16.41],\"z\":[476.7],\"type\":\"scatter3d\"},{\"hovertemplate\":\"perimeter_mean=%{x}<br>texture_mean=%{y}<br>area_mean=%{z}<br>radius_mean=%{marker.color}<extra></extra>\",\"legendgroup\":\"94.21\",\"marker\":{\"color\":[14.64],\"coloraxis\":\"coloraxis\",\"symbol\":\"cross\"},\"mode\":\"markers\",\"name\":\"94.21\",\"scene\":\"scene\",\"showlegend\":true,\"x\":[94.21],\"y\":[16.85],\"z\":[666.0],\"type\":\"scatter3d\"},{\"hovertemplate\":\"perimeter_mean=%{x}<br>texture_mean=%{y}<br>area_mean=%{z}<br>radius_mean=%{marker.color}<extra></extra>\",\"legendgroup\":\"128.1\",\"marker\":{\"color\":[19.44],\"coloraxis\":\"coloraxis\",\"symbol\":\"circle\"},\"mode\":\"markers\",\"name\":\"128.1\",\"scene\":\"scene\",\"showlegend\":true,\"x\":[128.1],\"y\":[18.82],\"z\":[1167.0],\"type\":\"scatter3d\"},{\"hovertemplate\":\"perimeter_mean=%{x}<br>texture_mean=%{y}<br>area_mean=%{z}<br>radius_mean=%{marker.color}<extra></extra>\",\"legendgroup\":\"75.49\",\"marker\":{\"color\":[11.68],\"coloraxis\":\"coloraxis\",\"symbol\":\"diamond\"},\"mode\":\"markers\",\"name\":\"75.49\",\"scene\":\"scene\",\"showlegend\":true,\"x\":[75.49],\"y\":[16.17],\"z\":[420.5],\"type\":\"scatter3d\"},{\"hovertemplate\":\"perimeter_mean=%{x}<br>texture_mean=%{y}<br>area_mean=%{z}<br>radius_mean=%{marker.color}<extra></extra>\",\"legendgroup\":\"78.18\",\"marker\":{\"color\":[12.25],\"coloraxis\":\"coloraxis\",\"symbol\":\"square\"},\"mode\":\"markers\",\"name\":\"78.18\",\"scene\":\"scene\",\"showlegend\":true,\"x\":[78.18],\"y\":[22.44],\"z\":[466.5],\"type\":\"scatter3d\"},{\"hovertemplate\":\"perimeter_mean=%{x}<br>texture_mean=%{y}<br>area_mean=%{z}<br>radius_mean=%{marker.color}<extra></extra>\",\"legendgroup\":\"114.6\",\"marker\":{\"color\":[17.85],\"coloraxis\":\"coloraxis\",\"symbol\":\"x\"},\"mode\":\"markers\",\"name\":\"114.6\",\"scene\":\"scene\",\"showlegend\":true,\"x\":[114.6],\"y\":[13.23],\"z\":[992.1],\"type\":\"scatter3d\"},{\"hovertemplate\":\"perimeter_mean=%{x}<br>texture_mean=%{y}<br>area_mean=%{z}<br>radius_mean=%{marker.color}<extra></extra>\",\"legendgroup\":\"118.4\",\"marker\":{\"color\":[18.01],\"coloraxis\":\"coloraxis\",\"symbol\":\"cross\"},\"mode\":\"markers\",\"name\":\"118.4\",\"scene\":\"scene\",\"showlegend\":true,\"x\":[118.4],\"y\":[20.56],\"z\":[1007.0],\"type\":\"scatter3d\"},{\"hovertemplate\":\"perimeter_mean=%{x}<br>texture_mean=%{y}<br>area_mean=%{z}<br>radius_mean=%{marker.color}<extra></extra>\",\"legendgroup\":\"84.06\",\"marker\":{\"color\":[13.16],\"coloraxis\":\"coloraxis\",\"symbol\":\"circle\"},\"mode\":\"markers\",\"name\":\"84.06\",\"scene\":\"scene\",\"showlegend\":true,\"x\":[84.06],\"y\":[20.54],\"z\":[538.7],\"type\":\"scatter3d\"},{\"hovertemplate\":\"perimeter_mean=%{x}<br>texture_mean=%{y}<br>area_mean=%{z}<br>radius_mean=%{marker.color}<extra></extra>\",\"legendgroup\":\"96.12\",\"marker\":{\"color\":[14.87],\"coloraxis\":\"coloraxis\",\"symbol\":\"diamond\"},\"mode\":\"markers\",\"name\":\"96.12\",\"scene\":\"scene\",\"showlegend\":true,\"x\":[96.12],\"y\":[20.21],\"z\":[680.9],\"type\":\"scatter3d\"},{\"hovertemplate\":\"perimeter_mean=%{x}<br>texture_mean=%{y}<br>area_mean=%{z}<br>radius_mean=%{marker.color}<extra></extra>\",\"legendgroup\":\"80.45\",\"marker\":{\"color\":[12.47],\"coloraxis\":\"coloraxis\",\"symbol\":\"square\"},\"mode\":\"markers\",\"name\":\"80.45\",\"scene\":\"scene\",\"showlegend\":true,\"x\":[80.45],\"y\":[17.31],\"z\":[480.1],\"type\":\"scatter3d\"},{\"hovertemplate\":\"perimeter_mean=%{x}<br>texture_mean=%{y}<br>area_mean=%{z}<br>radius_mean=%{marker.color}<extra></extra>\",\"legendgroup\":\"121.3\",\"marker\":{\"color\":[18.49],\"coloraxis\":\"coloraxis\",\"symbol\":\"x\"},\"mode\":\"markers\",\"name\":\"121.3\",\"scene\":\"scene\",\"showlegend\":true,\"x\":[121.3],\"y\":[17.52],\"z\":[1068.0],\"type\":\"scatter3d\"},{\"hovertemplate\":\"perimeter_mean=%{x}<br>texture_mean=%{y}<br>area_mean=%{z}<br>radius_mean=%{marker.color}<extra></extra>\",\"legendgroup\":\"137.8\",\"marker\":{\"color\":[20.59,20.55],\"coloraxis\":\"coloraxis\",\"symbol\":\"cross\"},\"mode\":\"markers\",\"name\":\"137.8\",\"scene\":\"scene\",\"showlegend\":true,\"x\":[137.8,137.8],\"y\":[21.24,20.86],\"z\":[1320.0,1308.0],\"type\":\"scatter3d\"},{\"hovertemplate\":\"perimeter_mean=%{x}<br>texture_mean=%{y}<br>area_mean=%{z}<br>radius_mean=%{marker.color}<extra></extra>\",\"legendgroup\":\"98.73\",\"marker\":{\"color\":[15.04],\"coloraxis\":\"coloraxis\",\"symbol\":\"circle\"},\"mode\":\"markers\",\"name\":\"98.73\",\"scene\":\"scene\",\"showlegend\":true,\"x\":[98.73],\"y\":[16.74],\"z\":[689.4],\"type\":\"scatter3d\"},{\"hovertemplate\":\"perimeter_mean=%{x}<br>texture_mean=%{y}<br>area_mean=%{z}<br>radius_mean=%{marker.color}<extra></extra>\",\"legendgroup\":\"92.33\",\"marker\":{\"color\":[13.82],\"coloraxis\":\"coloraxis\",\"symbol\":\"diamond\"},\"mode\":\"markers\",\"name\":\"92.33\",\"scene\":\"scene\",\"showlegend\":true,\"x\":[92.33],\"y\":[24.49],\"z\":[595.9],\"type\":\"scatter3d\"},{\"hovertemplate\":\"perimeter_mean=%{x}<br>texture_mean=%{y}<br>area_mean=%{z}<br>radius_mean=%{marker.color}<extra></extra>\",\"legendgroup\":\"64.12\",\"marker\":{\"color\":[9.676],\"coloraxis\":\"coloraxis\",\"symbol\":\"square\"},\"mode\":\"markers\",\"name\":\"64.12\",\"scene\":\"scene\",\"showlegend\":true,\"x\":[64.12],\"y\":[13.14],\"z\":[272.5],\"type\":\"scatter3d\"},{\"hovertemplate\":\"perimeter_mean=%{x}<br>texture_mean=%{y}<br>area_mean=%{z}<br>radius_mean=%{marker.color}<extra></extra>\",\"legendgroup\":\"79.47\",\"marker\":{\"color\":[12.22],\"coloraxis\":\"coloraxis\",\"symbol\":\"x\"},\"mode\":\"markers\",\"name\":\"79.47\",\"scene\":\"scene\",\"showlegend\":true,\"x\":[79.47],\"y\":[20.04],\"z\":[453.1],\"type\":\"scatter3d\"},{\"hovertemplate\":\"perimeter_mean=%{x}<br>texture_mean=%{y}<br>area_mean=%{z}<br>radius_mean=%{marker.color}<extra></extra>\",\"legendgroup\":\"71.25\",\"marker\":{\"color\":[11.06],\"coloraxis\":\"coloraxis\",\"symbol\":\"cross\"},\"mode\":\"markers\",\"name\":\"71.25\",\"scene\":\"scene\",\"showlegend\":true,\"x\":[71.25],\"y\":[17.12],\"z\":[366.5],\"type\":\"scatter3d\"},{\"hovertemplate\":\"perimeter_mean=%{x}<br>texture_mean=%{y}<br>area_mean=%{z}<br>radius_mean=%{marker.color}<extra></extra>\",\"legendgroup\":\"104.7\",\"marker\":{\"color\":[16.3],\"coloraxis\":\"coloraxis\",\"symbol\":\"circle\"},\"mode\":\"markers\",\"name\":\"104.7\",\"scene\":\"scene\",\"showlegend\":true,\"x\":[104.7],\"y\":[15.7],\"z\":[819.8],\"type\":\"scatter3d\"},{\"hovertemplate\":\"perimeter_mean=%{x}<br>texture_mean=%{y}<br>area_mean=%{z}<br>radius_mean=%{marker.color}<extra></extra>\",\"legendgroup\":\"103.8\",\"marker\":{\"color\":[15.46],\"coloraxis\":\"coloraxis\",\"symbol\":\"diamond\"},\"mode\":\"markers\",\"name\":\"103.8\",\"scene\":\"scene\",\"showlegend\":true,\"x\":[103.8],\"y\":[23.95],\"z\":[731.3],\"type\":\"scatter3d\"},{\"hovertemplate\":\"perimeter_mean=%{x}<br>texture_mean=%{y}<br>area_mean=%{z}<br>radius_mean=%{marker.color}<extra></extra>\",\"legendgroup\":\"76.31\",\"marker\":{\"color\":[11.74],\"coloraxis\":\"coloraxis\",\"symbol\":\"square\"},\"mode\":\"markers\",\"name\":\"76.31\",\"scene\":\"scene\",\"showlegend\":true,\"x\":[76.31],\"y\":[14.69],\"z\":[426.0],\"type\":\"scatter3d\"},{\"hovertemplate\":\"perimeter_mean=%{x}<br>texture_mean=%{y}<br>area_mean=%{z}<br>radius_mean=%{marker.color}<extra></extra>\",\"legendgroup\":\"94.66\",\"marker\":{\"color\":[14.81],\"coloraxis\":\"coloraxis\",\"symbol\":\"x\"},\"mode\":\"markers\",\"name\":\"94.66\",\"scene\":\"scene\",\"showlegend\":true,\"x\":[94.66],\"y\":[14.7],\"z\":[680.7],\"type\":\"scatter3d\"},{\"hovertemplate\":\"perimeter_mean=%{x}<br>texture_mean=%{y}<br>area_mean=%{z}<br>radius_mean=%{marker.color}<extra></extra>\",\"legendgroup\":\"88.64\",\"marker\":{\"color\":[13.4],\"coloraxis\":\"coloraxis\",\"symbol\":\"cross\"},\"mode\":\"markers\",\"name\":\"88.64\",\"scene\":\"scene\",\"showlegend\":true,\"x\":[88.64],\"y\":[20.52],\"z\":[556.7],\"type\":\"scatter3d\"},{\"hovertemplate\":\"perimeter_mean=%{x}<br>texture_mean=%{y}<br>area_mean=%{z}<br>radius_mean=%{marker.color}<extra></extra>\",\"legendgroup\":\"94.29\",\"marker\":{\"color\":[14.58],\"coloraxis\":\"coloraxis\",\"symbol\":\"circle\"},\"mode\":\"markers\",\"name\":\"94.29\",\"scene\":\"scene\",\"showlegend\":true,\"x\":[94.29],\"y\":[13.66],\"z\":[658.8],\"type\":\"scatter3d\"},{\"hovertemplate\":\"perimeter_mean=%{x}<br>texture_mean=%{y}<br>area_mean=%{z}<br>radius_mean=%{marker.color}<extra></extra>\",\"legendgroup\":\"72.76\",\"marker\":{\"color\":[11.34],\"coloraxis\":\"coloraxis\",\"symbol\":\"diamond\"},\"mode\":\"markers\",\"name\":\"72.76\",\"scene\":\"scene\",\"showlegend\":true,\"x\":[72.76],\"y\":[18.61],\"z\":[391.2],\"type\":\"scatter3d\"},{\"hovertemplate\":\"perimeter_mean=%{x}<br>texture_mean=%{y}<br>area_mean=%{z}<br>radius_mean=%{marker.color}<extra></extra>\",\"legendgroup\":\"120.8\",\"marker\":{\"color\":[18.31],\"coloraxis\":\"coloraxis\",\"symbol\":\"square\"},\"mode\":\"markers\",\"name\":\"120.8\",\"scene\":\"scene\",\"showlegend\":true,\"x\":[120.8],\"y\":[20.58],\"z\":[1052.0],\"type\":\"scatter3d\"},{\"hovertemplate\":\"perimeter_mean=%{x}<br>texture_mean=%{y}<br>area_mean=%{z}<br>radius_mean=%{marker.color}<extra></extra>\",\"legendgroup\":\"130.5\",\"marker\":{\"color\":[19.89],\"coloraxis\":\"coloraxis\",\"symbol\":\"x\"},\"mode\":\"markers\",\"name\":\"130.5\",\"scene\":\"scene\",\"showlegend\":true,\"x\":[130.5],\"y\":[20.26],\"z\":[1214.0],\"type\":\"scatter3d\"},{\"hovertemplate\":\"perimeter_mean=%{x}<br>texture_mean=%{y}<br>area_mean=%{z}<br>radius_mean=%{marker.color}<extra></extra>\",\"legendgroup\":\"84.45\",\"marker\":{\"color\":[12.88],\"coloraxis\":\"coloraxis\",\"symbol\":\"cross\"},\"mode\":\"markers\",\"name\":\"84.45\",\"scene\":\"scene\",\"showlegend\":true,\"x\":[84.45],\"y\":[18.22],\"z\":[493.1],\"type\":\"scatter3d\"},{\"hovertemplate\":\"perimeter_mean=%{x}<br>texture_mean=%{y}<br>area_mean=%{z}<br>radius_mean=%{marker.color}<extra></extra>\",\"legendgroup\":\"82.51\",\"marker\":{\"color\":[12.75],\"coloraxis\":\"coloraxis\",\"symbol\":\"circle\"},\"mode\":\"markers\",\"name\":\"82.51\",\"scene\":\"scene\",\"showlegend\":true,\"x\":[82.51],\"y\":[16.7],\"z\":[493.8],\"type\":\"scatter3d\"},{\"hovertemplate\":\"perimeter_mean=%{x}<br>texture_mean=%{y}<br>area_mean=%{z}<br>radius_mean=%{marker.color}<extra></extra>\",\"legendgroup\":\"59.96\",\"marker\":{\"color\":[9.295],\"coloraxis\":\"coloraxis\",\"symbol\":\"diamond\"},\"mode\":\"markers\",\"name\":\"59.96\",\"scene\":\"scene\",\"showlegend\":true,\"x\":[59.96],\"y\":[13.9],\"z\":[257.8],\"type\":\"scatter3d\"},{\"hovertemplate\":\"perimeter_mean=%{x}<br>texture_mean=%{y}<br>area_mean=%{z}<br>radius_mean=%{marker.color}<extra></extra>\",\"legendgroup\":\"165.5\",\"marker\":{\"color\":[24.63],\"coloraxis\":\"coloraxis\",\"symbol\":\"square\"},\"mode\":\"markers\",\"name\":\"165.5\",\"scene\":\"scene\",\"showlegend\":true,\"x\":[165.5],\"y\":[21.6],\"z\":[1841.0],\"type\":\"scatter3d\"},{\"hovertemplate\":\"perimeter_mean=%{x}<br>texture_mean=%{y}<br>area_mean=%{z}<br>radius_mean=%{marker.color}<extra></extra>\",\"legendgroup\":\"71.3\",\"marker\":{\"color\":[11.26],\"coloraxis\":\"coloraxis\",\"symbol\":\"x\"},\"mode\":\"markers\",\"name\":\"71.3\",\"scene\":\"scene\",\"showlegend\":true,\"x\":[71.3],\"y\":[19.83],\"z\":[388.1],\"type\":\"scatter3d\"},{\"hovertemplate\":\"perimeter_mean=%{x}<br>texture_mean=%{y}<br>area_mean=%{z}<br>radius_mean=%{marker.color}<extra></extra>\",\"legendgroup\":\"63.0\",\"marker\":{\"color\":[9.847],\"coloraxis\":\"coloraxis\",\"symbol\":\"cross\"},\"mode\":\"markers\",\"name\":\"63.0\",\"scene\":\"scene\",\"showlegend\":true,\"x\":[63.0],\"y\":[15.68],\"z\":[293.2],\"type\":\"scatter3d\"},{\"hovertemplate\":\"perimeter_mean=%{x}<br>texture_mean=%{y}<br>area_mean=%{z}<br>radius_mean=%{marker.color}<extra></extra>\",\"legendgroup\":\"54.53\",\"marker\":{\"color\":[8.571],\"coloraxis\":\"coloraxis\",\"symbol\":\"circle\"},\"mode\":\"markers\",\"name\":\"54.53\",\"scene\":\"scene\",\"showlegend\":true,\"x\":[54.53],\"y\":[13.1],\"z\":[221.3],\"type\":\"scatter3d\"},{\"hovertemplate\":\"perimeter_mean=%{x}<br>texture_mean=%{y}<br>area_mean=%{z}<br>radius_mean=%{marker.color}<extra></extra>\",\"legendgroup\":\"87.44\",\"marker\":{\"color\":[13.46],\"coloraxis\":\"coloraxis\",\"symbol\":\"diamond\"},\"mode\":\"markers\",\"name\":\"87.44\",\"scene\":\"scene\",\"showlegend\":true,\"x\":[87.44],\"y\":[18.75],\"z\":[551.1],\"type\":\"scatter3d\"},{\"hovertemplate\":\"perimeter_mean=%{x}<br>texture_mean=%{y}<br>area_mean=%{z}<br>radius_mean=%{marker.color}<extra></extra>\",\"legendgroup\":\"78.94\",\"marker\":{\"color\":[12.34],\"coloraxis\":\"coloraxis\",\"symbol\":\"square\"},\"mode\":\"markers\",\"name\":\"78.94\",\"scene\":\"scene\",\"showlegend\":true,\"x\":[78.94],\"y\":[12.27],\"z\":[468.5],\"type\":\"scatter3d\"},{\"hovertemplate\":\"perimeter_mean=%{x}<br>texture_mean=%{y}<br>area_mean=%{z}<br>radius_mean=%{marker.color}<extra></extra>\",\"legendgroup\":\"90.31\",\"marker\":{\"color\":[13.94],\"coloraxis\":\"coloraxis\",\"symbol\":\"x\"},\"mode\":\"markers\",\"name\":\"90.31\",\"scene\":\"scene\",\"showlegend\":true,\"x\":[90.31],\"y\":[13.17],\"z\":[594.2],\"type\":\"scatter3d\"},{\"hovertemplate\":\"perimeter_mean=%{x}<br>texture_mean=%{y}<br>area_mean=%{z}<br>radius_mean=%{marker.color}<extra></extra>\",\"legendgroup\":\"77.83\",\"marker\":{\"color\":[12.07],\"coloraxis\":\"coloraxis\",\"symbol\":\"cross\"},\"mode\":\"markers\",\"name\":\"77.83\",\"scene\":\"scene\",\"showlegend\":true,\"x\":[77.83],\"y\":[13.44],\"z\":[445.2],\"type\":\"scatter3d\"},{\"hovertemplate\":\"perimeter_mean=%{x}<br>texture_mean=%{y}<br>area_mean=%{z}<br>radius_mean=%{marker.color}<extra></extra>\",\"legendgroup\":\"75.89\",\"marker\":{\"color\":[11.75],\"coloraxis\":\"coloraxis\",\"symbol\":\"circle\"},\"mode\":\"markers\",\"name\":\"75.89\",\"scene\":\"scene\",\"showlegend\":true,\"x\":[75.89],\"y\":[17.56],\"z\":[422.9],\"type\":\"scatter3d\"},{\"hovertemplate\":\"perimeter_mean=%{x}<br>texture_mean=%{y}<br>area_mean=%{z}<br>radius_mean=%{marker.color}<extra></extra>\",\"legendgroup\":\"75.21\",\"marker\":{\"color\":[11.67],\"coloraxis\":\"coloraxis\",\"symbol\":\"diamond\"},\"mode\":\"markers\",\"name\":\"75.21\",\"scene\":\"scene\",\"showlegend\":true,\"x\":[75.21],\"y\":[20.02],\"z\":[416.2],\"type\":\"scatter3d\"},{\"hovertemplate\":\"perimeter_mean=%{x}<br>texture_mean=%{y}<br>area_mean=%{z}<br>radius_mean=%{marker.color}<extra></extra>\",\"legendgroup\":\"93.77\",\"marker\":{\"color\":[14.27],\"coloraxis\":\"coloraxis\",\"symbol\":\"square\"},\"mode\":\"markers\",\"name\":\"93.77\",\"scene\":\"scene\",\"showlegend\":true,\"x\":[93.77],\"y\":[22.55],\"z\":[629.8],\"type\":\"scatter3d\"},{\"hovertemplate\":\"perimeter_mean=%{x}<br>texture_mean=%{y}<br>area_mean=%{z}<br>radius_mean=%{marker.color}<extra></extra>\",\"legendgroup\":\"76.37\",\"marker\":{\"color\":[11.69],\"coloraxis\":\"coloraxis\",\"symbol\":\"x\"},\"mode\":\"markers\",\"name\":\"76.37\",\"scene\":\"scene\",\"showlegend\":true,\"x\":[76.37],\"y\":[24.44],\"z\":[406.4],\"type\":\"scatter3d\"},{\"hovertemplate\":\"perimeter_mean=%{x}<br>texture_mean=%{y}<br>area_mean=%{z}<br>radius_mean=%{marker.color}<extra></extra>\",\"legendgroup\":\"47.98\",\"marker\":{\"color\":[7.729],\"coloraxis\":\"coloraxis\",\"symbol\":\"cross\"},\"mode\":\"markers\",\"name\":\"47.98\",\"scene\":\"scene\",\"showlegend\":true,\"x\":[47.98],\"y\":[25.49],\"z\":[178.8],\"type\":\"scatter3d\"},{\"hovertemplate\":\"perimeter_mean=%{x}<br>texture_mean=%{y}<br>area_mean=%{z}<br>radius_mean=%{marker.color}<extra></extra>\",\"legendgroup\":\"48.34\",\"marker\":{\"color\":[7.691],\"coloraxis\":\"coloraxis\",\"symbol\":\"circle\"},\"mode\":\"markers\",\"name\":\"48.34\",\"scene\":\"scene\",\"showlegend\":true,\"x\":[48.34],\"y\":[25.44],\"z\":[170.4],\"type\":\"scatter3d\"},{\"hovertemplate\":\"perimeter_mean=%{x}<br>texture_mean=%{y}<br>area_mean=%{z}<br>radius_mean=%{marker.color}<extra></extra>\",\"legendgroup\":\"74.65\",\"marker\":{\"color\":[11.54],\"coloraxis\":\"coloraxis\",\"symbol\":\"diamond\"},\"mode\":\"markers\",\"name\":\"74.65\",\"scene\":\"scene\",\"showlegend\":true,\"x\":[74.65],\"y\":[14.44],\"z\":[402.9],\"type\":\"scatter3d\"},{\"hovertemplate\":\"perimeter_mean=%{x}<br>texture_mean=%{y}<br>area_mean=%{z}<br>radius_mean=%{marker.color}<extra></extra>\",\"legendgroup\":\"95.81\",\"marker\":{\"color\":[14.47],\"coloraxis\":\"coloraxis\",\"symbol\":\"square\"},\"mode\":\"markers\",\"name\":\"95.81\",\"scene\":\"scene\",\"showlegend\":true,\"x\":[95.81],\"y\":[24.99],\"z\":[656.4],\"type\":\"scatter3d\"},{\"hovertemplate\":\"perimeter_mean=%{x}<br>texture_mean=%{y}<br>area_mean=%{z}<br>radius_mean=%{marker.color}<extra></extra>\",\"legendgroup\":\"94.7\",\"marker\":{\"color\":[14.74],\"coloraxis\":\"coloraxis\",\"symbol\":\"x\"},\"mode\":\"markers\",\"name\":\"94.7\",\"scene\":\"scene\",\"showlegend\":true,\"x\":[94.7],\"y\":[25.42],\"z\":[668.6],\"type\":\"scatter3d\"},{\"hovertemplate\":\"perimeter_mean=%{x}<br>texture_mean=%{y}<br>area_mean=%{z}<br>radius_mean=%{marker.color}<extra></extra>\",\"legendgroup\":\"84.88\",\"marker\":{\"color\":[13.21],\"coloraxis\":\"coloraxis\",\"symbol\":\"cross\"},\"mode\":\"markers\",\"name\":\"84.88\",\"scene\":\"scene\",\"showlegend\":true,\"x\":[84.88],\"y\":[28.06],\"z\":[538.4],\"type\":\"scatter3d\"},{\"hovertemplate\":\"perimeter_mean=%{x}<br>texture_mean=%{y}<br>area_mean=%{z}<br>radius_mean=%{marker.color}<extra></extra>\",\"legendgroup\":\"89.77\",\"marker\":{\"color\":[13.87],\"coloraxis\":\"coloraxis\",\"symbol\":\"circle\"},\"mode\":\"markers\",\"name\":\"89.77\",\"scene\":\"scene\",\"showlegend\":true,\"x\":[89.77],\"y\":[20.7],\"z\":[584.8],\"type\":\"scatter3d\"},{\"hovertemplate\":\"perimeter_mean=%{x}<br>texture_mean=%{y}<br>area_mean=%{z}<br>radius_mean=%{marker.color}<extra></extra>\",\"legendgroup\":\"87.19\",\"marker\":{\"color\":[13.62],\"coloraxis\":\"coloraxis\",\"symbol\":\"diamond\"},\"mode\":\"markers\",\"name\":\"87.19\",\"scene\":\"scene\",\"showlegend\":true,\"x\":[87.19],\"y\":[23.23],\"z\":[573.2],\"type\":\"scatter3d\"},{\"hovertemplate\":\"perimeter_mean=%{x}<br>texture_mean=%{y}<br>area_mean=%{z}<br>radius_mean=%{marker.color}<extra></extra>\",\"legendgroup\":\"65.31\",\"marker\":{\"color\":[10.32],\"coloraxis\":\"coloraxis\",\"symbol\":\"square\"},\"mode\":\"markers\",\"name\":\"65.31\",\"scene\":\"scene\",\"showlegend\":true,\"x\":[65.31],\"y\":[16.35],\"z\":[324.9],\"type\":\"scatter3d\"},{\"hovertemplate\":\"perimeter_mean=%{x}<br>texture_mean=%{y}<br>area_mean=%{z}<br>radius_mean=%{marker.color}<extra></extra>\",\"legendgroup\":\"65.85\",\"marker\":{\"color\":[10.26],\"coloraxis\":\"coloraxis\",\"symbol\":\"x\"},\"mode\":\"markers\",\"name\":\"65.85\",\"scene\":\"scene\",\"showlegend\":true,\"x\":[65.85],\"y\":[16.58],\"z\":[320.8],\"type\":\"scatter3d\"},{\"hovertemplate\":\"perimeter_mean=%{x}<br>texture_mean=%{y}<br>area_mean=%{z}<br>radius_mean=%{marker.color}<extra></extra>\",\"legendgroup\":\"61.05\",\"marker\":{\"color\":[9.683],\"coloraxis\":\"coloraxis\",\"symbol\":\"cross\"},\"mode\":\"markers\",\"name\":\"61.05\",\"scene\":\"scene\",\"showlegend\":true,\"x\":[61.05],\"y\":[19.34],\"z\":[285.7],\"type\":\"scatter3d\"},{\"hovertemplate\":\"perimeter_mean=%{x}<br>texture_mean=%{y}<br>area_mean=%{z}<br>radius_mean=%{marker.color}<extra></extra>\",\"legendgroup\":\"68.89\",\"marker\":{\"color\":[10.82],\"coloraxis\":\"coloraxis\",\"symbol\":\"circle\"},\"mode\":\"markers\",\"name\":\"68.89\",\"scene\":\"scene\",\"showlegend\":true,\"x\":[68.89],\"y\":[24.21],\"z\":[361.6],\"type\":\"scatter3d\"},{\"hovertemplate\":\"perimeter_mean=%{x}<br>texture_mean=%{y}<br>area_mean=%{z}<br>radius_mean=%{marker.color}<extra></extra>\",\"legendgroup\":\"68.51\",\"marker\":{\"color\":[10.86],\"coloraxis\":\"coloraxis\",\"symbol\":\"diamond\"},\"mode\":\"markers\",\"name\":\"68.51\",\"scene\":\"scene\",\"showlegend\":true,\"x\":[68.51],\"y\":[21.48],\"z\":[360.5],\"type\":\"scatter3d\"},{\"hovertemplate\":\"perimeter_mean=%{x}<br>texture_mean=%{y}<br>area_mean=%{z}<br>radius_mean=%{marker.color}<extra></extra>\",\"legendgroup\":\"59.01\",\"marker\":{\"color\":[9.333],\"coloraxis\":\"coloraxis\",\"symbol\":\"square\"},\"mode\":\"markers\",\"name\":\"59.01\",\"scene\":\"scene\",\"showlegend\":true,\"x\":[59.01],\"y\":[21.94],\"z\":[264.0],\"type\":\"scatter3d\"},{\"hovertemplate\":\"perimeter_mean=%{x}<br>texture_mean=%{y}<br>area_mean=%{z}<br>radius_mean=%{marker.color}<extra></extra>\",\"legendgroup\":\"82.5\",\"marker\":{\"color\":[12.88],\"coloraxis\":\"coloraxis\",\"symbol\":\"x\"},\"mode\":\"markers\",\"name\":\"82.5\",\"scene\":\"scene\",\"showlegend\":true,\"x\":[82.5],\"y\":[28.92],\"z\":[514.3],\"type\":\"scatter3d\"},{\"hovertemplate\":\"perimeter_mean=%{x}<br>texture_mean=%{y}<br>area_mean=%{z}<br>radius_mean=%{marker.color}<extra></extra>\",\"legendgroup\":\"65.67\",\"marker\":{\"color\":[10.29],\"coloraxis\":\"coloraxis\",\"symbol\":\"cross\"},\"mode\":\"markers\",\"name\":\"65.67\",\"scene\":\"scene\",\"showlegend\":true,\"x\":[65.67],\"y\":[27.61],\"z\":[321.4],\"type\":\"scatter3d\"},{\"hovertemplate\":\"perimeter_mean=%{x}<br>texture_mean=%{y}<br>area_mean=%{z}<br>radius_mean=%{marker.color}<extra></extra>\",\"legendgroup\":\"64.73\",\"marker\":{\"color\":[10.16],\"coloraxis\":\"coloraxis\",\"symbol\":\"circle\"},\"mode\":\"markers\",\"name\":\"64.73\",\"scene\":\"scene\",\"showlegend\":true,\"x\":[64.73],\"y\":[19.59],\"z\":[311.7],\"type\":\"scatter3d\"},{\"hovertemplate\":\"perimeter_mean=%{x}<br>texture_mean=%{y}<br>area_mean=%{z}<br>radius_mean=%{marker.color}<extra></extra>\",\"legendgroup\":\"59.26\",\"marker\":{\"color\":[9.423],\"coloraxis\":\"coloraxis\",\"symbol\":\"diamond\"},\"mode\":\"markers\",\"name\":\"59.26\",\"scene\":\"scene\",\"showlegend\":true,\"x\":[59.26],\"y\":[27.88],\"z\":[271.3],\"type\":\"scatter3d\"},{\"hovertemplate\":\"perimeter_mean=%{x}<br>texture_mean=%{y}<br>area_mean=%{z}<br>radius_mean=%{marker.color}<extra></extra>\",\"legendgroup\":\"96.39\",\"marker\":{\"color\":[14.59],\"coloraxis\":\"coloraxis\",\"symbol\":\"square\"},\"mode\":\"markers\",\"name\":\"96.39\",\"scene\":\"scene\",\"showlegend\":true,\"x\":[96.39],\"y\":[22.68],\"z\":[657.1],\"type\":\"scatter3d\"},{\"hovertemplate\":\"perimeter_mean=%{x}<br>texture_mean=%{y}<br>area_mean=%{z}<br>radius_mean=%{marker.color}<extra></extra>\",\"legendgroup\":\"74.52\",\"marker\":{\"color\":[11.51],\"coloraxis\":\"coloraxis\",\"symbol\":\"x\"},\"mode\":\"markers\",\"name\":\"74.52\",\"scene\":\"scene\",\"showlegend\":true,\"x\":[74.52],\"y\":[23.93],\"z\":[403.5],\"type\":\"scatter3d\"},{\"hovertemplate\":\"perimeter_mean=%{x}<br>texture_mean=%{y}<br>area_mean=%{z}<br>radius_mean=%{marker.color}<extra></extra>\",\"legendgroup\":\"91.38\",\"marker\":{\"color\":[14.05],\"coloraxis\":\"coloraxis\",\"symbol\":\"cross\"},\"mode\":\"markers\",\"name\":\"91.38\",\"scene\":\"scene\",\"showlegend\":true,\"x\":[91.38],\"y\":[27.15],\"z\":[600.4],\"type\":\"scatter3d\"},{\"hovertemplate\":\"perimeter_mean=%{x}<br>texture_mean=%{y}<br>area_mean=%{z}<br>radius_mean=%{marker.color}<extra></extra>\",\"legendgroup\":\"103.4\",\"marker\":{\"color\":[15.22],\"coloraxis\":\"coloraxis\",\"symbol\":\"circle\"},\"mode\":\"markers\",\"name\":\"103.4\",\"scene\":\"scene\",\"showlegend\":true,\"x\":[103.4],\"y\":[30.62],\"z\":[716.9],\"type\":\"scatter3d\"},{\"hovertemplate\":\"perimeter_mean=%{x}<br>texture_mean=%{y}<br>area_mean=%{z}<br>radius_mean=%{marker.color}<extra></extra>\",\"legendgroup\":\"143.0\",\"marker\":{\"color\":[20.92],\"coloraxis\":\"coloraxis\",\"symbol\":\"diamond\"},\"mode\":\"markers\",\"name\":\"143.0\",\"scene\":\"scene\",\"showlegend\":true,\"x\":[143.0],\"y\":[25.09],\"z\":[1347.0],\"type\":\"scatter3d\"},{\"hovertemplate\":\"perimeter_mean=%{x}<br>texture_mean=%{y}<br>area_mean=%{z}<br>radius_mean=%{marker.color}<extra></extra>\",\"legendgroup\":\"142.0\",\"marker\":{\"color\":[21.56],\"coloraxis\":\"coloraxis\",\"symbol\":\"square\"},\"mode\":\"markers\",\"name\":\"142.0\",\"scene\":\"scene\",\"showlegend\":true,\"x\":[142.0],\"y\":[22.39],\"z\":[1479.0],\"type\":\"scatter3d\"},{\"hovertemplate\":\"perimeter_mean=%{x}<br>texture_mean=%{y}<br>area_mean=%{z}<br>radius_mean=%{marker.color}<extra></extra>\",\"legendgroup\":\"131.2\",\"marker\":{\"color\":[20.13],\"coloraxis\":\"coloraxis\",\"symbol\":\"x\"},\"mode\":\"markers\",\"name\":\"131.2\",\"scene\":\"scene\",\"showlegend\":true,\"x\":[131.2],\"y\":[28.25],\"z\":[1261.0],\"type\":\"scatter3d\"},{\"hovertemplate\":\"perimeter_mean=%{x}<br>texture_mean=%{y}<br>area_mean=%{z}<br>radius_mean=%{marker.color}<extra></extra>\",\"legendgroup\":\"108.3\",\"marker\":{\"color\":[16.6],\"coloraxis\":\"coloraxis\",\"symbol\":\"cross\"},\"mode\":\"markers\",\"name\":\"108.3\",\"scene\":\"scene\",\"showlegend\":true,\"x\":[108.3],\"y\":[28.08],\"z\":[858.1],\"type\":\"scatter3d\"},{\"hovertemplate\":\"perimeter_mean=%{x}<br>texture_mean=%{y}<br>area_mean=%{z}<br>radius_mean=%{marker.color}<extra></extra>\",\"legendgroup\":\"140.1\",\"marker\":{\"color\":[20.6],\"coloraxis\":\"coloraxis\",\"symbol\":\"circle\"},\"mode\":\"markers\",\"name\":\"140.1\",\"scene\":\"scene\",\"showlegend\":true,\"x\":[140.1],\"y\":[29.33],\"z\":[1265.0],\"type\":\"scatter3d\"},{\"hovertemplate\":\"perimeter_mean=%{x}<br>texture_mean=%{y}<br>area_mean=%{z}<br>radius_mean=%{marker.color}<extra></extra>\",\"legendgroup\":\"47.92\",\"marker\":{\"color\":[7.76],\"coloraxis\":\"coloraxis\",\"symbol\":\"diamond\"},\"mode\":\"markers\",\"name\":\"47.92\",\"scene\":\"scene\",\"showlegend\":true,\"x\":[47.92],\"y\":[24.54],\"z\":[181.0],\"type\":\"scatter3d\"}],                        {\"template\":{\"data\":{\"bar\":[{\"error_x\":{\"color\":\"#2a3f5f\"},\"error_y\":{\"color\":\"#2a3f5f\"},\"marker\":{\"line\":{\"color\":\"#E5ECF6\",\"width\":0.5},\"pattern\":{\"fillmode\":\"overlay\",\"size\":10,\"solidity\":0.2}},\"type\":\"bar\"}],\"barpolar\":[{\"marker\":{\"line\":{\"color\":\"#E5ECF6\",\"width\":0.5},\"pattern\":{\"fillmode\":\"overlay\",\"size\":10,\"solidity\":0.2}},\"type\":\"barpolar\"}],\"carpet\":[{\"aaxis\":{\"endlinecolor\":\"#2a3f5f\",\"gridcolor\":\"white\",\"linecolor\":\"white\",\"minorgridcolor\":\"white\",\"startlinecolor\":\"#2a3f5f\"},\"baxis\":{\"endlinecolor\":\"#2a3f5f\",\"gridcolor\":\"white\",\"linecolor\":\"white\",\"minorgridcolor\":\"white\",\"startlinecolor\":\"#2a3f5f\"},\"type\":\"carpet\"}],\"choropleth\":[{\"colorbar\":{\"outlinewidth\":0,\"ticks\":\"\"},\"type\":\"choropleth\"}],\"contour\":[{\"colorbar\":{\"outlinewidth\":0,\"ticks\":\"\"},\"colorscale\":[[0.0,\"#0d0887\"],[0.1111111111111111,\"#46039f\"],[0.2222222222222222,\"#7201a8\"],[0.3333333333333333,\"#9c179e\"],[0.4444444444444444,\"#bd3786\"],[0.5555555555555556,\"#d8576b\"],[0.6666666666666666,\"#ed7953\"],[0.7777777777777778,\"#fb9f3a\"],[0.8888888888888888,\"#fdca26\"],[1.0,\"#f0f921\"]],\"type\":\"contour\"}],\"contourcarpet\":[{\"colorbar\":{\"outlinewidth\":0,\"ticks\":\"\"},\"type\":\"contourcarpet\"}],\"heatmap\":[{\"colorbar\":{\"outlinewidth\":0,\"ticks\":\"\"},\"colorscale\":[[0.0,\"#0d0887\"],[0.1111111111111111,\"#46039f\"],[0.2222222222222222,\"#7201a8\"],[0.3333333333333333,\"#9c179e\"],[0.4444444444444444,\"#bd3786\"],[0.5555555555555556,\"#d8576b\"],[0.6666666666666666,\"#ed7953\"],[0.7777777777777778,\"#fb9f3a\"],[0.8888888888888888,\"#fdca26\"],[1.0,\"#f0f921\"]],\"type\":\"heatmap\"}],\"heatmapgl\":[{\"colorbar\":{\"outlinewidth\":0,\"ticks\":\"\"},\"colorscale\":[[0.0,\"#0d0887\"],[0.1111111111111111,\"#46039f\"],[0.2222222222222222,\"#7201a8\"],[0.3333333333333333,\"#9c179e\"],[0.4444444444444444,\"#bd3786\"],[0.5555555555555556,\"#d8576b\"],[0.6666666666666666,\"#ed7953\"],[0.7777777777777778,\"#fb9f3a\"],[0.8888888888888888,\"#fdca26\"],[1.0,\"#f0f921\"]],\"type\":\"heatmapgl\"}],\"histogram\":[{\"marker\":{\"pattern\":{\"fillmode\":\"overlay\",\"size\":10,\"solidity\":0.2}},\"type\":\"histogram\"}],\"histogram2d\":[{\"colorbar\":{\"outlinewidth\":0,\"ticks\":\"\"},\"colorscale\":[[0.0,\"#0d0887\"],[0.1111111111111111,\"#46039f\"],[0.2222222222222222,\"#7201a8\"],[0.3333333333333333,\"#9c179e\"],[0.4444444444444444,\"#bd3786\"],[0.5555555555555556,\"#d8576b\"],[0.6666666666666666,\"#ed7953\"],[0.7777777777777778,\"#fb9f3a\"],[0.8888888888888888,\"#fdca26\"],[1.0,\"#f0f921\"]],\"type\":\"histogram2d\"}],\"histogram2dcontour\":[{\"colorbar\":{\"outlinewidth\":0,\"ticks\":\"\"},\"colorscale\":[[0.0,\"#0d0887\"],[0.1111111111111111,\"#46039f\"],[0.2222222222222222,\"#7201a8\"],[0.3333333333333333,\"#9c179e\"],[0.4444444444444444,\"#bd3786\"],[0.5555555555555556,\"#d8576b\"],[0.6666666666666666,\"#ed7953\"],[0.7777777777777778,\"#fb9f3a\"],[0.8888888888888888,\"#fdca26\"],[1.0,\"#f0f921\"]],\"type\":\"histogram2dcontour\"}],\"mesh3d\":[{\"colorbar\":{\"outlinewidth\":0,\"ticks\":\"\"},\"type\":\"mesh3d\"}],\"parcoords\":[{\"line\":{\"colorbar\":{\"outlinewidth\":0,\"ticks\":\"\"}},\"type\":\"parcoords\"}],\"pie\":[{\"automargin\":true,\"type\":\"pie\"}],\"scatter\":[{\"marker\":{\"colorbar\":{\"outlinewidth\":0,\"ticks\":\"\"}},\"type\":\"scatter\"}],\"scatter3d\":[{\"line\":{\"colorbar\":{\"outlinewidth\":0,\"ticks\":\"\"}},\"marker\":{\"colorbar\":{\"outlinewidth\":0,\"ticks\":\"\"}},\"type\":\"scatter3d\"}],\"scattercarpet\":[{\"marker\":{\"colorbar\":{\"outlinewidth\":0,\"ticks\":\"\"}},\"type\":\"scattercarpet\"}],\"scattergeo\":[{\"marker\":{\"colorbar\":{\"outlinewidth\":0,\"ticks\":\"\"}},\"type\":\"scattergeo\"}],\"scattergl\":[{\"marker\":{\"colorbar\":{\"outlinewidth\":0,\"ticks\":\"\"}},\"type\":\"scattergl\"}],\"scattermapbox\":[{\"marker\":{\"colorbar\":{\"outlinewidth\":0,\"ticks\":\"\"}},\"type\":\"scattermapbox\"}],\"scatterpolar\":[{\"marker\":{\"colorbar\":{\"outlinewidth\":0,\"ticks\":\"\"}},\"type\":\"scatterpolar\"}],\"scatterpolargl\":[{\"marker\":{\"colorbar\":{\"outlinewidth\":0,\"ticks\":\"\"}},\"type\":\"scatterpolargl\"}],\"scatterternary\":[{\"marker\":{\"colorbar\":{\"outlinewidth\":0,\"ticks\":\"\"}},\"type\":\"scatterternary\"}],\"surface\":[{\"colorbar\":{\"outlinewidth\":0,\"ticks\":\"\"},\"colorscale\":[[0.0,\"#0d0887\"],[0.1111111111111111,\"#46039f\"],[0.2222222222222222,\"#7201a8\"],[0.3333333333333333,\"#9c179e\"],[0.4444444444444444,\"#bd3786\"],[0.5555555555555556,\"#d8576b\"],[0.6666666666666666,\"#ed7953\"],[0.7777777777777778,\"#fb9f3a\"],[0.8888888888888888,\"#fdca26\"],[1.0,\"#f0f921\"]],\"type\":\"surface\"}],\"table\":[{\"cells\":{\"fill\":{\"color\":\"#EBF0F8\"},\"line\":{\"color\":\"white\"}},\"header\":{\"fill\":{\"color\":\"#C8D4E3\"},\"line\":{\"color\":\"white\"}},\"type\":\"table\"}]},\"layout\":{\"annotationdefaults\":{\"arrowcolor\":\"#2a3f5f\",\"arrowhead\":0,\"arrowwidth\":1},\"autotypenumbers\":\"strict\",\"coloraxis\":{\"colorbar\":{\"outlinewidth\":0,\"ticks\":\"\"}},\"colorscale\":{\"diverging\":[[0,\"#8e0152\"],[0.1,\"#c51b7d\"],[0.2,\"#de77ae\"],[0.3,\"#f1b6da\"],[0.4,\"#fde0ef\"],[0.5,\"#f7f7f7\"],[0.6,\"#e6f5d0\"],[0.7,\"#b8e186\"],[0.8,\"#7fbc41\"],[0.9,\"#4d9221\"],[1,\"#276419\"]],\"sequential\":[[0.0,\"#0d0887\"],[0.1111111111111111,\"#46039f\"],[0.2222222222222222,\"#7201a8\"],[0.3333333333333333,\"#9c179e\"],[0.4444444444444444,\"#bd3786\"],[0.5555555555555556,\"#d8576b\"],[0.6666666666666666,\"#ed7953\"],[0.7777777777777778,\"#fb9f3a\"],[0.8888888888888888,\"#fdca26\"],[1.0,\"#f0f921\"]],\"sequentialminus\":[[0.0,\"#0d0887\"],[0.1111111111111111,\"#46039f\"],[0.2222222222222222,\"#7201a8\"],[0.3333333333333333,\"#9c179e\"],[0.4444444444444444,\"#bd3786\"],[0.5555555555555556,\"#d8576b\"],[0.6666666666666666,\"#ed7953\"],[0.7777777777777778,\"#fb9f3a\"],[0.8888888888888888,\"#fdca26\"],[1.0,\"#f0f921\"]]},\"colorway\":[\"#636efa\",\"#EF553B\",\"#00cc96\",\"#ab63fa\",\"#FFA15A\",\"#19d3f3\",\"#FF6692\",\"#B6E880\",\"#FF97FF\",\"#FECB52\"],\"font\":{\"color\":\"#2a3f5f\"},\"geo\":{\"bgcolor\":\"white\",\"lakecolor\":\"white\",\"landcolor\":\"#E5ECF6\",\"showlakes\":true,\"showland\":true,\"subunitcolor\":\"white\"},\"hoverlabel\":{\"align\":\"left\"},\"hovermode\":\"closest\",\"mapbox\":{\"style\":\"light\"},\"paper_bgcolor\":\"white\",\"plot_bgcolor\":\"#E5ECF6\",\"polar\":{\"angularaxis\":{\"gridcolor\":\"white\",\"linecolor\":\"white\",\"ticks\":\"\"},\"bgcolor\":\"#E5ECF6\",\"radialaxis\":{\"gridcolor\":\"white\",\"linecolor\":\"white\",\"ticks\":\"\"}},\"scene\":{\"xaxis\":{\"backgroundcolor\":\"#E5ECF6\",\"gridcolor\":\"white\",\"gridwidth\":2,\"linecolor\":\"white\",\"showbackground\":true,\"ticks\":\"\",\"zerolinecolor\":\"white\"},\"yaxis\":{\"backgroundcolor\":\"#E5ECF6\",\"gridcolor\":\"white\",\"gridwidth\":2,\"linecolor\":\"white\",\"showbackground\":true,\"ticks\":\"\",\"zerolinecolor\":\"white\"},\"zaxis\":{\"backgroundcolor\":\"#E5ECF6\",\"gridcolor\":\"white\",\"gridwidth\":2,\"linecolor\":\"white\",\"showbackground\":true,\"ticks\":\"\",\"zerolinecolor\":\"white\"}},\"shapedefaults\":{\"line\":{\"color\":\"#2a3f5f\"}},\"ternary\":{\"aaxis\":{\"gridcolor\":\"white\",\"linecolor\":\"white\",\"ticks\":\"\"},\"baxis\":{\"gridcolor\":\"white\",\"linecolor\":\"white\",\"ticks\":\"\"},\"bgcolor\":\"#E5ECF6\",\"caxis\":{\"gridcolor\":\"white\",\"linecolor\":\"white\",\"ticks\":\"\"}},\"title\":{\"x\":0.05},\"xaxis\":{\"automargin\":true,\"gridcolor\":\"white\",\"linecolor\":\"white\",\"ticks\":\"\",\"title\":{\"standoff\":15},\"zerolinecolor\":\"white\",\"zerolinewidth\":2},\"yaxis\":{\"automargin\":true,\"gridcolor\":\"white\",\"linecolor\":\"white\",\"ticks\":\"\",\"title\":{\"standoff\":15},\"zerolinecolor\":\"white\",\"zerolinewidth\":2}}},\"scene\":{\"domain\":{\"x\":[0.0,1.0],\"y\":[0.0,1.0]},\"xaxis\":{\"title\":{\"text\":\"perimeter_mean\"},\"categoryorder\":\"array\",\"categoryarray\":[122.8,132.9,130.0,77.58,135.1,82.57,119.6,90.2,87.5,83.97,102.7,103.6,132.4,103.7,93.6,96.73,94.74,108.1,87.46,85.63,60.34,102.5,137.2,110.0,116.0,97.41,122.1,102.4,115.0,124.8,77.93,112.8,127.9,107.0,110.1,93.63,82.61,95.54,88.4,86.18,71.9,128.3,87.32,85.42,123.7,51.71,85.98,78.04,86.91,74.72,87.21,75.71,120.3,97.26,73.34,125.5,95.55,54.34,64.55,54.66,96.42,59.2,82.69,97.4,60.11,71.8,58.79,81.37,123.6,114.2,90.43,79.19,104.1,87.91,120.2,143.7,83.19,73.81,86.49,171.5,129.1,76.95,121.1,94.25,122.0,79.78,95.77,94.57,100.2,84.74,86.6,100.3,77.79,62.11,74.34,94.48,88.05,43.79,77.22,63.95,67.41,75.17,79.01,152.8,72.48,62.5,82.15,97.83,68.64,55.84,76.53,58.74,98.64,105.7,121.4,166.2,94.28,86.1,88.44,87.76,123.4,99.58,130.4,79.08,101.7,106.2,102.0,81.72,73.06,96.85,73.0,61.24,105.1,73.66,83.74,68.26,78.11,78.99,97.84,93.97,88.12,83.51,53.27,63.78,70.87,85.31,78.27,117.4,108.4,76.84,68.69,76.1,126.3,130.7,79.85,152.1,95.5,68.77,109.3,116.1,96.22,78.85,85.84,70.21,67.49,54.42,64.6,82.01,81.29,182.1,142.7,101.2,73.53,98.92,63.76,118.6,74.68,75.27,78.83,94.37,82.02,60.73,81.15,100.4,82.53,90.63,127.5,94.49,78.54,115.1,158.9,91.56,81.09,98.78,62.92,109.7,87.02,98.17,134.7,75.51,188.5,114.5,92.87,90.96,77.32,65.05,129.7,128.0,87.88,88.59,65.12,102.6,84.55,92.51,66.62,97.45,81.35,85.26,113.4,71.76,70.79,134.4,60.21,89.79,153.5,132.5,92.55,87.38,78.61,73.93,88.54,66.72,84.13,84.95,68.01,73.87,138.9,73.28,113.0,126.5,91.43,133.6,103.2,110.2,111.0,114.4,100.0,111.6,135.7,69.28,87.16,82.38,69.5,90.3,72.23,147.3,61.5,115.2,76.2,71.79,120.9,86.24,88.99,126.2,74.24,127.2,108.8,84.08,79.83,77.87,81.89,73.72,72.17,96.03,97.03,83.14,75.54,81.78,88.06,69.14,75.0,91.22,66.85,129.5,80.43,66.86,73.59,74.23,84.07,56.36,85.69,82.71,74.33,92.68,82.29,73.73,54.09,77.25,118.7,60.07,78.6,66.52,131.1,82.82,135.9,78.01,81.25,90.03,76.09,106.9,107.5,105.8,84.52,71.94,71.38,77.88,111.8,122.9,64.41,155.1,94.15,61.64,71.49,129.9,75.03,66.2,76.66,94.87,73.02,77.23,73.7,107.1,174.2,98.0,71.24,81.92,85.09,88.52,56.74,59.82,79.42,85.24,81.87,106.6,85.48,133.8,133.7,78.31,140.9,147.2,109.0,97.65,141.3,134.8,87.84,106.3,70.15,85.89,88.27,73.3,73.16,70.67,78.75,80.64,85.79,78.78,88.37,73.38,128.9,65.75,55.27,144.4,78.07,89.75,88.1,83.05,70.31,75.26,124.4,76.14,84.18,83.18,78.29,70.39,104.3,82.63,117.8,78.41,72.49,70.92,59.75,97.53,96.71,76.39,59.6,102.9,80.88,70.95,74.2,98.22,75.46,89.46,61.93,63.19,68.79,70.47,80.98,102.1,81.47,94.89,91.12,82.67,89.78,88.68,89.59,71.73,112.4,66.82,117.5,77.61,117.3,95.88,138.1,76.83,127.7,76.77,93.86,80.62,86.34,74.87,84.1,61.68,111.2,186.9,92.25,73.88,84.28,86.87,61.06,119.0,76.38,61.49,76.85,96.45,77.42,70.41,82.89,92.41,88.97,73.99,109.8,88.73,102.8,82.85,94.21,128.1,75.49,78.18,114.6,118.4,84.06,96.12,80.45,121.3,137.8,98.73,92.33,64.12,79.47,71.25,104.7,103.8,76.31,94.66,88.64,94.29,72.76,120.8,130.5,84.45,82.51,59.96,165.5,71.3,63.0,54.53,87.44,78.94,90.31,77.83,75.89,75.21,93.77,76.37,47.98,48.34,74.65,95.81,94.7,84.88,89.77,87.19,65.31,65.85,61.05,68.89,68.51,59.01,82.5,65.67,64.73,59.26,96.39,74.52,91.38,103.4,143.0,142.0,131.2,108.3,140.1,47.92]},\"yaxis\":{\"title\":{\"text\":\"texture_mean\"}},\"zaxis\":{\"title\":{\"text\":\"area_mean\"}}},\"coloraxis\":{\"colorbar\":{\"title\":{\"text\":\"radius_mean\"}},\"colorscale\":[[0.0,\"#0d0887\"],[0.1111111111111111,\"#46039f\"],[0.2222222222222222,\"#7201a8\"],[0.3333333333333333,\"#9c179e\"],[0.4444444444444444,\"#bd3786\"],[0.5555555555555556,\"#d8576b\"],[0.6666666666666666,\"#ed7953\"],[0.7777777777777778,\"#fb9f3a\"],[0.8888888888888888,\"#fdca26\"],[1.0,\"#f0f921\"]]},\"legend\":{\"title\":{\"text\":\"perimeter_mean\"},\"tracegroupgap\":0},\"margin\":{\"t\":60}},                        {\"responsive\": true}                    ).then(function(){\n                            \nvar gd = document.getElementById('84be9071-2a0f-4115-b167-91ef7ac5a27e');\nvar x = new MutationObserver(function (mutations, observer) {{\n        var display = window.getComputedStyle(gd).display;\n        if (!display || display === 'none') {{\n            console.log([gd, 'removed!']);\n            Plotly.purge(gd);\n            observer.disconnect();\n        }}\n}});\n\n// Listen for the removal of the full notebook cells\nvar notebookContainer = gd.closest('#notebook-container');\nif (notebookContainer) {{\n    x.observe(notebookContainer, {childList: true});\n}}\n\n// Listen for the clearing of the current output cell\nvar outputEl = gd.closest('.output');\nif (outputEl) {{\n    x.observe(outputEl, {childList: true});\n}}\n\n                        })                };                            </script>        </div>\n</body>\n</html>"
     },
     "execution_count": 18,
     "metadata": {
     },
     "output_type": "execute_result"
    }
   ],
   "source": [
    "# Visualization 2 here\n",
    "px.scatter_3d(breast_cancer, x='perimeter_mean', y='texture_mean', z='area_mean',\n",
    "                    color='radius_mean', symbol='perimeter_mean')\n",
    "\n"
   ]
  },
  {
   "cell_type": "code",
   "execution_count": 19,
   "metadata": {
    "collapsed": false,
    "id": "zAXnnF9f1Mp-"
   },
   "outputs": [
    {
     "data": {
      "text/html": "<html>\n<head><meta charset=\"utf-8\" /></head>\n<body>\n    <div>            <script src=\"https://cdnjs.cloudflare.com/ajax/libs/mathjax/2.7.5/MathJax.js?config=TeX-AMS-MML_SVG\"></script><script type=\"text/javascript\">if (window.MathJax) {MathJax.Hub.Config({SVG: {font: \"STIX-Web\"}});}</script>                <script type=\"text/javascript\">window.PlotlyConfig = {MathJaxConfig: 'local'};</script>\n        <script src=\"https://cdn.plot.ly/plotly-2.9.0.min.js\"></script>                <div id=\"fca9643a-6464-4476-b98d-d3b23367461c\" class=\"plotly-graph-div\" style=\"height:525px; width:100%;\"></div>            <script type=\"text/javascript\">                                    window.PLOTLYENV=window.PLOTLYENV || {};                                    if (document.getElementById(\"fca9643a-6464-4476-b98d-d3b23367461c\")) {                    Plotly.newPlot(                        \"fca9643a-6464-4476-b98d-d3b23367461c\",                        [{\"hovertemplate\":\"radius_mean=%{x}<br>texture_mean=%{y}<br>perimeter_mean=%{z}<br>symmetry_mean=%{marker.color}<extra></extra>\",\"legendgroup\":\"\",\"marker\":{\"color\":[0.2419,0.1812,0.2069,0.2597,0.1809,0.2087,0.1794,0.2196,0.235,0.203,0.1528,0.1842,0.2397,0.1847,0.2069,0.2303,0.1586,0.2164,0.1582,0.1885,0.1967,0.1815,0.2521,0.1769,0.1995,0.304,0.2252,0.1697,0.1926,0.1739,0.2183,0.2301,0.2248,0.1853,0.1998,0.1896,0.1885,0.1467,0.1565,0.172,0.1784,0.1895,0.231,0.1974,0.1746,0.1907,0.1769,0.2128,0.1675,0.1809,0.1495,0.1353,0.1868,0.2092,0.1616,0.192,0.1917,0.2027,0.1819,0.1683,0.2743,0.1828,0.1949,0.2341,0.1905,0.1953,0.1717,0.1516,0.2111,0.159,0.1582,0.1902,0.1927,0.1662,0.172,0.1798,0.2403,0.2152,0.2906,0.1718,0.1842,0.1942,0.1829,0.1634,0.2079,0.2132,0.2075,0.1953,0.193,0.2116,0.1685,0.1717,0.1386,0.1638,0.1855,0.2095,0.19,0.135,0.162,0.1879,0.1609,0.193,0.1739,0.1945,0.2217,0.1925,0.1801,0.1602,0.2556,0.1487,0.1584,0.1735,0.1704,0.1922,0.1649,0.1688,0.1305,0.2157,0.2096,0.2129,0.1667,0.1966,0.2655,0.1856,0.1422,0.1614,0.1761,0.1946,0.2001,0.2202,0.188,0.1931,0.216,0.1816,0.1692,0.1585,0.1339,0.1734,0.1957,0.1771,0.1903,0.1861,0.1645,0.1778,0.1399,0.1995,0.2678,0.1744,0.1724,0.1473,0.254,0.2222,0.2548,0.183,0.1822,0.197,0.1971,0.1844,0.159,0.1442,0.1993,0.1741,0.2027,0.1551,0.1801,0.1515,0.1381,0.1893,0.1538,0.178,0.1959,0.1598,0.1966,0.1566,0.1928,0.1722,0.1669,0.1794,0.1395,0.1466,0.18,0.2395,0.1618,0.1167,0.1727,0.1703,0.1621,0.1516,0.1718,0.1667,0.2384,0.1694,0.1653,0.1943,0.1737,0.1829,0.1834,0.177,0.1767,0.195,0.1979,0.1506,0.22,0.2251,0.1925,0.1594,0.1934,0.2026,0.185,0.1359,0.1765,0.1533,0.1648,0.1308,0.2235,0.2106,0.1967,0.1964,0.2094,0.1428,0.136,0.1962,0.191,0.1935,0.1496,0.2075,0.1788,0.1881,0.1514,0.2123,0.2131,0.1869,0.1845,0.1448,0.1551,0.1517,0.1909,0.1467,0.1342,0.1809,0.1717,0.1546,0.2054,0.1773,0.1978,0.1737,0.1487,0.1596,0.1897,0.1883,0.2205,0.1834,0.1733,0.1813,0.1776,0.1908,0.1893,0.2398,0.2495,0.2091,0.1814,0.1564,0.2108,0.1547,0.1867,0.1769,0.1922,0.1635,0.201,0.1668,0.1508,0.1769,0.1721,0.2081,0.1538,0.2015,0.1954,0.155,0.1573,0.211,0.1902,0.2101,0.1893,0.1876,0.1432,0.1697,0.1588,0.1337,0.2595,0.2013,0.1714,0.1879,0.173,0.1875,0.1638,0.1592,0.1449,0.1619,0.1635,0.1695,0.1792,0.1781,0.2249,0.1482,0.1411,0.1935,0.1632,0.1788,0.1365,0.1453,0.1936,0.1632,0.1601,0.1833,0.2163,0.1215,0.1673,0.1807,0.233,0.1472,0.1743,0.1928,0.1543,0.2569,0.1638,0.1707,0.1373,0.1382,0.1948,0.1869,0.1782,0.1761,0.194,0.1773,0.1539,0.1727,0.1652,0.1953,0.189,0.1797,0.1912,0.2036,0.1776,0.2082,0.2009,0.1633,0.1555,0.1521,0.1634,0.2459,0.1671,0.2375,0.1956,0.1647,0.169,0.1533,0.2035,0.1424,0.193,0.1506,0.1528,0.1815,0.1759,0.1495,0.165,0.1618,0.1875,0.1695,0.1717,0.1824,0.2175,0.1721,0.1973,0.1571,0.1872,0.199,0.2188,0.1421,0.1792,0.2196,0.2018,0.2003,0.1203,0.1779,0.1617,0.1627,0.1646,0.1607,0.181,0.1989,0.18,0.1985,0.1929,0.2162,0.1937,0.1641,0.1806,0.1574,0.1535,0.1847,0.2113,0.1601,0.1874,0.1735,0.1571,0.1486,0.1735,0.158,0.1992,0.1966,0.1601,0.1714,0.1274,0.1944,0.1852,0.2019,0.2025,0.2085,0.1583,0.1615,0.2031,0.2086,0.1886,0.1848,0.2538,0.163,0.1925,0.2016,0.1511,0.1459,0.2041,0.1811,0.1724,0.1943,0.1573,0.1669,0.1861,0.1714,0.1555,0.1589,0.1489,0.1467,0.1405,0.2372,0.172,0.182,0.1713,0.1893,0.1473,0.1554,0.1349,0.1663,0.1615,0.165,0.1799,0.1375,0.1799,0.1619,0.1667,0.1621,0.1793,0.2061,0.1707,0.1516,0.1454,0.1601,0.1562,0.168,0.1696,0.1957,0.2238,0.1854,0.1687,0.1701,0.1861,0.1705,0.1506,0.1813,0.1779,0.2151,0.1464,0.1579,0.1779,0.1732,0.1784,0.2082,0.1409,0.1823,0.1853,0.1846,0.1544,0.122,0.2116,0.1613,0.1713,0.1487,0.1641,0.1526,0.1832,0.1848,0.1668,0.2275,0.1943,0.1505,0.2378,0.2057,0.2124,0.1954,0.1711,0.1807,0.1499,0.1659,0.2116,0.1739,0.1561,0.1927,0.186,0.1802,0.1709,0.212,0.2197,0.1991,0.1637,0.1714,0.1387,0.1678,0.1723,0.1689,0.1976,0.1657,0.1598,0.1859,0.1631,0.2166,0.1619,0.2127,0.1926,0.2131,0.187,0.2037,0.1818,0.1872,0.184,0.1628,0.162,0.1664,0.1885,0.1669,0.158,0.1976,0.1661,0.203,0.1539,0.1692,0.1566,0.1593,0.1791,0.1742,0.1454,0.1388,0.1537,0.106,0.2128,0.2149,0.1726,0.1752,0.159,0.2397,0.1587],\"coloraxis\":\"coloraxis\",\"symbol\":\"circle\"},\"mode\":\"markers\",\"name\":\"\",\"scene\":\"scene\",\"showlegend\":false,\"x\":[17.99,20.57,19.69,11.42,20.29,12.45,18.25,13.71,13.0,12.46,16.02,15.78,19.17,15.85,13.73,14.54,14.68,16.13,19.81,13.54,13.08,9.504,15.34,21.16,16.65,17.14,14.58,18.61,15.3,17.57,18.63,11.84,17.02,19.27,16.13,16.74,14.25,13.03,14.99,13.48,13.44,10.95,19.07,13.28,13.17,18.65,8.196,13.17,12.05,13.49,11.76,13.64,11.94,18.22,15.1,11.52,19.21,14.71,13.05,8.618,10.17,8.598,14.25,9.173,12.68,14.78,9.465,11.31,9.029,12.78,18.94,8.888,17.2,13.8,12.31,16.07,13.53,18.05,20.18,12.86,11.45,13.34,25.22,19.1,12.0,18.46,14.48,19.02,12.36,14.64,14.62,15.37,13.27,13.45,15.06,20.26,12.18,9.787,11.6,14.42,13.61,6.981,12.18,9.876,10.49,13.11,11.64,12.36,22.27,11.34,9.777,12.63,14.26,10.51,8.726,11.93,8.95,14.87,15.78,17.95,11.41,18.66,24.25,14.5,13.37,13.85,13.61,19.0,15.1,19.79,12.19,15.46,16.16,15.71,18.45,12.77,11.71,11.43,14.95,11.28,9.738,16.11,11.43,12.9,10.75,11.9,11.8,14.95,14.44,13.74,13.0,8.219,9.731,11.15,13.15,12.25,17.68,16.84,12.06,10.9,11.75,19.19,19.59,12.34,23.27,14.97,10.8,16.78,17.47,14.97,12.32,13.43,15.46,11.08,10.66,8.671,9.904,16.46,13.01,12.81,27.22,21.09,15.7,11.41,15.28,10.08,18.31,11.71,11.81,12.3,14.22,12.77,9.72,12.34,14.86,12.91,13.77,18.08,19.18,14.45,12.23,17.54,23.29,13.81,12.47,15.12,9.876,17.01,13.11,15.27,20.58,11.84,28.11,17.42,14.19,13.86,11.89,10.2,19.8,19.53,13.65,13.56,10.18,15.75,13.27,14.34,10.44,15.0,12.62,12.83,17.05,11.32,11.22,20.51,9.567,14.03,23.21,20.48,14.22,17.46,13.64,12.42,11.3,13.75,19.4,10.48,13.2,12.89,10.65,11.52,20.94,11.5,19.73,17.3,19.45,13.96,19.55,15.32,15.66,15.53,20.31,17.35,17.29,15.61,17.19,20.73,10.6,13.59,12.87,10.71,14.29,11.29,21.75,9.742,17.93,11.89,11.33,18.81,13.59,13.85,19.16,11.74,19.4,16.24,12.89,12.58,11.94,12.89,11.26,11.37,14.41,14.96,12.95,11.85,12.72,13.77,10.91,11.76,14.26,10.51,19.53,12.46,20.09,10.49,11.46,11.6,13.2,9.0,13.5,13.05,11.7,14.61,12.76,11.54,8.597,12.49,12.18,18.22,9.042,12.43,10.25,20.16,12.86,20.34,12.2,12.67,14.11,12.03,16.27,16.26,16.03,12.98,11.22,11.25,12.3,17.06,12.99,18.77,10.05,23.51,14.42,9.606,11.06,19.68,11.71,10.26,12.06,14.76,11.47,11.95,11.66,15.75,25.73,15.08,11.14,12.56,13.05,13.87,8.878,9.436,12.54,13.3,12.76,16.5,13.4,20.44,20.2,12.21,21.71,22.01,16.35,15.19,21.37,20.64,13.69,16.17,10.57,13.46,13.66,11.08,11.27,11.04,12.05,12.39,13.28,14.6,12.21,13.88,11.27,19.55,10.26,8.734,15.49,21.61,12.1,14.06,13.51,12.8,11.06,11.8,17.91,11.93,12.96,12.94,12.34,10.94,16.14,12.85,17.99,12.27,11.36,11.04,9.397,14.99,15.13,11.89,9.405,15.5,12.7,11.16,11.57,14.69,11.61,13.66,9.742,10.03,10.48,10.8,11.13,12.72,14.9,12.4,20.18,18.82,14.86,13.98,12.87,14.04,13.85,14.02,10.97,17.27,13.78,10.57,18.03,11.99,17.75,14.8,14.53,21.1,11.87,19.59,12.0,14.53,12.62,13.38,11.63,13.21,13.0,9.755,17.08,27.42,14.4,11.6,13.17,13.24,13.14,9.668,17.6,11.62,9.667,12.04,14.92,12.27,10.88,12.83,14.2,13.9,11.49,16.25,12.16,13.9,13.47,13.7,15.73,12.45,14.64,19.44,11.68,16.69,12.25,17.85,18.01,12.46,13.16,14.87,12.65,12.47,18.49,20.59,15.04,13.82,12.54,23.09,9.268,9.676,12.22,11.06,16.3,15.46,11.74,14.81,13.4,14.58,15.05,11.34,18.31,19.89,12.88,12.75,9.295,24.63,11.26,13.71,9.847,8.571,13.46,12.34,13.94,12.07,11.75,11.67,13.68,20.47,10.96,20.55,14.27,11.69,7.729,7.691,11.54,14.47,14.74,13.21,13.87,13.62,10.32,10.26,9.683,10.82,10.86,11.13,12.77,9.333,12.88,10.29,10.16,9.423,14.59,11.51,14.05,11.2,15.22,20.92,21.56,20.13,16.6,20.6,7.76],\"y\":[10.38,17.77,21.25,20.38,14.34,15.7,19.98,20.83,21.82,24.04,23.24,17.89,24.8,23.95,22.61,27.54,20.13,20.68,22.15,14.36,15.71,12.44,14.26,23.04,21.38,16.4,21.53,20.25,25.27,15.05,25.11,18.7,23.98,26.47,17.88,21.59,21.72,18.42,25.2,20.82,21.58,21.35,24.81,20.28,21.81,17.6,16.84,18.66,14.63,22.3,21.6,16.34,18.24,18.7,22.02,18.75,18.57,21.59,19.31,11.79,14.88,20.98,22.15,13.86,23.84,23.94,21.01,19.04,17.33,16.49,21.31,14.64,24.52,15.79,16.52,19.65,10.94,16.15,23.97,18.0,20.97,15.86,24.91,26.29,15.65,18.52,21.46,24.59,21.8,15.24,24.02,22.76,14.76,18.3,19.83,23.03,17.84,19.94,12.84,19.77,24.98,13.43,20.52,19.4,19.29,15.56,18.33,18.54,19.67,21.26,16.99,20.76,19.65,20.19,15.83,21.53,15.76,16.67,22.91,20.01,10.82,17.12,20.2,10.89,16.39,17.21,24.69,18.91,16.39,25.12,13.29,19.48,21.54,13.93,21.91,22.47,16.67,15.39,17.57,13.39,11.97,18.05,17.31,15.92,14.97,14.65,16.58,18.77,15.18,17.91,20.78,20.7,15.34,13.08,15.34,17.94,20.74,19.46,12.74,12.96,20.18,15.94,18.15,22.22,22.04,19.76,9.71,18.8,24.68,16.95,12.39,19.63,11.89,14.71,15.15,14.45,18.06,20.11,22.22,13.06,21.87,26.57,20.31,14.92,22.41,15.11,18.58,17.19,17.39,15.9,23.12,21.41,18.22,26.86,23.21,16.33,22.29,21.84,22.49,20.22,19.56,19.32,26.67,23.75,18.6,16.68,17.27,20.26,22.54,12.91,22.14,18.94,18.47,25.56,23.81,16.93,18.35,17.48,21.56,32.47,13.16,13.9,17.53,20.25,17.02,13.47,15.46,15.51,23.97,22.33,19.08,27.08,33.81,27.81,15.91,21.25,26.97,21.46,27.85,39.28,15.6,15.04,18.19,23.77,23.5,19.86,17.43,14.11,25.22,14.93,23.56,18.45,19.82,17.08,19.33,17.05,28.77,17.27,23.2,33.56,27.06,23.06,22.13,19.38,22.07,31.12,18.95,21.84,16.21,20.39,16.82,13.04,20.99,15.67,24.48,17.36,14.16,19.98,17.84,15.18,26.6,14.02,18.18,18.77,15.7,18.4,20.76,13.12,19.96,18.89,19.73,19.1,16.02,17.46,13.78,13.27,12.35,18.14,18.17,23.09,18.9,19.89,23.86,18.61,18.16,24.49,15.82,14.4,12.71,13.84,19.11,15.69,13.37,10.72,18.6,16.85,14.08,18.87,18.9,17.0,16.18,19.66,13.32,21.51,15.21,17.3,12.88,17.93,20.71,21.88,15.51,19.35,19.86,14.78,19.02,21.0,14.23,21.43,17.53,24.27,16.54,16.84,14.96,21.68,15.45,14.71,18.9,14.74,16.03,14.96,17.07,19.22,17.46,25.74,14.07,19.07,18.59,16.21,15.49,18.32,18.07,21.57,18.84,18.29,16.95,21.78,26.83,18.02,17.25,21.9,23.29,13.21,15.1,17.35,16.07,16.07,20.22,28.21,15.15,18.83,12.96,14.93,22.72,17.48,13.72,23.29,14.09,16.16,15.5,23.21,12.22,16.84,19.97,22.28,17.72,17.18,18.89,17.46,14.83,17.26,21.02,10.91,18.29,16.17,14.95,18.59,14.86,21.37,20.66,17.92,17.57,16.83,21.68,22.11,29.81,21.17,21.7,21.08,12.17,21.41,19.04,13.98,16.02,19.13,19.12,21.28,14.98,21.98,16.62,17.67,22.53,17.68,19.54,21.97,16.94,19.62,19.54,15.98,19.6,15.66,17.2,25.42,15.79,18.32,16.85,24.89,28.03,17.66,19.34,20.52,21.54,25.0,28.23,13.98,17.15,30.72,29.29,25.25,25.13,28.2,27.15,26.27,26.99,18.36,18.22,20.13,20.74,18.1,23.33,18.18,18.49,28.14,14.93,29.97,15.62,15.73,20.53,16.62,14.59,19.51,18.03,19.24,14.06,17.64,11.28,16.41,16.85,18.82,16.17,20.2,22.44,13.23,20.56,12.83,20.54,20.21,18.17,17.31,17.52,21.24,16.74,24.49,16.32,19.83,12.87,13.14,20.04,17.12,15.7,23.95,14.69,14.7,20.52,13.66,19.07,18.61,20.58,20.26,18.22,16.7,13.9,21.6,19.83,18.68,15.68,13.1,18.75,12.27,13.17,13.44,17.56,20.02,16.33,20.67,17.62,20.86,22.55,24.44,25.49,25.44,14.44,24.99,25.42,28.06,20.7,23.23,16.35,16.58,19.34,24.21,21.48,22.44,29.43,21.94,28.92,27.61,19.59,27.88,22.68,23.93,27.15,29.37,30.62,25.09,22.39,28.25,28.08,29.33,24.54],\"z\":[122.8,132.9,130.0,77.58,135.1,82.57,119.6,90.2,87.5,83.97,102.7,103.6,132.4,103.7,93.6,96.73,94.74,108.1,130.0,87.46,85.63,60.34,102.5,137.2,110.0,116.0,97.41,122.1,102.4,115.0,124.8,77.93,112.8,127.9,107.0,110.1,93.63,82.61,95.54,88.4,86.18,71.9,128.3,87.32,85.42,123.7,51.71,85.98,78.04,86.91,74.72,87.21,75.71,120.3,97.26,73.34,125.5,95.55,82.61,54.34,64.55,54.66,96.42,59.2,82.69,97.4,60.11,71.8,58.79,81.37,123.6,58.79,114.2,90.43,79.19,104.1,87.91,120.2,143.7,83.19,73.81,86.49,171.5,129.1,76.95,121.1,94.25,122.0,79.78,95.77,94.57,100.2,84.74,86.6,100.3,132.4,77.79,62.11,74.34,94.48,88.05,43.79,77.22,63.95,67.41,87.21,75.17,79.01,152.8,72.48,62.5,82.15,97.83,68.64,55.84,76.53,58.74,98.64,105.7,114.2,73.34,121.4,166.2,94.28,86.1,88.44,87.76,123.4,99.58,130.4,79.08,101.7,106.2,102.0,120.2,81.72,74.72,73.06,96.85,73.0,61.24,105.1,73.66,83.74,68.26,78.11,78.99,97.84,93.97,88.12,83.51,53.27,63.78,70.87,85.31,78.27,117.4,108.4,76.84,68.69,76.1,126.3,130.7,79.85,152.1,95.5,68.77,109.3,116.1,96.22,78.85,85.84,102.5,70.21,67.49,54.42,64.6,109.3,82.01,81.29,182.1,142.7,101.2,73.53,98.92,63.76,118.6,74.68,75.27,78.83,94.37,82.02,60.73,81.15,100.4,82.53,90.63,117.4,127.5,94.49,78.54,115.1,158.9,91.56,81.09,98.78,62.92,109.7,87.02,98.17,134.7,75.51,188.5,114.5,92.87,90.96,77.32,65.05,129.7,128.0,87.88,88.59,65.12,102.6,84.55,92.51,66.62,97.45,81.35,85.26,113.4,71.76,70.79,134.4,60.21,89.79,153.5,132.5,92.55,113.4,87.38,78.61,73.93,88.54,129.1,66.72,84.13,84.95,68.01,73.87,138.9,73.28,130.7,113.0,126.5,91.43,133.6,103.2,110.2,103.7,132.9,111.0,114.4,100.0,111.6,135.7,69.28,87.16,82.38,69.5,90.3,72.23,147.3,61.5,115.2,76.2,71.79,120.9,86.24,88.99,126.2,74.24,127.2,108.8,84.08,79.83,77.87,81.89,73.72,72.17,96.03,97.03,83.14,75.54,81.78,88.06,69.14,75.0,91.22,66.85,129.5,80.43,134.7,66.86,73.59,74.23,84.07,56.36,85.69,82.71,74.33,92.68,82.29,73.73,54.09,79.19,77.25,118.7,60.07,78.6,66.52,131.1,82.82,135.9,78.01,81.25,90.03,76.09,106.9,107.5,105.8,84.52,71.94,71.38,77.88,111.8,84.08,122.9,64.41,155.1,94.15,61.64,71.49,129.9,75.03,66.2,76.66,94.87,73.02,77.23,73.7,107.1,174.2,98.0,71.24,81.92,85.09,88.52,56.74,59.82,79.42,85.24,81.87,106.6,85.48,133.8,133.7,78.31,140.9,147.2,109.0,97.65,141.3,134.8,87.84,106.3,70.15,85.89,88.27,73.3,73.16,70.67,78.75,80.64,85.79,93.97,78.78,88.37,73.38,128.9,65.75,55.27,102.4,144.4,78.07,89.75,88.1,83.05,70.31,75.26,124.4,76.14,84.18,83.18,78.29,70.39,104.3,82.63,117.8,78.41,72.49,70.92,59.75,97.53,96.71,76.39,59.6,102.9,80.88,70.95,74.2,98.22,75.46,89.46,61.93,63.19,67.49,68.79,70.47,80.98,102.1,81.47,133.8,123.7,94.89,91.12,82.67,89.78,88.68,89.59,71.73,112.4,88.37,66.82,117.5,77.61,117.3,95.88,94.25,138.1,76.83,127.7,76.77,93.86,80.62,86.34,74.87,84.1,82.61,61.68,111.2,186.9,92.25,73.88,84.28,86.87,85.98,61.06,119.0,76.38,61.49,76.85,96.45,77.42,70.41,82.89,92.41,88.97,73.99,109.8,78.29,88.73,87.32,87.76,102.8,82.85,94.21,128.1,75.49,107.1,78.18,114.6,118.4,78.83,84.06,96.12,82.69,80.45,121.3,137.8,98.73,92.33,81.25,152.1,61.49,64.12,79.47,71.25,104.7,103.8,76.31,94.66,88.64,94.29,97.26,72.76,120.8,130.5,84.45,82.51,59.96,165.5,71.3,88.73,63.0,54.53,87.44,78.94,90.31,77.83,75.89,75.21,87.76,134.7,70.79,137.8,93.77,76.37,47.98,48.34,74.65,95.81,94.7,84.88,89.77,87.19,65.31,65.85,61.05,68.89,68.51,71.49,81.35,59.01,82.5,65.67,64.73,59.26,96.39,74.52,91.38,70.67,103.4,143.0,142.0,131.2,108.3,140.1,47.92],\"type\":\"scatter3d\"}],                        {\"template\":{\"data\":{\"bar\":[{\"error_x\":{\"color\":\"#2a3f5f\"},\"error_y\":{\"color\":\"#2a3f5f\"},\"marker\":{\"line\":{\"color\":\"#E5ECF6\",\"width\":0.5},\"pattern\":{\"fillmode\":\"overlay\",\"size\":10,\"solidity\":0.2}},\"type\":\"bar\"}],\"barpolar\":[{\"marker\":{\"line\":{\"color\":\"#E5ECF6\",\"width\":0.5},\"pattern\":{\"fillmode\":\"overlay\",\"size\":10,\"solidity\":0.2}},\"type\":\"barpolar\"}],\"carpet\":[{\"aaxis\":{\"endlinecolor\":\"#2a3f5f\",\"gridcolor\":\"white\",\"linecolor\":\"white\",\"minorgridcolor\":\"white\",\"startlinecolor\":\"#2a3f5f\"},\"baxis\":{\"endlinecolor\":\"#2a3f5f\",\"gridcolor\":\"white\",\"linecolor\":\"white\",\"minorgridcolor\":\"white\",\"startlinecolor\":\"#2a3f5f\"},\"type\":\"carpet\"}],\"choropleth\":[{\"colorbar\":{\"outlinewidth\":0,\"ticks\":\"\"},\"type\":\"choropleth\"}],\"contour\":[{\"colorbar\":{\"outlinewidth\":0,\"ticks\":\"\"},\"colorscale\":[[0.0,\"#0d0887\"],[0.1111111111111111,\"#46039f\"],[0.2222222222222222,\"#7201a8\"],[0.3333333333333333,\"#9c179e\"],[0.4444444444444444,\"#bd3786\"],[0.5555555555555556,\"#d8576b\"],[0.6666666666666666,\"#ed7953\"],[0.7777777777777778,\"#fb9f3a\"],[0.8888888888888888,\"#fdca26\"],[1.0,\"#f0f921\"]],\"type\":\"contour\"}],\"contourcarpet\":[{\"colorbar\":{\"outlinewidth\":0,\"ticks\":\"\"},\"type\":\"contourcarpet\"}],\"heatmap\":[{\"colorbar\":{\"outlinewidth\":0,\"ticks\":\"\"},\"colorscale\":[[0.0,\"#0d0887\"],[0.1111111111111111,\"#46039f\"],[0.2222222222222222,\"#7201a8\"],[0.3333333333333333,\"#9c179e\"],[0.4444444444444444,\"#bd3786\"],[0.5555555555555556,\"#d8576b\"],[0.6666666666666666,\"#ed7953\"],[0.7777777777777778,\"#fb9f3a\"],[0.8888888888888888,\"#fdca26\"],[1.0,\"#f0f921\"]],\"type\":\"heatmap\"}],\"heatmapgl\":[{\"colorbar\":{\"outlinewidth\":0,\"ticks\":\"\"},\"colorscale\":[[0.0,\"#0d0887\"],[0.1111111111111111,\"#46039f\"],[0.2222222222222222,\"#7201a8\"],[0.3333333333333333,\"#9c179e\"],[0.4444444444444444,\"#bd3786\"],[0.5555555555555556,\"#d8576b\"],[0.6666666666666666,\"#ed7953\"],[0.7777777777777778,\"#fb9f3a\"],[0.8888888888888888,\"#fdca26\"],[1.0,\"#f0f921\"]],\"type\":\"heatmapgl\"}],\"histogram\":[{\"marker\":{\"pattern\":{\"fillmode\":\"overlay\",\"size\":10,\"solidity\":0.2}},\"type\":\"histogram\"}],\"histogram2d\":[{\"colorbar\":{\"outlinewidth\":0,\"ticks\":\"\"},\"colorscale\":[[0.0,\"#0d0887\"],[0.1111111111111111,\"#46039f\"],[0.2222222222222222,\"#7201a8\"],[0.3333333333333333,\"#9c179e\"],[0.4444444444444444,\"#bd3786\"],[0.5555555555555556,\"#d8576b\"],[0.6666666666666666,\"#ed7953\"],[0.7777777777777778,\"#fb9f3a\"],[0.8888888888888888,\"#fdca26\"],[1.0,\"#f0f921\"]],\"type\":\"histogram2d\"}],\"histogram2dcontour\":[{\"colorbar\":{\"outlinewidth\":0,\"ticks\":\"\"},\"colorscale\":[[0.0,\"#0d0887\"],[0.1111111111111111,\"#46039f\"],[0.2222222222222222,\"#7201a8\"],[0.3333333333333333,\"#9c179e\"],[0.4444444444444444,\"#bd3786\"],[0.5555555555555556,\"#d8576b\"],[0.6666666666666666,\"#ed7953\"],[0.7777777777777778,\"#fb9f3a\"],[0.8888888888888888,\"#fdca26\"],[1.0,\"#f0f921\"]],\"type\":\"histogram2dcontour\"}],\"mesh3d\":[{\"colorbar\":{\"outlinewidth\":0,\"ticks\":\"\"},\"type\":\"mesh3d\"}],\"parcoords\":[{\"line\":{\"colorbar\":{\"outlinewidth\":0,\"ticks\":\"\"}},\"type\":\"parcoords\"}],\"pie\":[{\"automargin\":true,\"type\":\"pie\"}],\"scatter\":[{\"marker\":{\"colorbar\":{\"outlinewidth\":0,\"ticks\":\"\"}},\"type\":\"scatter\"}],\"scatter3d\":[{\"line\":{\"colorbar\":{\"outlinewidth\":0,\"ticks\":\"\"}},\"marker\":{\"colorbar\":{\"outlinewidth\":0,\"ticks\":\"\"}},\"type\":\"scatter3d\"}],\"scattercarpet\":[{\"marker\":{\"colorbar\":{\"outlinewidth\":0,\"ticks\":\"\"}},\"type\":\"scattercarpet\"}],\"scattergeo\":[{\"marker\":{\"colorbar\":{\"outlinewidth\":0,\"ticks\":\"\"}},\"type\":\"scattergeo\"}],\"scattergl\":[{\"marker\":{\"colorbar\":{\"outlinewidth\":0,\"ticks\":\"\"}},\"type\":\"scattergl\"}],\"scattermapbox\":[{\"marker\":{\"colorbar\":{\"outlinewidth\":0,\"ticks\":\"\"}},\"type\":\"scattermapbox\"}],\"scatterpolar\":[{\"marker\":{\"colorbar\":{\"outlinewidth\":0,\"ticks\":\"\"}},\"type\":\"scatterpolar\"}],\"scatterpolargl\":[{\"marker\":{\"colorbar\":{\"outlinewidth\":0,\"ticks\":\"\"}},\"type\":\"scatterpolargl\"}],\"scatterternary\":[{\"marker\":{\"colorbar\":{\"outlinewidth\":0,\"ticks\":\"\"}},\"type\":\"scatterternary\"}],\"surface\":[{\"colorbar\":{\"outlinewidth\":0,\"ticks\":\"\"},\"colorscale\":[[0.0,\"#0d0887\"],[0.1111111111111111,\"#46039f\"],[0.2222222222222222,\"#7201a8\"],[0.3333333333333333,\"#9c179e\"],[0.4444444444444444,\"#bd3786\"],[0.5555555555555556,\"#d8576b\"],[0.6666666666666666,\"#ed7953\"],[0.7777777777777778,\"#fb9f3a\"],[0.8888888888888888,\"#fdca26\"],[1.0,\"#f0f921\"]],\"type\":\"surface\"}],\"table\":[{\"cells\":{\"fill\":{\"color\":\"#EBF0F8\"},\"line\":{\"color\":\"white\"}},\"header\":{\"fill\":{\"color\":\"#C8D4E3\"},\"line\":{\"color\":\"white\"}},\"type\":\"table\"}]},\"layout\":{\"annotationdefaults\":{\"arrowcolor\":\"#2a3f5f\",\"arrowhead\":0,\"arrowwidth\":1},\"autotypenumbers\":\"strict\",\"coloraxis\":{\"colorbar\":{\"outlinewidth\":0,\"ticks\":\"\"}},\"colorscale\":{\"diverging\":[[0,\"#8e0152\"],[0.1,\"#c51b7d\"],[0.2,\"#de77ae\"],[0.3,\"#f1b6da\"],[0.4,\"#fde0ef\"],[0.5,\"#f7f7f7\"],[0.6,\"#e6f5d0\"],[0.7,\"#b8e186\"],[0.8,\"#7fbc41\"],[0.9,\"#4d9221\"],[1,\"#276419\"]],\"sequential\":[[0.0,\"#0d0887\"],[0.1111111111111111,\"#46039f\"],[0.2222222222222222,\"#7201a8\"],[0.3333333333333333,\"#9c179e\"],[0.4444444444444444,\"#bd3786\"],[0.5555555555555556,\"#d8576b\"],[0.6666666666666666,\"#ed7953\"],[0.7777777777777778,\"#fb9f3a\"],[0.8888888888888888,\"#fdca26\"],[1.0,\"#f0f921\"]],\"sequentialminus\":[[0.0,\"#0d0887\"],[0.1111111111111111,\"#46039f\"],[0.2222222222222222,\"#7201a8\"],[0.3333333333333333,\"#9c179e\"],[0.4444444444444444,\"#bd3786\"],[0.5555555555555556,\"#d8576b\"],[0.6666666666666666,\"#ed7953\"],[0.7777777777777778,\"#fb9f3a\"],[0.8888888888888888,\"#fdca26\"],[1.0,\"#f0f921\"]]},\"colorway\":[\"#636efa\",\"#EF553B\",\"#00cc96\",\"#ab63fa\",\"#FFA15A\",\"#19d3f3\",\"#FF6692\",\"#B6E880\",\"#FF97FF\",\"#FECB52\"],\"font\":{\"color\":\"#2a3f5f\"},\"geo\":{\"bgcolor\":\"white\",\"lakecolor\":\"white\",\"landcolor\":\"#E5ECF6\",\"showlakes\":true,\"showland\":true,\"subunitcolor\":\"white\"},\"hoverlabel\":{\"align\":\"left\"},\"hovermode\":\"closest\",\"mapbox\":{\"style\":\"light\"},\"paper_bgcolor\":\"white\",\"plot_bgcolor\":\"#E5ECF6\",\"polar\":{\"angularaxis\":{\"gridcolor\":\"white\",\"linecolor\":\"white\",\"ticks\":\"\"},\"bgcolor\":\"#E5ECF6\",\"radialaxis\":{\"gridcolor\":\"white\",\"linecolor\":\"white\",\"ticks\":\"\"}},\"scene\":{\"xaxis\":{\"backgroundcolor\":\"#E5ECF6\",\"gridcolor\":\"white\",\"gridwidth\":2,\"linecolor\":\"white\",\"showbackground\":true,\"ticks\":\"\",\"zerolinecolor\":\"white\"},\"yaxis\":{\"backgroundcolor\":\"#E5ECF6\",\"gridcolor\":\"white\",\"gridwidth\":2,\"linecolor\":\"white\",\"showbackground\":true,\"ticks\":\"\",\"zerolinecolor\":\"white\"},\"zaxis\":{\"backgroundcolor\":\"#E5ECF6\",\"gridcolor\":\"white\",\"gridwidth\":2,\"linecolor\":\"white\",\"showbackground\":true,\"ticks\":\"\",\"zerolinecolor\":\"white\"}},\"shapedefaults\":{\"line\":{\"color\":\"#2a3f5f\"}},\"ternary\":{\"aaxis\":{\"gridcolor\":\"white\",\"linecolor\":\"white\",\"ticks\":\"\"},\"baxis\":{\"gridcolor\":\"white\",\"linecolor\":\"white\",\"ticks\":\"\"},\"bgcolor\":\"#E5ECF6\",\"caxis\":{\"gridcolor\":\"white\",\"linecolor\":\"white\",\"ticks\":\"\"}},\"title\":{\"x\":0.05},\"xaxis\":{\"automargin\":true,\"gridcolor\":\"white\",\"linecolor\":\"white\",\"ticks\":\"\",\"title\":{\"standoff\":15},\"zerolinecolor\":\"white\",\"zerolinewidth\":2},\"yaxis\":{\"automargin\":true,\"gridcolor\":\"white\",\"linecolor\":\"white\",\"ticks\":\"\",\"title\":{\"standoff\":15},\"zerolinecolor\":\"white\",\"zerolinewidth\":2}}},\"scene\":{\"domain\":{\"x\":[0.0,1.0],\"y\":[0.0,1.0]},\"xaxis\":{\"title\":{\"text\":\"radius_mean\"}},\"yaxis\":{\"title\":{\"text\":\"texture_mean\"}},\"zaxis\":{\"title\":{\"text\":\"perimeter_mean\"}}},\"coloraxis\":{\"colorbar\":{\"title\":{\"text\":\"symmetry_mean\"}},\"colorscale\":[[0.0,\"#0d0887\"],[0.1111111111111111,\"#46039f\"],[0.2222222222222222,\"#7201a8\"],[0.3333333333333333,\"#9c179e\"],[0.4444444444444444,\"#bd3786\"],[0.5555555555555556,\"#d8576b\"],[0.6666666666666666,\"#ed7953\"],[0.7777777777777778,\"#fb9f3a\"],[0.8888888888888888,\"#fdca26\"],[1.0,\"#f0f921\"]]},\"legend\":{\"tracegroupgap\":0},\"margin\":{\"t\":60}},                        {\"responsive\": true}                    ).then(function(){\n                            \nvar gd = document.getElementById('fca9643a-6464-4476-b98d-d3b23367461c');\nvar x = new MutationObserver(function (mutations, observer) {{\n        var display = window.getComputedStyle(gd).display;\n        if (!display || display === 'none') {{\n            console.log([gd, 'removed!']);\n            Plotly.purge(gd);\n            observer.disconnect();\n        }}\n}});\n\n// Listen for the removal of the full notebook cells\nvar notebookContainer = gd.closest('#notebook-container');\nif (notebookContainer) {{\n    x.observe(notebookContainer, {childList: true});\n}}\n\n// Listen for the clearing of the current output cell\nvar outputEl = gd.closest('.output');\nif (outputEl) {{\n    x.observe(outputEl, {childList: true});\n}}\n\n                        })                };                            </script>        </div>\n</body>\n</html>"
     },
     "execution_count": 19,
     "metadata": {
     },
     "output_type": "execute_result"
    }
   ],
   "source": [
    "# Visualization 1 here\n",
    "px.scatter_3d(breast_cancer, x = 'radius_mean', y = 'texture_mean', z = 'perimeter_mean',\n",
    "              color = 'symmetry_mean')"
   ]
  },
  {
   "cell_type": "markdown",
   "metadata": {
    "collapsed": false,
    "id": "EvyKXnr27SaE"
   },
   "source": [
    "### Are you ready to perform machine learning? \n",
    "\n",
    "Do you think deciding whether a tumor is benign or malignant is classification or regression? Talk with your team for a minute.\n",
    "\n",
    "Either way, we need to tell our code what our target variable is, and what our input is going to be. <br> **TODO:** Can you do so below?\n",
    "\n"
   ]
  },
  {
   "cell_type": "code",
   "execution_count": 20,
   "metadata": {
    "collapsed": false,
    "id": "tZOfTkVx8w2K"
   },
   "outputs": [
   ],
   "source": [
    "# Create a variable named target and set it equal to the [\"outcome\"] column in our breast_cancer dataframe.\n",
    "target = breast_cancer.outcome"
   ]
  },
  {
   "cell_type": "code",
   "execution_count": 21,
   "metadata": {
    "collapsed": false,
    "id": "X6wHkQax9chF"
   },
   "outputs": [
   ],
   "source": [
    "# Create a variable named input_columns and set it equal to breast_cancer.loc[:, breast_cancer.columns != \"outcome\"]. This means our inputs are every single column except for column!\n",
    "breast_cancer.drop(['outcome'], axis = 1, inplace = False)\n",
    "input_columns = breast_cancer.drop(['outcome'], axis = 1, inplace = False)"
   ]
  },
  {
   "cell_type": "code",
   "execution_count": 22,
   "metadata": {
    "collapsed": false
   },
   "outputs": [
    {
     "data": {
      "text/html": [
       "<div>\n",
       "<style scoped>\n",
       "    .dataframe tbody tr th:only-of-type {\n",
       "        vertical-align: middle;\n",
       "    }\n",
       "\n",
       "    .dataframe tbody tr th {\n",
       "        vertical-align: top;\n",
       "    }\n",
       "\n",
       "    .dataframe thead th {\n",
       "        text-align: right;\n",
       "    }\n",
       "</style>\n",
       "<table border=\"1\" class=\"dataframe\">\n",
       "  <thead>\n",
       "    <tr style=\"text-align: right;\">\n",
       "      <th></th>\n",
       "      <th>id</th>\n",
       "      <th>radius_mean</th>\n",
       "      <th>texture_mean</th>\n",
       "      <th>perimeter_mean</th>\n",
       "      <th>area_mean</th>\n",
       "      <th>smoothness_mean</th>\n",
       "      <th>compactness_mean</th>\n",
       "      <th>concavity_mean</th>\n",
       "      <th>concave points_mean</th>\n",
       "      <th>symmetry_mean</th>\n",
       "      <th>...</th>\n",
       "      <th>texture_worst</th>\n",
       "      <th>perimeter_worst</th>\n",
       "      <th>area_worst</th>\n",
       "      <th>smoothness_worst</th>\n",
       "      <th>compactness_worst</th>\n",
       "      <th>concavity_worst</th>\n",
       "      <th>concave points_worst</th>\n",
       "      <th>symmetry_worst</th>\n",
       "      <th>fractal_dimension_worst</th>\n",
       "      <th>Unnamed: 32</th>\n",
       "    </tr>\n",
       "  </thead>\n",
       "  <tbody>\n",
       "    <tr>\n",
       "      <th>0</th>\n",
       "      <td>842302</td>\n",
       "      <td>17.99</td>\n",
       "      <td>10.38</td>\n",
       "      <td>122.80</td>\n",
       "      <td>1001.0</td>\n",
       "      <td>0.11840</td>\n",
       "      <td>0.27760</td>\n",
       "      <td>0.3001</td>\n",
       "      <td>0.14710</td>\n",
       "      <td>0.2419</td>\n",
       "      <td>...</td>\n",
       "      <td>17.33</td>\n",
       "      <td>184.60</td>\n",
       "      <td>2019.0</td>\n",
       "      <td>0.1622</td>\n",
       "      <td>0.6656</td>\n",
       "      <td>0.7119</td>\n",
       "      <td>0.2654</td>\n",
       "      <td>0.4601</td>\n",
       "      <td>0.11890</td>\n",
       "      <td>NaN</td>\n",
       "    </tr>\n",
       "    <tr>\n",
       "      <th>1</th>\n",
       "      <td>842517</td>\n",
       "      <td>20.57</td>\n",
       "      <td>17.77</td>\n",
       "      <td>132.90</td>\n",
       "      <td>1326.0</td>\n",
       "      <td>0.08474</td>\n",
       "      <td>0.07864</td>\n",
       "      <td>0.0869</td>\n",
       "      <td>0.07017</td>\n",
       "      <td>0.1812</td>\n",
       "      <td>...</td>\n",
       "      <td>23.41</td>\n",
       "      <td>158.80</td>\n",
       "      <td>1956.0</td>\n",
       "      <td>0.1238</td>\n",
       "      <td>0.1866</td>\n",
       "      <td>0.2416</td>\n",
       "      <td>0.1860</td>\n",
       "      <td>0.2750</td>\n",
       "      <td>0.08902</td>\n",
       "      <td>NaN</td>\n",
       "    </tr>\n",
       "    <tr>\n",
       "      <th>2</th>\n",
       "      <td>84300903</td>\n",
       "      <td>19.69</td>\n",
       "      <td>21.25</td>\n",
       "      <td>130.00</td>\n",
       "      <td>1203.0</td>\n",
       "      <td>0.10960</td>\n",
       "      <td>0.15990</td>\n",
       "      <td>0.1974</td>\n",
       "      <td>0.12790</td>\n",
       "      <td>0.2069</td>\n",
       "      <td>...</td>\n",
       "      <td>25.53</td>\n",
       "      <td>152.50</td>\n",
       "      <td>1709.0</td>\n",
       "      <td>0.1444</td>\n",
       "      <td>0.4245</td>\n",
       "      <td>0.4504</td>\n",
       "      <td>0.2430</td>\n",
       "      <td>0.3613</td>\n",
       "      <td>0.08758</td>\n",
       "      <td>NaN</td>\n",
       "    </tr>\n",
       "    <tr>\n",
       "      <th>3</th>\n",
       "      <td>84348301</td>\n",
       "      <td>11.42</td>\n",
       "      <td>20.38</td>\n",
       "      <td>77.58</td>\n",
       "      <td>386.1</td>\n",
       "      <td>0.14250</td>\n",
       "      <td>0.28390</td>\n",
       "      <td>0.2414</td>\n",
       "      <td>0.10520</td>\n",
       "      <td>0.2597</td>\n",
       "      <td>...</td>\n",
       "      <td>26.50</td>\n",
       "      <td>98.87</td>\n",
       "      <td>567.7</td>\n",
       "      <td>0.2098</td>\n",
       "      <td>0.8663</td>\n",
       "      <td>0.6869</td>\n",
       "      <td>0.2575</td>\n",
       "      <td>0.6638</td>\n",
       "      <td>0.17300</td>\n",
       "      <td>NaN</td>\n",
       "    </tr>\n",
       "    <tr>\n",
       "      <th>4</th>\n",
       "      <td>84358402</td>\n",
       "      <td>20.29</td>\n",
       "      <td>14.34</td>\n",
       "      <td>135.10</td>\n",
       "      <td>1297.0</td>\n",
       "      <td>0.10030</td>\n",
       "      <td>0.13280</td>\n",
       "      <td>0.1980</td>\n",
       "      <td>0.10430</td>\n",
       "      <td>0.1809</td>\n",
       "      <td>...</td>\n",
       "      <td>16.67</td>\n",
       "      <td>152.20</td>\n",
       "      <td>1575.0</td>\n",
       "      <td>0.1374</td>\n",
       "      <td>0.2050</td>\n",
       "      <td>0.4000</td>\n",
       "      <td>0.1625</td>\n",
       "      <td>0.2364</td>\n",
       "      <td>0.07678</td>\n",
       "      <td>NaN</td>\n",
       "    </tr>\n",
       "  </tbody>\n",
       "</table>\n",
       "<p>5 rows × 32 columns</p>\n",
       "</div>"
      ],
      "text/plain": [
       "         id  radius_mean  texture_mean  perimeter_mean  area_mean  \\\n",
       "0    842302        17.99         10.38          122.80     1001.0   \n",
       "1    842517        20.57         17.77          132.90     1326.0   \n",
       "2  84300903        19.69         21.25          130.00     1203.0   \n",
       "3  84348301        11.42         20.38           77.58      386.1   \n",
       "4  84358402        20.29         14.34          135.10     1297.0   \n",
       "\n",
       "   smoothness_mean  compactness_mean  concavity_mean  concave points_mean  \\\n",
       "0          0.11840           0.27760          0.3001              0.14710   \n",
       "1          0.08474           0.07864          0.0869              0.07017   \n",
       "2          0.10960           0.15990          0.1974              0.12790   \n",
       "3          0.14250           0.28390          0.2414              0.10520   \n",
       "4          0.10030           0.13280          0.1980              0.10430   \n",
       "\n",
       "   symmetry_mean  ...  texture_worst  perimeter_worst  area_worst  \\\n",
       "0         0.2419  ...          17.33           184.60      2019.0   \n",
       "1         0.1812  ...          23.41           158.80      1956.0   \n",
       "2         0.2069  ...          25.53           152.50      1709.0   \n",
       "3         0.2597  ...          26.50            98.87       567.7   \n",
       "4         0.1809  ...          16.67           152.20      1575.0   \n",
       "\n",
       "   smoothness_worst  compactness_worst  concavity_worst  concave points_worst  \\\n",
       "0            0.1622             0.6656           0.7119                0.2654   \n",
       "1            0.1238             0.1866           0.2416                0.1860   \n",
       "2            0.1444             0.4245           0.4504                0.2430   \n",
       "3            0.2098             0.8663           0.6869                0.2575   \n",
       "4            0.1374             0.2050           0.4000                0.1625   \n",
       "\n",
       "   symmetry_worst  fractal_dimension_worst  Unnamed: 32  \n",
       "0          0.4601                  0.11890          NaN  \n",
       "1          0.2750                  0.08902          NaN  \n",
       "2          0.3613                  0.08758          NaN  \n",
       "3          0.6638                  0.17300          NaN  \n",
       "4          0.2364                  0.07678          NaN  \n",
       "\n",
       "[5 rows x 32 columns]"
      ]
     },
     "execution_count": 22,
     "metadata": {
     },
     "output_type": "execute_result"
    }
   ],
   "source": [
    "input_columns.head()"
   ]
  },
  {
   "cell_type": "code",
   "execution_count": 23,
   "metadata": {
    "collapsed": false
   },
   "outputs": [
   ],
   "source": [
    "input_columns.drop(\"Unnamed: 32\", axis=1, inplace=True)"
   ]
  },
  {
   "cell_type": "code",
   "execution_count": 24,
   "metadata": {
    "collapsed": false
   },
   "outputs": [
    {
     "data": {
      "text/html": [
       "<div>\n",
       "<style scoped>\n",
       "    .dataframe tbody tr th:only-of-type {\n",
       "        vertical-align: middle;\n",
       "    }\n",
       "\n",
       "    .dataframe tbody tr th {\n",
       "        vertical-align: top;\n",
       "    }\n",
       "\n",
       "    .dataframe thead th {\n",
       "        text-align: right;\n",
       "    }\n",
       "</style>\n",
       "<table border=\"1\" class=\"dataframe\">\n",
       "  <thead>\n",
       "    <tr style=\"text-align: right;\">\n",
       "      <th></th>\n",
       "      <th>id</th>\n",
       "      <th>radius_mean</th>\n",
       "      <th>texture_mean</th>\n",
       "      <th>perimeter_mean</th>\n",
       "      <th>area_mean</th>\n",
       "      <th>smoothness_mean</th>\n",
       "      <th>compactness_mean</th>\n",
       "      <th>concavity_mean</th>\n",
       "      <th>concave points_mean</th>\n",
       "      <th>symmetry_mean</th>\n",
       "      <th>...</th>\n",
       "      <th>perimeter_worst</th>\n",
       "      <th>area_worst</th>\n",
       "      <th>smoothness_worst</th>\n",
       "      <th>compactness_worst</th>\n",
       "      <th>concavity_worst</th>\n",
       "      <th>concave points_worst</th>\n",
       "      <th>symmetry_worst</th>\n",
       "      <th>fractal_dimension_worst</th>\n",
       "      <th>Unnamed: 32</th>\n",
       "      <th>outcome</th>\n",
       "    </tr>\n",
       "  </thead>\n",
       "  <tbody>\n",
       "    <tr>\n",
       "      <th>0</th>\n",
       "      <td>842302</td>\n",
       "      <td>17.99</td>\n",
       "      <td>10.38</td>\n",
       "      <td>122.80</td>\n",
       "      <td>1001.0</td>\n",
       "      <td>0.11840</td>\n",
       "      <td>0.27760</td>\n",
       "      <td>0.3001</td>\n",
       "      <td>0.14710</td>\n",
       "      <td>0.2419</td>\n",
       "      <td>...</td>\n",
       "      <td>184.60</td>\n",
       "      <td>2019.0</td>\n",
       "      <td>0.1622</td>\n",
       "      <td>0.6656</td>\n",
       "      <td>0.7119</td>\n",
       "      <td>0.2654</td>\n",
       "      <td>0.4601</td>\n",
       "      <td>0.11890</td>\n",
       "      <td>NaN</td>\n",
       "      <td>1</td>\n",
       "    </tr>\n",
       "    <tr>\n",
       "      <th>1</th>\n",
       "      <td>842517</td>\n",
       "      <td>20.57</td>\n",
       "      <td>17.77</td>\n",
       "      <td>132.90</td>\n",
       "      <td>1326.0</td>\n",
       "      <td>0.08474</td>\n",
       "      <td>0.07864</td>\n",
       "      <td>0.0869</td>\n",
       "      <td>0.07017</td>\n",
       "      <td>0.1812</td>\n",
       "      <td>...</td>\n",
       "      <td>158.80</td>\n",
       "      <td>1956.0</td>\n",
       "      <td>0.1238</td>\n",
       "      <td>0.1866</td>\n",
       "      <td>0.2416</td>\n",
       "      <td>0.1860</td>\n",
       "      <td>0.2750</td>\n",
       "      <td>0.08902</td>\n",
       "      <td>NaN</td>\n",
       "      <td>1</td>\n",
       "    </tr>\n",
       "    <tr>\n",
       "      <th>2</th>\n",
       "      <td>84300903</td>\n",
       "      <td>19.69</td>\n",
       "      <td>21.25</td>\n",
       "      <td>130.00</td>\n",
       "      <td>1203.0</td>\n",
       "      <td>0.10960</td>\n",
       "      <td>0.15990</td>\n",
       "      <td>0.1974</td>\n",
       "      <td>0.12790</td>\n",
       "      <td>0.2069</td>\n",
       "      <td>...</td>\n",
       "      <td>152.50</td>\n",
       "      <td>1709.0</td>\n",
       "      <td>0.1444</td>\n",
       "      <td>0.4245</td>\n",
       "      <td>0.4504</td>\n",
       "      <td>0.2430</td>\n",
       "      <td>0.3613</td>\n",
       "      <td>0.08758</td>\n",
       "      <td>NaN</td>\n",
       "      <td>1</td>\n",
       "    </tr>\n",
       "    <tr>\n",
       "      <th>3</th>\n",
       "      <td>84348301</td>\n",
       "      <td>11.42</td>\n",
       "      <td>20.38</td>\n",
       "      <td>77.58</td>\n",
       "      <td>386.1</td>\n",
       "      <td>0.14250</td>\n",
       "      <td>0.28390</td>\n",
       "      <td>0.2414</td>\n",
       "      <td>0.10520</td>\n",
       "      <td>0.2597</td>\n",
       "      <td>...</td>\n",
       "      <td>98.87</td>\n",
       "      <td>567.7</td>\n",
       "      <td>0.2098</td>\n",
       "      <td>0.8663</td>\n",
       "      <td>0.6869</td>\n",
       "      <td>0.2575</td>\n",
       "      <td>0.6638</td>\n",
       "      <td>0.17300</td>\n",
       "      <td>NaN</td>\n",
       "      <td>1</td>\n",
       "    </tr>\n",
       "    <tr>\n",
       "      <th>4</th>\n",
       "      <td>84358402</td>\n",
       "      <td>20.29</td>\n",
       "      <td>14.34</td>\n",
       "      <td>135.10</td>\n",
       "      <td>1297.0</td>\n",
       "      <td>0.10030</td>\n",
       "      <td>0.13280</td>\n",
       "      <td>0.1980</td>\n",
       "      <td>0.10430</td>\n",
       "      <td>0.1809</td>\n",
       "      <td>...</td>\n",
       "      <td>152.20</td>\n",
       "      <td>1575.0</td>\n",
       "      <td>0.1374</td>\n",
       "      <td>0.2050</td>\n",
       "      <td>0.4000</td>\n",
       "      <td>0.1625</td>\n",
       "      <td>0.2364</td>\n",
       "      <td>0.07678</td>\n",
       "      <td>NaN</td>\n",
       "      <td>1</td>\n",
       "    </tr>\n",
       "  </tbody>\n",
       "</table>\n",
       "<p>5 rows × 33 columns</p>\n",
       "</div>"
      ],
      "text/plain": [
       "         id  radius_mean  texture_mean  perimeter_mean  area_mean  \\\n",
       "0    842302        17.99         10.38          122.80     1001.0   \n",
       "1    842517        20.57         17.77          132.90     1326.0   \n",
       "2  84300903        19.69         21.25          130.00     1203.0   \n",
       "3  84348301        11.42         20.38           77.58      386.1   \n",
       "4  84358402        20.29         14.34          135.10     1297.0   \n",
       "\n",
       "   smoothness_mean  compactness_mean  concavity_mean  concave points_mean  \\\n",
       "0          0.11840           0.27760          0.3001              0.14710   \n",
       "1          0.08474           0.07864          0.0869              0.07017   \n",
       "2          0.10960           0.15990          0.1974              0.12790   \n",
       "3          0.14250           0.28390          0.2414              0.10520   \n",
       "4          0.10030           0.13280          0.1980              0.10430   \n",
       "\n",
       "   symmetry_mean  ...  perimeter_worst  area_worst  smoothness_worst  \\\n",
       "0         0.2419  ...           184.60      2019.0            0.1622   \n",
       "1         0.1812  ...           158.80      1956.0            0.1238   \n",
       "2         0.2069  ...           152.50      1709.0            0.1444   \n",
       "3         0.2597  ...            98.87       567.7            0.2098   \n",
       "4         0.1809  ...           152.20      1575.0            0.1374   \n",
       "\n",
       "   compactness_worst  concavity_worst  concave points_worst  symmetry_worst  \\\n",
       "0             0.6656           0.7119                0.2654          0.4601   \n",
       "1             0.1866           0.2416                0.1860          0.2750   \n",
       "2             0.4245           0.4504                0.2430          0.3613   \n",
       "3             0.8663           0.6869                0.2575          0.6638   \n",
       "4             0.2050           0.4000                0.1625          0.2364   \n",
       "\n",
       "   fractal_dimension_worst  Unnamed: 32  outcome  \n",
       "0                  0.11890          NaN        1  \n",
       "1                  0.08902          NaN        1  \n",
       "2                  0.08758          NaN        1  \n",
       "3                  0.17300          NaN        1  \n",
       "4                  0.07678          NaN        1  \n",
       "\n",
       "[5 rows x 33 columns]"
      ]
     },
     "execution_count": 24,
     "metadata": {
     },
     "output_type": "execute_result"
    }
   ],
   "source": [
    "breast_cancer.head()"
   ]
  },
  {
   "cell_type": "markdown",
   "metadata": {
    "collapsed": false,
    "id": "TsxggVkp81js"
   },
   "source": [
    "### Splitting the Data\n",
    "\n",
    "For every single supervised machine learning problem, we will follow the same flow with `sklearn`:\n",
    "\n",
    "> *Split, Fit, Predict, and Evaluate.*\n",
    "\n",
    "What is first? Splitting our data into training and testing sets. You can watch a video on why we do that [in the first 36 seconds of this video](https://www.youtube.com/watch?v=_vdMKioCXqQ). \n",
    "\n",
    "We will split our data using the [`train_test_split()`](https://scikit-learn.org/stable/modules/generated/sklearn.model_selection.train_test_split.html) function on `sklearn` using the same flow as this tutorial: https://realpython.com/train-test-split-python-data/#application-of-train_test_split. The code to do so is below. \n",
    "\n"
   ]
  },
  {
   "cell_type": "markdown",
   "metadata": {
    "collapsed": false
   },
   "source": [
    "# Explain split, fit, predict, evaluate to Nolawi"
   ]
  },
  {
   "cell_type": "code",
   "execution_count": 25,
   "metadata": {
    "collapsed": false
   },
   "outputs": [
    {
     "ename": "NameError",
     "evalue": "name 'train_test_split' is not defined",
     "output_type": "error",
     "traceback": [
      "\u001b[0;31m---------------------------------------------------------------------------\u001b[0m",
      "\u001b[0;31mNameError\u001b[0m                                 Traceback (most recent call last)",
      "Input \u001b[0;32mIn [25]\u001b[0m, in \u001b[0;36m<cell line: 1>\u001b[0;34m()\u001b[0m\n\u001b[0;32m----> 1\u001b[0m \u001b[43mtrain_test_split\u001b[49m(input_columns, target, test_size\u001b[38;5;241m=\u001b[39m\u001b[38;5;241m0.2\u001b[39m)\n",
      "\u001b[0;31mNameError\u001b[0m: name 'train_test_split' is not defined"
     ]
    }
   ],
   "source": [
    "train_test_split(input_columns, target, test_size=0.2)"
   ]
  },
  {
   "cell_type": "code",
   "execution_count": 26,
   "metadata": {
    "collapsed": false
   },
   "outputs": [
   ],
   "source": [
    "a, b, c, d = (4,10,20, 50)"
   ]
  },
  {
   "cell_type": "code",
   "execution_count": 27,
   "metadata": {
    "collapsed": false
   },
   "outputs": [
    {
     "name": "stdout",
     "output_type": "stream",
     "text": [
      "4\n",
      "10\n",
      "20\n",
      "50\n"
     ]
    }
   ],
   "source": [
    "print(a)\n",
    "print(b)\n",
    "print(c)\n",
    "print(d)"
   ]
  },
  {
   "cell_type": "code",
   "execution_count": 28,
   "metadata": {
    "collapsed": false,
    "id": "9I03IMDT8tdn"
   },
   "outputs": [
   ],
   "source": [
    "import sklearn\n",
    "from sklearn.model_selection import train_test_split\n",
    "\n",
    "x_train, x_test, y_train, y_test = train_test_split(input_columns, target, test_size=0.2)"
   ]
  },
  {
   "cell_type": "markdown",
   "metadata": {
    "collapsed": false,
    "id": "rcQ-PJQF9XSA"
   },
   "source": [
    "**TODO:** can you look at the shape of the x_train, x_test, y_train, and y_test columns? Why does the shape of these columns make sense? "
   ]
  },
  {
   "cell_type": "code",
   "execution_count": 29,
   "metadata": {
    "collapsed": false,
    "id": "Ok87vW5k-GTS"
   },
   "outputs": [
    {
     "data": {
      "text/plain": [
       "(455, 31)"
      ]
     },
     "execution_count": 29,
     "metadata": {
     },
     "output_type": "execute_result"
    }
   ],
   "source": [
    "#hint: start with x_train.shape\n",
    "x_train.shape"
   ]
  },
  {
   "cell_type": "code",
   "execution_count": 30,
   "metadata": {
    "collapsed": false
   },
   "outputs": [
    {
     "data": {
      "text/plain": [
       "(114, 31)"
      ]
     },
     "execution_count": 30,
     "metadata": {
     },
     "output_type": "execute_result"
    }
   ],
   "source": [
    "x_test.shape"
   ]
  },
  {
   "cell_type": "markdown",
   "metadata": {
    "collapsed": false,
    "id": "tY5UwAsS9sCV"
   },
   "source": [
    "**TODO:** Can you print the outputs with print(y_train) and print(y_test)? What do these 1's and 0's represent?"
   ]
  },
  {
   "cell_type": "code",
   "execution_count": 31,
   "metadata": {
    "collapsed": false,
    "id": "4wMcDBPW9n3C"
   },
   "outputs": [
    {
     "name": "stdout",
     "output_type": "stream",
     "text": [
      "143    0\n",
      "122    1\n",
      "379    1\n",
      "145    0\n",
      "387    0\n",
      "      ..\n",
      "173    0\n",
      "17     1\n",
      "507    0\n",
      "362    0\n",
      "151    0\n",
      "Name: outcome, Length: 455, dtype: uint8\n"
     ]
    }
   ],
   "source": [
    "#print outputs\n",
    "print(y_train)"
   ]
  },
  {
   "cell_type": "code",
   "execution_count": 32,
   "metadata": {
    "collapsed": false
   },
   "outputs": [
    {
     "name": "stdout",
     "output_type": "stream",
     "text": [
      "33     1\n",
      "191    0\n",
      "548    0\n",
      "121    1\n",
      "554    0\n",
      "      ..\n",
      "204    0\n",
      "199    1\n",
      "190    1\n",
      "131    1\n",
      "483    0\n",
      "Name: outcome, Length: 114, dtype: uint8\n"
     ]
    }
   ],
   "source": [
    "print(y_test)"
   ]
  },
  {
   "cell_type": "code",
   "execution_count": 0,
   "metadata": {
    "collapsed": false
   },
   "outputs": [
   ],
   "source": [
   ]
  },
  {
   "cell_type": "markdown",
   "metadata": {
    "collapsed": false,
    "id": "2lWxo646-Fka"
   },
   "source": [
    "### We have split, now we gotta fit!\n",
    "Now that are data is preprocessed (all numerical), and split (80/20 train/test) for machine learning, we can create a model to **classify** whether a patient has malignant (1) or benign (0) breast cancer!\n",
    "\n",
    "The first model is a classification model called K Nearest Neighbors. You can watch a video on how K Nearest Neighbors works here: https://www.youtube.com/watch?v=0p0o5cmgLdE.\n",
    "\n",
    "First things first, we need to import our model using SKLearn. You can follow the [guide]( https://scikit-learn.org/stable/auto_examples/neighbors/plot_classification.html#sphx-glr-auto-examples-neighbors-plot-classification-py) here to see how this tutorial works.\n"
   ]
  },
  {
   "cell_type": "code",
   "execution_count": 33,
   "metadata": {
    "collapsed": false,
    "id": "RDDyWqva92IH"
   },
   "outputs": [
   ],
   "source": [
    " #our favorite machine learning library\n",
    "from sklearn.neighbors import KNeighborsClassifier as KNN #this will import our model as KNN "
   ]
  },
  {
   "cell_type": "markdown",
   "metadata": {
    "collapsed": false,
    "id": "tv1P3go2_U5O"
   },
   "source": [
    "**Creating the model object:**  we need to create an instance of the model. This is like having a model and giving it a nickname so we can remember it, change it, and save it to work custom on our dataset. "
   ]
  },
  {
   "cell_type": "code",
   "execution_count": 34,
   "metadata": {
    "collapsed": false,
    "id": "GzCrGDYI-4FR"
   },
   "outputs": [
   ],
   "source": [
    "# Creating the KNN model object -- we need to tell it the number of neighbors to look at.\n",
    "k = 7 #number of neighbors to look at (look at 7 nearest neighbors)\n",
    "my_KNN_model = KNN(n_neighbors=k)"
   ]
  },
  {
   "cell_type": "markdown",
   "metadata": {
    "collapsed": false,
    "id": "IzQ8yZj5Q0Eg"
   },
   "source": [
    "And there you have it. We have a K Nearest Neighbors model that will look at the 7 nearest neighbors, and gave it a nice nickname, my_KNN_model. <br> <br>\n",
    "\n",
    "**Fitting (Training) the model object:** **Supervised machine learning** training involves learning from past results (`y_train`) and past inputs (`x_train`). We pass these to our model for learning to teach our model to answer the question \"*based on these inputs, what outputs can we expect?*\"\n",
    "<br>\n",
    "\n",
    "To do this, we want to let this model learn from our data. We do so by running our model object's `.fit()` function on our training data."
   ]
  },
  {
   "cell_type": "code",
   "execution_count": 35,
   "metadata": {
    "collapsed": false
   },
   "outputs": [
    {
     "data": {
      "text/html": [
       "<div>\n",
       "<style scoped>\n",
       "    .dataframe tbody tr th:only-of-type {\n",
       "        vertical-align: middle;\n",
       "    }\n",
       "\n",
       "    .dataframe tbody tr th {\n",
       "        vertical-align: top;\n",
       "    }\n",
       "\n",
       "    .dataframe thead th {\n",
       "        text-align: right;\n",
       "    }\n",
       "</style>\n",
       "<table border=\"1\" class=\"dataframe\">\n",
       "  <thead>\n",
       "    <tr style=\"text-align: right;\">\n",
       "      <th></th>\n",
       "      <th>id</th>\n",
       "      <th>radius_mean</th>\n",
       "      <th>texture_mean</th>\n",
       "      <th>perimeter_mean</th>\n",
       "      <th>area_mean</th>\n",
       "      <th>smoothness_mean</th>\n",
       "      <th>compactness_mean</th>\n",
       "      <th>concavity_mean</th>\n",
       "      <th>concave points_mean</th>\n",
       "      <th>symmetry_mean</th>\n",
       "      <th>...</th>\n",
       "      <th>radius_worst</th>\n",
       "      <th>texture_worst</th>\n",
       "      <th>perimeter_worst</th>\n",
       "      <th>area_worst</th>\n",
       "      <th>smoothness_worst</th>\n",
       "      <th>compactness_worst</th>\n",
       "      <th>concavity_worst</th>\n",
       "      <th>concave points_worst</th>\n",
       "      <th>symmetry_worst</th>\n",
       "      <th>fractal_dimension_worst</th>\n",
       "    </tr>\n",
       "  </thead>\n",
       "  <tbody>\n",
       "    <tr>\n",
       "      <th>143</th>\n",
       "      <td>869224</td>\n",
       "      <td>12.90</td>\n",
       "      <td>15.92</td>\n",
       "      <td>83.74</td>\n",
       "      <td>512.2</td>\n",
       "      <td>0.08677</td>\n",
       "      <td>0.09509</td>\n",
       "      <td>0.04894</td>\n",
       "      <td>0.030880</td>\n",
       "      <td>0.1778</td>\n",
       "      <td>...</td>\n",
       "      <td>14.48</td>\n",
       "      <td>21.82</td>\n",
       "      <td>97.17</td>\n",
       "      <td>643.8</td>\n",
       "      <td>0.13120</td>\n",
       "      <td>0.2548</td>\n",
       "      <td>0.2090</td>\n",
       "      <td>0.10120</td>\n",
       "      <td>0.3549</td>\n",
       "      <td>0.08118</td>\n",
       "    </tr>\n",
       "    <tr>\n",
       "      <th>122</th>\n",
       "      <td>865423</td>\n",
       "      <td>24.25</td>\n",
       "      <td>20.20</td>\n",
       "      <td>166.20</td>\n",
       "      <td>1761.0</td>\n",
       "      <td>0.14470</td>\n",
       "      <td>0.28670</td>\n",
       "      <td>0.42680</td>\n",
       "      <td>0.201200</td>\n",
       "      <td>0.2655</td>\n",
       "      <td>...</td>\n",
       "      <td>26.02</td>\n",
       "      <td>23.99</td>\n",
       "      <td>180.90</td>\n",
       "      <td>2073.0</td>\n",
       "      <td>0.16960</td>\n",
       "      <td>0.4244</td>\n",
       "      <td>0.5803</td>\n",
       "      <td>0.22480</td>\n",
       "      <td>0.3222</td>\n",
       "      <td>0.08009</td>\n",
       "    </tr>\n",
       "    <tr>\n",
       "      <th>379</th>\n",
       "      <td>9013838</td>\n",
       "      <td>11.08</td>\n",
       "      <td>18.83</td>\n",
       "      <td>73.30</td>\n",
       "      <td>361.6</td>\n",
       "      <td>0.12160</td>\n",
       "      <td>0.21540</td>\n",
       "      <td>0.16890</td>\n",
       "      <td>0.063670</td>\n",
       "      <td>0.2196</td>\n",
       "      <td>...</td>\n",
       "      <td>13.24</td>\n",
       "      <td>32.82</td>\n",
       "      <td>91.76</td>\n",
       "      <td>508.1</td>\n",
       "      <td>0.21840</td>\n",
       "      <td>0.9379</td>\n",
       "      <td>0.8402</td>\n",
       "      <td>0.25240</td>\n",
       "      <td>0.4154</td>\n",
       "      <td>0.14030</td>\n",
       "    </tr>\n",
       "    <tr>\n",
       "      <th>145</th>\n",
       "      <td>869476</td>\n",
       "      <td>11.90</td>\n",
       "      <td>14.65</td>\n",
       "      <td>78.11</td>\n",
       "      <td>432.8</td>\n",
       "      <td>0.11520</td>\n",
       "      <td>0.12960</td>\n",
       "      <td>0.03710</td>\n",
       "      <td>0.030030</td>\n",
       "      <td>0.1995</td>\n",
       "      <td>...</td>\n",
       "      <td>13.15</td>\n",
       "      <td>16.51</td>\n",
       "      <td>86.26</td>\n",
       "      <td>509.6</td>\n",
       "      <td>0.14240</td>\n",
       "      <td>0.2517</td>\n",
       "      <td>0.0942</td>\n",
       "      <td>0.06042</td>\n",
       "      <td>0.2727</td>\n",
       "      <td>0.10360</td>\n",
       "    </tr>\n",
       "    <tr>\n",
       "      <th>387</th>\n",
       "      <td>902976</td>\n",
       "      <td>13.88</td>\n",
       "      <td>16.16</td>\n",
       "      <td>88.37</td>\n",
       "      <td>596.6</td>\n",
       "      <td>0.07026</td>\n",
       "      <td>0.04831</td>\n",
       "      <td>0.02045</td>\n",
       "      <td>0.008507</td>\n",
       "      <td>0.1607</td>\n",
       "      <td>...</td>\n",
       "      <td>15.51</td>\n",
       "      <td>19.97</td>\n",
       "      <td>99.66</td>\n",
       "      <td>745.3</td>\n",
       "      <td>0.08484</td>\n",
       "      <td>0.1233</td>\n",
       "      <td>0.1091</td>\n",
       "      <td>0.04537</td>\n",
       "      <td>0.2542</td>\n",
       "      <td>0.06623</td>\n",
       "    </tr>\n",
       "  </tbody>\n",
       "</table>\n",
       "<p>5 rows × 31 columns</p>\n",
       "</div>"
      ],
      "text/plain": [
       "          id  radius_mean  texture_mean  perimeter_mean  area_mean  \\\n",
       "143   869224        12.90         15.92           83.74      512.2   \n",
       "122   865423        24.25         20.20          166.20     1761.0   \n",
       "379  9013838        11.08         18.83           73.30      361.6   \n",
       "145   869476        11.90         14.65           78.11      432.8   \n",
       "387   902976        13.88         16.16           88.37      596.6   \n",
       "\n",
       "     smoothness_mean  compactness_mean  concavity_mean  concave points_mean  \\\n",
       "143          0.08677           0.09509         0.04894             0.030880   \n",
       "122          0.14470           0.28670         0.42680             0.201200   \n",
       "379          0.12160           0.21540         0.16890             0.063670   \n",
       "145          0.11520           0.12960         0.03710             0.030030   \n",
       "387          0.07026           0.04831         0.02045             0.008507   \n",
       "\n",
       "     symmetry_mean  ...  radius_worst  texture_worst  perimeter_worst  \\\n",
       "143         0.1778  ...         14.48          21.82            97.17   \n",
       "122         0.2655  ...         26.02          23.99           180.90   \n",
       "379         0.2196  ...         13.24          32.82            91.76   \n",
       "145         0.1995  ...         13.15          16.51            86.26   \n",
       "387         0.1607  ...         15.51          19.97            99.66   \n",
       "\n",
       "     area_worst  smoothness_worst  compactness_worst  concavity_worst  \\\n",
       "143       643.8           0.13120             0.2548           0.2090   \n",
       "122      2073.0           0.16960             0.4244           0.5803   \n",
       "379       508.1           0.21840             0.9379           0.8402   \n",
       "145       509.6           0.14240             0.2517           0.0942   \n",
       "387       745.3           0.08484             0.1233           0.1091   \n",
       "\n",
       "     concave points_worst  symmetry_worst  fractal_dimension_worst  \n",
       "143               0.10120          0.3549                  0.08118  \n",
       "122               0.22480          0.3222                  0.08009  \n",
       "379               0.25240          0.4154                  0.14030  \n",
       "145               0.06042          0.2727                  0.10360  \n",
       "387               0.04537          0.2542                  0.06623  \n",
       "\n",
       "[5 rows x 31 columns]"
      ]
     },
     "execution_count": 35,
     "metadata": {
     },
     "output_type": "execute_result"
    }
   ],
   "source": [
    "x_train.head()"
   ]
  },
  {
   "cell_type": "code",
   "execution_count": 36,
   "metadata": {
    "collapsed": false,
    "id": "VseIx97TSHQP"
   },
   "outputs": [
    {
     "data": {
      "text/html": [
       "<style>#sk-container-id-1 {color: black;background-color: white;}#sk-container-id-1 pre{padding: 0;}#sk-container-id-1 div.sk-toggleable {background-color: white;}#sk-container-id-1 label.sk-toggleable__label {cursor: pointer;display: block;width: 100%;margin-bottom: 0;padding: 0.3em;box-sizing: border-box;text-align: center;}#sk-container-id-1 label.sk-toggleable__label-arrow:before {content: \"▸\";float: left;margin-right: 0.25em;color: #696969;}#sk-container-id-1 label.sk-toggleable__label-arrow:hover:before {color: black;}#sk-container-id-1 div.sk-estimator:hover label.sk-toggleable__label-arrow:before {color: black;}#sk-container-id-1 div.sk-toggleable__content {max-height: 0;max-width: 0;overflow: hidden;text-align: left;background-color: #f0f8ff;}#sk-container-id-1 div.sk-toggleable__content pre {margin: 0.2em;color: black;border-radius: 0.25em;background-color: #f0f8ff;}#sk-container-id-1 input.sk-toggleable__control:checked~div.sk-toggleable__content {max-height: 200px;max-width: 100%;overflow: auto;}#sk-container-id-1 input.sk-toggleable__control:checked~label.sk-toggleable__label-arrow:before {content: \"▾\";}#sk-container-id-1 div.sk-estimator input.sk-toggleable__control:checked~label.sk-toggleable__label {background-color: #d4ebff;}#sk-container-id-1 div.sk-label input.sk-toggleable__control:checked~label.sk-toggleable__label {background-color: #d4ebff;}#sk-container-id-1 input.sk-hidden--visually {border: 0;clip: rect(1px 1px 1px 1px);clip: rect(1px, 1px, 1px, 1px);height: 1px;margin: -1px;overflow: hidden;padding: 0;position: absolute;width: 1px;}#sk-container-id-1 div.sk-estimator {font-family: monospace;background-color: #f0f8ff;border: 1px dotted black;border-radius: 0.25em;box-sizing: border-box;margin-bottom: 0.5em;}#sk-container-id-1 div.sk-estimator:hover {background-color: #d4ebff;}#sk-container-id-1 div.sk-parallel-item::after {content: \"\";width: 100%;border-bottom: 1px solid gray;flex-grow: 1;}#sk-container-id-1 div.sk-label:hover label.sk-toggleable__label {background-color: #d4ebff;}#sk-container-id-1 div.sk-serial::before {content: \"\";position: absolute;border-left: 1px solid gray;box-sizing: border-box;top: 0;bottom: 0;left: 50%;z-index: 0;}#sk-container-id-1 div.sk-serial {display: flex;flex-direction: column;align-items: center;background-color: white;padding-right: 0.2em;padding-left: 0.2em;position: relative;}#sk-container-id-1 div.sk-item {position: relative;z-index: 1;}#sk-container-id-1 div.sk-parallel {display: flex;align-items: stretch;justify-content: center;background-color: white;position: relative;}#sk-container-id-1 div.sk-item::before, #sk-container-id-1 div.sk-parallel-item::before {content: \"\";position: absolute;border-left: 1px solid gray;box-sizing: border-box;top: 0;bottom: 0;left: 50%;z-index: -1;}#sk-container-id-1 div.sk-parallel-item {display: flex;flex-direction: column;z-index: 1;position: relative;background-color: white;}#sk-container-id-1 div.sk-parallel-item:first-child::after {align-self: flex-end;width: 50%;}#sk-container-id-1 div.sk-parallel-item:last-child::after {align-self: flex-start;width: 50%;}#sk-container-id-1 div.sk-parallel-item:only-child::after {width: 0;}#sk-container-id-1 div.sk-dashed-wrapped {border: 1px dashed gray;margin: 0 0.4em 0.5em 0.4em;box-sizing: border-box;padding-bottom: 0.4em;background-color: white;}#sk-container-id-1 div.sk-label label {font-family: monospace;font-weight: bold;display: inline-block;line-height: 1.2em;}#sk-container-id-1 div.sk-label-container {text-align: center;}#sk-container-id-1 div.sk-container {/* jupyter's `normalize.less` sets `[hidden] { display: none; }` but bootstrap.min.css set `[hidden] { display: none !important; }` so we also need the `!important` here to be able to override the default hidden behavior on the sphinx rendered scikit-learn.org. See: https://github.com/scikit-learn/scikit-learn/issues/21755 */display: inline-block !important;position: relative;}#sk-container-id-1 div.sk-text-repr-fallback {display: none;}</style><div id=\"sk-container-id-1\" class=\"sk-top-container\"><div class=\"sk-text-repr-fallback\"><pre>KNeighborsClassifier(n_neighbors=7)</pre><b>In a Jupyter environment, please rerun this cell to show the HTML representation or trust the notebook. <br />On GitHub, the HTML representation is unable to render, please try loading this page with nbviewer.org.</b></div><div class=\"sk-container\" hidden><div class=\"sk-item\"><div class=\"sk-estimator sk-toggleable\"><input class=\"sk-toggleable__control sk-hidden--visually\" id=\"sk-estimator-id-1\" type=\"checkbox\" checked><label for=\"sk-estimator-id-1\" class=\"sk-toggleable__label sk-toggleable__label-arrow\">KNeighborsClassifier</label><div class=\"sk-toggleable__content\"><pre>KNeighborsClassifier(n_neighbors=7)</pre></div></div></div></div></div>"
      ],
      "text/plain": [
       "KNeighborsClassifier(n_neighbors=7)"
      ]
     },
     "execution_count": 36,
     "metadata": {
     },
     "output_type": "execute_result"
    }
   ],
   "source": [
    "my_KNN_model.fit(x_train, y_train) #train the model on our past results x_train (inputs) and y_train (outputs)"
   ]
  },
  {
   "cell_type": "markdown",
   "metadata": {
    "collapsed": false,
    "id": "qRJKWrA6hhdf"
   },
   "source": [
    "**Prediction and Evaluation:** How do we know if our model is actually good? We need to **test** our model by giving it a two-step quiz. \n",
    "\n",
    "Step 1: We let our model use our testing inputs (`x_test`) to make predictions that guess the whether the patient has benign or malignant tumors (we call these predictions `y_hat`). In this case our `y_hat`'s are a bunch of 1's and 0's that represent whether our model thinks the patient's tumor is benign or malignant. \n",
    "\n",
    "We do this by running our model object's `.predict()` function."
   ]
  },
  {
   "cell_type": "code",
   "execution_count": 37,
   "metadata": {
    "collapsed": false,
    "id": "CVBaqGOIiEfP"
   },
   "outputs": [
   ],
   "source": [
    "#make some predictions based on your testing inputs (x_test) using the predict() function\n",
    "y_hat = my_KNN_model.predict(x_test)"
   ]
  },
  {
   "cell_type": "code",
   "execution_count": 38,
   "metadata": {
    "collapsed": false,
    "id": "T-ifi-bGj7fx"
   },
   "outputs": [
    {
     "data": {
      "text/plain": [
       "array([1, 0, 0, 1, 0, 0, 0, 1, 0, 1, 0, 0, 0, 0, 0, 0, 0, 0, 1, 0, 0, 0,\n",
       "       1, 0, 1, 0, 0, 0, 1, 0, 0, 0, 0, 1, 0, 0, 1, 0, 0, 0, 0, 0, 0, 1,\n",
       "       0, 1, 1, 0, 1, 0, 0, 0, 0, 0, 0, 0, 1, 0, 0, 1, 0, 1, 0, 0, 1, 0,\n",
       "       0, 0, 0, 1, 0, 1, 0, 1, 1, 0, 0, 1, 0, 0, 1, 1, 0, 0, 0, 0, 0, 1,\n",
       "       1, 0, 0, 0, 0, 0, 0, 0, 1, 0, 0, 0, 0, 0, 0, 1, 0, 0, 0, 1, 1, 0,\n",
       "       1, 0, 0, 0], dtype=uint8)"
      ]
     },
     "execution_count": 38,
     "metadata": {
     },
     "output_type": "execute_result"
    }
   ],
   "source": [
    "y_hat #these are our predictions for our x_test inputs. "
   ]
  },
  {
   "cell_type": "code",
   "execution_count": 39,
   "metadata": {
    "collapsed": false,
    "id": "TjLu8V3bj8_F"
   },
   "outputs": [
    {
     "data": {
      "text/plain": [
       "array([1, 0, 0, 1, 0, 1, 1, 0, 0, 1, 0, 1, 0, 0, 1, 1, 0, 0, 1, 0, 1, 1,\n",
       "       1, 0, 0, 0, 0, 1, 1, 0, 0, 0, 0, 1, 0, 0, 0, 0, 1, 1, 0, 0, 0, 1,\n",
       "       0, 0, 0, 1, 1, 0, 1, 0, 1, 0, 0, 1, 1, 0, 0, 0, 0, 1, 0, 0, 1, 0,\n",
       "       0, 0, 0, 0, 0, 0, 0, 1, 0, 0, 0, 1, 1, 1, 1, 1, 1, 0, 0, 0, 0, 0,\n",
       "       1, 1, 0, 0, 0, 0, 1, 1, 1, 0, 0, 0, 0, 1, 0, 0, 0, 1, 0, 1, 1, 0,\n",
       "       1, 1, 1, 0], dtype=uint8)"
      ]
     },
     "execution_count": 39,
     "metadata": {
     },
     "output_type": "execute_result"
    }
   ],
   "source": [
    "#these are what actually happened for our x_test inputs. Do you see some differences?\n",
    "np.array(y_test)"
   ]
  },
  {
   "cell_type": "markdown",
   "metadata": {
    "collapsed": false,
    "id": "SbywAxezkRN8"
   },
   "source": [
    "Step 2 - Evaluation: Here we want to compare `y_hat` to `y_test`. Discuss with your team about why we should do this. \n",
    "\n",
    "One we we can compare them is visual inspection. With that said, would you recommend going through by hand and making a tally for every time the one's and zero's don't match up?\n",
    "\n",
    "Please don't do this. Please save yourself this nasty headache when we can just do math. Below is a common way to do this, called mean squared error. \n",
    "\n",
    "To get mean squared error, we compute the difference between each element in `y_hat` and `y_test` and square it and then get the average of all of that to see how far off we are."
   ]
  },
  {
   "cell_type": "code",
   "execution_count": 40,
   "metadata": {
    "collapsed": false,
    "id": "eLFffHy1kFBh"
   },
   "outputs": [
    {
     "name": "stdout",
     "output_type": "stream",
     "text": [
      "0.30701754385964913\n"
     ]
    }
   ],
   "source": [
    "total_squared_error = (np.sum((y_test - y_hat)**2)) #get the sum of all the errors (error = what we want (y_test) - what we predicted (y_hat))\n",
    "mean_squared_error = total_squared_error/len(y_test) #divide this by how many rows/observations we have \n",
    "print(mean_squared_error)"
   ]
  },
  {
   "cell_type": "markdown",
   "metadata": {
    "collapsed": false,
    "id": "bYj4HCmOmH42"
   },
   "source": [
    "**Not too bad!** MSE represents  the average error (difference) between our model and the correct result. A low mean squared error means that our model makes the correct guess most of the time. \n",
    "\n",
    "But we have to think about the nature of the problem. As Data Scientists, do we want to tell someone that we have this average error when we are predicting something as serious as breast cancer? \n",
    "\n",
    "And what does an error mean? Are we telling them they don't have a malignant tumor (y_hat=0) when they actually do (y_test = 1)? Are we telling them they have a tumor (y_hat=1) when they actually don't (y_test = 0)?\n",
    "\n",
    "We can get insights on this through a confusion matrix. \n",
    "\n"
   ]
  },
  {
   "cell_type": "code",
   "execution_count": 41,
   "metadata": {
    "collapsed": false,
    "id": "WCZLL1wZnfTn"
   },
   "outputs": [
    {
     "data": {
      "text/plain": [
       "<AxesSubplot:>"
      ]
     },
     "execution_count": 41,
     "metadata": {
     },
     "output_type": "execute_result"
    },
    {
     "data": {
      "image/png": "[encoded data removed]",
      "text/plain": [
       "<Figure size 432x288 with 2 Axes>"
      ]
     },
     "execution_count": 41,
     "metadata": {
      "needs_background": "light"
     },
     "output_type": "execute_result"
    }
   ],
   "source": [
    "from sklearn.metrics import confusion_matrix\n",
    "import seaborn as sns\n",
    "sns.heatmap(confusion_matrix(y_test, y_hat), annot=True, fmt='g')"
   ]
  },
  {
   "cell_type": "markdown",
   "metadata": {
    "collapsed": false,
    "id": "mCR5MW5gp0ni"
   },
   "source": [
    "**What is this???** I encourage you and your team to read about it here: https://towardsdatascience.com/understanding-confusion-matrix-a9ad42dcfd62. You should define what true positives, true negatives, false positives, and false negatives represent for this scenario. \n",
    "\n",
    "Discuss what other  findings you can take away, and talk with your instructor about metrics like accuracy, precision and recall!"
   ]
  },
  {
   "cell_type": "markdown",
   "metadata": {
    "collapsed": false,
    "id": "tbo3cueVq7EV"
   },
   "source": [
    "**The last step!!** We need to change parameters and data to improve our model as we go. If we can make even 1 more correct cancer prediction, it is worth it, right? \n",
    "\n",
    "**TODO:** Go back and change the value of `k` in the **creating your model object** section and re-run all the code below it. See what changes with your MSE and confusion matrix!"
   ]
  },
  {
   "cell_type": "markdown",
   "metadata": {
    "collapsed": false,
    "id": "ObvQ_3pPmPBf"
   },
   "source": [
    "### Code Your Own Machine Learning Model\n",
    "\n",
    "It's time for us to create our own classifier. Let's go with an [SVM](https://www.youtube.com/watch?v=_YPScrckx28). We will do the first step for you.\n",
    "\n",
    "I know it was a lot of information in the last section, but the code is *basically* the same. Since our data is already split, you will follow the same steps to fit your model, make some predictions, evaluate the performance, and visualize your confusion matrix.\n",
    "\n"
   ]
  },
  {
   "cell_type": "code",
   "execution_count": 42,
   "metadata": {
    "collapsed": false,
    "id": "LW9bLcghmT5d"
   },
   "outputs": [
    {
     "data": {
      "text/html": [
       "<style>#sk-container-id-2 {color: black;background-color: white;}#sk-container-id-2 pre{padding: 0;}#sk-container-id-2 div.sk-toggleable {background-color: white;}#sk-container-id-2 label.sk-toggleable__label {cursor: pointer;display: block;width: 100%;margin-bottom: 0;padding: 0.3em;box-sizing: border-box;text-align: center;}#sk-container-id-2 label.sk-toggleable__label-arrow:before {content: \"▸\";float: left;margin-right: 0.25em;color: #696969;}#sk-container-id-2 label.sk-toggleable__label-arrow:hover:before {color: black;}#sk-container-id-2 div.sk-estimator:hover label.sk-toggleable__label-arrow:before {color: black;}#sk-container-id-2 div.sk-toggleable__content {max-height: 0;max-width: 0;overflow: hidden;text-align: left;background-color: #f0f8ff;}#sk-container-id-2 div.sk-toggleable__content pre {margin: 0.2em;color: black;border-radius: 0.25em;background-color: #f0f8ff;}#sk-container-id-2 input.sk-toggleable__control:checked~div.sk-toggleable__content {max-height: 200px;max-width: 100%;overflow: auto;}#sk-container-id-2 input.sk-toggleable__control:checked~label.sk-toggleable__label-arrow:before {content: \"▾\";}#sk-container-id-2 div.sk-estimator input.sk-toggleable__control:checked~label.sk-toggleable__label {background-color: #d4ebff;}#sk-container-id-2 div.sk-label input.sk-toggleable__control:checked~label.sk-toggleable__label {background-color: #d4ebff;}#sk-container-id-2 input.sk-hidden--visually {border: 0;clip: rect(1px 1px 1px 1px);clip: rect(1px, 1px, 1px, 1px);height: 1px;margin: -1px;overflow: hidden;padding: 0;position: absolute;width: 1px;}#sk-container-id-2 div.sk-estimator {font-family: monospace;background-color: #f0f8ff;border: 1px dotted black;border-radius: 0.25em;box-sizing: border-box;margin-bottom: 0.5em;}#sk-container-id-2 div.sk-estimator:hover {background-color: #d4ebff;}#sk-container-id-2 div.sk-parallel-item::after {content: \"\";width: 100%;border-bottom: 1px solid gray;flex-grow: 1;}#sk-container-id-2 div.sk-label:hover label.sk-toggleable__label {background-color: #d4ebff;}#sk-container-id-2 div.sk-serial::before {content: \"\";position: absolute;border-left: 1px solid gray;box-sizing: border-box;top: 0;bottom: 0;left: 50%;z-index: 0;}#sk-container-id-2 div.sk-serial {display: flex;flex-direction: column;align-items: center;background-color: white;padding-right: 0.2em;padding-left: 0.2em;position: relative;}#sk-container-id-2 div.sk-item {position: relative;z-index: 1;}#sk-container-id-2 div.sk-parallel {display: flex;align-items: stretch;justify-content: center;background-color: white;position: relative;}#sk-container-id-2 div.sk-item::before, #sk-container-id-2 div.sk-parallel-item::before {content: \"\";position: absolute;border-left: 1px solid gray;box-sizing: border-box;top: 0;bottom: 0;left: 50%;z-index: -1;}#sk-container-id-2 div.sk-parallel-item {display: flex;flex-direction: column;z-index: 1;position: relative;background-color: white;}#sk-container-id-2 div.sk-parallel-item:first-child::after {align-self: flex-end;width: 50%;}#sk-container-id-2 div.sk-parallel-item:last-child::after {align-self: flex-start;width: 50%;}#sk-container-id-2 div.sk-parallel-item:only-child::after {width: 0;}#sk-container-id-2 div.sk-dashed-wrapped {border: 1px dashed gray;margin: 0 0.4em 0.5em 0.4em;box-sizing: border-box;padding-bottom: 0.4em;background-color: white;}#sk-container-id-2 div.sk-label label {font-family: monospace;font-weight: bold;display: inline-block;line-height: 1.2em;}#sk-container-id-2 div.sk-label-container {text-align: center;}#sk-container-id-2 div.sk-container {/* jupyter's `normalize.less` sets `[hidden] { display: none; }` but bootstrap.min.css set `[hidden] { display: none !important; }` so we also need the `!important` here to be able to override the default hidden behavior on the sphinx rendered scikit-learn.org. See: https://github.com/scikit-learn/scikit-learn/issues/21755 */display: inline-block !important;position: relative;}#sk-container-id-2 div.sk-text-repr-fallback {display: none;}</style><div id=\"sk-container-id-2\" class=\"sk-top-container\"><div class=\"sk-text-repr-fallback\"><pre>SVC(kernel=&#x27;poly&#x27;)</pre><b>In a Jupyter environment, please rerun this cell to show the HTML representation or trust the notebook. <br />On GitHub, the HTML representation is unable to render, please try loading this page with nbviewer.org.</b></div><div class=\"sk-container\" hidden><div class=\"sk-item\"><div class=\"sk-estimator sk-toggleable\"><input class=\"sk-toggleable__control sk-hidden--visually\" id=\"sk-estimator-id-2\" type=\"checkbox\" checked><label for=\"sk-estimator-id-2\" class=\"sk-toggleable__label sk-toggleable__label-arrow\">SVC</label><div class=\"sk-toggleable__content\"><pre>SVC(kernel=&#x27;poly&#x27;)</pre></div></div></div></div></div>"
      ],
      "text/plain": [
       "SVC(kernel='poly')"
      ]
     },
     "execution_count": 42,
     "metadata": {
     },
     "output_type": "execute_result"
    }
   ],
   "source": [
    "from sklearn.svm import SVC\n",
    "\n",
    "my_SVC_model = SVC(kernel = 'poly')\n",
    "#Create your model object -- you can go back and change the kernel argument after evaluating your data.\n",
    "my_SVC_model.fit(x_train, y_train)"
   ]
  },
  {
   "cell_type": "markdown",
   "metadata": {
    "collapsed": false,
    "id": "Bk4rua0er_QF"
   },
   "source": [
    "Do you remember how to fit a model? What parts of our data do we fit/train on? You can go look at the section above for inspiration.\n",
    "\n"
   ]
  },
  {
   "cell_type": "code",
   "execution_count": 43,
   "metadata": {
    "collapsed": false,
    "id": "cu2cA4YBqrNL"
   },
   "outputs": [
    {
     "data": {
      "text/html": [
       "<style>#sk-container-id-3 {color: black;background-color: white;}#sk-container-id-3 pre{padding: 0;}#sk-container-id-3 div.sk-toggleable {background-color: white;}#sk-container-id-3 label.sk-toggleable__label {cursor: pointer;display: block;width: 100%;margin-bottom: 0;padding: 0.3em;box-sizing: border-box;text-align: center;}#sk-container-id-3 label.sk-toggleable__label-arrow:before {content: \"▸\";float: left;margin-right: 0.25em;color: #696969;}#sk-container-id-3 label.sk-toggleable__label-arrow:hover:before {color: black;}#sk-container-id-3 div.sk-estimator:hover label.sk-toggleable__label-arrow:before {color: black;}#sk-container-id-3 div.sk-toggleable__content {max-height: 0;max-width: 0;overflow: hidden;text-align: left;background-color: #f0f8ff;}#sk-container-id-3 div.sk-toggleable__content pre {margin: 0.2em;color: black;border-radius: 0.25em;background-color: #f0f8ff;}#sk-container-id-3 input.sk-toggleable__control:checked~div.sk-toggleable__content {max-height: 200px;max-width: 100%;overflow: auto;}#sk-container-id-3 input.sk-toggleable__control:checked~label.sk-toggleable__label-arrow:before {content: \"▾\";}#sk-container-id-3 div.sk-estimator input.sk-toggleable__control:checked~label.sk-toggleable__label {background-color: #d4ebff;}#sk-container-id-3 div.sk-label input.sk-toggleable__control:checked~label.sk-toggleable__label {background-color: #d4ebff;}#sk-container-id-3 input.sk-hidden--visually {border: 0;clip: rect(1px 1px 1px 1px);clip: rect(1px, 1px, 1px, 1px);height: 1px;margin: -1px;overflow: hidden;padding: 0;position: absolute;width: 1px;}#sk-container-id-3 div.sk-estimator {font-family: monospace;background-color: #f0f8ff;border: 1px dotted black;border-radius: 0.25em;box-sizing: border-box;margin-bottom: 0.5em;}#sk-container-id-3 div.sk-estimator:hover {background-color: #d4ebff;}#sk-container-id-3 div.sk-parallel-item::after {content: \"\";width: 100%;border-bottom: 1px solid gray;flex-grow: 1;}#sk-container-id-3 div.sk-label:hover label.sk-toggleable__label {background-color: #d4ebff;}#sk-container-id-3 div.sk-serial::before {content: \"\";position: absolute;border-left: 1px solid gray;box-sizing: border-box;top: 0;bottom: 0;left: 50%;z-index: 0;}#sk-container-id-3 div.sk-serial {display: flex;flex-direction: column;align-items: center;background-color: white;padding-right: 0.2em;padding-left: 0.2em;position: relative;}#sk-container-id-3 div.sk-item {position: relative;z-index: 1;}#sk-container-id-3 div.sk-parallel {display: flex;align-items: stretch;justify-content: center;background-color: white;position: relative;}#sk-container-id-3 div.sk-item::before, #sk-container-id-3 div.sk-parallel-item::before {content: \"\";position: absolute;border-left: 1px solid gray;box-sizing: border-box;top: 0;bottom: 0;left: 50%;z-index: -1;}#sk-container-id-3 div.sk-parallel-item {display: flex;flex-direction: column;z-index: 1;position: relative;background-color: white;}#sk-container-id-3 div.sk-parallel-item:first-child::after {align-self: flex-end;width: 50%;}#sk-container-id-3 div.sk-parallel-item:last-child::after {align-self: flex-start;width: 50%;}#sk-container-id-3 div.sk-parallel-item:only-child::after {width: 0;}#sk-container-id-3 div.sk-dashed-wrapped {border: 1px dashed gray;margin: 0 0.4em 0.5em 0.4em;box-sizing: border-box;padding-bottom: 0.4em;background-color: white;}#sk-container-id-3 div.sk-label label {font-family: monospace;font-weight: bold;display: inline-block;line-height: 1.2em;}#sk-container-id-3 div.sk-label-container {text-align: center;}#sk-container-id-3 div.sk-container {/* jupyter's `normalize.less` sets `[hidden] { display: none; }` but bootstrap.min.css set `[hidden] { display: none !important; }` so we also need the `!important` here to be able to override the default hidden behavior on the sphinx rendered scikit-learn.org. See: https://github.com/scikit-learn/scikit-learn/issues/21755 */display: inline-block !important;position: relative;}#sk-container-id-3 div.sk-text-repr-fallback {display: none;}</style><div id=\"sk-container-id-3\" class=\"sk-top-container\"><div class=\"sk-text-repr-fallback\"><pre>SVC(kernel=&#x27;poly&#x27;)</pre><b>In a Jupyter environment, please rerun this cell to show the HTML representation or trust the notebook. <br />On GitHub, the HTML representation is unable to render, please try loading this page with nbviewer.org.</b></div><div class=\"sk-container\" hidden><div class=\"sk-item\"><div class=\"sk-estimator sk-toggleable\"><input class=\"sk-toggleable__control sk-hidden--visually\" id=\"sk-estimator-id-3\" type=\"checkbox\" checked><label for=\"sk-estimator-id-3\" class=\"sk-toggleable__label sk-toggleable__label-arrow\">SVC</label><div class=\"sk-toggleable__content\"><pre>SVC(kernel=&#x27;poly&#x27;)</pre></div></div></div></div></div>"
      ],
      "text/plain": [
       "SVC(kernel='poly')"
      ]
     },
     "execution_count": 43,
     "metadata": {
     },
     "output_type": "execute_result"
    }
   ],
   "source": [
    "#fit your model\n",
    "my_SVC_model.fit(x_train, y_train)"
   ]
  },
  {
   "cell_type": "markdown",
   "metadata": {
    "collapsed": false,
    "id": "4oAExynzsveF"
   },
   "source": [
    "Now create some predictions and set them equal to `y_hat`. You can look above or google how to make predictions on sklearn if you get confused!"
   ]
  },
  {
   "cell_type": "code",
   "execution_count": 44,
   "metadata": {
    "collapsed": false,
    "id": "Hkrx7foxsuNZ"
   },
   "outputs": [
   ],
   "source": [
    "#create some predictions on your testing inputs and set them equal to y_hat.\n",
    "y_hat = my_SVC_model.predict(x_test)"
   ]
  },
  {
   "cell_type": "markdown",
   "metadata": {
    "collapsed": false,
    "id": "k-ANsXzitBdu"
   },
   "source": [
    "Compute your MSE below. Is this higher or lower than KNN? Which one would you recommend so far?\n",
    "\n"
   ]
  },
  {
   "cell_type": "code",
   "execution_count": 45,
   "metadata": {
    "collapsed": false,
    "id": "zz8OFQxFs8N0"
   },
   "outputs": [
    {
     "data": {
      "text/plain": [
       "array([0, 0, 0, 0, 0, 0, 0, 1, 0, 0, 0, 0, 0, 0, 0, 0, 0, 0, 0, 0, 0, 0,\n",
       "       0, 0, 0, 0, 0, 0, 0, 0, 0, 0, 0, 0, 0, 0, 0, 0, 0, 0, 0, 0, 0, 0,\n",
       "       0, 0, 0, 0, 0, 0, 0, 0, 0, 0, 0, 0, 0, 0, 0, 1, 0, 0, 0, 0, 0, 0,\n",
       "       0, 0, 0, 1, 0, 0, 0, 0, 0, 0, 0, 0, 0, 0, 0, 0, 0, 0, 0, 0, 0, 0,\n",
       "       0, 0, 0, 0, 0, 0, 0, 0, 1, 0, 0, 0, 0, 0, 0, 0, 0, 0, 0, 0, 0, 0,\n",
       "       0, 0, 0, 0], dtype=uint8)"
      ]
     },
     "execution_count": 45,
     "metadata": {
     },
     "output_type": "execute_result"
    }
   ],
   "source": [
    "#Compute your MSE.\n",
    "y_hat"
   ]
  },
  {
   "cell_type": "markdown",
   "metadata": {
    "collapsed": false,
    "id": "Ge0IHJ7AtQI2"
   },
   "source": [
    "Now, create a confusion matrix! How are the results? Do we end up with more false negatives or false positives?"
   ]
  },
  {
   "cell_type": "code",
   "execution_count": 46,
   "metadata": {
    "collapsed": false,
    "id": "Xlm2k_-otFgI"
   },
   "outputs": [
    {
     "data": {
      "text/plain": [
       "array([1, 0, 0, 1, 0, 1, 1, 0, 0, 1, 0, 1, 0, 0, 1, 1, 0, 0, 1, 0, 1, 1,\n",
       "       1, 0, 0, 0, 0, 1, 1, 0, 0, 0, 0, 1, 0, 0, 0, 0, 1, 1, 0, 0, 0, 1,\n",
       "       0, 0, 0, 1, 1, 0, 1, 0, 1, 0, 0, 1, 1, 0, 0, 0, 0, 1, 0, 0, 1, 0,\n",
       "       0, 0, 0, 0, 0, 0, 0, 1, 0, 0, 0, 1, 1, 1, 1, 1, 1, 0, 0, 0, 0, 0,\n",
       "       1, 1, 0, 0, 0, 0, 1, 1, 1, 0, 0, 0, 0, 1, 0, 0, 0, 1, 0, 1, 1, 0,\n",
       "       1, 1, 1, 0], dtype=uint8)"
      ]
     },
     "execution_count": 46,
     "metadata": {
     },
     "output_type": "execute_result"
    }
   ],
   "source": [
    "#Create a confusion matrix\n",
    "np.array(y_test)"
   ]
  },
  {
   "cell_type": "code",
   "execution_count": 47,
   "metadata": {
    "collapsed": false
   },
   "outputs": [
    {
     "data": {
      "text/plain": [
       "0.5877192982456141"
      ]
     },
     "execution_count": 47,
     "metadata": {
     },
     "output_type": "execute_result"
    }
   ],
   "source": [
    "# accuracy \n",
    "# F1-Score   \n",
    "my_SVC_model.score(x_test, y_test)\n",
    "# Precision\n",
    "\n",
    "# Recall"
   ]
  },
  {
   "cell_type": "code",
   "execution_count": 48,
   "metadata": {
    "collapsed": false
   },
   "outputs": [
    {
     "data": {
      "text/plain": [
       "array([0, 0, 0, 0, 0, 0, 0, 1, 0, 0, 0, 0, 0, 0, 0, 0, 0, 0, 0, 0, 0, 0,\n",
       "       0, 0, 0, 0, 0, 0, 0, 0, 0, 0, 0, 0, 0, 0, 0, 0, 0, 0, 0, 0, 0, 0,\n",
       "       0, 0, 0, 0, 0, 0, 0, 0, 0, 0, 0, 0, 0, 0, 0, 1, 0, 0, 0, 0, 0, 0,\n",
       "       0, 0, 0, 1, 0, 0, 0, 0, 0, 0, 0, 0, 0, 0, 0, 0, 0, 0, 0, 0, 0, 0,\n",
       "       0, 0, 0, 0, 0, 0, 0, 0, 1, 0, 0, 0, 0, 0, 0, 0, 0, 0, 0, 0, 0, 0,\n",
       "       0, 0, 0, 0], dtype=uint8)"
      ]
     },
     "execution_count": 48,
     "metadata": {
     },
     "output_type": "execute_result"
    }
   ],
   "source": [
    "my_SVC_model = SVC(kernel = 'poly')\n",
    "my_SVC_model.fit(x_train, y_train)\n",
    "y_hat = my_SVC_model.predict(x_test)\n",
    "y_hat"
   ]
  },
  {
   "cell_type": "code",
   "execution_count": 49,
   "metadata": {
    "collapsed": false
   },
   "outputs": [
    {
     "data": {
      "text/plain": [
       "array([0, 0, 0, 0, 0, 0, 0, 1, 0, 0, 0, 0, 0, 0, 0, 0, 0, 0, 0, 0, 0, 0,\n",
       "       0, 0, 0, 0, 0, 0, 0, 0, 0, 0, 0, 0, 0, 0, 0, 0, 0, 0, 0, 0, 0, 0,\n",
       "       0, 0, 0, 0, 0, 0, 0, 0, 0, 0, 0, 0, 0, 0, 0, 1, 0, 0, 0, 0, 0, 0,\n",
       "       0, 0, 0, 1, 0, 0, 0, 0, 0, 0, 0, 0, 0, 0, 0, 0, 0, 0, 0, 0, 0, 0,\n",
       "       0, 0, 0, 0, 0, 0, 0, 0, 1, 0, 0, 0, 0, 0, 0, 0, 0, 0, 0, 0, 0, 0,\n",
       "       0, 0, 0, 0], dtype=uint8)"
      ]
     },
     "execution_count": 49,
     "metadata": {
     },
     "output_type": "execute_result"
    }
   ],
   "source": [
    "my_SVC_model = SVC(kernel = 'sigmoid')\n",
    "my_SVC_model.fit(x_train, y_train)\n",
    "y_hat = my_SVC_model.predict(x_test)\n",
    "y_hat"
   ]
  },
  {
   "cell_type": "code",
   "execution_count": 0,
   "metadata": {
    "collapsed": false
   },
   "outputs": [
   ],
   "source": [
    "my_SVC_model = SVC(kernel = 'linear')\n",
    "my_SVC_model.fit(x_train, y_train)\n",
    "y_hat = my_SVC_model.predict(x_test)\n",
    "y_hat"
   ]
  },
  {
   "cell_type": "markdown",
   "metadata": {
    "collapsed": false,
    "id": "6AyqrZd9v9BR"
   },
   "source": [
    "Amazing, now try changing your kernel and seeing how your results change. You can research what kernels are available here: https://scikit-learn.org/stable/modules/generated/sklearn.svm.SVC.html. If your interested in more ML with SKLearn you should get used to pages like these!"
   ]
  },
  {
   "cell_type": "markdown",
   "metadata": {
    "collapsed": false,
    "id": "hd9Jqq18wFkd"
   },
   "source": [
    "### Want more?\n",
    "\n",
    "There are dozens of models available on SKLearn: https://scikit-learn.org/stable/supervised_learning.html.\n",
    "\n",
    "You can try an implement your own below, I recommend starting with logistic regression or random forests :) "
   ]
  },
  {
   "cell_type": "code",
   "execution_count": 0,
   "metadata": {
    "collapsed": false,
    "id": "CC0NmaY7v7_K"
   },
   "outputs": [
   ],
   "source": [
    "#have fun!\n",
    "\n",
    "from sklearn import svm, datasets\n",
    "from sklearn.model_selection import GridSearchCV\n",
    "\n",
    "GridSearchCV(estimator=SVC(),\n",
    "             param_grid={'C': [1, 10], 'kernel': ('linear', 'rbf')})"
   ]
  },
  {
   "cell_type": "code",
   "execution_count": 0,
   "metadata": {
    "collapsed": false
   },
   "outputs": [
   ],
   "source": [
   ]
  }
 ],
 "metadata": {
  "colab": {
   "collapsed_sections": [
   ],
   "name": "Cancer_detection.ipynb",
   "provenance": [
   ]
  },
  "kernelspec": {
   "display_name": "Python (ds_env)",
   "language": "python",
   "metadata": {
    "debugger": true
   },
   "name": "ds_env",
   "resource_dir": "/projects/d5de4790-84b9-4555-9a80-ef455fafa128/.local/share/jupyter/kernels/ds_env"
  },
  "language_info": {
   "codemirror_mode": {
    "name": "ipython",
    "version": 3
   },
   "file_extension": ".py",
   "mimetype": "text/x-python",
   "name": "python",
   "nbconvert_exporter": "python",
   "pygments_lexer": "ipython3",
   "version": "3.8.13"
  }
 },
 "nbformat": 4,
 "nbformat_minor": 4
}